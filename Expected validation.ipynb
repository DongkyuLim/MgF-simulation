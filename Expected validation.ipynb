{
 "cells": [
  {
   "cell_type": "code",
   "execution_count": 1,
   "id": "8557f574-42db-4806-98f3-cf9b53839f8a",
   "metadata": {},
   "outputs": [],
   "source": [
    "import sys\n",
    "import numpy as np\n",
    "import matplotlib.pyplot as plt\n",
    "import scipy.constants as cts\n",
    "import pylcp\n",
    "import time\n",
    "import random\n",
    "from tqdm import tqdm\n",
    "from scipy.interpolate import interp1d\n",
    "from scipy import stats\n",
    "from scipy import integrate\n",
    "from celluloid import Camera\n",
    "from bayes_opt import BayesianOptimization\n",
    "import json\n",
    "import seaborn as sns\n",
    "import White_class\n",
    "from scipy import special\n",
    "import pymongo"
   ]
  },
  {
   "cell_type": "code",
   "execution_count": 4,
   "id": "f2a3fa0e-8167-478f-8166-ea12824e1271",
   "metadata": {
    "jupyter": {
     "source_hidden": true
    },
    "tags": []
   },
   "outputs": [
    {
     "name": "stdout",
     "output_type": "stream",
     "text": [
      "{'target': 0.0666753843838724, 'params': {'beta_1': 0.6461462109437031, 'beta_2': 3.563920913781865, 'det_1': 117.99223775601251, 'det_2': 5.669679716550722, 'laseroff': 504757.18005055864, 'laseron': 264356.89973333676, 'main_det': 19.74010227764638}}\n",
      "<class 'dict'>\n",
      "{'target': 0.06665114149838881, 'params': {'beta_1': 0.16225855071834117, 'beta_2': 0.03040958868999022, 'det_1': 78.04069178017815, 'det_2': 10.631241211980964, 'laseroff': 538679.7778558542, 'laseron': 274111.0279933765, 'main_det': 18.804824545658214}}\n",
      "<class 'dict'>\n",
      "{'target': 0.06665084655271099, 'params': {'beta_1': 0.16225855071834117, 'beta_2': 0.09122876606997066, 'det_1': 78.04069178017815, 'det_2': 10.631241211980964, 'laseroff': 538679.7778558542, 'laseron': 274111.0279933765, 'main_det': 18.804824545658214}}\n",
      "<class 'dict'>\n"
     ]
    }
   ],
   "source": [
    "connection = pymongo.MongoClient('localhost',27017)\n",
    "\n",
    "db = connection.db\n",
    "    \n",
    "db_expected = db.Expected_model\n",
    "\n",
    "max_parameters = db_expected.find({'target' : {\"$gte\" : 0.06665}},projection={\"_id\" : False,\"datetime\" : False})\n",
    "\n",
    "# db_slowing = db.Slowing_beta\n",
    "\n",
    "# max_parameters = db_slowing.distinct(key = 'params',filter = {'target' : {'$gte' : 23}})\n",
    "\n",
    "for i in max_parameters:\n",
    "    print(i)\n",
    "    print(type(i))\n",
    "    "
   ]
  },
  {
   "cell_type": "code",
   "execution_count": 15,
   "id": "a6e8d884-1925-4a6b-903a-bda2e9c0032a",
   "metadata": {},
   "outputs": [],
   "source": [
    "main_detune = 17.81\n",
    "sideband_detune = 162.9\n",
    "white_detune = 15.38\n",
    "beta_1 = 4.91\n",
    "beta_2 = 2.971\n",
    "laseron = 140800\n",
    "laseroff = 421300\n",
    "maxim = {'target': 0.2944409759829353,\n",
    " 'params': {'beta_1': 3.8050995873529567,\n",
    "  'beta_2': 9.936559576119455,\n",
    "  'det_1': 87.59839010311943,\n",
    "  'det_2': 25.530476380724924,\n",
    "  'laseroff': 491912.16996315226,\n",
    "  'laseron': 162300.30234814572,\n",
    "  'main_det': 19.47056298409516}}\n",
    "# max_parameters = db_expected.find({'target' : {\"$gte\" : 0.06665}},projection={\"_id\" : False, \"target\" : False,\"datetime\" : False})\n",
    "# test = White_class.Whitelight(main_detune,sideband_detune,white_detune,beta_1,beta_2,laseron,laseroff)\n",
    "test = White_class.Whitelight(**maxim['params'])\n",
    "# test2 = White_class.Whitelight(**(max_parameters[1][\"params\"]))"
   ]
  },
  {
   "cell_type": "code",
   "execution_count": 16,
   "id": "33bed36b-1392-44a0-a51d-f66e62058855",
   "metadata": {},
   "outputs": [
    {
     "name": "stdout",
     "output_type": "stream",
     "text": [
      "Completed in 10.86 s.                                               \n",
      "Completed in 11.25 s.                                               \n",
      "Completed in 11.30 s.                                               \n",
      "Completed in 10.98 s.                                               \n",
      "Completed in 11.45 s.                                               \n",
      "Completed in 12.33 s.                                               \n",
      "Completed in 13.21 s.                                              \n",
      "Completed in 12.42 s.                                               \n",
      "Completed in 11.45 s.                                               \n",
      "Completed in 14.30 s.                                              \n",
      "Completed in 14.60 s.                                              \n",
      "Completed in 15.36 s.                                              \n",
      "Completed in 13.65 s.                                              \n",
      "Completed in 13.02 s.                                              \n",
      "Completed in 11.08 s.                                              \n",
      "Completed in 9.05 s.                                               \n"
     ]
    }
   ],
   "source": [
    "test.motion_trace()\n",
    "# test2.motion_trace()"
   ]
  },
  {
   "cell_type": "code",
   "execution_count": 17,
   "id": "84330570-52b5-4585-ba17-41b5151b2ca2",
   "metadata": {},
   "outputs": [
    {
     "data": {
      "image/png": "[encoded data removed]",
      "text/plain": [
       "<Figure size 432x288 with 1 Axes>"
      ]
     },
     "metadata": {
      "needs_background": "light"
     },
     "output_type": "display_data"
    }
   ],
   "source": [
    "test.plot(save=0)"
   ]
  },
  {
   "cell_type": "code",
   "execution_count": 18,
   "id": "4fda1838-64a4-4d7a-90bb-46b0b1c5d955",
   "metadata": {},
   "outputs": [
    {
     "data": {
      "text/plain": [
       "0.2823841828717133"
      ]
     },
     "execution_count": 18,
     "metadata": {},
     "output_type": "execute_result"
    }
   ],
   "source": [
    "test.percentage()"
   ]
  },
  {
   "cell_type": "code",
   "execution_count": 14,
   "id": "4fd24833-1727-4a0f-ae40-c30be7f76ef2",
   "metadata": {},
   "outputs": [
    {
     "data": {
      "text/plain": [
       "array([14.        , 14.46666667, 14.93333333, 15.4       , 15.86666667,\n",
       "       16.33333333, 16.8       , 17.26666667, 17.73333333, 18.2       ,\n",
       "       18.66666667, 19.13333333])"
      ]
     },
     "execution_count": 14,
     "metadata": {},
     "output_type": "execute_result"
    }
   ],
   "source": [
    "np.array(test.v_trap_initial)"
   ]
  },
  {
   "cell_type": "code",
   "execution_count": 10,
   "id": "25a8df63-812a-4101-9860-4a18a8af0418",
   "metadata": {},
   "outputs": [
    {
     "name": "stdout",
     "output_type": "stream",
     "text": [
      "Completed in 50.71 s.                                               \n",
      "Completed in 1:03.                                                 \n",
      "Completed in 59.92 s.                                               \n",
      "Completed in 1:06.                                                 \n",
      "Completed in 53.17 s.                                               \n",
      "Completed in 56.05 s.                                               \n",
      "Completed in 51.09 s.                                               \n",
      "Completed in 49.85 s.                                              \n",
      "Completed in 1:03.                                                  \n",
      "Completed in 1:30.                                                 \n",
      "Completed in 1:22.                                                 \n",
      "Completed in 1:13.                                                 \n",
      "Completed in 1:30.                                                 \n",
      "Completed in 1:36.                                                  \n",
      "Completed in 1:42.                                                 \n",
      "Completed in 1:49.                                                 \n"
     ]
    }
   ],
   "source": [
    "test2 = White_class.Whitelight(**(max_parameters[1][\"params\"]))\n",
    "test2.motion_trace()"
   ]
  },
  {
   "cell_type": "code",
   "execution_count": 11,
   "id": "b309a195-f965-4c4d-979c-bc5b9342c398",
   "metadata": {},
   "outputs": [
    {
     "data": {
      "text/plain": [
       "0.0661678730192505"
      ]
     },
     "execution_count": 11,
     "metadata": {},
     "output_type": "execute_result"
    }
   ],
   "source": [
    "test2.percentage()"
   ]
  },
  {
   "cell_type": "code",
   "execution_count": 12,
   "id": "16b1964c-6149-4476-9b22-cb894295e7a2",
   "metadata": {},
   "outputs": [
    {
     "data": {
      "image/png": "[encoded data removed]",
      "text/plain": [
       "<Figure size 432x288 with 1 Axes>"
      ]
     },
     "metadata": {
      "needs_background": "light"
     },
     "output_type": "display_data"
    }
   ],
   "source": [
    "test2.plot(save=False,save_name=\"./Pictures/main_det=19.7.png\")"
   ]
  },
  {
   "cell_type": "code",
   "execution_count": null,
   "id": "7bc31f2c-d049-47b1-b0c2-c246783953bd",
   "metadata": {},
   "outputs": [],
   "source": []
  }
 ],
 "metadata": {
  "kernelspec": {
   "display_name": "Python 3 (ipykernel)",
   "language": "python",
   "name": "python3"
  },
  "language_info": {
   "codemirror_mode": {
    "name": "ipython",
    "version": 3
   },
   "file_extension": ".py",
   "mimetype": "text/x-python",
   "name": "python",
   "nbconvert_exporter": "python",
   "pygments_lexer": "ipython3",
   "version": "3.9.7"
  }
 },
 "nbformat": 4,
 "nbformat_minor": 5
}
