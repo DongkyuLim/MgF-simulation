{
 "cells": [
  {
   "cell_type": "code",
   "execution_count": 1,
   "id": "e63b51b4-5c7f-4a54-bba4-45952fe3d851",
   "metadata": {},
   "outputs": [],
   "source": [
    "import sys\n",
    "import numpy as np\n",
    "import matplotlib.pyplot as plt\n",
    "import scipy.constants as cts\n",
    "import pylcp\n",
    "import time\n",
    "import random\n",
    "from tqdm import tqdm\n",
    "from scipy.interpolate import interp1d,interp2d\n",
    "from scipy import stats\n",
    "from scipy import integrate\n",
    "from bayes_opt import BayesianOptimization\n",
    "import json\n",
    "# import seaborn as sns\n",
    "from scipy import special\n",
    "from scipy import integrate\n",
    "from pymongo import MongoClient\n",
    "import pymongo"
   ]
  },
  {
   "cell_type": "code",
   "execution_count": 2,
   "id": "47ffd5fd-fd46-49ab-bad5-7f7f8ef36929",
   "metadata": {},
   "outputs": [],
   "source": [
    "#Define the constants\n",
    "main_detune = 17\n",
    "sideband_detune = 120\n",
    "white_detune = 10\n",
    "laser_on = 200000\n",
    "laser_off = 400015\n",
    "MOT_power = 50\n",
    "v0_start=1\n",
    "v0_step=1\n",
    "v0_end=25\n",
    "t0_start=0\n",
    "t0_step=1\n",
    "t0_end=3500000\n",
    "\n",
    "Gamma = 22 # Hz to kHz, Decay rate\n",
    "wavelength = 359.3e-9 # m to mm\n",
    "k = 1/wavelength*2*np.pi #x_0\n",
    "x0 = 1/k\n",
    "t0 = 1/Gamma*1/(2*np.pi*1e6)\n",
    "v0 = x0/t0\n",
    "m0 = cts.hbar*t0/x0**2\n",
    "a0 = x0/t0**2\n",
    "F0 = cts.hbar/(x0*t0)\n",
    "mass = 43*cts.value('atomic mass constant')/m0 # m_0\n",
    "mag_field_grad = 1252.8168984164048*x0\n",
    "waist = 0.012/x0\n",
    "v_max = 8.\n",
    "z_max = 0.012/x0\n",
    "z_start = 0.012/x0\n",
    "omega = 2*np.pi*(cts.c/wavelength) #Transition frequency\n",
    "Isat = np.pi*cts.h*cts.c*Gamma*2*np.pi*1e6/3*1/(wavelength)**3\n",
    "t_eval = np.arange(t0_start,t0_end,t0_step)\n",
    "\n",
    "# The detunings used in the PRAs:\n",
    "intensities = 2.*MOT_power*1e-3/(np.pi*0.012**2)/Isat"
   ]
  },
  {
   "cell_type": "markdown",
   "id": "188f0640-7cb5-48f5-b77c-ba671532777e",
   "metadata": {},
   "source": [
    "# Finding current"
   ]
  },
  {
   "cell_type": "code",
   "execution_count": 3,
   "id": "3a0e58ac-6724-4c83-97ca-7d237ba8b32a",
   "metadata": {},
   "outputs": [],
   "source": [
    "def Coil_field(I,R:np.array):\n",
    "    n = 100\n",
    "    s = 0.14 # in meter\n",
    "    rad = 0.14 # in meter\n",
    "    def dBx(theta,L):\n",
    "        dl = np.array([-rad*np.sin(theta),rad*np.cos(theta),0])\n",
    "        rprime = R*x0 - np.array([0,0,L])+np.array([rad*np.cos(theta),rad*np.sin(theta),0])\n",
    "        dB = cts.mu_0/(4*np.pi)*np.cross(dl,rprime)/((np.sum(rprime**2))**(3/2))*I\n",
    "        # print(dl,rprime,dB)\n",
    "        return dB[0]\n",
    "    def dBy(theta,L):\n",
    "        dl = np.array([-rad*np.sin(theta),rad*np.cos(theta),0])\n",
    "        rprime = R*x0 - np.array([0,0,L])+np.array([rad*np.cos(theta),rad*np.sin(theta),0])\n",
    "        dB = cts.mu_0/(4*np.pi)*np.cross(dl,rprime)/((np.sum(rprime**2))**(3/2))*I\n",
    "        return dB[1]\n",
    "    \n",
    "    def dBz(theta,L):\n",
    "        dl = np.array([-rad*np.sin(theta),rad*np.cos(theta),0])\n",
    "        rprime = R*x0 - np.array([0,0,L])+np.array([rad*np.cos(theta),rad*np.sin(theta),0])\n",
    "        dB = cts.mu_0/(4*np.pi)*np.cross(dl,rprime)/((np.sum(rprime**2))**(3/2))*I\n",
    "        return dB[2]\n",
    "    \n",
    "    \n",
    "    Bx = integrate.quad(dBx,0,2*np.pi,args=(-s))[0]-integrate.quad(dBx,0,2*np.pi,args=(s))[0]\n",
    "    By = integrate.quad(dBy,0,2*np.pi,args=(-s))[0]-integrate.quad(dBy,0,2*np.pi,args=(s))[0]\n",
    "    Bz = integrate.quad(dBz,0,2*np.pi,args=(-s))[0]-integrate.quad(dBz,0,2*np.pi,args=(s))[0]\n",
    "    \n",
    "    return np.array([Bx,By,Bz])*n*10000 # Return in Gauss"
   ]
  },
  {
   "cell_type": "code",
   "execution_count": 14,
   "id": "e6e1ac20-e240-49ca-a317-dd89473bb398",
   "metadata": {},
   "outputs": [],
   "source": [
    "def Error_function(I):\n",
    "    connection = MongoClient(\"mongodb://localhost:27017\")\n",
    "    vc = connection.db.New_vc\n",
    "    max_parameters = vc.find(projection={\"_id\" : 0}).sort(\"target\",pymongo.DESCENDING).limit(1)\n",
    "\n",
    "    B_grad_max = max_parameters[0][\"params\"][\"Bgrad\"]\n",
    "    error = 0\n",
    "    zz = np.linspace(-0.12,0.12,201)/x0\n",
    "    for z in zz:\n",
    "        B_true = B_grad_max*1000*z*x0\n",
    "        B_coil = Coil_field(I,np.array([0,0,z]))[2]\n",
    "        \n",
    "        error += (B_true - B_coil)**2\n",
    "    return np.sqrt(error)*-1"
   ]
  },
  {
   "cell_type": "code",
   "execution_count": 15,
   "id": "703e8a06-4e68-4a85-bb20-3fbad7a44457",
   "metadata": {},
   "outputs": [],
   "source": [
    "pbounds ={'I' : (0.5,100)}"
   ]
  },
  {
   "cell_type": "code",
   "execution_count": 16,
   "id": "ded9712b-af6c-43b7-a13a-2ab6c7f9f88b",
   "metadata": {},
   "outputs": [],
   "source": [
    "optimizer = BayesianOptimization(f=Error_function,pbounds=pbounds,verbose=13,random_state=1)"
   ]
  },
  {
   "cell_type": "code",
   "execution_count": 17,
   "id": "a29d3f5a",
   "metadata": {},
   "outputs": [
    {
     "name": "stdout",
     "output_type": "stream",
     "text": [
      "|   iter    |  target   |     I     |\n",
      "-------------------------------------\n",
      "| \u001b[0m 1       \u001b[0m | \u001b[0m-42.63   \u001b[0m | \u001b[0m 41.99   \u001b[0m |\n",
      "| \u001b[0m 2       \u001b[0m | \u001b[0m-1.142e+0\u001b[0m | \u001b[0m 75.15   \u001b[0m |\n",
      "=====================================\n"
     ]
    }
   ],
   "source": [
    "optimizer.maximize(n_iter=1,init_points=1)"
   ]
  },
  {
   "cell_type": "code",
   "execution_count": 18,
   "id": "89e7227f",
   "metadata": {},
   "outputs": [],
   "source": [
    "from bayes_opt.logger import JSONLogger\n",
    "from bayes_opt.event import Events\n",
    "\n",
    "logger = JSONLogger(path='./current.json')\n",
    "optimizer.subscribe(Events.OPTIMIZATION_STEP,logger)"
   ]
  },
  {
   "cell_type": "code",
   "execution_count": 19,
   "id": "1474b7df-41e0-46ae-b5fc-52056ea0acf4",
   "metadata": {
    "collapsed": true,
    "jupyter": {
     "outputs_hidden": true
    },
    "tags": []
   },
   "outputs": [
    {
     "name": "stdout",
     "output_type": "stream",
     "text": [
      "|   iter    |  target   |     I     |\n",
      "-------------------------------------\n",
      "| \u001b[0m 3       \u001b[0m | \u001b[0m-1.042e+0\u001b[0m | \u001b[0m 72.17   \u001b[0m |\n",
      "| \u001b[0m 4       \u001b[0m | \u001b[0m-1.369e+0\u001b[0m | \u001b[0m 0.5114  \u001b[0m |\n",
      "| \u001b[0m 5       \u001b[0m | \u001b[0m-358.8   \u001b[0m | \u001b[0m 30.58   \u001b[0m |\n",
      "| \u001b[0m 6       \u001b[0m | \u001b[0m-878.5   \u001b[0m | \u001b[0m 15.1    \u001b[0m |\n",
      "| \u001b[0m 7       \u001b[0m | \u001b[0m-1.06e+03\u001b[0m | \u001b[0m 9.688   \u001b[0m |\n",
      "| \u001b[0m 8       \u001b[0m | \u001b[0m-746.4   \u001b[0m | \u001b[0m 19.03   \u001b[0m |\n",
      "| \u001b[0m 9       \u001b[0m | \u001b[0m-215.2   \u001b[0m | \u001b[0m 34.88   \u001b[0m |\n",
      "| \u001b[0m 10      \u001b[0m | \u001b[0m-53.05   \u001b[0m | \u001b[0m 39.98   \u001b[0m |\n",
      "| \u001b[0m 11      \u001b[0m | \u001b[0m-435.4   \u001b[0m | \u001b[0m 54.11   \u001b[0m |\n",
      "| \u001b[0m 12      \u001b[0m | \u001b[0m-47.5    \u001b[0m | \u001b[0m 42.21   \u001b[0m |\n",
      "| \u001b[0m 13      \u001b[0m | \u001b[0m-1.978e+0\u001b[0m | \u001b[0m 100.0   \u001b[0m |\n",
      "| \u001b[95m 14      \u001b[0m | \u001b[95m-33.37   \u001b[0m | \u001b[95m 41.21   \u001b[0m |\n",
      "| \u001b[0m 15      \u001b[0m | \u001b[0m-33.4    \u001b[0m | \u001b[0m 41.16   \u001b[0m |\n",
      "| \u001b[0m 16      \u001b[0m | \u001b[0m-33.38   \u001b[0m | \u001b[0m 41.17   \u001b[0m |\n",
      "| \u001b[0m 17      \u001b[0m | \u001b[0m-33.38   \u001b[0m | \u001b[0m 41.18   \u001b[0m |\n",
      "| \u001b[0m 18      \u001b[0m | \u001b[0m-33.37   \u001b[0m | \u001b[0m 41.18   \u001b[0m |\n",
      "| \u001b[0m 19      \u001b[0m | \u001b[0m-33.37   \u001b[0m | \u001b[0m 41.19   \u001b[0m |\n",
      "| \u001b[0m 20      \u001b[0m | \u001b[0m-33.37   \u001b[0m | \u001b[0m 41.19   \u001b[0m |\n",
      "| \u001b[0m 21      \u001b[0m | \u001b[0m-33.37   \u001b[0m | \u001b[0m 41.19   \u001b[0m |\n",
      "| \u001b[0m 22      \u001b[0m | \u001b[0m-33.37   \u001b[0m | \u001b[0m 41.19   \u001b[0m |\n",
      "| \u001b[0m 23      \u001b[0m | \u001b[0m-33.37   \u001b[0m | \u001b[0m 41.19   \u001b[0m |\n",
      "| \u001b[0m 24      \u001b[0m | \u001b[0m-33.41   \u001b[0m | \u001b[0m 41.15   \u001b[0m |\n",
      "| \u001b[0m 25      \u001b[0m | \u001b[0m-33.38   \u001b[0m | \u001b[0m 41.24   \u001b[0m |\n",
      "| \u001b[0m 26      \u001b[0m | \u001b[0m-33.46   \u001b[0m | \u001b[0m 41.13   \u001b[0m |\n",
      "| \u001b[0m 27      \u001b[0m | \u001b[0m-33.4    \u001b[0m | \u001b[0m 41.25   \u001b[0m |\n",
      "| \u001b[0m 28      \u001b[0m | \u001b[0m-33.39   \u001b[0m | \u001b[0m 41.24   \u001b[0m |\n",
      "| \u001b[0m 29      \u001b[0m | \u001b[0m-33.48   \u001b[0m | \u001b[0m 41.12   \u001b[0m |\n",
      "| \u001b[0m 30      \u001b[0m | \u001b[0m-33.39   \u001b[0m | \u001b[0m 41.25   \u001b[0m |\n",
      "| \u001b[0m 31      \u001b[0m | \u001b[0m-33.47   \u001b[0m | \u001b[0m 41.13   \u001b[0m |\n",
      "| \u001b[0m 32      \u001b[0m | \u001b[0m-33.4    \u001b[0m | \u001b[0m 41.25   \u001b[0m |\n",
      "| \u001b[0m 33      \u001b[0m | \u001b[0m-33.39   \u001b[0m | \u001b[0m 41.24   \u001b[0m |\n",
      "| \u001b[0m 34      \u001b[0m | \u001b[0m-33.47   \u001b[0m | \u001b[0m 41.13   \u001b[0m |\n",
      "| \u001b[0m 35      \u001b[0m | \u001b[0m-33.39   \u001b[0m | \u001b[0m 41.24   \u001b[0m |\n",
      "| \u001b[0m 36      \u001b[0m | \u001b[0m-33.45   \u001b[0m | \u001b[0m 41.13   \u001b[0m |\n",
      "| \u001b[0m 37      \u001b[0m | \u001b[0m-33.39   \u001b[0m | \u001b[0m 41.25   \u001b[0m |\n",
      "| \u001b[0m 38      \u001b[0m | \u001b[0m-33.39   \u001b[0m | \u001b[0m 41.24   \u001b[0m |\n",
      "| \u001b[0m 39      \u001b[0m | \u001b[0m-33.45   \u001b[0m | \u001b[0m 41.13   \u001b[0m |\n",
      "| \u001b[0m 40      \u001b[0m | \u001b[0m-33.39   \u001b[0m | \u001b[0m 41.24   \u001b[0m |\n",
      "| \u001b[0m 41      \u001b[0m | \u001b[0m-33.44   \u001b[0m | \u001b[0m 41.14   \u001b[0m |\n",
      "| \u001b[0m 42      \u001b[0m | \u001b[0m-33.39   \u001b[0m | \u001b[0m 41.24   \u001b[0m |\n",
      "| \u001b[0m 43      \u001b[0m | \u001b[0m-33.39   \u001b[0m | \u001b[0m 41.24   \u001b[0m |\n",
      "| \u001b[0m 44      \u001b[0m | \u001b[0m-33.44   \u001b[0m | \u001b[0m 41.14   \u001b[0m |\n",
      "| \u001b[0m 45      \u001b[0m | \u001b[0m-33.39   \u001b[0m | \u001b[0m 41.24   \u001b[0m |\n",
      "| \u001b[0m 46      \u001b[0m | \u001b[0m-33.43   \u001b[0m | \u001b[0m 41.14   \u001b[0m |\n",
      "| \u001b[0m 47      \u001b[0m | \u001b[0m-33.39   \u001b[0m | \u001b[0m 41.24   \u001b[0m |\n",
      "| \u001b[0m 48      \u001b[0m | \u001b[0m-33.38   \u001b[0m | \u001b[0m 41.23   \u001b[0m |\n",
      "| \u001b[0m 49      \u001b[0m | \u001b[0m-33.43   \u001b[0m | \u001b[0m 41.15   \u001b[0m |\n",
      "| \u001b[0m 50      \u001b[0m | \u001b[0m-33.39   \u001b[0m | \u001b[0m 41.24   \u001b[0m |\n",
      "| \u001b[0m 51      \u001b[0m | \u001b[0m-33.42   \u001b[0m | \u001b[0m 41.15   \u001b[0m |\n",
      "| \u001b[0m 52      \u001b[0m | \u001b[0m-33.39   \u001b[0m | \u001b[0m 41.24   \u001b[0m |\n",
      "| \u001b[0m 53      \u001b[0m | \u001b[0m-33.42   \u001b[0m | \u001b[0m 41.15   \u001b[0m |\n",
      "| \u001b[0m 54      \u001b[0m | \u001b[0m-33.38   \u001b[0m | \u001b[0m 41.24   \u001b[0m |\n",
      "| \u001b[0m 55      \u001b[0m | \u001b[0m-33.38   \u001b[0m | \u001b[0m 41.24   \u001b[0m |\n",
      "| \u001b[0m 56      \u001b[0m | \u001b[0m-33.41   \u001b[0m | \u001b[0m 41.15   \u001b[0m |\n",
      "| \u001b[0m 57      \u001b[0m | \u001b[0m-33.38   \u001b[0m | \u001b[0m 41.24   \u001b[0m |\n",
      "| \u001b[0m 58      \u001b[0m | \u001b[0m-33.41   \u001b[0m | \u001b[0m 41.15   \u001b[0m |\n",
      "| \u001b[0m 59      \u001b[0m | \u001b[0m-33.38   \u001b[0m | \u001b[0m 41.24   \u001b[0m |\n",
      "| \u001b[0m 60      \u001b[0m | \u001b[0m-33.38   \u001b[0m | \u001b[0m 41.23   \u001b[0m |\n",
      "| \u001b[0m 61      \u001b[0m | \u001b[0m-33.41   \u001b[0m | \u001b[0m 41.15   \u001b[0m |\n",
      "| \u001b[0m 62      \u001b[0m | \u001b[0m-33.38   \u001b[0m | \u001b[0m 41.23   \u001b[0m |\n",
      "| \u001b[0m 63      \u001b[0m | \u001b[0m-33.41   \u001b[0m | \u001b[0m 41.16   \u001b[0m |\n",
      "| \u001b[0m 64      \u001b[0m | \u001b[0m-33.38   \u001b[0m | \u001b[0m 41.23   \u001b[0m |\n",
      "| \u001b[0m 65      \u001b[0m | \u001b[0m-33.38   \u001b[0m | \u001b[0m 41.23   \u001b[0m |\n",
      "| \u001b[0m 66      \u001b[0m | \u001b[0m-33.41   \u001b[0m | \u001b[0m 41.16   \u001b[0m |\n",
      "| \u001b[0m 67      \u001b[0m | \u001b[0m-33.38   \u001b[0m | \u001b[0m 41.23   \u001b[0m |\n",
      "| \u001b[0m 68      \u001b[0m | \u001b[0m-33.4    \u001b[0m | \u001b[0m 41.16   \u001b[0m |\n",
      "| \u001b[0m 69      \u001b[0m | \u001b[0m-33.38   \u001b[0m | \u001b[0m 41.23   \u001b[0m |\n",
      "| \u001b[0m 70      \u001b[0m | \u001b[0m-33.38   \u001b[0m | \u001b[0m 41.23   \u001b[0m |\n",
      "| \u001b[0m 71      \u001b[0m | \u001b[0m-33.4    \u001b[0m | \u001b[0m 41.16   \u001b[0m |\n",
      "| \u001b[0m 72      \u001b[0m | \u001b[0m-33.38   \u001b[0m | \u001b[0m 41.23   \u001b[0m |\n",
      "| \u001b[0m 73      \u001b[0m | \u001b[0m-33.4    \u001b[0m | \u001b[0m 41.16   \u001b[0m |\n",
      "| \u001b[0m 74      \u001b[0m | \u001b[0m-33.38   \u001b[0m | \u001b[0m 41.23   \u001b[0m |\n",
      "| \u001b[0m 75      \u001b[0m | \u001b[0m-33.38   \u001b[0m | \u001b[0m 41.23   \u001b[0m |\n",
      "| \u001b[0m 76      \u001b[0m | \u001b[0m-33.4    \u001b[0m | \u001b[0m 41.16   \u001b[0m |\n",
      "| \u001b[0m 77      \u001b[0m | \u001b[0m-33.38   \u001b[0m | \u001b[0m 41.23   \u001b[0m |\n",
      "| \u001b[0m 78      \u001b[0m | \u001b[0m-33.4    \u001b[0m | \u001b[0m 41.16   \u001b[0m |\n",
      "| \u001b[0m 79      \u001b[0m | \u001b[0m-33.38   \u001b[0m | \u001b[0m 41.23   \u001b[0m |\n",
      "| \u001b[0m 80      \u001b[0m | \u001b[0m-33.38   \u001b[0m | \u001b[0m 41.23   \u001b[0m |\n",
      "| \u001b[0m 81      \u001b[0m | \u001b[0m-33.4    \u001b[0m | \u001b[0m 41.16   \u001b[0m |\n",
      "| \u001b[0m 82      \u001b[0m | \u001b[0m-33.37   \u001b[0m | \u001b[0m 41.22   \u001b[0m |\n",
      "| \u001b[0m 83      \u001b[0m | \u001b[0m-33.39   \u001b[0m | \u001b[0m 41.17   \u001b[0m |\n",
      "| \u001b[0m 84      \u001b[0m | \u001b[0m-33.37   \u001b[0m | \u001b[0m 41.23   \u001b[0m |\n",
      "| \u001b[0m 85      \u001b[0m | \u001b[0m-33.37   \u001b[0m | \u001b[0m 41.23   \u001b[0m |\n",
      "| \u001b[0m 86      \u001b[0m | \u001b[0m-33.39   \u001b[0m | \u001b[0m 41.16   \u001b[0m |\n",
      "| \u001b[0m 87      \u001b[0m | \u001b[0m-33.37   \u001b[0m | \u001b[0m 41.23   \u001b[0m |\n",
      "| \u001b[0m 88      \u001b[0m | \u001b[0m-33.39   \u001b[0m | \u001b[0m 41.17   \u001b[0m |\n",
      "| \u001b[0m 89      \u001b[0m | \u001b[0m-33.37   \u001b[0m | \u001b[0m 41.23   \u001b[0m |\n",
      "| \u001b[0m 90      \u001b[0m | \u001b[0m-33.37   \u001b[0m | \u001b[0m 41.22   \u001b[0m |\n",
      "| \u001b[0m 91      \u001b[0m | \u001b[0m-33.39   \u001b[0m | \u001b[0m 41.17   \u001b[0m |\n",
      "| \u001b[0m 92      \u001b[0m | \u001b[0m-33.37   \u001b[0m | \u001b[0m 41.23   \u001b[0m |\n",
      "| \u001b[0m 93      \u001b[0m | \u001b[0m-33.38   \u001b[0m | \u001b[0m 41.17   \u001b[0m |\n",
      "| \u001b[0m 94      \u001b[0m | \u001b[0m-33.37   \u001b[0m | \u001b[0m 41.22   \u001b[0m |\n",
      "| \u001b[0m 95      \u001b[0m | \u001b[0m-33.37   \u001b[0m | \u001b[0m 41.22   \u001b[0m |\n",
      "| \u001b[0m 96      \u001b[0m | \u001b[0m-33.39   \u001b[0m | \u001b[0m 41.17   \u001b[0m |\n",
      "| \u001b[0m 97      \u001b[0m | \u001b[0m-33.37   \u001b[0m | \u001b[0m 41.22   \u001b[0m |\n",
      "| \u001b[0m 98      \u001b[0m | \u001b[0m-33.39   \u001b[0m | \u001b[0m 41.17   \u001b[0m |\n",
      "| \u001b[0m 99      \u001b[0m | \u001b[0m-33.37   \u001b[0m | \u001b[0m 41.22   \u001b[0m |\n",
      "| \u001b[0m 100     \u001b[0m | \u001b[0m-33.39   \u001b[0m | \u001b[0m 41.17   \u001b[0m |\n",
      "| \u001b[0m 101     \u001b[0m | \u001b[0m-33.37   \u001b[0m | \u001b[0m 41.22   \u001b[0m |\n",
      "| \u001b[0m 102     \u001b[0m | \u001b[0m-33.37   \u001b[0m | \u001b[0m 41.22   \u001b[0m |\n",
      "| \u001b[0m 103     \u001b[0m | \u001b[0m-33.39   \u001b[0m | \u001b[0m 41.17   \u001b[0m |\n",
      "| \u001b[0m 104     \u001b[0m | \u001b[0m-33.37   \u001b[0m | \u001b[0m 41.22   \u001b[0m |\n",
      "| \u001b[0m 105     \u001b[0m | \u001b[0m-33.37   \u001b[0m | \u001b[0m 41.22   \u001b[0m |\n",
      "| \u001b[0m 106     \u001b[0m | \u001b[0m-33.39   \u001b[0m | \u001b[0m 41.17   \u001b[0m |\n",
      "| \u001b[0m 107     \u001b[0m | \u001b[0m-33.37   \u001b[0m | \u001b[0m 41.22   \u001b[0m |\n",
      "| \u001b[0m 108     \u001b[0m | \u001b[0m-33.38   \u001b[0m | \u001b[0m 41.17   \u001b[0m |\n",
      "| \u001b[0m 109     \u001b[0m | \u001b[0m-33.37   \u001b[0m | \u001b[0m 41.22   \u001b[0m |\n",
      "| \u001b[0m 110     \u001b[0m | \u001b[0m-33.38   \u001b[0m | \u001b[0m 41.17   \u001b[0m |\n",
      "| \u001b[0m 111     \u001b[0m | \u001b[0m-33.37   \u001b[0m | \u001b[0m 41.22   \u001b[0m |\n",
      "| \u001b[0m 112     \u001b[0m | \u001b[0m-33.37   \u001b[0m | \u001b[0m 41.22   \u001b[0m |\n",
      "=====================================\n"
     ]
    }
   ],
   "source": [
    "optimizer.maximize(init_points=10, n_iter=100)"
   ]
  },
  {
   "cell_type": "code",
   "execution_count": 20,
   "id": "41b18f3c-0167-4985-843c-4a591dfe0a22",
   "metadata": {},
   "outputs": [
    {
     "data": {
      "text/plain": [
       "{'target': -33.36694202497196, 'params': {'I': 41.20989450646772}}"
      ]
     },
     "execution_count": 20,
     "metadata": {},
     "output_type": "execute_result"
    }
   ],
   "source": [
    "optimizer.max"
   ]
  },
  {
   "cell_type": "code",
   "execution_count": 21,
   "id": "a6db4de5",
   "metadata": {},
   "outputs": [
    {
     "name": "stdout",
     "output_type": "stream",
     "text": [
      "|   iter    |  target   |     I     |\n",
      "-------------------------------------\n",
      "| \u001b[0m 113     \u001b[0m | \u001b[0m-924.6   \u001b[0m | \u001b[0m 68.68   \u001b[0m |\n",
      "| \u001b[0m 114     \u001b[0m | \u001b[0m-685.6   \u001b[0m | \u001b[0m 20.84   \u001b[0m |\n",
      "| \u001b[0m 115     \u001b[0m | \u001b[0m-1.57e+03\u001b[0m | \u001b[0m 87.87   \u001b[0m |\n",
      "| \u001b[0m 116     \u001b[0m | \u001b[0m-1.278e+0\u001b[0m | \u001b[0m 3.225   \u001b[0m |\n",
      "| \u001b[0m 117     \u001b[0m | \u001b[0m-875.3   \u001b[0m | \u001b[0m 67.21   \u001b[0m |\n",
      "| \u001b[0m 118     \u001b[0m | \u001b[0m-33.39   \u001b[0m | \u001b[0m 41.17   \u001b[0m |\n",
      "| \u001b[0m 119     \u001b[0m | \u001b[0m-33.39   \u001b[0m | \u001b[0m 41.17   \u001b[0m |\n",
      "| \u001b[0m 120     \u001b[0m | \u001b[0m-33.39   \u001b[0m | \u001b[0m 41.17   \u001b[0m |\n",
      "| \u001b[0m 121     \u001b[0m | \u001b[0m-33.37   \u001b[0m | \u001b[0m 41.23   \u001b[0m |\n",
      "| \u001b[0m 122     \u001b[0m | \u001b[0m-33.37   \u001b[0m | \u001b[0m 41.22   \u001b[0m |\n",
      "| \u001b[0m 123     \u001b[0m | \u001b[0m-33.39   \u001b[0m | \u001b[0m 41.17   \u001b[0m |\n",
      "| \u001b[0m 124     \u001b[0m | \u001b[0m-33.39   \u001b[0m | \u001b[0m 41.17   \u001b[0m |\n",
      "| \u001b[0m 125     \u001b[0m | \u001b[0m-33.37   \u001b[0m | \u001b[0m 41.22   \u001b[0m |\n",
      "| \u001b[0m 126     \u001b[0m | \u001b[0m-33.37   \u001b[0m | \u001b[0m 41.23   \u001b[0m |\n",
      "| \u001b[0m 127     \u001b[0m | \u001b[0m-33.39   \u001b[0m | \u001b[0m 41.17   \u001b[0m |\n",
      "| \u001b[0m 128     \u001b[0m | \u001b[0m-33.37   \u001b[0m | \u001b[0m 41.22   \u001b[0m |\n",
      "| \u001b[0m 129     \u001b[0m | \u001b[0m-33.37   \u001b[0m | \u001b[0m 41.22   \u001b[0m |\n",
      "| \u001b[0m 130     \u001b[0m | \u001b[0m-33.39   \u001b[0m | \u001b[0m 41.17   \u001b[0m |\n",
      "| \u001b[0m 131     \u001b[0m | \u001b[0m-33.37   \u001b[0m | \u001b[0m 41.22   \u001b[0m |\n",
      "| \u001b[0m 132     \u001b[0m | \u001b[0m-33.39   \u001b[0m | \u001b[0m 41.17   \u001b[0m |\n",
      "| \u001b[0m 133     \u001b[0m | \u001b[0m-33.37   \u001b[0m | \u001b[0m 41.22   \u001b[0m |\n",
      "| \u001b[0m 134     \u001b[0m | \u001b[0m-33.37   \u001b[0m | \u001b[0m 41.22   \u001b[0m |\n",
      "| \u001b[0m 135     \u001b[0m | \u001b[0m-33.39   \u001b[0m | \u001b[0m 41.17   \u001b[0m |\n",
      "| \u001b[0m 136     \u001b[0m | \u001b[0m-33.37   \u001b[0m | \u001b[0m 41.22   \u001b[0m |\n",
      "| \u001b[0m 137     \u001b[0m | \u001b[0m-33.38   \u001b[0m | \u001b[0m 41.17   \u001b[0m |\n",
      "| \u001b[0m 138     \u001b[0m | \u001b[0m-33.37   \u001b[0m | \u001b[0m 41.22   \u001b[0m |\n",
      "| \u001b[0m 139     \u001b[0m | \u001b[0m-33.38   \u001b[0m | \u001b[0m 41.17   \u001b[0m |\n",
      "| \u001b[0m 140     \u001b[0m | \u001b[0m-33.37   \u001b[0m | \u001b[0m 41.22   \u001b[0m |\n",
      "| \u001b[0m 141     \u001b[0m | \u001b[0m-33.37   \u001b[0m | \u001b[0m 41.22   \u001b[0m |\n",
      "| \u001b[0m 142     \u001b[0m | \u001b[0m-33.38   \u001b[0m | \u001b[0m 41.17   \u001b[0m |\n",
      "=====================================\n"
     ]
    }
   ],
   "source": [
    "optimizer.maximize()"
   ]
  },
  {
   "cell_type": "code",
   "execution_count": 22,
   "id": "0aeef482-b809-4daa-95d3-2f63ebf89771",
   "metadata": {},
   "outputs": [
    {
     "data": {
      "image/png": "[encoded data removed]",
      "text/plain": [
       "<Figure size 432x288 with 1 Axes>"
      ]
     },
     "metadata": {
      "needs_background": "light"
     },
     "output_type": "display_data"
    }
   ],
   "source": [
    "connection = MongoClient(\"mongodb://localhost:27017\")\n",
    "vc = connection.db.New_vc\n",
    "max_parameters = vc.find(projection={'_id' : False, 'params' : 1}).sort(\"target\",pymongo.DESCENDING).limit(1)\n",
    "B_grad_max = max_parameters[0][\"params\"]['Bgrad']\n",
    "\n",
    "\n",
    "Current = connection.db.Current\n",
    "max_I = Current.find(limit=1,projection={'_id' : False, 'params' : 1}).sort(\"target\",pymongo.DESCENDING)\n",
    "I_opt = max_I[0]['params']['I']\n",
    "\n",
    "\n",
    "fig,ax = plt.subplots(1,1)\n",
    "zz = np.linspace(-0.012,0.012,101)/x0\n",
    "# for xx in xs:\n",
    "#     ax.plot(xx*x0*1000,B_func(np.array([xx,0,0]))[0],'bo')\n",
    "#     ax.plot(xx*x0*1000,-1/2*1.2528*xx*x0*1000,'r*')\n",
    "\n",
    "for zs in zz:\n",
    "    ax.plot(zs*x0*1000,Coil_field(I_opt,zs)[2],'bo')\n",
    "    ax.plot(zs*x0*1000,B_grad_max*1000*x0*zs,'r*')\n",
    "    \n",
    "ax.set_xlim(-12,12)\n",
    "ax.set_xlabel(\"z position\")\n",
    "ax.set_ylabel(\"B field\")\n",
    "ax.grid()"
   ]
  },
  {
   "cell_type": "markdown",
   "id": "1618ced5-1f84-41eb-99d2-b39ac17b9561",
   "metadata": {},
   "source": [
    "# Confirm the coil`s 3D regular interpolator"
   ]
  },
  {
   "cell_type": "code",
   "execution_count": 23,
   "id": "69f832ed-d25d-4a30-ab3e-7259bc0cb99f",
   "metadata": {},
   "outputs": [
    {
     "data": {
      "image/png": "[encoded data removed]",
      "text/plain": [
       "<Figure size 1152x432 with 2 Axes>"
      ]
     },
     "metadata": {
      "needs_background": "light"
     },
     "output_type": "display_data"
    }
   ],
   "source": [
    "from scipy.interpolate import RegularGridInterpolator\n",
    "\n",
    "xs = np.linspace(-0.4,0.4,101)/x0\n",
    "ys = np.linspace(-0.4,0.4,101)/x0\n",
    "zs = np.linspace(-0.14,0.14,101)/x0\n",
    "\n",
    "X,Y,Z = np.meshgrid(xs,ys,zs,sparse=1,indexing=\"ij\")\n",
    "B = np.load(\"D:/migration/B_3D_interp_41.21.npy\")\n",
    "\n",
    "\n",
    "Bx = RegularGridInterpolator((xs,ys,zs),B[0])\n",
    "By = RegularGridInterpolator((xs,ys,zs),B[1])\n",
    "Bz = RegularGridInterpolator((xs,ys,zs),B[2])\n",
    "\n",
    "def B_func(R:np.array):\n",
    "    if abs(R[2])>0.2/x0 or abs(R[1])>0.4/x0 or abs(R[0])>0.4/x0:\n",
    "        return np.zeros(3,)\n",
    "    return np.array([Bx(R),By(R),Bz(R)]).reshape(-1)\n",
    "def Bx_approx(x):\n",
    "    return B_func(np.array([x,0.,0.]))[0]\n",
    "\n",
    "Bx_approx_v = np.vectorize(Bx_approx)\n",
    "\n",
    "fig, ax = plt.subplots(1,2,figsize=(16,6))\n",
    "\n",
    "ax[0].plot(xs*x0*1000,Bx_approx_v(xs))\n",
    "for xx in xs:\n",
    "    ax[1].plot(xx*x0*1000,Coil_field(I_opt,np.array([xx,0,0]))[0],\"ro\")\n",
    "\n",
    "ax[0].set_xlabel(\"$x\\ ({mm}$)\")\n",
    "ax[0].set_ylabel(\"$B\\ ({G}$)\")\n",
    "ax[0].set_title(\"Approximation using 3D interpolate\")\n",
    "ax[0].grid()\n",
    "ax[1].set_xlabel(\"$x\\ ({mm}$)\")\n",
    "ax[1].set_ylabel(\"$B\\ ({G}$)\")\n",
    "ax[1].set_title(\"Real coil field\")\n",
    "ax[1].grid()\n",
    "\n",
    "fig.savefig(\"D:/pr/Bfield.png\")\n"
   ]
  },
  {
   "cell_type": "code",
   "execution_count": null,
   "id": "97b553d8",
   "metadata": {},
   "outputs": [],
   "source": []
  }
 ],
 "metadata": {
  "interpreter": {
   "hash": "8e5c691d1df19e90ce0c56a82f5160c0bc8b8614d6b0ba467d19e18deeae170c"
  },
  "kernelspec": {
   "display_name": "Python 3.9.12 ('LCPtest')",
   "language": "python",
   "name": "python3"
  },
  "language_info": {
   "codemirror_mode": {
    "name": "ipython",
    "version": 3
   },
   "file_extension": ".py",
   "mimetype": "text/x-python",
   "name": "python",
   "nbconvert_exporter": "python",
   "pygments_lexer": "ipython3",
   "version": "3.9.12"
  }
 },
 "nbformat": 4,
 "nbformat_minor": 5
}
