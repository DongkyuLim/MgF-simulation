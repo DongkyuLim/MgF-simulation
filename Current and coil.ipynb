{
 "cells": [
  {
   "cell_type": "code",
   "execution_count": 31,
   "id": "e63b51b4-5c7f-4a54-bba4-45952fe3d851",
   "metadata": {},
   "outputs": [],
   "source": [
    "import sys\n",
    "import numpy as np\n",
    "import matplotlib.pyplot as plt\n",
    "import scipy.constants as cts\n",
    "import pylcp\n",
    "import time\n",
    "import random\n",
    "from tqdm import tqdm\n",
    "from scipy.interpolate import interp1d,interp2d\n",
    "from scipy import stats\n",
    "from scipy import integrate\n",
    "from bayes_opt import BayesianOptimization\n",
    "import json\n",
    "# import seaborn as sns\n",
    "from scipy import special\n",
    "from scipy import integrate"
   ]
  },
  {
   "cell_type": "code",
   "execution_count": 5,
   "id": "47ffd5fd-fd46-49ab-bad5-7f7f8ef36929",
   "metadata": {},
   "outputs": [],
   "source": [
    "#Define the constants\n",
    "main_detune = 17\n",
    "sideband_detune = 120\n",
    "white_detune = 10\n",
    "laser_on = 200000\n",
    "laser_off = 400015\n",
    "MOT_power = 50\n",
    "v0_start=1\n",
    "v0_step=1\n",
    "v0_end=25\n",
    "t0_start=0\n",
    "t0_step=1\n",
    "t0_end=3500000\n",
    "\n",
    "Gamma = 22 # Hz to kHz, Decay rate\n",
    "wavelength = 359.3e-9 # m to mm\n",
    "k = 1/wavelength*2*np.pi #x_0\n",
    "x0 = 1/k\n",
    "t0 = 1/Gamma*1/(2*np.pi*1e6)\n",
    "v0 = x0/t0\n",
    "m0 = cts.hbar*t0/x0**2\n",
    "a0 = x0/t0**2\n",
    "F0 = cts.hbar/(x0*t0)\n",
    "mass = 43*cts.value('atomic mass constant')/m0 # m_0\n",
    "mag_field_grad = 1252.8168984164048*x0\n",
    "waist = 0.012/x0\n",
    "v_max = 8.\n",
    "z_max = 0.012/x0\n",
    "z_start = 0.012/x0\n",
    "omega = 2*np.pi*(cts.c/wavelength) #Transition frequency\n",
    "Isat = np.pi*cts.h*cts.c*Gamma*2*np.pi*1e6/3*1/(wavelength)**3\n",
    "t_eval = np.arange(t0_start,t0_end,t0_step)\n",
    "\n",
    "# The detunings used in the PRAs:\n",
    "intensities = 2.*MOT_power*1e-3/(np.pi*0.012**2)/Isat"
   ]
  },
  {
   "cell_type": "markdown",
   "id": "188f0640-7cb5-48f5-b77c-ba671532777e",
   "metadata": {},
   "source": [
    "# Finding current"
   ]
  },
  {
   "cell_type": "code",
   "execution_count": 6,
   "id": "3a0e58ac-6724-4c83-97ca-7d237ba8b32a",
   "metadata": {},
   "outputs": [],
   "source": [
    "def Coil_field(I,R:np.array):\n",
    "    n = 100\n",
    "    s = 0.14 # in meter\n",
    "    rad = 0.14 # in meter\n",
    "    def dBx(theta,L):\n",
    "        dl = np.array([-rad*np.sin(theta),rad*np.cos(theta),0])\n",
    "        rprime = R*x0 - np.array([0,0,L])+np.array([rad*np.cos(theta),rad*np.sin(theta),0])\n",
    "        dB = cts.mu_0/(4*np.pi)*np.cross(dl,rprime)/((np.sum(rprime**2))**(3/2))*I\n",
    "        # print(dl,rprime,dB)\n",
    "        return dB[0]\n",
    "    def dBy(theta,L):\n",
    "        dl = np.array([-rad*np.sin(theta),rad*np.cos(theta),0])\n",
    "        rprime = R*x0 - np.array([0,0,L])+np.array([rad*np.cos(theta),rad*np.sin(theta),0])\n",
    "        dB = cts.mu_0/(4*np.pi)*np.cross(dl,rprime)/((np.sum(rprime**2))**(3/2))*I\n",
    "        return dB[1]\n",
    "    \n",
    "    def dBz(theta,L):\n",
    "        dl = np.array([-rad*np.sin(theta),rad*np.cos(theta),0])\n",
    "        rprime = R*x0 - np.array([0,0,L])+np.array([rad*np.cos(theta),rad*np.sin(theta),0])\n",
    "        dB = cts.mu_0/(4*np.pi)*np.cross(dl,rprime)/((np.sum(rprime**2))**(3/2))*I\n",
    "        return dB[2]\n",
    "    \n",
    "    \n",
    "    Bx = integrate.quad(dBx,0,2*np.pi,args=(-s))[0]-integrate.quad(dBx,0,2*np.pi,args=(s))[0]\n",
    "    By = integrate.quad(dBy,0,2*np.pi,args=(-s))[0]-integrate.quad(dBy,0,2*np.pi,args=(s))[0]\n",
    "    Bz = integrate.quad(dBz,0,2*np.pi,args=(-s))[0]-integrate.quad(dBz,0,2*np.pi,args=(s))[0]\n",
    "    \n",
    "    return np.array([Bx,By,Bz])*n*10000 # Return in Gauss"
   ]
  },
  {
   "cell_type": "code",
   "execution_count": 17,
   "id": "e6e1ac20-e240-49ca-a317-dd89473bb398",
   "metadata": {},
   "outputs": [],
   "source": [
    "def Error_function(I):\n",
    "    zz = np.linspace(-0.012,0.012,101)/x0\n",
    "    \n",
    "    error = 0\n",
    "    \n",
    "    for z in zz:\n",
    "        B_true = 1.308*1000*z*x0\n",
    "        B_coil = Coil_field(I,np.array([0,0,z]))[2]\n",
    "        \n",
    "        error += (B_true - B_coil)**2\n",
    "    return np.sqrt(error)*-1"
   ]
  },
  {
   "cell_type": "code",
   "execution_count": 21,
   "id": "703e8a06-4e68-4a85-bb20-3fbad7a44457",
   "metadata": {},
   "outputs": [],
   "source": [
    "pbounds ={'I' : (0.5,50)}"
   ]
  },
  {
   "cell_type": "code",
   "execution_count": 22,
   "id": "ded9712b-af6c-43b7-a13a-2ab6c7f9f88b",
   "metadata": {},
   "outputs": [],
   "source": [
    "optimizer = BayesianOptimization(f=Error_function,pbounds=pbounds,verbose=13,random_state=1)"
   ]
  },
  {
   "cell_type": "code",
   "execution_count": 26,
   "id": "1474b7df-41e0-46ae-b5fc-52056ea0acf4",
   "metadata": {
    "collapsed": true,
    "jupyter": {
     "outputs_hidden": true
    },
    "tags": []
   },
   "outputs": [
    {
     "name": "stdout",
     "output_type": "stream",
     "text": [
      "|   iter    |  target   |     I     |\n",
      "-------------------------------------\n",
      "| \u001b[0m 91      \u001b[0m | \u001b[0m-0.04036 \u001b[0m | \u001b[0m 38.43   \u001b[0m |\n",
      "| \u001b[0m 92      \u001b[0m | \u001b[0m-0.04011 \u001b[0m | \u001b[0m 38.43   \u001b[0m |\n",
      "| \u001b[0m 93      \u001b[0m | \u001b[0m-0.03998 \u001b[0m | \u001b[0m 38.43   \u001b[0m |\n",
      "| \u001b[0m 94      \u001b[0m | \u001b[0m-0.03985 \u001b[0m | \u001b[0m 38.43   \u001b[0m |\n",
      "| \u001b[0m 95      \u001b[0m | \u001b[0m-0.03969 \u001b[0m | \u001b[0m 38.43   \u001b[0m |\n",
      "| \u001b[0m 96      \u001b[0m | \u001b[0m-0.03926 \u001b[0m | \u001b[0m 38.43   \u001b[0m |\n",
      "| \u001b[0m 97      \u001b[0m | \u001b[0m-0.03968 \u001b[0m | \u001b[0m 38.43   \u001b[0m |\n",
      "| \u001b[0m 98      \u001b[0m | \u001b[0m-0.03934 \u001b[0m | \u001b[0m 38.43   \u001b[0m |\n",
      "| \u001b[0m 99      \u001b[0m | \u001b[0m-0.03922 \u001b[0m | \u001b[0m 38.43   \u001b[0m |\n",
      "| \u001b[0m 100     \u001b[0m | \u001b[0m-0.0391  \u001b[0m | \u001b[0m 38.43   \u001b[0m |\n",
      "| \u001b[0m 101     \u001b[0m | \u001b[0m-0.039   \u001b[0m | \u001b[0m 38.43   \u001b[0m |\n",
      "| \u001b[0m 102     \u001b[0m | \u001b[0m-0.0388  \u001b[0m | \u001b[0m 38.43   \u001b[0m |\n",
      "| \u001b[0m 103     \u001b[0m | \u001b[0m-0.03873 \u001b[0m | \u001b[0m 38.43   \u001b[0m |\n",
      "| \u001b[0m 104     \u001b[0m | \u001b[0m-0.03841 \u001b[0m | \u001b[0m 38.43   \u001b[0m |\n",
      "| \u001b[0m 105     \u001b[0m | \u001b[0m-0.03857 \u001b[0m | \u001b[0m 38.43   \u001b[0m |\n",
      "| \u001b[0m 106     \u001b[0m | \u001b[0m-0.03833 \u001b[0m | \u001b[0m 38.43   \u001b[0m |\n",
      "| \u001b[0m 107     \u001b[0m | \u001b[0m-0.03858 \u001b[0m | \u001b[0m 38.43   \u001b[0m |\n",
      "| \u001b[0m 108     \u001b[0m | \u001b[0m-0.03817 \u001b[0m | \u001b[0m 38.43   \u001b[0m |\n",
      "| \u001b[95m 109     \u001b[0m | \u001b[95m-0.03798 \u001b[0m | \u001b[95m 38.43   \u001b[0m |\n",
      "| \u001b[95m 110     \u001b[0m | \u001b[95m-0.03782 \u001b[0m | \u001b[95m 38.43   \u001b[0m |\n",
      "| \u001b[95m 111     \u001b[0m | \u001b[95m-0.03775 \u001b[0m | \u001b[95m 38.43   \u001b[0m |\n",
      "| \u001b[95m 112     \u001b[0m | \u001b[95m-0.03762 \u001b[0m | \u001b[95m 38.43   \u001b[0m |\n",
      "| \u001b[95m 113     \u001b[0m | \u001b[95m-0.03743 \u001b[0m | \u001b[95m 38.43   \u001b[0m |\n",
      "| \u001b[95m 114     \u001b[0m | \u001b[95m-0.03735 \u001b[0m | \u001b[95m 38.43   \u001b[0m |\n",
      "| \u001b[0m 115     \u001b[0m | \u001b[0m-0.03746 \u001b[0m | \u001b[0m 38.43   \u001b[0m |\n",
      "| \u001b[95m 116     \u001b[0m | \u001b[95m-0.03709 \u001b[0m | \u001b[95m 38.43   \u001b[0m |\n",
      "| \u001b[95m 117     \u001b[0m | \u001b[95m-0.03698 \u001b[0m | \u001b[95m 38.43   \u001b[0m |\n",
      "| \u001b[0m 118     \u001b[0m | \u001b[0m-0.03701 \u001b[0m | \u001b[0m 38.43   \u001b[0m |\n",
      "| \u001b[0m 119     \u001b[0m | \u001b[0m-0.03715 \u001b[0m | \u001b[0m 38.43   \u001b[0m |\n",
      "| \u001b[0m 120     \u001b[0m | \u001b[0m-0.03737 \u001b[0m | \u001b[0m 38.44   \u001b[0m |\n",
      "| \u001b[0m 121     \u001b[0m | \u001b[0m-0.03765 \u001b[0m | \u001b[0m 38.44   \u001b[0m |\n",
      "| \u001b[0m 122     \u001b[0m | \u001b[0m-0.03796 \u001b[0m | \u001b[0m 38.44   \u001b[0m |\n",
      "| \u001b[0m 123     \u001b[0m | \u001b[0m-0.0382  \u001b[0m | \u001b[0m 38.44   \u001b[0m |\n",
      "| \u001b[0m 124     \u001b[0m | \u001b[0m-0.03828 \u001b[0m | \u001b[0m 38.44   \u001b[0m |\n",
      "| \u001b[0m 125     \u001b[0m | \u001b[0m-0.03842 \u001b[0m | \u001b[0m 38.44   \u001b[0m |\n",
      "| \u001b[0m 126     \u001b[0m | \u001b[0m-0.0389  \u001b[0m | \u001b[0m 38.44   \u001b[0m |\n",
      "| \u001b[0m 127     \u001b[0m | \u001b[0m-0.03909 \u001b[0m | \u001b[0m 38.44   \u001b[0m |\n",
      "| \u001b[0m 128     \u001b[0m | \u001b[0m-0.03984 \u001b[0m | \u001b[0m 38.44   \u001b[0m |\n",
      "| \u001b[0m 129     \u001b[0m | \u001b[0m-0.03978 \u001b[0m | \u001b[0m 38.44   \u001b[0m |\n",
      "| \u001b[0m 130     \u001b[0m | \u001b[0m-0.03947 \u001b[0m | \u001b[0m 38.44   \u001b[0m |\n",
      "| \u001b[0m 131     \u001b[0m | \u001b[0m-0.03811 \u001b[0m | \u001b[0m 38.44   \u001b[0m |\n",
      "| \u001b[0m 132     \u001b[0m | \u001b[0m-0.03981 \u001b[0m | \u001b[0m 38.44   \u001b[0m |\n",
      "| \u001b[0m 133     \u001b[0m | \u001b[0m-0.03986 \u001b[0m | \u001b[0m 38.44   \u001b[0m |\n",
      "| \u001b[0m 134     \u001b[0m | \u001b[0m-0.03995 \u001b[0m | \u001b[0m 38.44   \u001b[0m |\n",
      "| \u001b[0m 135     \u001b[0m | \u001b[0m-0.04002 \u001b[0m | \u001b[0m 38.44   \u001b[0m |\n",
      "| \u001b[0m 136     \u001b[0m | \u001b[0m-0.04026 \u001b[0m | \u001b[0m 38.44   \u001b[0m |\n",
      "| \u001b[0m 137     \u001b[0m | \u001b[0m-0.04017 \u001b[0m | \u001b[0m 38.44   \u001b[0m |\n",
      "| \u001b[0m 138     \u001b[0m | \u001b[0m-0.04029 \u001b[0m | \u001b[0m 38.44   \u001b[0m |\n",
      "| \u001b[0m 139     \u001b[0m | \u001b[0m-0.04031 \u001b[0m | \u001b[0m 38.44   \u001b[0m |\n",
      "| \u001b[0m 140     \u001b[0m | \u001b[0m-0.04024 \u001b[0m | \u001b[0m 38.44   \u001b[0m |\n",
      "| \u001b[0m 141     \u001b[0m | \u001b[0m-0.04025 \u001b[0m | \u001b[0m 38.44   \u001b[0m |\n",
      "| \u001b[0m 142     \u001b[0m | \u001b[0m-0.04022 \u001b[0m | \u001b[0m 38.44   \u001b[0m |\n",
      "| \u001b[0m 143     \u001b[0m | \u001b[0m-0.04037 \u001b[0m | \u001b[0m 38.44   \u001b[0m |\n",
      "| \u001b[0m 144     \u001b[0m | \u001b[0m-0.04007 \u001b[0m | \u001b[0m 38.44   \u001b[0m |\n",
      "| \u001b[0m 145     \u001b[0m | \u001b[0m-0.04035 \u001b[0m | \u001b[0m 38.44   \u001b[0m |\n",
      "| \u001b[0m 146     \u001b[0m | \u001b[0m-0.04032 \u001b[0m | \u001b[0m 38.44   \u001b[0m |\n",
      "| \u001b[0m 147     \u001b[0m | \u001b[0m-0.04033 \u001b[0m | \u001b[0m 38.44   \u001b[0m |\n",
      "| \u001b[0m 148     \u001b[0m | \u001b[0m-0.04055 \u001b[0m | \u001b[0m 38.44   \u001b[0m |\n",
      "| \u001b[0m 149     \u001b[0m | \u001b[0m-0.03992 \u001b[0m | \u001b[0m 38.44   \u001b[0m |\n",
      "| \u001b[0m 150     \u001b[0m | \u001b[0m-0.03999 \u001b[0m | \u001b[0m 38.44   \u001b[0m |\n",
      "| \u001b[0m 151     \u001b[0m | \u001b[0m-0.04032 \u001b[0m | \u001b[0m 38.44   \u001b[0m |\n",
      "| \u001b[0m 152     \u001b[0m | \u001b[0m-0.04059 \u001b[0m | \u001b[0m 38.44   \u001b[0m |\n",
      "| \u001b[0m 153     \u001b[0m | \u001b[0m-0.04024 \u001b[0m | \u001b[0m 38.44   \u001b[0m |\n",
      "| \u001b[0m 154     \u001b[0m | \u001b[0m-0.04017 \u001b[0m | \u001b[0m 38.44   \u001b[0m |\n",
      "| \u001b[0m 155     \u001b[0m | \u001b[0m-0.03974 \u001b[0m | \u001b[0m 38.44   \u001b[0m |\n",
      "| \u001b[0m 156     \u001b[0m | \u001b[0m-0.04021 \u001b[0m | \u001b[0m 38.44   \u001b[0m |\n",
      "| \u001b[0m 157     \u001b[0m | \u001b[0m-0.03764 \u001b[0m | \u001b[0m 38.44   \u001b[0m |\n",
      "| \u001b[0m 158     \u001b[0m | \u001b[0m-0.0397  \u001b[0m | \u001b[0m 38.44   \u001b[0m |\n",
      "| \u001b[0m 159     \u001b[0m | \u001b[0m-0.04076 \u001b[0m | \u001b[0m 38.44   \u001b[0m |\n",
      "| \u001b[0m 160     \u001b[0m | \u001b[0m-0.04014 \u001b[0m | \u001b[0m 38.44   \u001b[0m |\n",
      "| \u001b[0m 161     \u001b[0m | \u001b[0m-0.0402  \u001b[0m | \u001b[0m 38.44   \u001b[0m |\n",
      "| \u001b[0m 162     \u001b[0m | \u001b[0m-0.04011 \u001b[0m | \u001b[0m 38.44   \u001b[0m |\n",
      "| \u001b[0m 163     \u001b[0m | \u001b[0m-0.03939 \u001b[0m | \u001b[0m 38.44   \u001b[0m |\n",
      "| \u001b[0m 164     \u001b[0m | \u001b[0m-0.03992 \u001b[0m | \u001b[0m 38.44   \u001b[0m |\n",
      "| \u001b[0m 165     \u001b[0m | \u001b[0m-0.03993 \u001b[0m | \u001b[0m 38.44   \u001b[0m |\n",
      "| \u001b[0m 166     \u001b[0m | \u001b[0m-0.03776 \u001b[0m | \u001b[0m 38.44   \u001b[0m |\n",
      "| \u001b[0m 167     \u001b[0m | \u001b[0m-0.03984 \u001b[0m | \u001b[0m 38.44   \u001b[0m |\n",
      "| \u001b[0m 168     \u001b[0m | \u001b[0m-0.03975 \u001b[0m | \u001b[0m 38.44   \u001b[0m |\n",
      "| \u001b[0m 169     \u001b[0m | \u001b[0m-0.0391  \u001b[0m | \u001b[0m 38.44   \u001b[0m |\n",
      "| \u001b[0m 170     \u001b[0m | \u001b[0m-0.03991 \u001b[0m | \u001b[0m 38.44   \u001b[0m |\n",
      "| \u001b[0m 171     \u001b[0m | \u001b[0m-0.03867 \u001b[0m | \u001b[0m 38.44   \u001b[0m |\n",
      "| \u001b[0m 172     \u001b[0m | \u001b[0m-0.03788 \u001b[0m | \u001b[0m 38.44   \u001b[0m |\n",
      "| \u001b[0m 173     \u001b[0m | \u001b[0m-0.03963 \u001b[0m | \u001b[0m 38.44   \u001b[0m |\n",
      "| \u001b[0m 174     \u001b[0m | \u001b[0m-0.04071 \u001b[0m | \u001b[0m 38.44   \u001b[0m |\n",
      "| \u001b[0m 175     \u001b[0m | \u001b[0m-0.04038 \u001b[0m | \u001b[0m 38.44   \u001b[0m |\n",
      "| \u001b[0m 176     \u001b[0m | \u001b[0m-0.03957 \u001b[0m | \u001b[0m 38.44   \u001b[0m |\n",
      "| \u001b[0m 177     \u001b[0m | \u001b[0m-0.03905 \u001b[0m | \u001b[0m 38.44   \u001b[0m |\n",
      "| \u001b[0m 178     \u001b[0m | \u001b[0m-0.03839 \u001b[0m | \u001b[0m 38.44   \u001b[0m |\n",
      "| \u001b[0m 179     \u001b[0m | \u001b[0m-0.03891 \u001b[0m | \u001b[0m 38.44   \u001b[0m |\n",
      "| \u001b[0m 180     \u001b[0m | \u001b[0m-0.03908 \u001b[0m | \u001b[0m 38.44   \u001b[0m |\n",
      "| \u001b[0m 181     \u001b[0m | \u001b[0m-0.03826 \u001b[0m | \u001b[0m 38.44   \u001b[0m |\n",
      "| \u001b[0m 182     \u001b[0m | \u001b[0m-0.03846 \u001b[0m | \u001b[0m 38.44   \u001b[0m |\n",
      "| \u001b[0m 183     \u001b[0m | \u001b[0m-0.03752 \u001b[0m | \u001b[0m 38.44   \u001b[0m |\n",
      "| \u001b[0m 184     \u001b[0m | \u001b[0m-0.03714 \u001b[0m | \u001b[0m 38.43   \u001b[0m |\n",
      "| \u001b[0m 185     \u001b[0m | \u001b[0m-0.03703 \u001b[0m | \u001b[0m 38.43   \u001b[0m |\n",
      "| \u001b[0m 186     \u001b[0m | \u001b[0m-0.03699 \u001b[0m | \u001b[0m 38.43   \u001b[0m |\n",
      "| \u001b[0m 187     \u001b[0m | \u001b[0m-0.03903 \u001b[0m | \u001b[0m 38.44   \u001b[0m |\n",
      "| \u001b[0m 188     \u001b[0m | \u001b[0m-0.04216 \u001b[0m | \u001b[0m 38.44   \u001b[0m |\n",
      "| \u001b[0m 189     \u001b[0m | \u001b[0m-0.03707 \u001b[0m | \u001b[0m 38.43   \u001b[0m |\n",
      "| \u001b[0m 190     \u001b[0m | \u001b[0m-0.03699 \u001b[0m | \u001b[0m 38.43   \u001b[0m |\n",
      "=====================================\n"
     ]
    }
   ],
   "source": [
    "optimizer.maximize(init_points=0, n_iter=100)"
   ]
  },
  {
   "cell_type": "code",
   "execution_count": 27,
   "id": "41b18f3c-0167-4985-843c-4a591dfe0a22",
   "metadata": {},
   "outputs": [
    {
     "data": {
      "text/plain": [
       "{'target': -0.03698169664950378, 'params': {'I': 38.432740550936245}}"
      ]
     },
     "execution_count": 27,
     "metadata": {},
     "output_type": "execute_result"
    }
   ],
   "source": [
    "optimizer.max"
   ]
  },
  {
   "cell_type": "code",
   "execution_count": 30,
   "id": "0aeef482-b809-4daa-95d3-2f63ebf89771",
   "metadata": {},
   "outputs": [
    {
     "data": {
      "image/png": "[encoded data removed]",
      "text/plain": [
       "<Figure size 432x288 with 1 Axes>"
      ]
     },
     "metadata": {
      "needs_background": "light"
     },
     "output_type": "display_data"
    }
   ],
   "source": [
    "fig,ax = plt.subplots(1,1)\n",
    "zz = np.linspace(-0.012,0.012,101)/x0\n",
    "# for xx in xs:\n",
    "#     ax.plot(xx*x0*1000,B_func(np.array([xx,0,0]))[0],'bo')\n",
    "#     ax.plot(xx*x0*1000,-1/2*1.2528*xx*x0*1000,'r*')\n",
    "\n",
    "for zs in zz:\n",
    "    ax.plot(zs*x0*1000,Coil_field(38.43,zs)[2],'bo')\n",
    "    ax.plot(zs*x0*1000,1.308*1000*x0*zs,'r*')\n",
    "    \n",
    "ax.set_xlim(-12,12)\n",
    "ax.set_xlabel(\"z position\")\n",
    "ax.set_ylabel(\"B field\")\n",
    "ax.grid()"
   ]
  },
  {
   "cell_type": "markdown",
   "id": "1618ced5-1f84-41eb-99d2-b39ac17b9561",
   "metadata": {},
   "source": [
    "# Save the interpolation multi array"
   ]
  },
  {
   "cell_type": "code",
   "execution_count": 32,
   "id": "5693e690-8e10-4c14-b42c-47bdbfe2fee1",
   "metadata": {},
   "outputs": [
    {
     "name": "stderr",
     "output_type": "stream",
     "text": [
      "10201it [02:07, 80.16it/s]                                                                                             \n"
     ]
    }
   ],
   "source": [
    "xs = np.linspace(-0.4,0.4,101)/x0\n",
    "ys = np.linspace(-0.4,0.4,101)/x0\n",
    "\n",
    "X,Y = np.meshgrid(xs,ys,sparse=1,indexing=\"xy\")\n",
    "\n",
    "it = np.nditer([X,Y],flags = [\"refs_ok\",\"multi_index\"],op_flags = [\"readonly\",\"readonly\"])\n",
    "\n",
    "B = np.zeros((3,101,101))\n",
    "\n",
    "for xx,yy in tqdm(it):\n",
    "    temp = Coil_field(38.432740550936245,np.array([xx,yy,0.]))\n",
    "    xind,yind = it.multi_index\n",
    "    B[0][xind,yind] = temp[0]\n",
    "    B[1][xind,yind] = temp[1]\n",
    "    \n",
    "Bx = interp2d(xs,ys,B[0])\n",
    "By = interp2d(xs,ys,B[1])"
   ]
  },
  {
   "cell_type": "code",
   "execution_count": 33,
   "id": "ef62f7b1-f3eb-412d-af3c-04874c922e4f",
   "metadata": {},
   "outputs": [],
   "source": [
    "def B_func(R:np.array):\n",
    "    return np.concatenate((Bx(R[0],R[1]),By(R[0],R[1]),np.zeros(1,)),axis=0)"
   ]
  },
  {
   "cell_type": "code",
   "execution_count": 34,
   "id": "595f3aef-2c40-45d1-93fc-fb22bfa45c49",
   "metadata": {},
   "outputs": [
    {
     "data": {
      "text/plain": [
       "array([-4.61039594e+00, -2.01706807e-15,  0.00000000e+00])"
      ]
     },
     "execution_count": 34,
     "metadata": {},
     "output_type": "execute_result"
    }
   ],
   "source": [
    "B_func(np.array([123456,0.,0]))"
   ]
  },
  {
   "cell_type": "code",
   "execution_count": 35,
   "id": "3d6cda2f-81cc-4188-8304-29ab97fc149d",
   "metadata": {},
   "outputs": [
    {
     "data": {
      "text/plain": [
       "[<matplotlib.lines.Line2D at 0x1a9c2b47460>]"
      ]
     },
     "execution_count": 35,
     "metadata": {},
     "output_type": "execute_result"
    },
    {
     "data": {
      "image/png": "[encoded data removed]",
      "text/plain": [
       "<Figure size 432x288 with 1 Axes>"
      ]
     },
     "metadata": {
      "needs_background": "light"
     },
     "output_type": "display_data"
    }
   ],
   "source": [
    "def Bx_approx(x):\n",
    "    return B_func(np.array([x,0.,0.]))[0]\n",
    "\n",
    "Bx_approx_v = np.vectorize(Bx_approx)\n",
    "\n",
    "fig, ax = plt.subplots(1,1)\n",
    "\n",
    "ax.plot(xs*x0*1000,Bx_approx_v(xs))"
   ]
  },
  {
   "cell_type": "code",
   "execution_count": 36,
   "id": "2b624279-4231-4d6b-a365-da64ba73eef4",
   "metadata": {},
   "outputs": [],
   "source": [
    "np.save(\"B_38_interpolate\",B)"
   ]
  },
  {
   "cell_type": "code",
   "execution_count": null,
   "id": "69f832ed-d25d-4a30-ab3e-7259bc0cb99f",
   "metadata": {},
   "outputs": [],
   "source": []
  }
 ],
 "metadata": {
  "kernelspec": {
   "display_name": "Python 3 (ipykernel)",
   "language": "python",
   "name": "python3"
  },
  "language_info": {
   "codemirror_mode": {
    "name": "ipython",
    "version": 3
   },
   "file_extension": ".py",
   "mimetype": "text/x-python",
   "name": "python",
   "nbconvert_exporter": "python",
   "pygments_lexer": "ipython3",
   "version": "3.9.7"
  }
 },
 "nbformat": 4,
 "nbformat_minor": 5
}
