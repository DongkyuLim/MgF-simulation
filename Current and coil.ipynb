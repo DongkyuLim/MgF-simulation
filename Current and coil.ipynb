{
 "cells": [
  {
   "cell_type": "code",
   "execution_count": 35,
   "id": "e63b51b4-5c7f-4a54-bba4-45952fe3d851",
   "metadata": {},
   "outputs": [],
   "source": [
    "import sys\n",
    "import numpy as np\n",
    "import matplotlib.pyplot as plt\n",
    "import scipy.constants as cts\n",
    "import pylcp\n",
    "import time\n",
    "import random\n",
    "from tqdm import tqdm\n",
    "from scipy.interpolate import interp1d,interp2d\n",
    "from scipy import stats\n",
    "from scipy import integrate\n",
    "from bayes_opt import BayesianOptimization\n",
    "import json\n",
    "# import seaborn as sns\n",
    "from scipy import special\n",
    "from scipy import integrate\n",
    "from pymongo import MongoClient\n",
    "import pymongo"
   ]
  },
  {
   "cell_type": "code",
   "execution_count": 2,
   "id": "47ffd5fd-fd46-49ab-bad5-7f7f8ef36929",
   "metadata": {},
   "outputs": [],
   "source": [
    "#Define the constants\n",
    "main_detune = 17\n",
    "sideband_detune = 120\n",
    "white_detune = 10\n",
    "laser_on = 200000\n",
    "laser_off = 400015\n",
    "MOT_power = 50\n",
    "v0_start=1\n",
    "v0_step=1\n",
    "v0_end=25\n",
    "t0_start=0\n",
    "t0_step=1\n",
    "t0_end=3500000\n",
    "\n",
    "Gamma = 22 # Hz to kHz, Decay rate\n",
    "wavelength = 359.3e-9 # m to mm\n",
    "k = 1/wavelength*2*np.pi #x_0\n",
    "x0 = 1/k\n",
    "t0 = 1/Gamma*1/(2*np.pi*1e6)\n",
    "v0 = x0/t0\n",
    "m0 = cts.hbar*t0/x0**2\n",
    "a0 = x0/t0**2\n",
    "F0 = cts.hbar/(x0*t0)\n",
    "mass = 43*cts.value('atomic mass constant')/m0 # m_0\n",
    "mag_field_grad = 1252.8168984164048*x0\n",
    "waist = 0.012/x0\n",
    "v_max = 8.\n",
    "z_max = 0.012/x0\n",
    "z_start = 0.012/x0\n",
    "omega = 2*np.pi*(cts.c/wavelength) #Transition frequency\n",
    "Isat = np.pi*cts.h*cts.c*Gamma*2*np.pi*1e6/3*1/(wavelength)**3\n",
    "t_eval = np.arange(t0_start,t0_end,t0_step)\n",
    "\n",
    "# The detunings used in the PRAs:\n",
    "intensities = 2.*MOT_power*1e-3/(np.pi*0.012**2)/Isat"
   ]
  },
  {
   "cell_type": "markdown",
   "id": "188f0640-7cb5-48f5-b77c-ba671532777e",
   "metadata": {},
   "source": [
    "# Finding current"
   ]
  },
  {
   "cell_type": "code",
   "execution_count": 4,
   "id": "3a0e58ac-6724-4c83-97ca-7d237ba8b32a",
   "metadata": {},
   "outputs": [],
   "source": [
    "def Coil_field(I,R:np.array):\n",
    "    n = 100\n",
    "    s = 0.14 # in meter\n",
    "    rad = 0.14 # in meter\n",
    "    def dBx(theta,L):\n",
    "        dl = np.array([-rad*np.sin(theta),rad*np.cos(theta),0])\n",
    "        rprime = R*x0 - np.array([0,0,L])+np.array([rad*np.cos(theta),rad*np.sin(theta),0])\n",
    "        dB = cts.mu_0/(4*np.pi)*np.cross(dl,rprime)/((np.sum(rprime**2))**(3/2))*I\n",
    "        # print(dl,rprime,dB)\n",
    "        return dB[0]\n",
    "    def dBy(theta,L):\n",
    "        dl = np.array([-rad*np.sin(theta),rad*np.cos(theta),0])\n",
    "        rprime = R*x0 - np.array([0,0,L])+np.array([rad*np.cos(theta),rad*np.sin(theta),0])\n",
    "        dB = cts.mu_0/(4*np.pi)*np.cross(dl,rprime)/((np.sum(rprime**2))**(3/2))*I\n",
    "        return dB[1]\n",
    "    \n",
    "    def dBz(theta,L):\n",
    "        dl = np.array([-rad*np.sin(theta),rad*np.cos(theta),0])\n",
    "        rprime = R*x0 - np.array([0,0,L])+np.array([rad*np.cos(theta),rad*np.sin(theta),0])\n",
    "        dB = cts.mu_0/(4*np.pi)*np.cross(dl,rprime)/((np.sum(rprime**2))**(3/2))*I\n",
    "        return dB[2]\n",
    "    \n",
    "    \n",
    "    Bx = integrate.quad(dBx,0,2*np.pi,args=(-s))[0]-integrate.quad(dBx,0,2*np.pi,args=(s))[0]\n",
    "    By = integrate.quad(dBy,0,2*np.pi,args=(-s))[0]-integrate.quad(dBy,0,2*np.pi,args=(s))[0]\n",
    "    Bz = integrate.quad(dBz,0,2*np.pi,args=(-s))[0]-integrate.quad(dBz,0,2*np.pi,args=(s))[0]\n",
    "    \n",
    "    return np.array([Bx,By,Bz])*n*10000 # Return in Gauss"
   ]
  },
  {
   "cell_type": "code",
   "execution_count": 21,
   "id": "e6e1ac20-e240-49ca-a317-dd89473bb398",
   "metadata": {},
   "outputs": [],
   "source": [
    "def Error_function(I):\n",
    "    connection = MongoClient(\"mongodb://localhost:27017\")\n",
    "    vc_0417 = connection.db.vc_0502\n",
    "    max_parameters = vc_0417.distinct(key = 'params',filter = {'target' : {'$gte' : 6.5}})\n",
    "\n",
    "    B_grad_max = max_parameters[0][\"Bgrad\"]\n",
    "    error = 0\n",
    "    zz = np.linspace(-0.12,0.12,201)/x0\n",
    "    for z in zz:\n",
    "        B_true = B_grad_max*1000*z*x0\n",
    "        B_coil = Coil_field(I,np.array([0,0,z]))[2]\n",
    "        \n",
    "        error += (B_true - B_coil)**2\n",
    "    return np.sqrt(error)*-1"
   ]
  },
  {
   "cell_type": "code",
   "execution_count": 22,
   "id": "703e8a06-4e68-4a85-bb20-3fbad7a44457",
   "metadata": {},
   "outputs": [],
   "source": [
    "pbounds ={'I' : (0.5,50)}"
   ]
  },
  {
   "cell_type": "code",
   "execution_count": 23,
   "id": "ded9712b-af6c-43b7-a13a-2ab6c7f9f88b",
   "metadata": {},
   "outputs": [],
   "source": [
    "optimizer = BayesianOptimization(f=Error_function,pbounds=pbounds,verbose=13,random_state=1)"
   ]
  },
  {
   "cell_type": "code",
   "execution_count": 30,
   "id": "89e7227f",
   "metadata": {},
   "outputs": [],
   "source": [
    "from bayes_opt.logger import JSONLogger\n",
    "from bayes_opt.event import Events\n",
    "\n",
    "logger = JSONLogger(path='./current.json')\n",
    "optimizer.subscribe(Events.OPTIMIZATION_STEP,logger)"
   ]
  },
  {
   "cell_type": "code",
   "execution_count": 31,
   "id": "1474b7df-41e0-46ae-b5fc-52056ea0acf4",
   "metadata": {
    "collapsed": true,
    "jupyter": {
     "outputs_hidden": true
    },
    "tags": []
   },
   "outputs": [
    {
     "name": "stdout",
     "output_type": "stream",
     "text": [
      "|   iter    |  target   |     I     |\n",
      "-------------------------------------\n",
      "| \u001b[0m 111     \u001b[0m | \u001b[0m-429.5   \u001b[0m | \u001b[0m 21.25   \u001b[0m |\n",
      "| \u001b[0m 112     \u001b[0m | \u001b[0m-31.0    \u001b[0m | \u001b[0m 34.42   \u001b[0m |\n",
      "| \u001b[0m 113     \u001b[0m | \u001b[0m-786.6   \u001b[0m | \u001b[0m 10.62   \u001b[0m |\n",
      "| \u001b[0m 114     \u001b[0m | \u001b[0m-336.5   \u001b[0m | \u001b[0m 43.97   \u001b[0m |\n",
      "| \u001b[0m 115     \u001b[0m | \u001b[0m-1.081e+0\u001b[0m | \u001b[0m 1.856   \u001b[0m |\n",
      "| \u001b[0m 116     \u001b[0m | \u001b[0m-29.39   \u001b[0m | \u001b[0m 33.69   \u001b[0m |\n",
      "| \u001b[0m 117     \u001b[0m | \u001b[0m-432.6   \u001b[0m | \u001b[0m 21.16   \u001b[0m |\n",
      "| \u001b[0m 118     \u001b[0m | \u001b[0m-198.3   \u001b[0m | \u001b[0m 28.16   \u001b[0m |\n",
      "| \u001b[0m 119     \u001b[0m | \u001b[0m-893.2   \u001b[0m | \u001b[0m 7.449   \u001b[0m |\n",
      "| \u001b[0m 120     \u001b[0m | \u001b[0m-797.1   \u001b[0m | \u001b[0m 10.31   \u001b[0m |\n",
      "| \u001b[0m 121     \u001b[0m | \u001b[0m-27.53   \u001b[0m | \u001b[0m 34.0    \u001b[0m |\n",
      "| \u001b[0m 122     \u001b[0m | \u001b[0m-27.53   \u001b[0m | \u001b[0m 34.0    \u001b[0m |\n",
      "| \u001b[0m 123     \u001b[0m | \u001b[0m-27.53   \u001b[0m | \u001b[0m 34.0    \u001b[0m |\n",
      "| \u001b[0m 124     \u001b[0m | \u001b[0m-27.53   \u001b[0m | \u001b[0m 34.0    \u001b[0m |\n",
      "| \u001b[0m 125     \u001b[0m | \u001b[0m-27.53   \u001b[0m | \u001b[0m 34.0    \u001b[0m |\n",
      "| \u001b[0m 126     \u001b[0m | \u001b[0m-27.53   \u001b[0m | \u001b[0m 34.0    \u001b[0m |\n",
      "| \u001b[0m 127     \u001b[0m | \u001b[0m-27.53   \u001b[0m | \u001b[0m 34.0    \u001b[0m |\n",
      "| \u001b[0m 128     \u001b[0m | \u001b[0m-27.53   \u001b[0m | \u001b[0m 34.0    \u001b[0m |\n",
      "| \u001b[0m 129     \u001b[0m | \u001b[0m-27.53   \u001b[0m | \u001b[0m 34.0    \u001b[0m |\n",
      "| \u001b[0m 130     \u001b[0m | \u001b[0m-27.53   \u001b[0m | \u001b[0m 34.0    \u001b[0m |\n",
      "| \u001b[0m 131     \u001b[0m | \u001b[0m-27.53   \u001b[0m | \u001b[0m 34.0    \u001b[0m |\n",
      "| \u001b[0m 132     \u001b[0m | \u001b[0m-27.53   \u001b[0m | \u001b[0m 34.0    \u001b[0m |\n",
      "| \u001b[0m 133     \u001b[0m | \u001b[0m-27.53   \u001b[0m | \u001b[0m 34.0    \u001b[0m |\n",
      "| \u001b[0m 134     \u001b[0m | \u001b[0m-27.53   \u001b[0m | \u001b[0m 34.0    \u001b[0m |\n",
      "| \u001b[0m 135     \u001b[0m | \u001b[0m-27.53   \u001b[0m | \u001b[0m 34.0    \u001b[0m |\n",
      "| \u001b[0m 136     \u001b[0m | \u001b[0m-27.53   \u001b[0m | \u001b[0m 34.0    \u001b[0m |\n",
      "| \u001b[0m 137     \u001b[0m | \u001b[0m-27.53   \u001b[0m | \u001b[0m 34.0    \u001b[0m |\n",
      "| \u001b[0m 138     \u001b[0m | \u001b[0m-27.53   \u001b[0m | \u001b[0m 34.0    \u001b[0m |\n",
      "| \u001b[0m 139     \u001b[0m | \u001b[0m-27.53   \u001b[0m | \u001b[0m 34.0    \u001b[0m |\n",
      "| \u001b[0m 140     \u001b[0m | \u001b[0m-27.53   \u001b[0m | \u001b[0m 34.0    \u001b[0m |\n",
      "| \u001b[0m 141     \u001b[0m | \u001b[0m-27.53   \u001b[0m | \u001b[0m 34.0    \u001b[0m |\n",
      "| \u001b[0m 142     \u001b[0m | \u001b[0m-27.53   \u001b[0m | \u001b[0m 34.0    \u001b[0m |\n",
      "| \u001b[0m 143     \u001b[0m | \u001b[0m-27.53   \u001b[0m | \u001b[0m 34.0    \u001b[0m |\n",
      "| \u001b[0m 144     \u001b[0m | \u001b[0m-27.53   \u001b[0m | \u001b[0m 34.0    \u001b[0m |\n",
      "| \u001b[0m 145     \u001b[0m | \u001b[0m-27.53   \u001b[0m | \u001b[0m 34.0    \u001b[0m |\n",
      "| \u001b[0m 146     \u001b[0m | \u001b[0m-27.53   \u001b[0m | \u001b[0m 34.0    \u001b[0m |\n",
      "| \u001b[0m 147     \u001b[0m | \u001b[0m-27.53   \u001b[0m | \u001b[0m 34.0    \u001b[0m |\n",
      "| \u001b[0m 148     \u001b[0m | \u001b[0m-27.53   \u001b[0m | \u001b[0m 34.0    \u001b[0m |\n",
      "| \u001b[0m 149     \u001b[0m | \u001b[0m-27.53   \u001b[0m | \u001b[0m 34.0    \u001b[0m |\n",
      "| \u001b[0m 150     \u001b[0m | \u001b[0m-27.53   \u001b[0m | \u001b[0m 34.0    \u001b[0m |\n",
      "| \u001b[0m 151     \u001b[0m | \u001b[0m-27.53   \u001b[0m | \u001b[0m 34.0    \u001b[0m |\n",
      "| \u001b[0m 152     \u001b[0m | \u001b[0m-27.53   \u001b[0m | \u001b[0m 34.0    \u001b[0m |\n",
      "| \u001b[0m 153     \u001b[0m | \u001b[0m-27.53   \u001b[0m | \u001b[0m 34.0    \u001b[0m |\n",
      "| \u001b[0m 154     \u001b[0m | \u001b[0m-27.53   \u001b[0m | \u001b[0m 34.0    \u001b[0m |\n",
      "| \u001b[0m 155     \u001b[0m | \u001b[0m-27.53   \u001b[0m | \u001b[0m 34.0    \u001b[0m |\n",
      "| \u001b[0m 156     \u001b[0m | \u001b[0m-27.53   \u001b[0m | \u001b[0m 34.0    \u001b[0m |\n",
      "| \u001b[0m 157     \u001b[0m | \u001b[0m-27.53   \u001b[0m | \u001b[0m 34.0    \u001b[0m |\n",
      "| \u001b[0m 158     \u001b[0m | \u001b[0m-27.53   \u001b[0m | \u001b[0m 34.0    \u001b[0m |\n",
      "| \u001b[0m 159     \u001b[0m | \u001b[0m-27.53   \u001b[0m | \u001b[0m 34.0    \u001b[0m |\n",
      "| \u001b[0m 160     \u001b[0m | \u001b[0m-27.53   \u001b[0m | \u001b[0m 34.0    \u001b[0m |\n",
      "| \u001b[0m 161     \u001b[0m | \u001b[0m-27.53   \u001b[0m | \u001b[0m 34.0    \u001b[0m |\n",
      "| \u001b[0m 162     \u001b[0m | \u001b[0m-27.53   \u001b[0m | \u001b[0m 34.0    \u001b[0m |\n",
      "| \u001b[0m 163     \u001b[0m | \u001b[0m-27.53   \u001b[0m | \u001b[0m 34.0    \u001b[0m |\n",
      "| \u001b[0m 164     \u001b[0m | \u001b[0m-27.53   \u001b[0m | \u001b[0m 34.0    \u001b[0m |\n",
      "| \u001b[0m 165     \u001b[0m | \u001b[0m-27.53   \u001b[0m | \u001b[0m 34.0    \u001b[0m |\n",
      "| \u001b[0m 166     \u001b[0m | \u001b[0m-27.53   \u001b[0m | \u001b[0m 34.0    \u001b[0m |\n",
      "| \u001b[0m 167     \u001b[0m | \u001b[0m-27.53   \u001b[0m | \u001b[0m 34.0    \u001b[0m |\n",
      "| \u001b[0m 168     \u001b[0m | \u001b[0m-27.53   \u001b[0m | \u001b[0m 34.0    \u001b[0m |\n",
      "| \u001b[0m 169     \u001b[0m | \u001b[0m-27.53   \u001b[0m | \u001b[0m 34.0    \u001b[0m |\n",
      "| \u001b[0m 170     \u001b[0m | \u001b[0m-27.53   \u001b[0m | \u001b[0m 34.0    \u001b[0m |\n",
      "| \u001b[0m 171     \u001b[0m | \u001b[0m-27.53   \u001b[0m | \u001b[0m 34.0    \u001b[0m |\n",
      "| \u001b[0m 172     \u001b[0m | \u001b[0m-27.53   \u001b[0m | \u001b[0m 34.0    \u001b[0m |\n",
      "| \u001b[0m 173     \u001b[0m | \u001b[0m-27.53   \u001b[0m | \u001b[0m 34.0    \u001b[0m |\n",
      "| \u001b[0m 174     \u001b[0m | \u001b[0m-27.53   \u001b[0m | \u001b[0m 34.0    \u001b[0m |\n",
      "| \u001b[0m 175     \u001b[0m | \u001b[0m-27.53   \u001b[0m | \u001b[0m 34.0    \u001b[0m |\n",
      "| \u001b[0m 176     \u001b[0m | \u001b[0m-27.53   \u001b[0m | \u001b[0m 34.0    \u001b[0m |\n",
      "| \u001b[0m 177     \u001b[0m | \u001b[0m-27.53   \u001b[0m | \u001b[0m 34.0    \u001b[0m |\n",
      "| \u001b[0m 178     \u001b[0m | \u001b[0m-27.53   \u001b[0m | \u001b[0m 34.0    \u001b[0m |\n",
      "| \u001b[0m 179     \u001b[0m | \u001b[0m-27.53   \u001b[0m | \u001b[0m 34.0    \u001b[0m |\n",
      "| \u001b[0m 180     \u001b[0m | \u001b[0m-27.53   \u001b[0m | \u001b[0m 34.0    \u001b[0m |\n",
      "| \u001b[0m 181     \u001b[0m | \u001b[0m-27.53   \u001b[0m | \u001b[0m 34.0    \u001b[0m |\n",
      "| \u001b[0m 182     \u001b[0m | \u001b[0m-27.53   \u001b[0m | \u001b[0m 34.0    \u001b[0m |\n",
      "| \u001b[0m 183     \u001b[0m | \u001b[0m-27.53   \u001b[0m | \u001b[0m 34.0    \u001b[0m |\n",
      "| \u001b[0m 184     \u001b[0m | \u001b[0m-27.53   \u001b[0m | \u001b[0m 34.0    \u001b[0m |\n",
      "| \u001b[0m 185     \u001b[0m | \u001b[0m-27.53   \u001b[0m | \u001b[0m 34.0    \u001b[0m |\n",
      "| \u001b[0m 186     \u001b[0m | \u001b[0m-27.53   \u001b[0m | \u001b[0m 34.0    \u001b[0m |\n",
      "| \u001b[0m 187     \u001b[0m | \u001b[0m-27.53   \u001b[0m | \u001b[0m 34.0    \u001b[0m |\n",
      "| \u001b[0m 188     \u001b[0m | \u001b[0m-27.53   \u001b[0m | \u001b[0m 34.0    \u001b[0m |\n",
      "| \u001b[0m 189     \u001b[0m | \u001b[0m-27.53   \u001b[0m | \u001b[0m 34.0    \u001b[0m |\n",
      "| \u001b[0m 190     \u001b[0m | \u001b[0m-27.53   \u001b[0m | \u001b[0m 34.0    \u001b[0m |\n",
      "| \u001b[0m 191     \u001b[0m | \u001b[0m-27.53   \u001b[0m | \u001b[0m 34.0    \u001b[0m |\n",
      "| \u001b[0m 192     \u001b[0m | \u001b[0m-27.53   \u001b[0m | \u001b[0m 34.0    \u001b[0m |\n",
      "| \u001b[0m 193     \u001b[0m | \u001b[0m-27.53   \u001b[0m | \u001b[0m 34.0    \u001b[0m |\n",
      "| \u001b[0m 194     \u001b[0m | \u001b[0m-27.53   \u001b[0m | \u001b[0m 34.0    \u001b[0m |\n",
      "| \u001b[0m 195     \u001b[0m | \u001b[0m-27.53   \u001b[0m | \u001b[0m 34.0    \u001b[0m |\n",
      "| \u001b[0m 196     \u001b[0m | \u001b[0m-27.53   \u001b[0m | \u001b[0m 34.0    \u001b[0m |\n",
      "| \u001b[0m 197     \u001b[0m | \u001b[0m-27.53   \u001b[0m | \u001b[0m 34.0    \u001b[0m |\n",
      "| \u001b[0m 198     \u001b[0m | \u001b[0m-27.53   \u001b[0m | \u001b[0m 34.0    \u001b[0m |\n",
      "| \u001b[0m 199     \u001b[0m | \u001b[0m-27.53   \u001b[0m | \u001b[0m 34.0    \u001b[0m |\n",
      "| \u001b[0m 200     \u001b[0m | \u001b[0m-27.53   \u001b[0m | \u001b[0m 34.0    \u001b[0m |\n",
      "| \u001b[0m 201     \u001b[0m | \u001b[0m-27.53   \u001b[0m | \u001b[0m 34.0    \u001b[0m |\n",
      "| \u001b[0m 202     \u001b[0m | \u001b[0m-27.53   \u001b[0m | \u001b[0m 34.0    \u001b[0m |\n",
      "| \u001b[0m 203     \u001b[0m | \u001b[0m-27.53   \u001b[0m | \u001b[0m 34.0    \u001b[0m |\n",
      "| \u001b[0m 204     \u001b[0m | \u001b[0m-27.53   \u001b[0m | \u001b[0m 34.0    \u001b[0m |\n",
      "| \u001b[0m 205     \u001b[0m | \u001b[0m-27.53   \u001b[0m | \u001b[0m 34.0    \u001b[0m |\n",
      "| \u001b[0m 206     \u001b[0m | \u001b[0m-27.53   \u001b[0m | \u001b[0m 34.0    \u001b[0m |\n",
      "| \u001b[0m 207     \u001b[0m | \u001b[0m-27.53   \u001b[0m | \u001b[0m 34.0    \u001b[0m |\n",
      "| \u001b[0m 208     \u001b[0m | \u001b[0m-27.53   \u001b[0m | \u001b[0m 34.0    \u001b[0m |\n",
      "| \u001b[0m 209     \u001b[0m | \u001b[0m-27.53   \u001b[0m | \u001b[0m 34.0    \u001b[0m |\n",
      "| \u001b[0m 210     \u001b[0m | \u001b[0m-27.53   \u001b[0m | \u001b[0m 34.0    \u001b[0m |\n",
      "| \u001b[0m 211     \u001b[0m | \u001b[0m-27.53   \u001b[0m | \u001b[0m 34.0    \u001b[0m |\n",
      "| \u001b[0m 212     \u001b[0m | \u001b[0m-27.53   \u001b[0m | \u001b[0m 34.0    \u001b[0m |\n",
      "| \u001b[0m 213     \u001b[0m | \u001b[0m-27.53   \u001b[0m | \u001b[0m 34.0    \u001b[0m |\n",
      "| \u001b[0m 214     \u001b[0m | \u001b[0m-27.53   \u001b[0m | \u001b[0m 34.0    \u001b[0m |\n",
      "| \u001b[0m 215     \u001b[0m | \u001b[0m-27.53   \u001b[0m | \u001b[0m 34.0    \u001b[0m |\n",
      "| \u001b[0m 216     \u001b[0m | \u001b[0m-27.53   \u001b[0m | \u001b[0m 34.0    \u001b[0m |\n",
      "| \u001b[0m 217     \u001b[0m | \u001b[0m-27.53   \u001b[0m | \u001b[0m 34.0    \u001b[0m |\n",
      "| \u001b[0m 218     \u001b[0m | \u001b[0m-27.53   \u001b[0m | \u001b[0m 34.0    \u001b[0m |\n",
      "| \u001b[0m 219     \u001b[0m | \u001b[0m-27.53   \u001b[0m | \u001b[0m 34.0    \u001b[0m |\n",
      "| \u001b[0m 220     \u001b[0m | \u001b[0m-27.53   \u001b[0m | \u001b[0m 34.0    \u001b[0m |\n",
      "=====================================\n"
     ]
    }
   ],
   "source": [
    "optimizer.maximize(init_points=10, n_iter=100)"
   ]
  },
  {
   "cell_type": "code",
   "execution_count": 25,
   "id": "41b18f3c-0167-4985-843c-4a591dfe0a22",
   "metadata": {},
   "outputs": [
    {
     "data": {
      "text/plain": [
       "{'target': -27.527881843207414, 'params': {'I': 33.99457071731809}}"
      ]
     },
     "execution_count": 25,
     "metadata": {},
     "output_type": "execute_result"
    }
   ],
   "source": [
    "optimizer.max"
   ]
  },
  {
   "cell_type": "code",
   "execution_count": null,
   "id": "a6db4de5",
   "metadata": {},
   "outputs": [],
   "source": [
    "optimizer.maximize()"
   ]
  },
  {
   "cell_type": "code",
   "execution_count": 53,
   "id": "0aeef482-b809-4daa-95d3-2f63ebf89771",
   "metadata": {},
   "outputs": [
    {
     "data": {
      "image/png": "[encoded data removed]",
      "text/plain": [
       "<Figure size 432x288 with 1 Axes>"
      ]
     },
     "metadata": {
      "needs_background": "light"
     },
     "output_type": "display_data"
    }
   ],
   "source": [
    "connection = MongoClient(\"mongodb://localhost:27017\")\n",
    "vc_0502 = connection.db.vc_0502\n",
    "max_parameters = vc_0502.find(limit=1,projection={'_id' : False, 'params' : 1}).sort(\"target\",pymongo.DESCENDING)\n",
    "B_grad_max = max_parameters[0]['params']['Bgrad']\n",
    "\n",
    "\n",
    "Current = connection.db.Current\n",
    "max_I = Current.find(limit=1,projection={'_id' : False, 'params' : 1}).sort(\"target\",pymongo.DESCENDING)\n",
    "I_opt = max_I[0]['params']['I']\n",
    "\n",
    "\n",
    "fig,ax = plt.subplots(1,1)\n",
    "zz = np.linspace(-0.012,0.012,101)/x0\n",
    "# for xx in xs:\n",
    "#     ax.plot(xx*x0*1000,B_func(np.array([xx,0,0]))[0],'bo')\n",
    "#     ax.plot(xx*x0*1000,-1/2*1.2528*xx*x0*1000,'r*')\n",
    "\n",
    "for zs in zz:\n",
    "    ax.plot(zs*x0*1000,Coil_field(I_opt,zs)[2],'bo')\n",
    "    ax.plot(zs*x0*1000,B_grad_max*1000*x0*zs,'r*')\n",
    "    \n",
    "ax.set_xlim(-12,12)\n",
    "ax.set_xlabel(\"z position\")\n",
    "ax.set_ylabel(\"B field\")\n",
    "ax.grid()"
   ]
  },
  {
   "cell_type": "markdown",
   "id": "1618ced5-1f84-41eb-99d2-b39ac17b9561",
   "metadata": {},
   "source": [
    "# Confirm the coil`s 3D regular interpolator"
   ]
  },
  {
   "cell_type": "code",
   "execution_count": 54,
   "id": "69f832ed-d25d-4a30-ab3e-7259bc0cb99f",
   "metadata": {},
   "outputs": [
    {
     "data": {
      "text/plain": [
       "[<matplotlib.lines.Line2D at 0x20aad75c190>]"
      ]
     },
     "execution_count": 54,
     "metadata": {},
     "output_type": "execute_result"
    },
    {
     "data": {
      "image/png": "[encoded data removed]",
      "text/plain": [
       "<Figure size 432x288 with 1 Axes>"
      ]
     },
     "metadata": {
      "needs_background": "light"
     },
     "output_type": "display_data"
    }
   ],
   "source": [
    "from scipy.interpolate import RegularGridInterpolator\n",
    "\n",
    "xs = np.linspace(-0.4,0.4,101)/x0\n",
    "ys = np.linspace(-0.4,0.4,101)/x0\n",
    "zs = np.linspace(-0.14,0.14,101)/x0\n",
    "\n",
    "X,Y,Z = np.meshgrid(xs,ys,zs,sparse=1,indexing=\"ij\")\n",
    "B = np.load(\"D:/migration/B_3D_interp_33.996.npy\")\n",
    "\n",
    "Bx = RegularGridInterpolator((xs,ys,zs),B[0])\n",
    "By = RegularGridInterpolator((xs,ys,zs),B[1])\n",
    "Bz = RegularGridInterpolator((xs,ys,zs),B[2])\n",
    "\n",
    "def B_func(R:np.array):\n",
    "    if abs(R[2])>0.2/x0 or abs(R[1])>0.4/x0 or abs(R[0])>0.4/x0:\n",
    "        return np.zeros(3,)\n",
    "    return np.array([Bx(R),By(R),Bz(R)]).reshape(-1)\n",
    "def Bx_approx(x):\n",
    "    return B_func(np.array([x,0.,0.]))[0]\n",
    "\n",
    "Bx_approx_v = np.vectorize(Bx_approx)\n",
    "\n",
    "fig, ax = plt.subplots(1,1)\n",
    "\n",
    "ax.plot(xs*x0*1000,Bx_approx_v(xs))\n"
   ]
  },
  {
   "cell_type": "code",
   "execution_count": null,
   "id": "97b553d8",
   "metadata": {},
   "outputs": [],
   "source": []
  }
 ],
 "metadata": {
  "kernelspec": {
   "display_name": "Python 3 (ipykernel)",
   "language": "python",
   "name": "python3"
  },
  "language_info": {
   "codemirror_mode": {
    "name": "ipython",
    "version": 3
   },
   "file_extension": ".py",
   "mimetype": "text/x-python",
   "name": "python",
   "nbconvert_exporter": "python",
   "pygments_lexer": "ipython3",
   "version": "3.9.7"
  }
 },
 "nbformat": 4,
 "nbformat_minor": 5
}
