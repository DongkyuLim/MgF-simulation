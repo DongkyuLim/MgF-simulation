{
 "cells": [
  {
   "cell_type": "code",
   "execution_count": 1,
   "id": "e63b51b4-5c7f-4a54-bba4-45952fe3d851",
   "metadata": {},
   "outputs": [],
   "source": [
    "import sys\n",
    "import numpy as np\n",
    "import matplotlib.pyplot as plt\n",
    "import scipy.constants as cts\n",
    "import pylcp\n",
    "import time\n",
    "import random\n",
    "from tqdm import tqdm\n",
    "from scipy.interpolate import interp1d\n",
    "from scipy import stats\n",
    "from scipy import integrate\n",
    "from bayes_opt import BayesianOptimization\n",
    "import json\n",
    "# import seaborn as sns\n",
    "from scipy import special\n",
    "from scipy import integrate"
   ]
  },
  {
   "cell_type": "markdown",
   "id": "188f0640-7cb5-48f5-b77c-ba671532777e",
   "metadata": {},
   "source": [
    "# Finding current"
   ]
  },
  {
   "cell_type": "code",
   "execution_count": 2,
   "id": "3a0e58ac-6724-4c83-97ca-7d237ba8b32a",
   "metadata": {},
   "outputs": [],
   "source": [
    "def Coil_field(I,R:np.array):\n",
    "    n = 100\n",
    "    s = 0.14 # in meter\n",
    "    rad = 0.14 # in meter\n",
    "    def dBx(theta,L):\n",
    "        dl = np.array([-rad*np.sin(theta),rad*np.cos(theta),0])\n",
    "        rprime = R*x0 - np.array([0,0,L])+np.array([rad*np.cos(theta),rad*np.sin(theta),0])\n",
    "        dB = cts.mu_0/(4*np.pi)*np.cross(dl,rprime)/((np.sum(rprime**2))**(3/2))*I\n",
    "        # print(dl,rprime,dB)\n",
    "        return dB[0]\n",
    "    def dBy(theta,L):\n",
    "        dl = np.array([-rad*np.sin(theta),rad*np.cos(theta),0])\n",
    "        rprime = R*x0 - np.array([0,0,L])+np.array([rad*np.cos(theta),rad*np.sin(theta),0])\n",
    "        dB = cts.mu_0/(4*np.pi)*np.cross(dl,rprime)/((np.sum(rprime**2))**(3/2))*I\n",
    "        return dB[1]\n",
    "    \n",
    "    def dBz(theta,L):\n",
    "        dl = np.array([-rad*np.sin(theta),rad*np.cos(theta),0])\n",
    "        rprime = R*x0 - np.array([0,0,L])+np.array([rad*np.cos(theta),rad*np.sin(theta),0])\n",
    "        dB = cts.mu_0/(4*np.pi)*np.cross(dl,rprime)/((np.sum(rprime**2))**(3/2))*I\n",
    "        return dB[2]\n",
    "    \n",
    "    \n",
    "    Bx = integrate.quad(dBx,0,2*np.pi,args=(-s))[0]-integrate.quad(dBx,0,2*np.pi,args=(s))[0]\n",
    "    By = integrate.quad(dBy,0,2*np.pi,args=(-s))[0]-integrate.quad(dBy,0,2*np.pi,args=(s))[0]\n",
    "    Bz = integrate.quad(dBz,0,2*np.pi,args=(-s))[0]-integrate.quad(dBz,0,2*np.pi,args=(s))[0]\n",
    "    \n",
    "    return np.array([Bx,By,Bz])*n*10000 # Return in Gauss"
   ]
  },
  {
   "cell_type": "code",
   "execution_count": null,
   "id": "e6e1ac20-e240-49ca-a317-dd89473bb398",
   "metadata": {},
   "outputs": [],
   "source": []
  }
 ],
 "metadata": {
  "kernelspec": {
   "display_name": "Python 3 (ipykernel)",
   "language": "python",
   "name": "python3"
  },
  "language_info": {
   "codemirror_mode": {
    "name": "ipython",
    "version": 3
   },
   "file_extension": ".py",
   "mimetype": "text/x-python",
   "name": "python",
   "nbconvert_exporter": "python",
   "pygments_lexer": "ipython3",
   "version": "3.9.7"
  }
 },
 "nbformat": 4,
 "nbformat_minor": 5
}
