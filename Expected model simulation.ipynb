{
 "cells": [
  {
   "cell_type": "code",
   "execution_count": 1,
   "id": "8557f574-42db-4806-98f3-cf9b53839f8a",
   "metadata": {},
   "outputs": [],
   "source": [
    "import sys\n",
    "import numpy as np\n",
    "import matplotlib.pyplot as plt\n",
    "import scipy.constants as cts\n",
    "import pylcp\n",
    "import time\n",
    "import random\n",
    "from tqdm import tqdm\n",
    "from scipy.interpolate import interp1d\n",
    "from scipy import stats\n",
    "from scipy import integrate\n",
    "from celluloid import Camera\n",
    "from bayes_opt import BayesianOptimization\n",
    "import json\n",
    "import seaborn as sns\n",
    "import White_class\n",
    "from scipy import special"
   ]
  },
  {
   "cell_type": "code",
   "execution_count": 2,
   "id": "a6e8d884-1925-4a6b-903a-bda2e9c0032a",
   "metadata": {},
   "outputs": [],
   "source": [
    "main_detune = 18.7\n",
    "sideband_detune = 120\n",
    "white_detune = 15\n",
    "beta_1 = 0.69\n",
    "beta_2 = 1.98\n",
    "laseron = 171312\n",
    "laseroff = 505566\n",
    "\n",
    "\n",
    "test = White_class.Whitelight(main_detune,sideband_detune,white_detune, beta_1,beta_2,laseron,laseroff)"
   ]
  },
  {
   "cell_type": "code",
   "execution_count": 3,
   "id": "f8c8f0ef-3191-4fc6-af36-251335ad4c41",
   "metadata": {},
   "outputs": [],
   "source": [
    "test.motion_trace()"
   ]
  },
  {
   "cell_type": "code",
   "execution_count": 4,
   "id": "cf873348-958b-4eb4-aa6f-a176f8a8d030",
   "metadata": {},
   "outputs": [
    {
     "ename": "TypeError",
     "evalue": "'NoneType' object is not iterable",
     "output_type": "error",
     "traceback": [
      "\u001b[1;31m---------------------------------------------------------------------------\u001b[0m",
      "\u001b[1;31mTypeError\u001b[0m                                 Traceback (most recent call last)",
      "\u001b[1;32m~\\AppData\\Local\\Temp/ipykernel_35336/1142311422.py\u001b[0m in \u001b[0;36m<module>\u001b[1;34m\u001b[0m\n\u001b[1;32m----> 1\u001b[1;33m \u001b[0mtest\u001b[0m\u001b[1;33m.\u001b[0m\u001b[0mplot\u001b[0m\u001b[1;33m(\u001b[0m\u001b[1;33m)\u001b[0m\u001b[1;33m\u001b[0m\u001b[1;33m\u001b[0m\u001b[0m\n\u001b[0m",
      "\u001b[1;32mD:\\migration\\MgF-simulation\\White_class.py\u001b[0m in \u001b[0;36mplot\u001b[1;34m(self, save, save_name)\u001b[0m\n\u001b[0;32m    368\u001b[0m         \u001b[0mfig\u001b[0m\u001b[1;33m.\u001b[0m\u001b[0msubplots_adjust\u001b[0m\u001b[1;33m(\u001b[0m\u001b[0mleft\u001b[0m\u001b[1;33m=\u001b[0m\u001b[1;36m0.12\u001b[0m\u001b[1;33m,\u001b[0m\u001b[0mright\u001b[0m\u001b[1;33m=\u001b[0m\u001b[1;36m0.9\u001b[0m\u001b[1;33m)\u001b[0m\u001b[1;33m\u001b[0m\u001b[1;33m\u001b[0m\u001b[0m\n\u001b[0;32m    369\u001b[0m \u001b[1;33m\u001b[0m\u001b[0m\n\u001b[1;32m--> 370\u001b[1;33m         \u001b[1;32mfor\u001b[0m \u001b[0msol\u001b[0m \u001b[1;32min\u001b[0m \u001b[0mself\u001b[0m\u001b[1;33m.\u001b[0m\u001b[0msols\u001b[0m\u001b[1;33m:\u001b[0m\u001b[1;33m\u001b[0m\u001b[1;33m\u001b[0m\u001b[0m\n\u001b[0m\u001b[0;32m    371\u001b[0m             \u001b[0max\u001b[0m\u001b[1;33m.\u001b[0m\u001b[0mplot\u001b[0m\u001b[1;33m(\u001b[0m\u001b[0msol\u001b[0m\u001b[1;33m.\u001b[0m\u001b[0mr\u001b[0m\u001b[1;33m[\u001b[0m\u001b[1;36m2\u001b[0m\u001b[1;33m]\u001b[0m\u001b[1;33m*\u001b[0m\u001b[0mself\u001b[0m\u001b[1;33m.\u001b[0m\u001b[0mx0\u001b[0m\u001b[1;33m*\u001b[0m\u001b[1;36m1000\u001b[0m\u001b[1;33m,\u001b[0m\u001b[0msol\u001b[0m\u001b[1;33m.\u001b[0m\u001b[0mv\u001b[0m\u001b[1;33m[\u001b[0m\u001b[1;36m2\u001b[0m\u001b[1;33m]\u001b[0m\u001b[1;33m*\u001b[0m\u001b[0mself\u001b[0m\u001b[1;33m.\u001b[0m\u001b[0mv0\u001b[0m\u001b[1;33m,\u001b[0m \u001b[1;34m'b'\u001b[0m\u001b[1;33m)\u001b[0m\u001b[1;33m\u001b[0m\u001b[1;33m\u001b[0m\u001b[0m\n\u001b[0;32m    372\u001b[0m         \u001b[0max\u001b[0m\u001b[1;33m.\u001b[0m\u001b[0mplot\u001b[0m\u001b[1;33m(\u001b[0m\u001b[0mself\u001b[0m\u001b[1;33m.\u001b[0m\u001b[0mzz\u001b[0m\u001b[1;33m,\u001b[0m\u001b[0mnp\u001b[0m\u001b[1;33m.\u001b[0m\u001b[0mones\u001b[0m\u001b[1;33m(\u001b[0m\u001b[0mlen\u001b[0m\u001b[1;33m(\u001b[0m\u001b[0mself\u001b[0m\u001b[1;33m.\u001b[0m\u001b[0mzz\u001b[0m\u001b[1;33m)\u001b[0m\u001b[1;33m)\u001b[0m\u001b[1;33m*\u001b[0m\u001b[1;36m30\u001b[0m\u001b[1;33m,\u001b[0m\u001b[1;34m'r'\u001b[0m\u001b[1;33m)\u001b[0m\u001b[1;33m\u001b[0m\u001b[1;33m\u001b[0m\u001b[0m\n",
      "\u001b[1;31mTypeError\u001b[0m: 'NoneType' object is not iterable"
     ]
    },
    {
     "data": {
      "image/png": "[encoded data removed]",
      "text/plain": [
       "<Figure size 432x288 with 1 Axes>"
      ]
     },
     "metadata": {
      "needs_background": "light"
     },
     "output_type": "display_data"
    }
   ],
   "source": [
    "test.plot()"
   ]
  },
  {
   "cell_type": "code",
   "execution_count": 5,
   "id": "548039ba-6e87-4823-815f-5338f88acce2",
   "metadata": {},
   "outputs": [
    {
     "data": {
      "text/plain": [
       "0.04220499367260567"
      ]
     },
     "execution_count": 5,
     "metadata": {},
     "output_type": "execute_result"
    }
   ],
   "source": [
    "test.percentage()"
   ]
  },
  {
   "cell_type": "code",
   "execution_count": 6,
   "id": "12ee3adc-ce99-4837-a5dd-276dd06ab0d2",
   "metadata": {},
   "outputs": [],
   "source": [
    "#Main variables\n",
    "\n",
    "MOT_power = 50\n",
    "v0_start=1\n",
    "v0_step=1\n",
    "v0_end=25\n",
    "t0_start=0\n",
    "t0_step=1\n",
    "t0_end=3500000\n",
    "\n",
    "\n",
    "#Define the constants\n",
    "Gamma = 22 # Hz to kHz, Decay rate\n",
    "wavelength = 359.3e-9 # m to mm\n",
    "k = 1/wavelength*2*np.pi #x_0\n",
    "x0 = 1/k\n",
    "t0 = 1/Gamma*1/(2*np.pi*1e6)\n",
    "v0 = x0/t0\n",
    "m0 = cts.hbar*t0/x0**2\n",
    "a0 = x0/t0**2\n",
    "F0 = cts.hbar/(x0*t0)\n",
    "mass = 43*cts.value('atomic mass constant')/m0 # m_0\n",
    "mag_field_grad = 1252.8168984164048*x0\n",
    "waist = 0.012/x0\n",
    "v_max = 20\n",
    "z_max = 384.855e-3/x0\n",
    "z_start = 384.855e-3/x0\n",
    "dz = 0.0005/x0\n",
    "dv = 0.05\n",
    "omega = 2*np.pi*(cts.c/wavelength) #Transition frequency\n",
    "Isat = np.pi*cts.h*cts.c*Gamma*2*np.pi*1e6/3*1/(wavelength)**3\n",
    "t_eval = np.arange(t0_start,t0_end,t0_step)\n",
    "\n",
    "# The detunings used in the PRAs:\n",
    "intensities = 2.*MOT_power*1e-3/(np.pi*0.012**2)/Isat\n",
    "\n",
    "#Define the hamiltonian\n",
    "H0_X, Bq_X, U_X, Xbasis = pylcp.hamiltonians.XFmolecules.Xstate(\n",
    "gamma = 50.697/Gamma,b=154.7/Gamma, c=178.5/Gamma,\n",
    "    muB = cts.value('Bohr magneton in Hz/T')/1e6*1e-4/Gamma,return_basis=True\n",
    "    )\n",
    "\n",
    "# b : SI coupling(isotropic), c : Iz Sz coupling(anisotropic), cc : I N coupling, gamma : S N coupling\n",
    "\n",
    "E_X = np.unique(np.diag(H0_X))\n",
    "\n",
    "H0_A, Bq_A, Abasis = pylcp.hamiltonians.XFmolecules.Astate(\n",
    "    P=+1, Ahfs=-1.5/Gamma, q=0, p=0,gJ=-0.00002,\n",
    "    muB=cts.value('Bohr magneton in Hz/T')/1e6*1e-4/Gamma, return_basis=True\n",
    "    )\n",
    "\n",
    "# gJ : Lande g-factor, p : parity(e parity)\n",
    "\n",
    "E_A = np.unique(np.diag(H0_A))\n",
    "\n",
    "dijq = pylcp.hamiltonians.XFmolecules.dipoleXandAstates(\n",
    "    Xbasis, Abasis, UX=U_X\n",
    "    )\n",
    "\n",
    "hamiltonian = pylcp.hamiltonian(H0_X, H0_A, Bq_X, Bq_A, dijq,mass = mass)"
   ]
  },
  {
   "cell_type": "code",
   "execution_count": 7,
   "id": "536a9fa9-d79e-4863-a471-c8bd22da599f",
   "metadata": {},
   "outputs": [],
   "source": [
    "#Define the zero magnetic field.\n",
    "    \n",
    "magField = pylcp.quadrupoleMagneticField(mag_field_grad)\n",
    "# magField = np.zeros(3,)"
   ]
  },
  {
   "cell_type": "code",
   "execution_count": 8,
   "id": "09ae2a36-ed5e-4e37-8585-cd77c3328b2a",
   "metadata": {},
   "outputs": [],
   "source": [
    "def Fixed_detune_MgF_MOT(main_det,det_1,det_2,beta_1,beta_2,laseron,laseroff):\n",
    "    det_side = det_1/Gamma\n",
    "    det_side2 = det_2/Gamma\n",
    "    Avg_X = np.average(E_X)\n",
    "    init_pow = 0.5*2./(np.pi*(0.012)**2)/Isat\n",
    "    \n",
    "    def Gaussain_Beam_Diagonal(R:np.array,waist):\n",
    "        return np.exp(-2*((R[0]-R[1])**2/2+R[2]**2)/waist**2)\n",
    "    \n",
    "    def Bessel_Intensity(n_order,beta):\n",
    "\n",
    "        return special.jv(n_order,beta)**2\n",
    "    \n",
    "    def Heav_step(t):\n",
    "        if laseron<=t and t<laseron+14:\n",
    "            return -1*(t-laseron-7)*((t-laseron-7)**2-49*3)*1/686*1/2+1/2\n",
    "        elif laseron+14<=t and t<laseroff:\n",
    "            return 1\n",
    "        elif t>=laseroff and t<laseroff+14:\n",
    "            return (t-laseroff-7)*((t-laseroff-7)**2-49*3)*1/686*1/2 + 1/2\n",
    "        else:\n",
    "            return 0    \n",
    "        \n",
    "    laserBeams = pylcp.laserBeams()\n",
    "    \n",
    "    laserBeams += pylcp.laserBeams([{'kvec':np.array([-1,-1,0]),'pol':+1,'pol_coord':'spherical','delta':(E_A[-1]-Avg_X-main_det)-det_side-det_side2*2,\n",
    "                                     's': lambda R,t : init_pow*Gaussain_Beam_Diagonal(R,waist)*Heav_step(t)*Bessel_Intensity(-1,beta_1)*Bessel_Intensity(2,beta_2)},\n",
    "                                    {'kvec':np.array([-1,-1,0]),'pol':-1,'pol_coord':'spherical','delta':(E_A[-1]-Avg_X-main_det)-det_side-det_side2*2,\n",
    "                                     's': lambda R,t : init_pow*Gaussain_Beam_Diagonal(R,waist)*Heav_step(t)*Bessel_Intensity(-1,beta_1)*Bessel_Intensity(2,beta_2)}])\n",
    "    laserBeams += pylcp.laserBeams([{'kvec':np.array([-1,-1,0]),'pol':+1,'pol_coord':'spherical','delta':(E_A[-1]-Avg_X-main_det)-det_side-det_side2*1,\n",
    "                                     's': lambda R,t : init_pow*Gaussain_Beam_Diagonal(R,waist)*Heav_step(t)*Bessel_Intensity(-1,beta_1)*Bessel_Intensity(1,beta_2)},\n",
    "                                    {'kvec':np.array([-1,-1,0]),'pol':-1,'pol_coord':'spherical','delta':(E_A[-1]-Avg_X-main_det)-det_side-det_side2*1,\n",
    "                                     's': lambda R,t : init_pow*Gaussain_Beam_Diagonal(R,waist)*Heav_step(t)*Bessel_Intensity(-1,beta_1)*Bessel_Intensity(1,beta_2)}])\n",
    "    laserBeams += pylcp.laserBeams([{'kvec':np.array([-1,-1,0]),'pol':+1,'pol_coord':'spherical','delta':(E_A[-1]-Avg_X-main_det)-det_side-det_side2*0,\n",
    "                                     's': lambda R,t : init_pow*Gaussain_Beam_Diagonal(R,waist)*Heav_step(t)*Bessel_Intensity(-1,beta_1)*Bessel_Intensity(0,beta_2)},\n",
    "                                    {'kvec':np.array([-1,-1,0]),'pol':-1,'pol_coord':'spherical','delta':(E_A[-1]-Avg_X-main_det)-det_side-det_side2*0,\n",
    "                                     's': lambda R,t : init_pow*Gaussain_Beam_Diagonal(R,waist)*Heav_step(t)*Bessel_Intensity(-1,beta_1)*Bessel_Intensity(0,beta_2)}])\n",
    "    laserBeams += pylcp.laserBeams([{'kvec':np.array([-1,-1,0]),'pol':+1,'pol_coord':'spherical','delta':(E_A[-1]-Avg_X-main_det)-det_side+det_side2*1,\n",
    "                                     's': lambda R,t : init_pow*Gaussain_Beam_Diagonal(R,waist)*Heav_step(t)*Bessel_Intensity(-1,beta_1)*Bessel_Intensity(-1,beta_2)},\n",
    "                                    {'kvec':np.array([-1,-1,0]),'pol':-1,'pol_coord':'spherical','delta':(E_A[-1]-Avg_X-main_det)-det_side+det_side2*1,\n",
    "                                     's': lambda R,t : init_pow*Gaussain_Beam_Diagonal(R,waist)*Heav_step(t)*Bessel_Intensity(-1,beta_1)*Bessel_Intensity(-1,beta_2)}])\n",
    "    laserBeams += pylcp.laserBeams([{'kvec':np.array([-1,-1,0]),'pol':+1,'pol_coord':'spherical','delta':(E_A[-1]-Avg_X-main_det)-det_side+det_side2*2,\n",
    "                                     's': lambda R,t : init_pow*Gaussain_Beam_Diagonal(R,waist)*Heav_step(t)*Bessel_Intensity(-1,beta_1)*Bessel_Intensity(-2,beta_2)},\n",
    "                                    {'kvec':np.array([-1,-1,0]),'pol':-1,'pol_coord':'spherical','delta':(E_A[-1]-Avg_X-main_det)-det_side+det_side2*2,\n",
    "                                     's': lambda R,t : init_pow*Gaussain_Beam_Diagonal(R,waist)*Heav_step(t)*Bessel_Intensity(-1,beta_1)*Bessel_Intensity(-2,beta_2)}])\n",
    "\n",
    "# Main Slowing Laser\n",
    "    laserBeams += pylcp.laserBeams([{'kvec':np.array([-1,-1,0]),'pol':+1,'pol_coord':'spherical','delta':(E_A[-1]-Avg_X-main_det)-det_side2*2,\n",
    "                                     's': lambda R,t : init_pow*Gaussain_Beam_Diagonal(R,waist)*Heav_step(t)*Bessel_Intensity(0,beta_1)*Bessel_Intensity(2,beta_2)},\n",
    "                                    {'kvec':np.array([-1,-1,0]),'pol':-1,'pol_coord':'spherical','delta':(E_A[-1]-Avg_X-main_det)-det_side2*2,\n",
    "                                     's': lambda R,t : init_pow*Gaussain_Beam_Diagonal(R,waist)*Heav_step(t)*Bessel_Intensity(0,beta_1)*Bessel_Intensity(2,beta_2)}])\n",
    "    laserBeams += pylcp.laserBeams([{'kvec':np.array([-1,-1,0]),'pol':+1,'pol_coord':'spherical','delta':(E_A[-1]-Avg_X-main_det)-det_side2*1,\n",
    "                                     's': lambda R,t : init_pow*Gaussain_Beam_Diagonal(R,waist)*Heav_step(t)*Bessel_Intensity(0,beta_1)*Bessel_Intensity(1,beta_2)},\n",
    "                                    {'kvec':np.array([-1,-1,0]),'pol':-1,'pol_coord':'spherical','delta':(E_A[-1]-Avg_X-main_det)-det_side2*1,\n",
    "                                     's': lambda R,t : init_pow*Gaussain_Beam_Diagonal(R,waist)*Heav_step(t)*Bessel_Intensity(0,beta_1)*Bessel_Intensity(1,beta_2)}])\n",
    "    laserBeams += pylcp.laserBeams([{'kvec':np.array([-1,-1,0]),'pol':+1,'pol_coord':'spherical','delta':(E_A[-1]-Avg_X-main_det)-det_side2*0,\n",
    "                                     's': lambda R,t : init_pow*Gaussain_Beam_Diagonal(R,waist)*Heav_step(t)*Bessel_Intensity(0,beta_1)*Bessel_Intensity(0,beta_2)},\n",
    "                                    {'kvec':np.array([-1,-1,0]),'pol':-1,'pol_coord':'spherical','delta':(E_A[-1]-Avg_X-main_det)-det_side2*0,\n",
    "                                     's': lambda R,t : init_pow*Gaussain_Beam_Diagonal(R,waist)*Heav_step(t)*Bessel_Intensity(0,beta_1)*Bessel_Intensity(0,beta_2)}])\n",
    "    laserBeams += pylcp.laserBeams([{'kvec':np.array([-1,-1,0]),'pol':+1,'pol_coord':'spherical','delta':(E_A[-1]-Avg_X-main_det)+det_side2*1,\n",
    "                                     's': lambda R,t : init_pow*Gaussain_Beam_Diagonal(R,waist)*Heav_step(t)*Bessel_Intensity(0,beta_1)*Bessel_Intensity(-1,beta_2)},\n",
    "                                    {'kvec':np.array([-1,-1,0]),'pol':-1,'pol_coord':'spherical','delta':(E_A[-1]-Avg_X-main_det)+det_side2*1,\n",
    "                                     's': lambda R,t : init_pow*Gaussain_Beam_Diagonal(R,waist)*Heav_step(t)*Bessel_Intensity(0,beta_1)*Bessel_Intensity(-1,beta_2)}])\n",
    "    laserBeams += pylcp.laserBeams([{'kvec':np.array([-1,-1,0]),'pol':+1,'pol_coord':'spherical','delta':(E_A[-1]-Avg_X-main_det)+det_side2*2,\n",
    "                                     's': lambda R,t : init_pow*Gaussain_Beam_Diagonal(R,waist)*Heav_step(t)*Bessel_Intensity(0,beta_1)*Bessel_Intensity(-2,beta_2)},\n",
    "                                    {'kvec':np.array([-1,-1,0]),'pol':-1,'pol_coord':'spherical','delta':(E_A[-1]-Avg_X-main_det)+det_side2*2,\n",
    "                                     's': lambda R,t : init_pow*Gaussain_Beam_Diagonal(R,waist)*Heav_step(t)*Bessel_Intensity(0,beta_1)*Bessel_Intensity(-2,beta_2)}])\n",
    "# Plus Sideband part\n",
    "    laserBeams += pylcp.laserBeams([{'kvec':np.array([-1,-1,0]),'pol':+1,'pol_coord':'spherical','delta':(E_A[-1]-Avg_X-main_det)+det_side-det_side2*2,\n",
    "                                     's': lambda R,t : init_pow*Gaussain_Beam_Diagonal(R,waist)*Heav_step(t)*Bessel_Intensity(1,beta_1)*Bessel_Intensity(2,beta_2)},\n",
    "                                    {'kvec':np.array([-1,-1,0]),'pol':-1,'pol_coord':'spherical','delta':(E_A[-1]-Avg_X-main_det)+det_side-det_side2*2,\n",
    "                                     's': lambda R,t : init_pow*Gaussain_Beam_Diagonal(R,waist)*Heav_step(t)*Bessel_Intensity(1,beta_1)*Bessel_Intensity(2,beta_2)}])\n",
    "    laserBeams += pylcp.laserBeams([{'kvec':np.array([-1,-1,0]),'pol':+1,'pol_coord':'spherical','delta':(E_A[-1]-Avg_X-main_det)+det_side-det_side2*1,\n",
    "                                     's': lambda R,t : init_pow*Gaussain_Beam_Diagonal(R,waist)*Heav_step(t)*Bessel_Intensity(1,beta_1)*Bessel_Intensity(1,beta_2)},\n",
    "                                    {'kvec':np.array([-1,-1,0]),'pol':-1,'pol_coord':'spherical','delta':(E_A[-1]-Avg_X-main_det)+det_side-det_side2*1,\n",
    "                                     's': lambda R,t : init_pow*Gaussain_Beam_Diagonal(R,waist)*Heav_step(t)*Bessel_Intensity(1,beta_1)*Bessel_Intensity(1,beta_2)}])\n",
    "    laserBeams += pylcp.laserBeams([{'kvec':np.array([-1,-1,0]),'pol':+1,'pol_coord':'spherical','delta':(E_A[-1]-Avg_X-main_det)+det_side-det_side2*0,\n",
    "                                     's': lambda R,t : init_pow*Gaussain_Beam_Diagonal(R,waist)*Heav_step(t)*Bessel_Intensity(1,beta_1)*Bessel_Intensity(0,beta_2)},\n",
    "                                    {'kvec':np.array([-1,-1,0]),'pol':-1,'pol_coord':'spherical','delta':(E_A[-1]-Avg_X-main_det)+det_side-det_side2*0,\n",
    "                                     's': lambda R,t : init_pow*Gaussain_Beam_Diagonal(R,waist)*Heav_step(t)*Bessel_Intensity(1,beta_1)*Bessel_Intensity(0,beta_2)}])\n",
    "    laserBeams += pylcp.laserBeams([{'kvec':np.array([-1,-1,0]),'pol':+1,'pol_coord':'spherical','delta':(E_A[-1]-Avg_X-main_det)+det_side+det_side2*1,\n",
    "                                     's': lambda R,t : init_pow*Gaussain_Beam_Diagonal(R,waist)*Heav_step(t)*Bessel_Intensity(1,beta_1)*Bessel_Intensity(-1,beta_2)},\n",
    "                                    {'kvec':np.array([-1,-1,0]),'pol':-1,'pol_coord':'spherical','delta':(E_A[-1]-Avg_X-main_det)+det_side+det_side2*1,\n",
    "                                     's': lambda R,t : init_pow*Gaussain_Beam_Diagonal(R,waist)*Heav_step(t)*Bessel_Intensity(1,beta_1)*Bessel_Intensity(-1,beta_2)}])\n",
    "    laserBeams += pylcp.laserBeams([{'kvec':np.array([-1,-1,0]),'pol':+1,'pol_coord':'spherical','delta':(E_A[-1]-Avg_X-main_det)+det_side+det_side2*2,\n",
    "                                     's': lambda R,t : init_pow*Gaussain_Beam_Diagonal(R,waist)*Heav_step(t)*Bessel_Intensity(1,beta_1)*Bessel_Intensity(-2,beta_2)},\n",
    "                                    {'kvec':np.array([-1,-1,0]),'pol':-1,'pol_coord':'spherical','delta':(E_A[-1]-Avg_X-main_det)+det_side+det_side2*2,\n",
    "                                     's': lambda R,t : init_pow*Gaussain_Beam_Diagonal(R,waist)*Heav_step(t)*Bessel_Intensity(1,beta_1)*Bessel_Intensity(-2,beta_2)}])\n",
    "    return laserBeams"
   ]
  },
  {
   "cell_type": "code",
   "execution_count": 11,
   "id": "9632e014-0735-4c01-b6f7-3cbea3e93f38",
   "metadata": {},
   "outputs": [],
   "source": [
    "def slow_bayesian(main_det,det_1,det_2,beta_1,beta_2,laseron,laseroff):\n",
    "    laserBeams = Fixed_detune_MgF_MOT(main_det,det_1,det_2,beta_1,beta_2,laseron,laseroff)\n",
    "    magField = pylcp.quadrupoleMagneticField(mag_field_grad)\n",
    "    rateeq = pylcp.rateeq(laserBeams=laserBeams,magField=magField,hamitlonian=hamiltonian)\n",
    "\n",
    "    \n",
    "    def Capture_velocity_condition(t,y,threshold = 5.810):\n",
    "        if y[-6]<threshold:\n",
    "            val = -1.\n",
    "        else:\n",
    "            val = 1.\n",
    "        return val\n",
    "    def Lost_condition(t,y,threshold = 0.):\n",
    "        if y[-6]<threshold:\n",
    "            val = -1.\n",
    "        else:\n",
    "            val = 1.\n",
    "        return val\n",
    "    def for_transverse_condition(t,y,threshold = -0.020/x0):\n",
    "        if y[-3]>threshold:\n",
    "            val = -1.\n",
    "        else:\n",
    "            val = 1.\n",
    "        return val\n",
    "\n",
    "    Capture_velocity_condition.terminal = False\n",
    "    Lost_condition.terminal = False\n",
    "    for_transverse_condition.terminal = False\n",
    "    conditions =  [for_transverse_condition,Lost_condition,Capture_velocity_condition]\n",
    "    \n",
    "    v_longitudinal = np.linspace(14,21,16)\n",
    "    time_final = list()\n",
    "    v_trap_initial = list()\n",
    "    \n",
    "    for v0_longitudinal in v_longitudinal:\n",
    "        rateeq.set_initial_position_and_velocity(np.array([-1*z_start/np.sqrt(2),-1*z_start/np.sqrt(2),0]),np.array([v0_longitudinal/np.sqrt(2),v0_longitudinal/np.sqrt(2),0]))\n",
    "        rateeq.set_initial_pop(np.array([1,1,1,1,1,1,1,1,1,1,1,1,0,0,0,0]))\n",
    "\n",
    "        rateeq.evolve_motion([0.,max(t_eval)],t_eval=t_eval,events= conditions,max_step=1e5,progress_bar = 0,method='LSODA')\n",
    "        sol = rateeq.sol\n",
    "        # print(sol.t_events)\n",
    "        if len(sol.t_events[0])==1:\n",
    "            if len(sol.t_events[1])==0:\n",
    "                if len(sol.t_events[2])==1:\n",
    "                    time_final.append(sol.t_events[0][0])\n",
    "                    v_trap_initial.append(sol.v[0][0])\n",
    "            \n",
    "            \n",
    "                    \n",
    "    # print(v_trap_initial)\n",
    "    # print(time_final)\n",
    "                    \n",
    "    if len(time_final)<=1:\n",
    "        # print(\"NO results\")\n",
    "        return 0.\n",
    "    \n",
    "    def time_vs_v_final(vff):\n",
    "        if vff>= min(v_trap_initial) and vff<=max(v_trap_initial):\n",
    "            return np.interp(vff,v_trap_initial,time_final)\n",
    "\n",
    "    def v_transverse_vs_v_traverse(vfs):\n",
    "        return (6.00/time_vs_v_final(vfs)*1e-3/t0)\n",
    "\n",
    "    muf = 140/v0\n",
    "    sigf = 17/v0\n",
    "    mut = 0\n",
    "    sigt = 18.7564/v0\n",
    "\n",
    "    def Transverse_percentage(v):\n",
    "        rv = stats.norm(mut,sigt) # Gaussian of transverse, v0 scale\n",
    "        val = (rv.cdf(v_transverse_vs_v_traverse(v))-rv.cdf(0))/rv.cdf(sigt*2)*2\n",
    "\n",
    "        if val >= 1:\n",
    "            return 1\n",
    "        else:\n",
    "            return val\n",
    "\n",
    "    def total_func(v):\n",
    "        rv_f = stats.norm(muf,sigf) # Gaussian of forward, v0 scale\n",
    "        return Transverse_percentage(v)*rv_f.pdf(v)\n",
    "\n",
    "    return integrate.quad(total_func,v_trap_initial[0],v_trap_initial[-1],limit=100)[0]"
   ]
  },
  {
   "cell_type": "code",
   "execution_count": 12,
   "id": "5be68a58-10d4-413d-8da3-a68bb0a46f1f",
   "metadata": {},
   "outputs": [
    {
     "name": "stdout",
     "output_type": "stream",
     "text": [
      "0.04233822160541753\n",
      "252.87905716896057\n"
     ]
    }
   ],
   "source": [
    "start = time.time()\n",
    "\n",
    "print(slow_bayesian(18.7,120,15,0.69,1.98,171312,505566))\n",
    "\n",
    "print(time.time()-start)"
   ]
  },
  {
   "cell_type": "code",
   "execution_count": 13,
   "id": "90849e4c-2c33-46d8-89d7-0d69430562ca",
   "metadata": {},
   "outputs": [],
   "source": [
    "pbounds = {'main_det':(10,20),'det_1':(70,170),'det_2':(5,30),'beta_1':(0,2),'beta_2':(0,5),'laseron':(138240,300000),'laseroff':(300001,600000)}"
   ]
  },
  {
   "cell_type": "code",
   "execution_count": 14,
   "id": "17032332-0cc3-4ce4-acbb-06cfa5f0654b",
   "metadata": {},
   "outputs": [],
   "source": [
    "optimizer = BayesianOptimization(\n",
    "    f = slow_bayesian,\n",
    "    pbounds=pbounds,\n",
    "    verbose=13,\n",
    "    random_state=1,\n",
    ")"
   ]
  },
  {
   "cell_type": "code",
   "execution_count": 15,
   "id": "07a3e321-0ab3-40f1-97e2-35a3035fdfd2",
   "metadata": {},
   "outputs": [
    {
     "name": "stdout",
     "output_type": "stream",
     "text": [
      "|   iter    |  target   |  beta_1   |  beta_2   |   det_1   |   det_2   | laseroff  |  laseron  | main_det  |\n",
      "-------------------------------------------------------------------------------------------------------------\n",
      "| \u001b[0m 1       \u001b[0m | \u001b[0m 0.0     \u001b[0m | \u001b[0m 0.834   \u001b[0m | \u001b[0m 3.602   \u001b[0m | \u001b[0m 70.01   \u001b[0m | \u001b[0m 12.56   \u001b[0m | \u001b[0m 3.44e+05\u001b[0m | \u001b[0m 1.532e+0\u001b[0m | \u001b[0m 11.86   \u001b[0m |\n",
      "| \u001b[95m 2       \u001b[0m | \u001b[95m 0.003175\u001b[0m | \u001b[95m 0.4479  \u001b[0m | \u001b[95m 4.835   \u001b[0m | \u001b[95m 123.4   \u001b[0m | \u001b[95m 23.71   \u001b[0m | \u001b[95m 5.496e+0\u001b[0m | \u001b[95m 1.88e+05\u001b[0m | \u001b[95m 15.54   \u001b[0m |\n",
      "=============================================================================================================\n",
      "460.5273668766022\n"
     ]
    }
   ],
   "source": [
    "start = time.time()\n",
    "optimizer.maximize(\n",
    "    init_points=1,\n",
    "    n_iter=1,)\n",
    "print(time.time()-start)"
   ]
  },
  {
   "cell_type": "code",
   "execution_count": 16,
   "id": "dac1e23d-ed2c-40b6-9be1-0c9505eebdfc",
   "metadata": {},
   "outputs": [],
   "source": [
    "from bayes_opt.logger import JSONLogger\n",
    "from bayes_opt.event import Events\n",
    "\n",
    "logger = JSONLogger(path='./logs_Expected_model.json',reset=False)\n",
    "optimizer.subscribe(Events.OPTIMIZATION_STEP,logger)"
   ]
  },
  {
   "cell_type": "code",
   "execution_count": 17,
   "id": "4ddbb751-193b-4bd8-9b86-37ff9497de02",
   "metadata": {},
   "outputs": [
    {
     "name": "stdout",
     "output_type": "stream",
     "text": [
      "|   iter    |  target   |  beta_1   |  beta_2   |   det_1   |   det_2   | laseroff  |  laseron  | main_det  |\n",
      "-------------------------------------------------------------------------------------------------------------\n",
      "| \u001b[95m 3       \u001b[0m | \u001b[95m 0.04086 \u001b[0m | \u001b[95m 0.6911  \u001b[0m | \u001b[95m 1.984   \u001b[0m | \u001b[95m 123.9   \u001b[0m | \u001b[95m 15.48   \u001b[0m | \u001b[95m 5.056e+0\u001b[0m | \u001b[95m 1.713e+0\u001b[0m | \u001b[95m 18.78   \u001b[0m |\n",
      "| \u001b[0m 4       \u001b[0m | \u001b[0m 0.002666\u001b[0m | \u001b[0m 0.05478 \u001b[0m | \u001b[0m 3.352   \u001b[0m | \u001b[0m 111.7   \u001b[0m | \u001b[0m 18.97   \u001b[0m | \u001b[0m 3.421e+0\u001b[0m | \u001b[0m 1.703e+0\u001b[0m | \u001b[0m 18.01   \u001b[0m |\n",
      "| \u001b[0m 5       \u001b[0m | \u001b[0m 0.0     \u001b[0m | \u001b[0m 1.937   \u001b[0m | \u001b[0m 1.567   \u001b[0m | \u001b[0m 139.2   \u001b[0m | \u001b[0m 26.91   \u001b[0m | \u001b[0m 5.684e+0\u001b[0m | \u001b[0m 1.52e+05\u001b[0m | \u001b[0m 10.39   \u001b[0m |\n",
      "| \u001b[0m 6       \u001b[0m | \u001b[0m 0.007926\u001b[0m | \u001b[0m 0.3397  \u001b[0m | \u001b[0m 4.391   \u001b[0m | \u001b[0m 79.83   \u001b[0m | \u001b[0m 15.53   \u001b[0m | \u001b[0m 5.874e+0\u001b[0m | \u001b[0m 2.245e+0\u001b[0m | \u001b[0m 16.92   \u001b[0m |\n",
      "| \u001b[0m 7       \u001b[0m | \u001b[0m 0.03598 \u001b[0m | \u001b[0m 0.631   \u001b[0m | \u001b[0m 3.433   \u001b[0m | \u001b[0m 153.5   \u001b[0m | \u001b[0m 5.457   \u001b[0m | \u001b[0m 5.25e+05\u001b[0m | \u001b[0m 2.982e+0\u001b[0m | \u001b[0m 17.48   \u001b[0m |\n",
      "| \u001b[0m 8       \u001b[0m | \u001b[0m 0.000631\u001b[0m | \u001b[0m 1.963   \u001b[0m | \u001b[0m 4.516   \u001b[0m | \u001b[0m 95.45   \u001b[0m | \u001b[0m 28.54   \u001b[0m | \u001b[0m 4.752e+0\u001b[0m | \u001b[0m 1.694e+0\u001b[0m | \u001b[0m 12.72   \u001b[0m |\n",
      "| \u001b[0m 9       \u001b[0m | \u001b[0m 0.007603\u001b[0m | \u001b[0m 1.93    \u001b[0m | \u001b[0m 0.3315  \u001b[0m | \u001b[0m 75.22   \u001b[0m | \u001b[0m 20.29   \u001b[0m | \u001b[0m 4.737e+0\u001b[0m | \u001b[0m 2.775e+0\u001b[0m | \u001b[0m 14.03   \u001b[0m |\n",
      "| \u001b[0m 10      \u001b[0m | \u001b[0m 0.0     \u001b[0m | \u001b[0m 1.691   \u001b[0m | \u001b[0m 1.058   \u001b[0m | \u001b[0m 108.7   \u001b[0m | \u001b[0m 27.09   \u001b[0m | \u001b[0m 5.145e+0\u001b[0m | \u001b[0m 1.681e+0\u001b[0m | \u001b[0m 14.48   \u001b[0m |\n",
      "| \u001b[0m 11      \u001b[0m | \u001b[0m 0.0     \u001b[0m | \u001b[0m 0.8829  \u001b[0m | \u001b[0m 2.545   \u001b[0m | \u001b[0m 128.4   \u001b[0m | \u001b[0m 25.99   \u001b[0m | \u001b[0m 3.008e+0\u001b[0m | \u001b[0m 2.706e+0\u001b[0m | \u001b[0m 11.11   \u001b[0m |\n",
      "| \u001b[0m 12      \u001b[0m | \u001b[0m 0.001864\u001b[0m | \u001b[0m 1.433   \u001b[0m | \u001b[0m 3.258   \u001b[0m | \u001b[0m 80.46   \u001b[0m | \u001b[0m 7.177   \u001b[0m | \u001b[0m 4.966e+0\u001b[0m | \u001b[0m 2.727e+0\u001b[0m | \u001b[0m 12.02   \u001b[0m |\n",
      "| \u001b[0m 13      \u001b[0m | \u001b[0m 0.0     \u001b[0m | \u001b[0m 1.85    \u001b[0m | \u001b[0m 4.191   \u001b[0m | \u001b[0m 70.76   \u001b[0m | \u001b[0m 27.36   \u001b[0m | \u001b[0m 3.016e+0\u001b[0m | \u001b[0m 2.205e+0\u001b[0m | \u001b[0m 14.44   \u001b[0m |\n",
      "| \u001b[0m 14      \u001b[0m | \u001b[0m 0.023   \u001b[0m | \u001b[0m 1.964   \u001b[0m | \u001b[0m 0.9903  \u001b[0m | \u001b[0m 162.9   \u001b[0m | \u001b[0m 15.38   \u001b[0m | \u001b[0m 4.213e+0\u001b[0m | \u001b[0m 1.408e+0\u001b[0m | \u001b[0m 17.81   \u001b[0m |\n",
      "| \u001b[0m 15      \u001b[0m | \u001b[0m 0.0     \u001b[0m | \u001b[0m 1.258   \u001b[0m | \u001b[0m 4.143   \u001b[0m | \u001b[0m 132.3   \u001b[0m | \u001b[0m 13.25   \u001b[0m | \u001b[0m 3.882e+0\u001b[0m | \u001b[0m 1.53e+05\u001b[0m | \u001b[0m 10.14   \u001b[0m |\n",
      "| \u001b[0m 16      \u001b[0m | \u001b[0m 0.0     \u001b[0m | \u001b[0m 0.9306  \u001b[0m | \u001b[0m 1.178   \u001b[0m | \u001b[0m 89.2    \u001b[0m | \u001b[0m 7.42    \u001b[0m | \u001b[0m 5.783e+0\u001b[0m | \u001b[0m 2.076e+0\u001b[0m | \u001b[0m 15.96   \u001b[0m |\n",
      "| \u001b[95m 17      \u001b[0m | \u001b[95m 0.05457 \u001b[0m | \u001b[95m 1.652   \u001b[0m | \u001b[95m 3.887   \u001b[0m | \u001b[95m 141.7   \u001b[0m | \u001b[95m 23.78   \u001b[0m | \u001b[95m 5.576e+0\u001b[0m | \u001b[95m 1.393e+0\u001b[0m | \u001b[95m 17.07   \u001b[0m |\n",
      "=============================================================================================================\n",
      "3765.01287484169\n"
     ]
    }
   ],
   "source": [
    "start = time.time()\n",
    "optimizer.maximize(\n",
    "    init_points=5,\n",
    "    n_iter=10,)\n",
    "print(time.time()-start)"
   ]
  },
  {
   "cell_type": "code",
   "execution_count": null,
   "id": "9cf0161c-683e-466f-9be9-d3ad012f03af",
   "metadata": {},
   "outputs": [
    {
     "name": "stdout",
     "output_type": "stream",
     "text": [
      "|   iter    |  target   |  beta_1   |  beta_2   |   det_1   |   det_2   | laseroff  |  laseron  | main_det  |\n",
      "-------------------------------------------------------------------------------------------------------------\n"
     ]
    }
   ],
   "source": [
    "start = time.time()\n",
    "optimizer.maximize(\n",
    "    init_points=10,\n",
    "    n_iter=50,)\n",
    "print(time.time()-start)"
   ]
  },
  {
   "cell_type": "code",
   "execution_count": null,
   "id": "4fda1838-64a4-4d7a-90bb-46b0b1c5d955",
   "metadata": {},
   "outputs": [],
   "source": []
  }
 ],
 "metadata": {
  "kernelspec": {
   "display_name": "Python 3 (ipykernel)",
   "language": "python",
   "name": "python3"
  },
  "language_info": {
   "codemirror_mode": {
    "name": "ipython",
    "version": 3
   },
   "file_extension": ".py",
   "mimetype": "text/x-python",
   "name": "python",
   "nbconvert_exporter": "python",
   "pygments_lexer": "ipython3",
   "version": "3.9.7"
  }
 },
 "nbformat": 4,
 "nbformat_minor": 5
}
