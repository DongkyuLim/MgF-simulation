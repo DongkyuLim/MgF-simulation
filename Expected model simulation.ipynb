{
 "cells": [
  {
   "cell_type": "code",
   "execution_count": 1,
   "id": "8557f574-42db-4806-98f3-cf9b53839f8a",
   "metadata": {},
   "outputs": [],
   "source": [
    "import sys\n",
    "import numpy as np\n",
    "import matplotlib.pyplot as plt\n",
    "import scipy.constants as cts\n",
    "import pylcp\n",
    "import time\n",
    "import random\n",
    "from tqdm import tqdm\n",
    "from scipy.interpolate import interp1d,interp2d\n",
    "from scipy import stats\n",
    "from scipy import integrate\n",
    "from celluloid import Camera\n",
    "from bayes_opt import BayesianOptimization\n",
    "import json\n",
    "import seaborn as sns\n",
    "import White_class\n",
    "from scipy import special\n",
    "import pymongo"
   ]
  },
  {
   "cell_type": "code",
   "execution_count": 2,
   "id": "a6e8d884-1925-4a6b-903a-bda2e9c0032a",
   "metadata": {},
   "outputs": [],
   "source": [
    "# main_detune = 18.7\n",
    "# sideband_detune = 120\n",
    "# white_detune = 15\n",
    "# beta_1 = 0.69\n",
    "# beta_2 = 1.98\n",
    "# laseron = 171312\n",
    "# laseroff = 505566\n",
    "\n",
    "\n",
    "# test = White_class.Whitelight(main_detune,sideband_detune,white_detune, beta_1,beta_2,laseron,laseroff)"
   ]
  },
  {
   "cell_type": "code",
   "execution_count": 3,
   "id": "12ee3adc-ce99-4837-a5dd-276dd06ab0d2",
   "metadata": {
    "tags": []
   },
   "outputs": [],
   "source": [
    "#Main variables\n",
    "\n",
    "main_detune = 17\n",
    "sideband_detune = 120\n",
    "white_detune = 10\n",
    "laser_on = 200000\n",
    "laser_off = 400015\n",
    "MOT_power = 50\n",
    "v0_start=1\n",
    "v0_step=1\n",
    "v0_end=25\n",
    "t0_start=0\n",
    "t0_step=1\n",
    "t0_end=3500000\n",
    "\n",
    "\n",
    "Gamma = 22 # Hz to kHz, Decay rate\n",
    "wavelength = 359.3e-9 # m to mm\n",
    "k = 1/wavelength*2*np.pi #x_0\n",
    "x0 = 1/k\n",
    "t0 = 1/Gamma*1/(2*np.pi*1e6)\n",
    "v0 = x0/t0\n",
    "m0 = cts.hbar*t0/x0**2\n",
    "a0 = x0/t0**2\n",
    "F0 = cts.hbar/(x0*t0)\n",
    "mass = 43*cts.value('atomic mass constant')/m0 # m_0\n",
    "mag_field_grad = 1252.8168984164048*x0\n",
    "waist = 0.012/x0\n",
    "v_max = 8.\n",
    "z_max = 384.855e-3/x0\n",
    "z_start = 384.855e-3/x0\n",
    "omega = 2*np.pi*(cts.c/wavelength) #Transition frequency\n",
    "Isat = np.pi*cts.h*cts.c*Gamma*2*np.pi*1e6/3*1/(wavelength)**3\n",
    "t_eval = np.arange(t0_start,t0_end,t0_step)\n",
    "\n",
    "# The detunings used in the PRAs:\n",
    "intensities = 2.*MOT_power*1e-3/(np.pi*0.012**2)/Isat\n",
    "\n",
    "#Define the hamiltonian\n",
    "H0_X, Bq_X, U_X, Xbasis = pylcp.hamiltonians.XFmolecules.Xstate(N=1,I=0.5,B=15496.8125/Gamma,\n",
    "gamma = 50.697/Gamma,b=154.7/Gamma, c=178.5/Gamma,gI=5.585,gS=2.0023193043622,\n",
    "    muB = cts.value('Bohr magneton in Hz/T')/1e6*1e-4/Gamma,\n",
    "    muN=cts.m_e/cts.m_p*cts.value('Bohr magneton in Hz/T')*1e-4*1e-6/Gamma,return_basis=True\n",
    "    )\n",
    "\n",
    "# b : SI coupling(isotropic), c : Iz Sz coupling(anisotropic), cc : I N coupling, gamma : S N coupling\n",
    "\n",
    "E_X = np.unique(np.diag(H0_X))\n",
    "\n",
    "H0_A, Bq_A, Abasis = pylcp.hamiltonians.XFmolecules.Astate(J=0.5,I=0.5,\n",
    "    P=+1,B=15788.2/Gamma,D=0.,H=0.,a=0./Gamma,b=-0.4/Gamma,c=0.,q=0., p=15./Gamma,\n",
    "    muB=cts.value('Bohr magneton in Hz/T')/1e6*1e-4/Gamma,\n",
    "    muN=cts.m_e/cts.m_p*cts.value('Bohr magneton in Hz/T')*1e-4*1e-6/Gamma,return_basis=True\n",
    "    )\n",
    "\n",
    "# gJ : Lande g-factor, p : parity(e parity)\n",
    "\n",
    "E_A = np.unique(np.diag(H0_A))\n",
    "\n",
    "dijq = pylcp.hamiltonians.XFmolecules.dipoleXandAstates(\n",
    "    Xbasis, Abasis, UX=U_X\n",
    "    )\n",
    "\n",
    "hamiltonian = pylcp.hamiltonian(H0_X, H0_A, Bq_X, Bq_A, dijq,mass = mass)"
   ]
  },
  {
   "cell_type": "code",
   "execution_count": 4,
   "id": "09ae2a36-ed5e-4e37-8585-cd77c3328b2a",
   "metadata": {},
   "outputs": [],
   "source": [
    "def Fixed_detune_MgF_MOT(main_det,det_1,det_2,beta_1,beta_2,laseron,laseroff):\n",
    "    det_side = det_1/Gamma\n",
    "    det_side2 = det_2/Gamma\n",
    "    Avg_X = np.average(E_X)\n",
    "    init_pow = 0.5*2./(np.pi*(0.012)**2)/Isat\n",
    "    \n",
    "    def Gaussian_Beam_Intensity(R,waist):\n",
    "        return np.exp(-2*((R[0]-R[1])**2/2+R[2]**2)/waist**2)\n",
    "    \n",
    "    def Bessel_Intensity(n_order,beta):\n",
    "        return special.jv(n_order,beta)**2\n",
    "    \n",
    "    def Heav_step(t):\n",
    "        if laseron<=t and t<laseron+14:\n",
    "            return -1*(t-laseron-7)*((t-laseron-7)**2-49*3)*1/686*1/2+1/2\n",
    "        elif laseron+14<=t and t<laseroff:\n",
    "            return 1\n",
    "        elif t>=laseroff and t<laseroff+14:\n",
    "            return (t-laseroff-7)*((t-laseroff-7)**2-49*3)*1/686*1/2 + 1/2\n",
    "        else:\n",
    "            return 0\n",
    "        \n",
    "    \n",
    "    def pick_EOM(b):\n",
    "        N_list = range(round(-b)-2,round(b)+2)\n",
    "        order_list = list()\n",
    "        # intensity_list = list()\n",
    "        for n in N_list:\n",
    "            temp = Bessel_Intensity(n,b)\n",
    "            if temp>=0.01:\n",
    "                order_list.append(n)\n",
    "                # intensity_list.append(temp)\n",
    "    \n",
    "        # return order_list, intensity_list\n",
    "        return order_list\n",
    "    \n",
    "    def laser_set(m,n):\n",
    "        return pylcp.laserBeams([{'kvec':np.array([-1,-1,0]),'pol':+1,'pol_coord':'spherical','delta':(E_A[-1]-Avg_X-main_det)+m*det_side+det_side2*n,\n",
    "                                     's': lambda R,t : init_pow*Gaussian_Beam_Intensity(R,waist)*Heav_step(t)*Bessel_Intensity(m,beta_1)*Bessel_Intensity(n,beta_2)},\n",
    "                                    {'kvec':np.array([-1,-1,0]),'pol':-1,'pol_coord':'spherical','delta':(E_A[-1]-Avg_X-main_det)+m*det_side-det_side2*n,\n",
    "                                     's': lambda R,t : init_pow*Gaussian_Beam_Intensity(R,waist)*Heav_step(t)*Bessel_Intensity(m,beta_1)*Bessel_Intensity(n,beta_2)}])\n",
    "    \n",
    "    \n",
    "    white_order = pick_EOM(beta_2)\n",
    "    \n",
    "    laserBeams = pylcp.laserBeams()\n",
    "    for m in {-1,0,1}:\n",
    "        for n in white_order:\n",
    "            laserBeams+=laser_set(m,n)\n",
    "\n",
    "    return laserBeams"
   ]
  },
  {
   "cell_type": "code",
   "execution_count": 5,
   "id": "6d122e58-53d1-42e2-be49-318382f58df5",
   "metadata": {},
   "outputs": [],
   "source": [
    "from scipy.interpolate import RegularGridInterpolator\n",
    "\n",
    "xs = np.linspace(-0.4,0.4,101)/x0\n",
    "ys = np.linspace(-0.4,0.4,101)/x0\n",
    "zs = np.linspace(-0.2,0.2,101)/x0\n",
    "\n",
    "X,Y,Z = np.meshgrid(xs,ys,zs,sparse=1,indexing=\"xy\")\n",
    "B = np.load(\"B_field_Interpolate.npy\")\n",
    "\n",
    "Bx = interp2d(xs,ys,B[0])\n",
    "By = interp2d(xs,ys,B[1])\n",
    "\n",
    "\n",
    "\n",
    "def B_func(R:np.array):\n",
    "    if abs(R[2])>0.2/x0 or abs(R[1])>0.4/x0 or abs(R[0])>0.4/x0:\n",
    "        return np.zeros(3,)\n",
    "    return np.concatenate((Bx(R[0],R[1]),By(R[0],R[1]),np.zeros(1,)),axis=0)"
   ]
  },
  {
   "cell_type": "code",
   "execution_count": 6,
   "id": "9632e014-0735-4c01-b6f7-3cbea3e93f38",
   "metadata": {},
   "outputs": [],
   "source": [
    "def slow_bayesian(main_det,det_1,det_2,beta_1,beta_2,laseron,laseroff):\n",
    "    magField = lambda R,t : B_func(R)\n",
    "    laserBeams = Fixed_detune_MgF_MOT(main_det,det_1,det_2,beta_1,beta_2,laseron,laseroff)\n",
    "    rateeq = pylcp.rateeq(laserBeams=laserBeams,magField=magField,hamitlonian=hamiltonian)\n",
    "\n",
    "    \n",
    "    # def Capture_velocity_condition(t,y,threshold = 5.810/np.sqrt(2)):\n",
    "    #     if y[-6]<threshold:\n",
    "    #         val = -1.\n",
    "    #     else:\n",
    "    #         val = 1.\n",
    "    #     return val\n",
    "    def Lost_condition(t,y,threshold = 0.):\n",
    "        if y[-6]<threshold:\n",
    "            val = -1.\n",
    "        else:\n",
    "            val = 1.\n",
    "        return val\n",
    "    def for_transverse_condition(t,y,threshold = -0.012/x0):\n",
    "        if y[-3]>threshold:\n",
    "            val = -1.\n",
    "        else:\n",
    "            val = 1.\n",
    "        return val\n",
    "\n",
    "    # Capture_velocity_condition.terminal = True\n",
    "    Lost_condition.terminal = True\n",
    "    for_transverse_condition.terminal = True\n",
    "    # conditions =  [for_transverse_condition,Lost_condition,Capture_velocity_condition]\n",
    "    conditions =  [for_transverse_condition,Lost_condition]    \n",
    "    v_longitudinal = np.linspace(14,21,16)\n",
    "    time_final = list()\n",
    "    v_trap_initial = list()\n",
    "    \n",
    "    for v0_longitudinal in v_longitudinal:\n",
    "        rateeq.set_initial_position_and_velocity(np.array([-1*z_start/np.sqrt(2),-1*z_start/np.sqrt(2),0]),np.array([v0_longitudinal/np.sqrt(2),v0_longitudinal/np.sqrt(2),0]))\n",
    "        rateeq.set_initial_pop(np.array([1,1,1,1,1,1,1,1,1,1,1,1,0,0,0,0]))\n",
    "\n",
    "        rateeq.evolve_motion([0.,max(t_eval)],t_eval=t_eval,events= conditions,max_step=1e5,progress_bar = 0,method='LSODA')\n",
    "        sol = rateeq.sol\n",
    "        # print(sol.t_events)\n",
    "        if len(sol.t_events[0])==1:\n",
    "            if len(sol.t_events[1])==0:\n",
    "                if sol.v[0,-1]<5.810/np.sqrt(2):\n",
    "                    time_final.append(sol.t[-1])\n",
    "                    v_trap_initial.append(v0_longitudinal)\n",
    "                \n",
    "            \n",
    "            \n",
    "                    \n",
    "    # print(v_trap_initial)\n",
    "    # print(time_final)\n",
    "                    \n",
    "    if len(time_final)<=1:\n",
    "        # print(\"NO results\")\n",
    "        return 0.\n",
    "    \n",
    "    def time_vs_v_final(vff):\n",
    "        if vff>= min(v_trap_initial) and vff<=max(v_trap_initial):\n",
    "            return np.interp(vff,v_trap_initial,time_final)\n",
    "\n",
    "    def v_transverse_vs_v_traverse(vfs):\n",
    "        return (6.00/time_vs_v_final(vfs)*1e-3/t0)\n",
    "\n",
    "    muf = 140/v0\n",
    "    sigf = 17/v0\n",
    "    mut = 0\n",
    "    sigt = 18.7564/v0\n",
    "\n",
    "    def Transverse_percentage(v):\n",
    "        rv = stats.norm(mut,sigt) # Gaussian of transverse, v0 scale\n",
    "        val = (rv.cdf(v_transverse_vs_v_traverse(v))-rv.cdf(0))/rv.cdf(sigt*2)*2\n",
    "\n",
    "        if val >= 1:\n",
    "            return 1\n",
    "        else:\n",
    "            return val\n",
    "\n",
    "    def total_func(v):\n",
    "        rv_f = stats.norm(muf,sigf) # Gaussian of forward, v0 scale\n",
    "        return Transverse_percentage(v)*rv_f.pdf(v)\n",
    "\n",
    "    return integrate.quad(total_func,v_trap_initial[0],v_trap_initial[-1],limit=100)[0]"
   ]
  },
  {
   "cell_type": "code",
   "execution_count": 51,
   "id": "5be68a58-10d4-413d-8da3-a68bb0a46f1f",
   "metadata": {},
   "outputs": [
    {
     "name": "stdout",
     "output_type": "stream",
     "text": [
      "Completed in 6.13 s.                                                \n",
      "Completed in 6.50 s.                                               \n",
      "Completed in 7.00 s.                                               \n",
      "Completed in 7.22 s.                                                \n",
      "Completed in 8.96 s.                                               \n",
      "Completed in 8.53 s.                                               \n",
      "Completed in 8.91 s.                                               \n",
      "Completed in 11.03 s.                                              \n",
      "Completed in 9.44 s.                                               \n",
      "Completed in 9.50 s.                                               \n",
      "Completed in 10.45 s.                                              \n",
      "Completed in 12.23 s.                                               \n",
      "Completed in 11.57 s.                                               \n",
      "Completed in 13.71 s.                                               \n",
      "Completed in 14.28 s.                                              \n",
      "Completed in 13.94 s.                                              \n",
      "0.0475132006461054\n",
      "161.69784331321716\n"
     ]
    }
   ],
   "source": [
    "start = time.time()\n",
    "\n",
    "print(slow_bayesian(18.7,120,15,0.69,1.98,171312,505566))\n",
    "\n",
    "print(time.time()-start)"
   ]
  },
  {
   "cell_type": "code",
   "execution_count": 7,
   "id": "90849e4c-2c33-46d8-89d7-0d69430562ca",
   "metadata": {},
   "outputs": [],
   "source": [
    "pbounds = {'main_det':(10,20),'det_1':(70,170),'det_2':(5,30),'beta_1':(0,5),'beta_2':(0,15),'laseron':(138240,300000),'laseroff':(300001,600000)}"
   ]
  },
  {
   "cell_type": "code",
   "execution_count": 8,
   "id": "17032332-0cc3-4ce4-acbb-06cfa5f0654b",
   "metadata": {},
   "outputs": [],
   "source": [
    "optimizer = BayesianOptimization(\n",
    "    f = slow_bayesian,\n",
    "    pbounds=pbounds,\n",
    "    verbose=13,\n",
    "    random_state=1,\n",
    ")"
   ]
  },
  {
   "cell_type": "code",
   "execution_count": 9,
   "id": "7dab2bb3-6906-49f9-8db4-29a714c918cc",
   "metadata": {},
   "outputs": [
    {
     "data": {
      "text/plain": [
       "<bayes_opt.bayesian_optimization.BayesianOptimization at 0x1f541dc5880>"
      ]
     },
     "execution_count": 9,
     "metadata": {},
     "output_type": "execute_result"
    }
   ],
   "source": [
    "from bayes_opt.util import load_logs\n",
    "\n",
    "# New optimizer is loaded with previously seen points\n",
    "load_logs(optimizer, logs=[\"./logs_0407.json\"])"
   ]
  },
  {
   "cell_type": "code",
   "execution_count": 59,
   "id": "07a3e321-0ab3-40f1-97e2-35a3035fdfd2",
   "metadata": {},
   "outputs": [
    {
     "name": "stdout",
     "output_type": "stream",
     "text": [
      "|   iter    |  target   |  beta_1   |  beta_2   |   det_1   |   det_2   | laseroff  |  laseron  | main_det  |\n",
      "-------------------------------------------------------------------------------------------------------------\n",
      "| \u001b[0m 1       \u001b[0m | \u001b[0m 0.04677 \u001b[0m | \u001b[0m 2.085   \u001b[0m | \u001b[0m 10.8    \u001b[0m | \u001b[0m 70.01   \u001b[0m | \u001b[0m 12.56   \u001b[0m | \u001b[0m 3.44e+05\u001b[0m | \u001b[0m 1.532e+0\u001b[0m | \u001b[0m 11.86   \u001b[0m |\n",
      "=============================================================================================================\n",
      "248.13847947120667\n"
     ]
    }
   ],
   "source": [
    "start = time.time()\n",
    "optimizer.maximize(\n",
    "    init_points=1,\n",
    "    n_iter=0,)\n",
    "print(time.time()-start)"
   ]
  },
  {
   "cell_type": "code",
   "execution_count": 60,
   "id": "dac1e23d-ed2c-40b6-9be1-0c9505eebdfc",
   "metadata": {},
   "outputs": [],
   "source": [
    "from bayes_opt.logger import JSONLogger\n",
    "from bayes_opt.event import Events\n",
    "\n",
    "logger = JSONLogger(path='./logs_0407.json')\n",
    "optimizer.subscribe(Events.OPTIMIZATION_STEP,logger)"
   ]
  },
  {
   "cell_type": "code",
   "execution_count": 61,
   "id": "4ddbb751-193b-4bd8-9b86-37ff9497de02",
   "metadata": {},
   "outputs": [
    {
     "name": "stdout",
     "output_type": "stream",
     "text": [
      "|   iter    |  target   |  beta_1   |  beta_2   |   det_1   |   det_2   | laseroff  |  laseron  | main_det  |\n",
      "-------------------------------------------------------------------------------------------------------------\n",
      "| \u001b[0m 2       \u001b[0m | \u001b[0m 0.0     \u001b[0m | \u001b[0m 1.728   \u001b[0m | \u001b[0m 5.952   \u001b[0m | \u001b[0m 123.9   \u001b[0m | \u001b[0m 15.48   \u001b[0m | \u001b[0m 5.056e+0\u001b[0m | \u001b[0m 1.713e+0\u001b[0m | \u001b[0m 18.78   \u001b[0m |\n",
      "| \u001b[0m 3       \u001b[0m | \u001b[0m 0.02726 \u001b[0m | \u001b[0m 0.1369  \u001b[0m | \u001b[0m 10.06   \u001b[0m | \u001b[0m 111.7   \u001b[0m | \u001b[0m 18.97   \u001b[0m | \u001b[0m 3.421e+0\u001b[0m | \u001b[0m 1.703e+0\u001b[0m | \u001b[0m 18.01   \u001b[0m |\n",
      "| \u001b[0m 4       \u001b[0m | \u001b[0m 0.0     \u001b[0m | \u001b[0m 4.841   \u001b[0m | \u001b[0m 4.701   \u001b[0m | \u001b[0m 139.2   \u001b[0m | \u001b[0m 26.91   \u001b[0m | \u001b[0m 5.684e+0\u001b[0m | \u001b[0m 1.52e+05\u001b[0m | \u001b[0m 10.39   \u001b[0m |\n",
      "| \u001b[0m 5       \u001b[0m | \u001b[0m 0.0     \u001b[0m | \u001b[0m 0.8492  \u001b[0m | \u001b[0m 13.17   \u001b[0m | \u001b[0m 79.83   \u001b[0m | \u001b[0m 15.53   \u001b[0m | \u001b[0m 5.874e+0\u001b[0m | \u001b[0m 2.245e+0\u001b[0m | \u001b[0m 16.92   \u001b[0m |\n",
      "| \u001b[95m 6       \u001b[0m | \u001b[95m 0.0473  \u001b[0m | \u001b[95m 1.578   \u001b[0m | \u001b[95m 10.3    \u001b[0m | \u001b[95m 153.5   \u001b[0m | \u001b[95m 5.457   \u001b[0m | \u001b[95m 5.25e+05\u001b[0m | \u001b[95m 2.982e+0\u001b[0m | \u001b[95m 17.48   \u001b[0m |\n",
      "| \u001b[0m 7       \u001b[0m | \u001b[0m 0.0     \u001b[0m | \u001b[0m 1.12    \u001b[0m | \u001b[0m 14.5    \u001b[0m | \u001b[0m 123.4   \u001b[0m | \u001b[0m 23.71   \u001b[0m | \u001b[0m 5.496e+0\u001b[0m | \u001b[0m 1.88e+05\u001b[0m | \u001b[0m 15.54   \u001b[0m |\n",
      "| \u001b[0m 8       \u001b[0m | \u001b[0m 0.0     \u001b[0m | \u001b[0m 0.5403  \u001b[0m | \u001b[0m 9.576   \u001b[0m | \u001b[0m 141.3   \u001b[0m | \u001b[0m 18.9    \u001b[0m | \u001b[0m 3.72e+05\u001b[0m | \u001b[0m 1.397e+0\u001b[0m | \u001b[0m 12.15   \u001b[0m |\n",
      "| \u001b[0m 9       \u001b[0m | \u001b[0m 0.0     \u001b[0m | \u001b[0m 4.825   \u001b[0m | \u001b[0m 0.9945  \u001b[0m | \u001b[0m 75.22   \u001b[0m | \u001b[0m 20.29   \u001b[0m | \u001b[0m 4.737e+0\u001b[0m | \u001b[0m 2.775e+0\u001b[0m | \u001b[0m 14.03   \u001b[0m |\n",
      "| \u001b[95m 10      \u001b[0m | \u001b[95m 0.1184  \u001b[0m | \u001b[95m 3.274   \u001b[0m | \u001b[95m 7.52    \u001b[0m | \u001b[95m 158.8   \u001b[0m | \u001b[95m 13.97   \u001b[0m | \u001b[95m 3.317e+0\u001b[0m | \u001b[95m 1.522e+0\u001b[0m | \u001b[95m 16.0    \u001b[0m |\n",
      "| \u001b[0m 11      \u001b[0m | \u001b[0m 0.02322 \u001b[0m | \u001b[0m 3.134   \u001b[0m | \u001b[0m 3.142   \u001b[0m | \u001b[0m 162.8   \u001b[0m | \u001b[0m 19.77   \u001b[0m | \u001b[0m 3.316e+0\u001b[0m | \u001b[0m 1.506e+0\u001b[0m | \u001b[0m 12.25   \u001b[0m |\n",
      "| \u001b[0m 12      \u001b[0m | \u001b[0m 0.0     \u001b[0m | \u001b[0m 3.583   \u001b[0m | \u001b[0m 9.774   \u001b[0m | \u001b[0m 80.46   \u001b[0m | \u001b[0m 7.177   \u001b[0m | \u001b[0m 4.966e+0\u001b[0m | \u001b[0m 2.727e+0\u001b[0m | \u001b[0m 12.02   \u001b[0m |\n",
      "| \u001b[0m 13      \u001b[0m | \u001b[0m 0.0     \u001b[0m | \u001b[0m 3.286   \u001b[0m | \u001b[0m 11.13   \u001b[0m | \u001b[0m 163.9   \u001b[0m | \u001b[0m 19.28   \u001b[0m | \u001b[0m 3.315e+0\u001b[0m | \u001b[0m 1.521e+0\u001b[0m | \u001b[0m 12.09   \u001b[0m |\n",
      "| \u001b[95m 14      \u001b[0m | \u001b[95m 0.2319  \u001b[0m | \u001b[95m 4.91    \u001b[0m | \u001b[95m 2.971   \u001b[0m | \u001b[95m 162.9   \u001b[0m | \u001b[95m 15.38   \u001b[0m | \u001b[95m 4.213e+0\u001b[0m | \u001b[95m 1.408e+0\u001b[0m | \u001b[95m 17.81   \u001b[0m |\n",
      "| \u001b[0m 15      \u001b[0m | \u001b[0m 0.01503 \u001b[0m | \u001b[0m 3.144   \u001b[0m | \u001b[0m 12.43   \u001b[0m | \u001b[0m 132.3   \u001b[0m | \u001b[0m 13.25   \u001b[0m | \u001b[0m 3.882e+0\u001b[0m | \u001b[0m 1.53e+05\u001b[0m | \u001b[0m 10.14   \u001b[0m |\n",
      "| \u001b[0m 16      \u001b[0m | \u001b[0m 0.07499 \u001b[0m | \u001b[0m 2.327   \u001b[0m | \u001b[0m 3.534   \u001b[0m | \u001b[0m 89.2    \u001b[0m | \u001b[0m 7.42    \u001b[0m | \u001b[0m 5.783e+0\u001b[0m | \u001b[0m 2.076e+0\u001b[0m | \u001b[0m 15.96   \u001b[0m |\n",
      "=============================================================================================================\n",
      "2803.8727040290833\n"
     ]
    }
   ],
   "source": [
    "start = time.time()\n",
    "optimizer.maximize(\n",
    "    init_points=5,\n",
    "    n_iter=10,)\n",
    "print(time.time()-start)"
   ]
  },
  {
   "cell_type": "code",
   "execution_count": 10,
   "id": "cddc92bd-b1d1-4c56-b0a8-1bba7b8e6156",
   "metadata": {},
   "outputs": [
    {
     "name": "stdout",
     "output_type": "stream",
     "text": [
      "|   iter    |  target   |  beta_1   |  beta_2   |   det_1   |   det_2   | laseroff  |  laseron  | main_det  |\n",
      "-------------------------------------------------------------------------------------------------------------\n",
      "| \u001b[0m 1       \u001b[0m | \u001b[0m 0.0     \u001b[0m | \u001b[0m 2.646   \u001b[0m | \u001b[0m 7.78    \u001b[0m | \u001b[0m 155.1   \u001b[0m | \u001b[0m 14.86   \u001b[0m | \u001b[0m 3.28e+05\u001b[0m | \u001b[0m 2.377e+0\u001b[0m | \u001b[0m 10.4    \u001b[0m |\n",
      "| \u001b[0m 2       \u001b[0m | \u001b[0m 0.0     \u001b[0m | \u001b[0m 3.826   \u001b[0m | \u001b[0m 1.643   \u001b[0m | \u001b[0m 122.2   \u001b[0m | \u001b[0m 24.21   \u001b[0m | \u001b[0m 5.061e+0\u001b[0m | \u001b[0m 1.598e+0\u001b[0m | \u001b[0m 12.02   \u001b[0m |\n",
      "| \u001b[0m 3       \u001b[0m | \u001b[0m 0.01639 \u001b[0m | \u001b[0m 2.883   \u001b[0m | \u001b[0m 3.271   \u001b[0m | \u001b[0m 135.7   \u001b[0m | \u001b[0m 14.08   \u001b[0m | \u001b[0m 3.042e+0\u001b[0m | \u001b[0m 2.007e+0\u001b[0m | \u001b[0m 14.02   \u001b[0m |\n",
      "| \u001b[95m 4       \u001b[0m | \u001b[95m 0.2334  \u001b[0m | \u001b[95m 1.615   \u001b[0m | \u001b[95m 10.69   \u001b[0m | \u001b[95m 118.0   \u001b[0m | \u001b[95m 5.67    \u001b[0m | \u001b[95m 5.048e+0\u001b[0m | \u001b[95m 2.644e+0\u001b[0m | \u001b[95m 19.74   \u001b[0m |\n",
      "| \u001b[0m 5       \u001b[0m | \u001b[0m 0.0     \u001b[0m | \u001b[0m 2.207   \u001b[0m | \u001b[0m 7.635   \u001b[0m | \u001b[0m 128.4   \u001b[0m | \u001b[0m 25.99   \u001b[0m | \u001b[0m 3.008e+0\u001b[0m | \u001b[0m 2.706e+0\u001b[0m | \u001b[0m 11.11   \u001b[0m |\n",
      "| \u001b[0m 6       \u001b[0m | \u001b[0m 0.02142 \u001b[0m | \u001b[0m 0.1765  \u001b[0m | \u001b[0m 10.53   \u001b[0m | \u001b[0m 151.0   \u001b[0m | \u001b[0m 16.91   \u001b[0m | \u001b[0m 3.743e+0\u001b[0m | \u001b[0m 2.611e+0\u001b[0m | \u001b[0m 10.2    \u001b[0m |\n",
      "| \u001b[0m 7       \u001b[0m | \u001b[0m 0.1048  \u001b[0m | \u001b[0m 4.625   \u001b[0m | \u001b[0m 12.57   \u001b[0m | \u001b[0m 70.76   \u001b[0m | \u001b[0m 27.36   \u001b[0m | \u001b[0m 3.016e+0\u001b[0m | \u001b[0m 2.205e+0\u001b[0m | \u001b[0m 14.44   \u001b[0m |\n",
      "| \u001b[0m 8       \u001b[0m | \u001b[0m 0.1048  \u001b[0m | \u001b[0m 4.625   \u001b[0m | \u001b[0m 12.57   \u001b[0m | \u001b[0m 70.76   \u001b[0m | \u001b[0m 27.36   \u001b[0m | \u001b[0m 3.016e+0\u001b[0m | \u001b[0m 2.205e+0\u001b[0m | \u001b[0m 14.44   \u001b[0m |\n",
      "| \u001b[0m 9       \u001b[0m | \u001b[0m 0.0     \u001b[0m | \u001b[0m 1.712   \u001b[0m | \u001b[0m 11.24   \u001b[0m | \u001b[0m 153.5   \u001b[0m | \u001b[0m 12.89   \u001b[0m | \u001b[0m 5.26e+05\u001b[0m | \u001b[0m 2.822e+0\u001b[0m | \u001b[0m 13.26   \u001b[0m |\n",
      "| \u001b[0m 10      \u001b[0m | \u001b[0m 0.0     \u001b[0m | \u001b[0m 2.511   \u001b[0m | \u001b[0m 2.673   \u001b[0m | \u001b[0m 157.5   \u001b[0m | \u001b[0m 28.46   \u001b[0m | \u001b[0m 5.279e+0\u001b[0m | \u001b[0m 2.628e+0\u001b[0m | \u001b[0m 12.98   \u001b[0m |\n",
      "| \u001b[0m 11      \u001b[0m | \u001b[0m 0.0     \u001b[0m | \u001b[0m 2.86    \u001b[0m | \u001b[0m 0.8793  \u001b[0m | \u001b[0m 118.5   \u001b[0m | \u001b[0m 16.24   \u001b[0m | \u001b[0m 3.337e+0\u001b[0m | \u001b[0m 2.627e+0\u001b[0m | \u001b[0m 15.57   \u001b[0m |\n",
      "| \u001b[0m 12      \u001b[0m | \u001b[0m 0.0     \u001b[0m | \u001b[0m 3.72    \u001b[0m | \u001b[0m 9.545   \u001b[0m | \u001b[0m 146.3   \u001b[0m | \u001b[0m 6.266   \u001b[0m | \u001b[0m 3.513e+0\u001b[0m | \u001b[0m 2.509e+0\u001b[0m | \u001b[0m 19.62   \u001b[0m |\n",
      "| \u001b[0m 13      \u001b[0m | \u001b[0m 0.0     \u001b[0m | \u001b[0m 0.685   \u001b[0m | \u001b[0m 14.9    \u001b[0m | \u001b[0m 100.1   \u001b[0m | \u001b[0m 21.92   \u001b[0m | \u001b[0m 3.38e+05\u001b[0m | \u001b[0m 2.55e+05\u001b[0m | \u001b[0m 10.79   \u001b[0m |\n",
      "| \u001b[0m 14      \u001b[0m | \u001b[0m 0.2181  \u001b[0m | \u001b[0m 3.0     \u001b[0m | \u001b[0m 3.875   \u001b[0m | \u001b[0m 155.1   \u001b[0m | \u001b[0m 18.3    \u001b[0m | \u001b[0m 4.011e+0\u001b[0m | \u001b[0m 2.791e+0\u001b[0m | \u001b[0m 16.07   \u001b[0m |\n",
      "| \u001b[0m 15      \u001b[0m | \u001b[0m 0.0     \u001b[0m | \u001b[0m 0.09493 \u001b[0m | \u001b[0m 12.94   \u001b[0m | \u001b[0m 112.7   \u001b[0m | \u001b[0m 9.89    \u001b[0m | \u001b[0m 5.044e+0\u001b[0m | \u001b[0m 2.052e+0\u001b[0m | \u001b[0m 13.8    \u001b[0m |\n",
      "| \u001b[0m 16      \u001b[0m | \u001b[0m 0.0     \u001b[0m | \u001b[0m 1.186   \u001b[0m | \u001b[0m 7.141   \u001b[0m | \u001b[0m 98.22   \u001b[0m | \u001b[0m 28.7    \u001b[0m | \u001b[0m 5.705e+0\u001b[0m | \u001b[0m 2.784e+0\u001b[0m | \u001b[0m 18.14   \u001b[0m |\n",
      "| \u001b[0m 17      \u001b[0m | \u001b[0m 0.0     \u001b[0m | \u001b[0m 2.27    \u001b[0m | \u001b[0m 13.07   \u001b[0m | \u001b[0m 114.7   \u001b[0m | \u001b[0m 7.129   \u001b[0m | \u001b[0m 3.206e+0\u001b[0m | \u001b[0m 2.561e+0\u001b[0m | \u001b[0m 17.09   \u001b[0m |\n",
      "| \u001b[0m 18      \u001b[0m | \u001b[0m 0.0     \u001b[0m | \u001b[0m 1.311   \u001b[0m | \u001b[0m 6.289   \u001b[0m | \u001b[0m 102.9   \u001b[0m | \u001b[0m 8.738   \u001b[0m | \u001b[0m 5.83e+05\u001b[0m | \u001b[0m 1.518e+0\u001b[0m | \u001b[0m 15.3    \u001b[0m |\n",
      "| \u001b[0m 19      \u001b[0m | \u001b[0m 0.1584  \u001b[0m | \u001b[0m 2.832   \u001b[0m | \u001b[0m 8.712   \u001b[0m | \u001b[0m 120.7   \u001b[0m | \u001b[0m 20.63   \u001b[0m | \u001b[0m 3.04e+05\u001b[0m | \u001b[0m 1.804e+0\u001b[0m | \u001b[0m 16.21   \u001b[0m |\n",
      "| \u001b[0m 20      \u001b[0m | \u001b[0m 0.1621  \u001b[0m | \u001b[0m 4.821   \u001b[0m | \u001b[0m 1.387   \u001b[0m | \u001b[0m 136.9   \u001b[0m | \u001b[0m 25.55   \u001b[0m | \u001b[0m 5.007e+0\u001b[0m | \u001b[0m 2.256e+0\u001b[0m | \u001b[0m 18.68   \u001b[0m |\n",
      "| \u001b[0m 21      \u001b[0m | \u001b[0m 0.0     \u001b[0m | \u001b[0m 1.684   \u001b[0m | \u001b[0m 4.536   \u001b[0m | \u001b[0m 88.33   \u001b[0m | \u001b[0m 20.32   \u001b[0m | \u001b[0m 4.205e+0\u001b[0m | \u001b[0m 1.835e+0\u001b[0m | \u001b[0m 10.43   \u001b[0m |\n",
      "| \u001b[0m 22      \u001b[0m | \u001b[0m 0.1033  \u001b[0m | \u001b[0m 0.1379  \u001b[0m | \u001b[0m 6.822   \u001b[0m | \u001b[0m 138.9   \u001b[0m | \u001b[0m 9.771   \u001b[0m | \u001b[0m 5.015e+0\u001b[0m | \u001b[0m 1.934e+0\u001b[0m | \u001b[0m 18.21   \u001b[0m |\n",
      "| \u001b[0m 23      \u001b[0m | \u001b[0m 0.0     \u001b[0m | \u001b[0m 1.419   \u001b[0m | \u001b[0m 6.62    \u001b[0m | \u001b[0m 93.96   \u001b[0m | \u001b[0m 23.42   \u001b[0m | \u001b[0m 4.476e+0\u001b[0m | \u001b[0m 2.574e+0\u001b[0m | \u001b[0m 14.18   \u001b[0m |\n",
      "| \u001b[0m 24      \u001b[0m | \u001b[0m 0.09215 \u001b[0m | \u001b[0m 3.299   \u001b[0m | \u001b[0m 11.32   \u001b[0m | \u001b[0m 116.4   \u001b[0m | \u001b[0m 11.24   \u001b[0m | \u001b[0m 5.269e+0\u001b[0m | \u001b[0m 1.834e+0\u001b[0m | \u001b[0m 15.1    \u001b[0m |\n",
      "| \u001b[0m 25      \u001b[0m | \u001b[0m 0.0     \u001b[0m | \u001b[0m 1.241   \u001b[0m | \u001b[0m 9.205   \u001b[0m | \u001b[0m 109.7   \u001b[0m | \u001b[0m 27.13   \u001b[0m | \u001b[0m 4.875e+0\u001b[0m | \u001b[0m 1.725e+0\u001b[0m | \u001b[0m 15.35   \u001b[0m |\n",
      "| \u001b[0m 26      \u001b[0m | \u001b[0m 0.1344  \u001b[0m | \u001b[0m 0.6825  \u001b[0m | \u001b[0m 1.134   \u001b[0m | \u001b[0m 96.66   \u001b[0m | \u001b[0m 28.48   \u001b[0m | \u001b[0m 4.659e+0\u001b[0m | \u001b[0m 2.204e+0\u001b[0m | \u001b[0m 16.87   \u001b[0m |\n",
      "| \u001b[0m 27      \u001b[0m | \u001b[0m 0.05437 \u001b[0m | \u001b[0m 1.184   \u001b[0m | \u001b[0m 6.793   \u001b[0m | \u001b[0m 121.1   \u001b[0m | \u001b[0m 8.094   \u001b[0m | \u001b[0m 4.729e+0\u001b[0m | \u001b[0m 2.138e+0\u001b[0m | \u001b[0m 17.81   \u001b[0m |\n",
      "| \u001b[0m 28      \u001b[0m | \u001b[0m 0.008994\u001b[0m | \u001b[0m 1.694   \u001b[0m | \u001b[0m 2.223   \u001b[0m | \u001b[0m 91.37   \u001b[0m | \u001b[0m 5.295   \u001b[0m | \u001b[0m 3.408e+0\u001b[0m | \u001b[0m 2.696e+0\u001b[0m | \u001b[0m 14.83   \u001b[0m |\n"
     ]
    },
    {
     "name": "stderr",
     "output_type": "stream",
     "text": [
      "C:\\Users\\qmopl\\AppData\\Local\\Temp/ipykernel_10708/3589849535.py:83: IntegrationWarning: The occurrence of roundoff error is detected, which prevents \n",
      "  the requested tolerance from being achieved.  The error may be \n",
      "  underestimated.\n",
      "  return integrate.quad(total_func,v_trap_initial[0],v_trap_initial[-1],limit=100)[0]\n"
     ]
    },
    {
     "name": "stdout",
     "output_type": "stream",
     "text": [
      "| \u001b[95m 29      \u001b[0m | \u001b[95m 0.2944  \u001b[0m | \u001b[95m 3.805   \u001b[0m | \u001b[95m 9.937   \u001b[0m | \u001b[95m 87.6    \u001b[0m | \u001b[95m 25.53   \u001b[0m | \u001b[95m 4.919e+0\u001b[0m | \u001b[95m 1.623e+0\u001b[0m | \u001b[95m 19.47   \u001b[0m |\n",
      "| \u001b[0m 30      \u001b[0m | \u001b[0m 0.0     \u001b[0m | \u001b[0m 3.157   \u001b[0m | \u001b[0m 12.44   \u001b[0m | \u001b[0m 145.8   \u001b[0m | \u001b[0m 26.19   \u001b[0m | \u001b[0m 4.12e+05\u001b[0m | \u001b[0m 2.233e+0\u001b[0m | \u001b[0m 11.68   \u001b[0m |\n",
      "=============================================================================================================\n",
      "4919.5048615932465\n"
     ]
    }
   ],
   "source": [
    "start = time.time()\n",
    "optimizer.maximize(\n",
    "    init_points=0,\n",
    "    n_iter=30,)\n",
    "print(time.time()-start)"
   ]
  },
  {
   "cell_type": "code",
   "execution_count": 15,
   "id": "4fda1838-64a4-4d7a-90bb-46b0b1c5d955",
   "metadata": {},
   "outputs": [
    {
     "name": "stdout",
     "output_type": "stream",
     "text": [
      "|   iter    |  target   |  beta_1   |  beta_2   |   det_1   |   det_2   | laseroff  |  laseron  | main_det  |\n",
      "-------------------------------------------------------------------------------------------------------------\n",
      "| \u001b[0m 53      \u001b[0m | \u001b[0m 0.002721\u001b[0m | \u001b[0m 4.385   \u001b[0m | \u001b[0m 0.326   \u001b[0m | \u001b[0m 116.6   \u001b[0m | \u001b[0m 15.66   \u001b[0m | \u001b[0m 4.285e+0\u001b[0m | \u001b[0m 2.125e+0\u001b[0m | \u001b[0m 18.62   \u001b[0m |\n",
      "=============================================================================================================\n"
     ]
    }
   ],
   "source": [
    "optimizer.maximize(n_iter=1,init_points = 0)"
   ]
  },
  {
   "cell_type": "code",
   "execution_count": 11,
   "id": "067f2740-c1f1-409f-98ac-65bcf3be7093",
   "metadata": {},
   "outputs": [
    {
     "data": {
      "text/plain": [
       "{'target': 0.2944409759829353,\n",
       " 'params': {'beta_1': 3.8050995873529567,\n",
       "  'beta_2': 9.936559576119455,\n",
       "  'det_1': 87.59839010311943,\n",
       "  'det_2': 25.530476380724924,\n",
       "  'laseroff': 491912.16996315226,\n",
       "  'laseron': 162300.30234814572,\n",
       "  'main_det': 19.47056298409516}}"
      ]
     },
     "execution_count": 11,
     "metadata": {},
     "output_type": "execute_result"
    }
   ],
   "source": [
    "optimizer.max"
   ]
  },
  {
   "cell_type": "code",
   "execution_count": null,
   "id": "f5959640-e4e9-4620-8341-cb48e7501eaf",
   "metadata": {},
   "outputs": [],
   "source": []
  }
 ],
 "metadata": {
  "kernelspec": {
   "display_name": "Python 3 (ipykernel)",
   "language": "python",
   "name": "python3"
  },
  "language_info": {
   "codemirror_mode": {
    "name": "ipython",
    "version": 3
   },
   "file_extension": ".py",
   "mimetype": "text/x-python",
   "name": "python",
   "nbconvert_exporter": "python",
   "pygments_lexer": "ipython3",
   "version": "3.9.7"
  }
 },
 "nbformat": 4,
 "nbformat_minor": 5
}
