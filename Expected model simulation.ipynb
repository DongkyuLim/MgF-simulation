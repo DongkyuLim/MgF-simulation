{
 "cells": [
  {
   "cell_type": "code",
   "execution_count": 1,
   "id": "8557f574-42db-4806-98f3-cf9b53839f8a",
   "metadata": {},
   "outputs": [],
   "source": [
    "import sys\n",
    "import numpy as np\n",
    "import matplotlib.pyplot as plt\n",
    "import scipy.constants as cts\n",
    "import pylcp\n",
    "import time\n",
    "import random\n",
    "from tqdm import tqdm\n",
    "from scipy.interpolate import interp1d\n",
    "from scipy import stats\n",
    "from scipy import integrate\n",
    "from celluloid import Camera\n",
    "from bayes_opt import BayesianOptimization\n",
    "import json\n",
    "import seaborn as sns\n",
    "import White_class\n",
    "from scipy import special"
   ]
  },
  {
   "cell_type": "code",
   "execution_count": 2,
   "id": "a6e8d884-1925-4a6b-903a-bda2e9c0032a",
   "metadata": {},
   "outputs": [],
   "source": [
    "# main_detune = 18.7\n",
    "# sideband_detune = 120\n",
    "# white_detune = 15\n",
    "# beta_1 = 0.69\n",
    "# beta_2 = 1.98\n",
    "# laseron = 171312\n",
    "# laseroff = 505566\n",
    "\n",
    "\n",
    "# test = White_class.Whitelight(main_detune,sideband_detune,white_detune, beta_1,beta_2,laseron,laseroff)"
   ]
  },
  {
   "cell_type": "code",
   "execution_count": 3,
   "id": "12ee3adc-ce99-4837-a5dd-276dd06ab0d2",
   "metadata": {},
   "outputs": [],
   "source": [
    "#Main variables\n",
    "\n",
    "MOT_power = 50\n",
    "v0_start=1\n",
    "v0_step=1\n",
    "v0_end=25\n",
    "t0_start=0\n",
    "t0_step=1\n",
    "t0_end=3500000\n",
    "\n",
    "\n",
    "#Define the constants\n",
    "Gamma = 22 # Hz to kHz, Decay rate\n",
    "wavelength = 359.3e-9 # m to mm\n",
    "k = 1/wavelength*2*np.pi #x_0\n",
    "x0 = 1/k\n",
    "t0 = 1/Gamma*1/(2*np.pi*1e6)\n",
    "v0 = x0/t0\n",
    "m0 = cts.hbar*t0/x0**2\n",
    "a0 = x0/t0**2\n",
    "F0 = cts.hbar/(x0*t0)\n",
    "mass = 43*cts.value('atomic mass constant')/m0 # m_0\n",
    "mag_field_grad = 1252.8168984164048*x0\n",
    "waist = 0.012/x0\n",
    "v_max = 20\n",
    "z_max = 384.855e-3/x0\n",
    "z_start = 384.855e-3/x0\n",
    "dz = 0.0005/x0\n",
    "dv = 0.05\n",
    "omega = 2*np.pi*(cts.c/wavelength) #Transition frequency\n",
    "Isat = np.pi*cts.h*cts.c*Gamma*2*np.pi*1e6/3*1/(wavelength)**3\n",
    "t_eval = np.arange(t0_start,t0_end,t0_step)\n",
    "\n",
    "# The detunings used in the PRAs:\n",
    "intensities = 2.*MOT_power*1e-3/(np.pi*0.012**2)/Isat\n",
    "\n",
    "#Define the hamiltonian\n",
    "H0_X, Bq_X, U_X, Xbasis = pylcp.hamiltonians.XFmolecules.Xstate(\n",
    "gamma = 50.697/Gamma,b=154.7/Gamma, c=178.5/Gamma,\n",
    "    muB = cts.value('Bohr magneton in Hz/T')/1e6*1e-4/Gamma,return_basis=True\n",
    "    )\n",
    "\n",
    "# b : SI coupling(isotropic), c : Iz Sz coupling(anisotropic), cc : I N coupling, gamma : S N coupling\n",
    "\n",
    "E_X = np.unique(np.diag(H0_X))\n",
    "\n",
    "H0_A, Bq_A, Abasis = pylcp.hamiltonians.XFmolecules.Astate(\n",
    "    P=+1, Ahfs=-1.5/Gamma, q=0, p=0,gJ=-0.00002,\n",
    "    muB=cts.value('Bohr magneton in Hz/T')/1e6*1e-4/Gamma, return_basis=True\n",
    "    )\n",
    "\n",
    "# gJ : Lande g-factor, p : parity(e parity)\n",
    "\n",
    "E_A = np.unique(np.diag(H0_A))\n",
    "\n",
    "dijq = pylcp.hamiltonians.XFmolecules.dipoleXandAstates(\n",
    "    Xbasis, Abasis, UX=U_X\n",
    "    )\n",
    "\n",
    "hamiltonian = pylcp.hamiltonian(H0_X, H0_A, Bq_X, Bq_A, dijq,mass = mass)"
   ]
  },
  {
   "cell_type": "code",
   "execution_count": 4,
   "id": "536a9fa9-d79e-4863-a471-c8bd22da599f",
   "metadata": {},
   "outputs": [],
   "source": [
    "#Define the zero magnetic field.\n",
    "    \n",
    "magField = pylcp.quadrupoleMagneticField(mag_field_grad)\n",
    "# magField = np.zeros(3,)"
   ]
  },
  {
   "cell_type": "code",
   "execution_count": 5,
   "id": "09ae2a36-ed5e-4e37-8585-cd77c3328b2a",
   "metadata": {},
   "outputs": [],
   "source": [
    "def Fixed_detune_MgF_MOT(main_det,det_1,det_2,beta_1,beta_2,laseron,laseroff):\n",
    "    det_side = det_1/Gamma\n",
    "    det_side2 = det_2/Gamma\n",
    "    Avg_X = np.average(E_X)\n",
    "    init_pow = 0.5*2./(np.pi*(0.012)**2)/Isat\n",
    "    \n",
    "    def Gaussain_Beam_Diagonal(R:np.array,waist):\n",
    "        return np.exp(-2*((R[0]-R[1])**2/2+R[2]**2)/waist**2)\n",
    "    \n",
    "    def Bessel_Intensity(n_order,beta):\n",
    "\n",
    "        return special.jv(n_order,beta)**2\n",
    "    \n",
    "    def Heav_step(t):\n",
    "        if laseron<=t and t<laseron+14:\n",
    "            return -1*(t-laseron-7)*((t-laseron-7)**2-49*3)*1/686*1/2+1/2\n",
    "        elif laseron+14<=t and t<laseroff:\n",
    "            return 1\n",
    "        elif t>=laseroff and t<laseroff+14:\n",
    "            return (t-laseroff-7)*((t-laseroff-7)**2-49*3)*1/686*1/2 + 1/2\n",
    "        else:\n",
    "            return 0    \n",
    "        \n",
    "    laserBeams = pylcp.laserBeams()\n",
    "    \n",
    "    laserBeams += pylcp.laserBeams([{'kvec':np.array([-1,-1,0]),'pol':+1,'pol_coord':'spherical','delta':(E_A[-1]-Avg_X-main_det)-det_side-det_side2*2,\n",
    "                                     's': lambda R,t : init_pow*Gaussain_Beam_Diagonal(R,waist)*Heav_step(t)*Bessel_Intensity(-1,beta_1)*Bessel_Intensity(2,beta_2)},\n",
    "                                    {'kvec':np.array([-1,-1,0]),'pol':-1,'pol_coord':'spherical','delta':(E_A[-1]-Avg_X-main_det)-det_side-det_side2*2,\n",
    "                                     's': lambda R,t : init_pow*Gaussain_Beam_Diagonal(R,waist)*Heav_step(t)*Bessel_Intensity(-1,beta_1)*Bessel_Intensity(2,beta_2)}])\n",
    "    laserBeams += pylcp.laserBeams([{'kvec':np.array([-1,-1,0]),'pol':+1,'pol_coord':'spherical','delta':(E_A[-1]-Avg_X-main_det)-det_side-det_side2*1,\n",
    "                                     's': lambda R,t : init_pow*Gaussain_Beam_Diagonal(R,waist)*Heav_step(t)*Bessel_Intensity(-1,beta_1)*Bessel_Intensity(1,beta_2)},\n",
    "                                    {'kvec':np.array([-1,-1,0]),'pol':-1,'pol_coord':'spherical','delta':(E_A[-1]-Avg_X-main_det)-det_side-det_side2*1,\n",
    "                                     's': lambda R,t : init_pow*Gaussain_Beam_Diagonal(R,waist)*Heav_step(t)*Bessel_Intensity(-1,beta_1)*Bessel_Intensity(1,beta_2)}])\n",
    "    laserBeams += pylcp.laserBeams([{'kvec':np.array([-1,-1,0]),'pol':+1,'pol_coord':'spherical','delta':(E_A[-1]-Avg_X-main_det)-det_side-det_side2*0,\n",
    "                                     's': lambda R,t : init_pow*Gaussain_Beam_Diagonal(R,waist)*Heav_step(t)*Bessel_Intensity(-1,beta_1)*Bessel_Intensity(0,beta_2)},\n",
    "                                    {'kvec':np.array([-1,-1,0]),'pol':-1,'pol_coord':'spherical','delta':(E_A[-1]-Avg_X-main_det)-det_side-det_side2*0,\n",
    "                                     's': lambda R,t : init_pow*Gaussain_Beam_Diagonal(R,waist)*Heav_step(t)*Bessel_Intensity(-1,beta_1)*Bessel_Intensity(0,beta_2)}])\n",
    "    laserBeams += pylcp.laserBeams([{'kvec':np.array([-1,-1,0]),'pol':+1,'pol_coord':'spherical','delta':(E_A[-1]-Avg_X-main_det)-det_side+det_side2*1,\n",
    "                                     's': lambda R,t : init_pow*Gaussain_Beam_Diagonal(R,waist)*Heav_step(t)*Bessel_Intensity(-1,beta_1)*Bessel_Intensity(-1,beta_2)},\n",
    "                                    {'kvec':np.array([-1,-1,0]),'pol':-1,'pol_coord':'spherical','delta':(E_A[-1]-Avg_X-main_det)-det_side+det_side2*1,\n",
    "                                     's': lambda R,t : init_pow*Gaussain_Beam_Diagonal(R,waist)*Heav_step(t)*Bessel_Intensity(-1,beta_1)*Bessel_Intensity(-1,beta_2)}])\n",
    "    laserBeams += pylcp.laserBeams([{'kvec':np.array([-1,-1,0]),'pol':+1,'pol_coord':'spherical','delta':(E_A[-1]-Avg_X-main_det)-det_side+det_side2*2,\n",
    "                                     's': lambda R,t : init_pow*Gaussain_Beam_Diagonal(R,waist)*Heav_step(t)*Bessel_Intensity(-1,beta_1)*Bessel_Intensity(-2,beta_2)},\n",
    "                                    {'kvec':np.array([-1,-1,0]),'pol':-1,'pol_coord':'spherical','delta':(E_A[-1]-Avg_X-main_det)-det_side+det_side2*2,\n",
    "                                     's': lambda R,t : init_pow*Gaussain_Beam_Diagonal(R,waist)*Heav_step(t)*Bessel_Intensity(-1,beta_1)*Bessel_Intensity(-2,beta_2)}])\n",
    "\n",
    "# Main Slowing Laser\n",
    "    laserBeams += pylcp.laserBeams([{'kvec':np.array([-1,-1,0]),'pol':+1,'pol_coord':'spherical','delta':(E_A[-1]-Avg_X-main_det)-det_side2*2,\n",
    "                                     's': lambda R,t : init_pow*Gaussain_Beam_Diagonal(R,waist)*Heav_step(t)*Bessel_Intensity(0,beta_1)*Bessel_Intensity(2,beta_2)},\n",
    "                                    {'kvec':np.array([-1,-1,0]),'pol':-1,'pol_coord':'spherical','delta':(E_A[-1]-Avg_X-main_det)-det_side2*2,\n",
    "                                     's': lambda R,t : init_pow*Gaussain_Beam_Diagonal(R,waist)*Heav_step(t)*Bessel_Intensity(0,beta_1)*Bessel_Intensity(2,beta_2)}])\n",
    "    laserBeams += pylcp.laserBeams([{'kvec':np.array([-1,-1,0]),'pol':+1,'pol_coord':'spherical','delta':(E_A[-1]-Avg_X-main_det)-det_side2*1,\n",
    "                                     's': lambda R,t : init_pow*Gaussain_Beam_Diagonal(R,waist)*Heav_step(t)*Bessel_Intensity(0,beta_1)*Bessel_Intensity(1,beta_2)},\n",
    "                                    {'kvec':np.array([-1,-1,0]),'pol':-1,'pol_coord':'spherical','delta':(E_A[-1]-Avg_X-main_det)-det_side2*1,\n",
    "                                     's': lambda R,t : init_pow*Gaussain_Beam_Diagonal(R,waist)*Heav_step(t)*Bessel_Intensity(0,beta_1)*Bessel_Intensity(1,beta_2)}])\n",
    "    laserBeams += pylcp.laserBeams([{'kvec':np.array([-1,-1,0]),'pol':+1,'pol_coord':'spherical','delta':(E_A[-1]-Avg_X-main_det)-det_side2*0,\n",
    "                                     's': lambda R,t : init_pow*Gaussain_Beam_Diagonal(R,waist)*Heav_step(t)*Bessel_Intensity(0,beta_1)*Bessel_Intensity(0,beta_2)},\n",
    "                                    {'kvec':np.array([-1,-1,0]),'pol':-1,'pol_coord':'spherical','delta':(E_A[-1]-Avg_X-main_det)-det_side2*0,\n",
    "                                     's': lambda R,t : init_pow*Gaussain_Beam_Diagonal(R,waist)*Heav_step(t)*Bessel_Intensity(0,beta_1)*Bessel_Intensity(0,beta_2)}])\n",
    "    laserBeams += pylcp.laserBeams([{'kvec':np.array([-1,-1,0]),'pol':+1,'pol_coord':'spherical','delta':(E_A[-1]-Avg_X-main_det)+det_side2*1,\n",
    "                                     's': lambda R,t : init_pow*Gaussain_Beam_Diagonal(R,waist)*Heav_step(t)*Bessel_Intensity(0,beta_1)*Bessel_Intensity(-1,beta_2)},\n",
    "                                    {'kvec':np.array([-1,-1,0]),'pol':-1,'pol_coord':'spherical','delta':(E_A[-1]-Avg_X-main_det)+det_side2*1,\n",
    "                                     's': lambda R,t : init_pow*Gaussain_Beam_Diagonal(R,waist)*Heav_step(t)*Bessel_Intensity(0,beta_1)*Bessel_Intensity(-1,beta_2)}])\n",
    "    laserBeams += pylcp.laserBeams([{'kvec':np.array([-1,-1,0]),'pol':+1,'pol_coord':'spherical','delta':(E_A[-1]-Avg_X-main_det)+det_side2*2,\n",
    "                                     's': lambda R,t : init_pow*Gaussain_Beam_Diagonal(R,waist)*Heav_step(t)*Bessel_Intensity(0,beta_1)*Bessel_Intensity(-2,beta_2)},\n",
    "                                    {'kvec':np.array([-1,-1,0]),'pol':-1,'pol_coord':'spherical','delta':(E_A[-1]-Avg_X-main_det)+det_side2*2,\n",
    "                                     's': lambda R,t : init_pow*Gaussain_Beam_Diagonal(R,waist)*Heav_step(t)*Bessel_Intensity(0,beta_1)*Bessel_Intensity(-2,beta_2)}])\n",
    "# Plus Sideband part\n",
    "    laserBeams += pylcp.laserBeams([{'kvec':np.array([-1,-1,0]),'pol':+1,'pol_coord':'spherical','delta':(E_A[-1]-Avg_X-main_det)+det_side-det_side2*2,\n",
    "                                     's': lambda R,t : init_pow*Gaussain_Beam_Diagonal(R,waist)*Heav_step(t)*Bessel_Intensity(1,beta_1)*Bessel_Intensity(2,beta_2)},\n",
    "                                    {'kvec':np.array([-1,-1,0]),'pol':-1,'pol_coord':'spherical','delta':(E_A[-1]-Avg_X-main_det)+det_side-det_side2*2,\n",
    "                                     's': lambda R,t : init_pow*Gaussain_Beam_Diagonal(R,waist)*Heav_step(t)*Bessel_Intensity(1,beta_1)*Bessel_Intensity(2,beta_2)}])\n",
    "    laserBeams += pylcp.laserBeams([{'kvec':np.array([-1,-1,0]),'pol':+1,'pol_coord':'spherical','delta':(E_A[-1]-Avg_X-main_det)+det_side-det_side2*1,\n",
    "                                     's': lambda R,t : init_pow*Gaussain_Beam_Diagonal(R,waist)*Heav_step(t)*Bessel_Intensity(1,beta_1)*Bessel_Intensity(1,beta_2)},\n",
    "                                    {'kvec':np.array([-1,-1,0]),'pol':-1,'pol_coord':'spherical','delta':(E_A[-1]-Avg_X-main_det)+det_side-det_side2*1,\n",
    "                                     's': lambda R,t : init_pow*Gaussain_Beam_Diagonal(R,waist)*Heav_step(t)*Bessel_Intensity(1,beta_1)*Bessel_Intensity(1,beta_2)}])\n",
    "    laserBeams += pylcp.laserBeams([{'kvec':np.array([-1,-1,0]),'pol':+1,'pol_coord':'spherical','delta':(E_A[-1]-Avg_X-main_det)+det_side-det_side2*0,\n",
    "                                     's': lambda R,t : init_pow*Gaussain_Beam_Diagonal(R,waist)*Heav_step(t)*Bessel_Intensity(1,beta_1)*Bessel_Intensity(0,beta_2)},\n",
    "                                    {'kvec':np.array([-1,-1,0]),'pol':-1,'pol_coord':'spherical','delta':(E_A[-1]-Avg_X-main_det)+det_side-det_side2*0,\n",
    "                                     's': lambda R,t : init_pow*Gaussain_Beam_Diagonal(R,waist)*Heav_step(t)*Bessel_Intensity(1,beta_1)*Bessel_Intensity(0,beta_2)}])\n",
    "    laserBeams += pylcp.laserBeams([{'kvec':np.array([-1,-1,0]),'pol':+1,'pol_coord':'spherical','delta':(E_A[-1]-Avg_X-main_det)+det_side+det_side2*1,\n",
    "                                     's': lambda R,t : init_pow*Gaussain_Beam_Diagonal(R,waist)*Heav_step(t)*Bessel_Intensity(1,beta_1)*Bessel_Intensity(-1,beta_2)},\n",
    "                                    {'kvec':np.array([-1,-1,0]),'pol':-1,'pol_coord':'spherical','delta':(E_A[-1]-Avg_X-main_det)+det_side+det_side2*1,\n",
    "                                     's': lambda R,t : init_pow*Gaussain_Beam_Diagonal(R,waist)*Heav_step(t)*Bessel_Intensity(1,beta_1)*Bessel_Intensity(-1,beta_2)}])\n",
    "    laserBeams += pylcp.laserBeams([{'kvec':np.array([-1,-1,0]),'pol':+1,'pol_coord':'spherical','delta':(E_A[-1]-Avg_X-main_det)+det_side+det_side2*2,\n",
    "                                     's': lambda R,t : init_pow*Gaussain_Beam_Diagonal(R,waist)*Heav_step(t)*Bessel_Intensity(1,beta_1)*Bessel_Intensity(-2,beta_2)},\n",
    "                                    {'kvec':np.array([-1,-1,0]),'pol':-1,'pol_coord':'spherical','delta':(E_A[-1]-Avg_X-main_det)+det_side+det_side2*2,\n",
    "                                     's': lambda R,t : init_pow*Gaussain_Beam_Diagonal(R,waist)*Heav_step(t)*Bessel_Intensity(1,beta_1)*Bessel_Intensity(-2,beta_2)}])\n",
    "    return laserBeams"
   ]
  },
  {
   "cell_type": "code",
   "execution_count": 6,
   "id": "9632e014-0735-4c01-b6f7-3cbea3e93f38",
   "metadata": {},
   "outputs": [],
   "source": [
    "def slow_bayesian(main_det,det_1,det_2,beta_1,beta_2,laseron,laseroff):\n",
    "    laserBeams = Fixed_detune_MgF_MOT(main_det,det_1,det_2,beta_1,beta_2,laseron,laseroff)\n",
    "    magField = pylcp.quadrupoleMagneticField(mag_field_grad)\n",
    "    rateeq = pylcp.rateeq(laserBeams=laserBeams,magField=magField,hamitlonian=hamiltonian)\n",
    "\n",
    "    \n",
    "    def Capture_velocity_condition(t,y,threshold = 5.810):\n",
    "        if y[-6]<threshold:\n",
    "            val = -1.\n",
    "        else:\n",
    "            val = 1.\n",
    "        return val\n",
    "    def Lost_condition(t,y,threshold = 0.):\n",
    "        if y[-6]<threshold:\n",
    "            val = -1.\n",
    "        else:\n",
    "            val = 1.\n",
    "        return val\n",
    "    def for_transverse_condition(t,y,threshold = -0.020/x0):\n",
    "        if y[-3]>threshold:\n",
    "            val = -1.\n",
    "        else:\n",
    "            val = 1.\n",
    "        return val\n",
    "\n",
    "    Capture_velocity_condition.terminal = False\n",
    "    Lost_condition.terminal = False\n",
    "    for_transverse_condition.terminal = False\n",
    "    conditions =  [for_transverse_condition,Lost_condition,Capture_velocity_condition]\n",
    "    \n",
    "    v_longitudinal = np.linspace(14,21,16)\n",
    "    time_final = list()\n",
    "    v_trap_initial = list()\n",
    "    \n",
    "    for v0_longitudinal in v_longitudinal:\n",
    "        rateeq.set_initial_position_and_velocity(np.array([-1*z_start/np.sqrt(2),-1*z_start/np.sqrt(2),0]),np.array([v0_longitudinal/np.sqrt(2),v0_longitudinal/np.sqrt(2),0]))\n",
    "        rateeq.set_initial_pop(np.array([1,1,1,1,1,1,1,1,1,1,1,1,0,0,0,0]))\n",
    "\n",
    "        rateeq.evolve_motion([0.,max(t_eval)],t_eval=t_eval,events= conditions,max_step=1e5,progress_bar = 0,method='LSODA')\n",
    "        sol = rateeq.sol\n",
    "        # print(sol.t_events)\n",
    "        if len(sol.t_events[0])==1:\n",
    "            if len(sol.t_events[1])==0:\n",
    "                if len(sol.t_events[2])==1:\n",
    "                    time_final.append(sol.t_events[0][0])\n",
    "                    v_trap_initial.append(sol.v[0][0])\n",
    "            \n",
    "            \n",
    "                    \n",
    "    # print(v_trap_initial)\n",
    "    # print(time_final)\n",
    "                    \n",
    "    if len(time_final)<=1:\n",
    "        # print(\"NO results\")\n",
    "        return 0.\n",
    "    \n",
    "    def time_vs_v_final(vff):\n",
    "        if vff>= min(v_trap_initial) and vff<=max(v_trap_initial):\n",
    "            return np.interp(vff,v_trap_initial,time_final)\n",
    "\n",
    "    def v_transverse_vs_v_traverse(vfs):\n",
    "        return (6.00/time_vs_v_final(vfs)*1e-3/t0)\n",
    "\n",
    "    muf = 140/v0\n",
    "    sigf = 17/v0\n",
    "    mut = 0\n",
    "    sigt = 18.7564/v0\n",
    "\n",
    "    def Transverse_percentage(v):\n",
    "        rv = stats.norm(mut,sigt) # Gaussian of transverse, v0 scale\n",
    "        val = (rv.cdf(v_transverse_vs_v_traverse(v))-rv.cdf(0))/rv.cdf(sigt*2)*2\n",
    "\n",
    "        if val >= 1:\n",
    "            return 1\n",
    "        else:\n",
    "            return val\n",
    "\n",
    "    def total_func(v):\n",
    "        rv_f = stats.norm(muf,sigf) # Gaussian of forward, v0 scale\n",
    "        return Transverse_percentage(v)*rv_f.pdf(v)\n",
    "\n",
    "    return integrate.quad(total_func,v_trap_initial[0],v_trap_initial[-1],limit=100)[0]"
   ]
  },
  {
   "cell_type": "code",
   "execution_count": 7,
   "id": "5be68a58-10d4-413d-8da3-a68bb0a46f1f",
   "metadata": {},
   "outputs": [
    {
     "name": "stdout",
     "output_type": "stream",
     "text": [
      "0.04233822160541753\n",
      "226.70168447494507\n"
     ]
    }
   ],
   "source": [
    "start = time.time()\n",
    "\n",
    "print(slow_bayesian(18.7,120,15,0.69,1.98,171312,505566))\n",
    "\n",
    "print(time.time()-start)"
   ]
  },
  {
   "cell_type": "code",
   "execution_count": 8,
   "id": "90849e4c-2c33-46d8-89d7-0d69430562ca",
   "metadata": {},
   "outputs": [],
   "source": [
    "pbounds = {'main_det':(10,20),'det_1':(70,170),'det_2':(5,30),'beta_1':(0,2),'beta_2':(0,5),'laseron':(138240,300000),'laseroff':(300001,600000)}"
   ]
  },
  {
   "cell_type": "code",
   "execution_count": 9,
   "id": "17032332-0cc3-4ce4-acbb-06cfa5f0654b",
   "metadata": {},
   "outputs": [],
   "source": [
    "optimizer = BayesianOptimization(\n",
    "    f = slow_bayesian,\n",
    "    pbounds=pbounds,\n",
    "    verbose=13,\n",
    "    random_state=1,\n",
    ")"
   ]
  },
  {
   "cell_type": "code",
   "execution_count": 10,
   "id": "7dab2bb3-6906-49f9-8db4-29a714c918cc",
   "metadata": {},
   "outputs": [
    {
     "data": {
      "text/plain": [
       "<bayes_opt.bayesian_optimization.BayesianOptimization at 0x1caf3d0d130>"
      ]
     },
     "execution_count": 10,
     "metadata": {},
     "output_type": "execute_result"
    }
   ],
   "source": [
    "from bayes_opt.util import load_logs\n",
    "\n",
    "# New optimizer is loaded with previously seen points\n",
    "load_logs(optimizer, logs=[\"./logs_Expected_model.json\"])"
   ]
  },
  {
   "cell_type": "code",
   "execution_count": 11,
   "id": "07a3e321-0ab3-40f1-97e2-35a3035fdfd2",
   "metadata": {},
   "outputs": [
    {
     "name": "stdout",
     "output_type": "stream",
     "text": [
      "|   iter    |  target   |  beta_1   |  beta_2   |   det_1   |   det_2   | laseroff  |  laseron  | main_det  |\n",
      "-------------------------------------------------------------------------------------------------------------\n",
      "| \u001b[0m 1       \u001b[0m | \u001b[0m 0.0     \u001b[0m | \u001b[0m 0.834   \u001b[0m | \u001b[0m 3.602   \u001b[0m | \u001b[0m 70.01   \u001b[0m | \u001b[0m 12.56   \u001b[0m | \u001b[0m 3.44e+05\u001b[0m | \u001b[0m 1.532e+0\u001b[0m | \u001b[0m 11.86   \u001b[0m |\n",
      "| \u001b[0m 2       \u001b[0m | \u001b[0m 0.0     \u001b[0m | \u001b[0m 1.059   \u001b[0m | \u001b[0m 2.593   \u001b[0m | \u001b[0m 155.1   \u001b[0m | \u001b[0m 14.86   \u001b[0m | \u001b[0m 3.28e+05\u001b[0m | \u001b[0m 2.377e+0\u001b[0m | \u001b[0m 10.4    \u001b[0m |\n",
      "=============================================================================================================\n",
      "243.21982312202454\n"
     ]
    }
   ],
   "source": [
    "start = time.time()\n",
    "optimizer.maximize(\n",
    "    init_points=1,\n",
    "    n_iter=1,)\n",
    "print(time.time()-start)"
   ]
  },
  {
   "cell_type": "code",
   "execution_count": 12,
   "id": "dac1e23d-ed2c-40b6-9be1-0c9505eebdfc",
   "metadata": {},
   "outputs": [],
   "source": [
    "from bayes_opt.logger import JSONLogger\n",
    "from bayes_opt.event import Events\n",
    "\n",
    "logger = JSONLogger(path='./logs_Expected_model.json',reset=True)\n",
    "optimizer.subscribe(Events.OPTIMIZATION_STEP,logger)"
   ]
  },
  {
   "cell_type": "code",
   "execution_count": 13,
   "id": "4ddbb751-193b-4bd8-9b86-37ff9497de02",
   "metadata": {},
   "outputs": [
    {
     "name": "stdout",
     "output_type": "stream",
     "text": [
      "|   iter    |  target   |  beta_1   |  beta_2   |   det_1   |   det_2   | laseroff  |  laseron  | main_det  |\n",
      "-------------------------------------------------------------------------------------------------------------\n",
      "| \u001b[0m 3       \u001b[0m | \u001b[0m 0.0     \u001b[0m | \u001b[0m 1.059   \u001b[0m | \u001b[0m 2.593   \u001b[0m | \u001b[0m 155.1   \u001b[0m | \u001b[0m 14.86   \u001b[0m | \u001b[0m 3.28e+05\u001b[0m | \u001b[0m 2.377e+0\u001b[0m | \u001b[0m 10.4    \u001b[0m |\n",
      "| \u001b[0m 4       \u001b[0m | \u001b[0m 0.0     \u001b[0m | \u001b[0m 1.059   \u001b[0m | \u001b[0m 2.593   \u001b[0m | \u001b[0m 155.1   \u001b[0m | \u001b[0m 14.86   \u001b[0m | \u001b[0m 3.28e+05\u001b[0m | \u001b[0m 2.377e+0\u001b[0m | \u001b[0m 10.4    \u001b[0m |\n",
      "| \u001b[0m 5       \u001b[0m | \u001b[0m 0.0     \u001b[0m | \u001b[0m 1.059   \u001b[0m | \u001b[0m 2.593   \u001b[0m | \u001b[0m 155.1   \u001b[0m | \u001b[0m 14.86   \u001b[0m | \u001b[0m 3.28e+05\u001b[0m | \u001b[0m 2.377e+0\u001b[0m | \u001b[0m 10.4    \u001b[0m |\n",
      "| \u001b[0m 6       \u001b[0m | \u001b[0m 0.0     \u001b[0m | \u001b[0m 1.059   \u001b[0m | \u001b[0m 2.593   \u001b[0m | \u001b[0m 155.1   \u001b[0m | \u001b[0m 14.86   \u001b[0m | \u001b[0m 3.28e+05\u001b[0m | \u001b[0m 2.377e+0\u001b[0m | \u001b[0m 10.4    \u001b[0m |\n",
      "| \u001b[0m 7       \u001b[0m | \u001b[0m 0.0     \u001b[0m | \u001b[0m 1.059   \u001b[0m | \u001b[0m 2.593   \u001b[0m | \u001b[0m 155.1   \u001b[0m | \u001b[0m 14.86   \u001b[0m | \u001b[0m 3.28e+05\u001b[0m | \u001b[0m 2.377e+0\u001b[0m | \u001b[0m 10.4    \u001b[0m |\n",
      "| \u001b[0m 8       \u001b[0m | \u001b[0m 0.06112 \u001b[0m | \u001b[0m 0.9662  \u001b[0m | \u001b[0m 2.856   \u001b[0m | \u001b[0m 74.6    \u001b[0m | \u001b[0m 20.33   \u001b[0m | \u001b[0m 3.706e+0\u001b[0m | \u001b[0m 1.961e+0\u001b[0m | \u001b[0m 18.75   \u001b[0m |\n",
      "| \u001b[0m 9       \u001b[0m | \u001b[0m 0.009816\u001b[0m | \u001b[0m 0.8555  \u001b[0m | \u001b[0m 1.586   \u001b[0m | \u001b[0m 136.1   \u001b[0m | \u001b[0m 23.06   \u001b[0m | \u001b[0m 4.521e+0\u001b[0m | \u001b[0m 2.5e+05 \u001b[0m | \u001b[0m 12.54   \u001b[0m |\n"
     ]
    },
    {
     "name": "stderr",
     "output_type": "stream",
     "text": [
      "C:\\Users\\qmopl\\AppData\\Local\\Temp/ipykernel_10676/1716087149.py:82: IntegrationWarning: The occurrence of roundoff error is detected, which prevents \n",
      "  the requested tolerance from being achieved.  The error may be \n",
      "  underestimated.\n",
      "  return integrate.quad(total_func,v_trap_initial[0],v_trap_initial[-1],limit=100)[0]\n"
     ]
    },
    {
     "name": "stdout",
     "output_type": "stream",
     "text": [
      "| \u001b[0m 10      \u001b[0m | \u001b[0m 0.04788 \u001b[0m | \u001b[0m 1.909   \u001b[0m | \u001b[0m 0.3369  \u001b[0m | \u001b[0m 114.3   \u001b[0m | \u001b[0m 11.51   \u001b[0m | \u001b[0m 4.403e+0\u001b[0m | \u001b[0m 2.652e+0\u001b[0m | \u001b[0m 16.59   \u001b[0m |\n",
      "| \u001b[0m 11      \u001b[0m | \u001b[0m 0.002823\u001b[0m | \u001b[0m 0.7652  \u001b[0m | \u001b[0m 3.3     \u001b[0m | \u001b[0m 122.8   \u001b[0m | \u001b[0m 22.32   \u001b[0m | \u001b[0m 5.223e+0\u001b[0m | \u001b[0m 2.171e+0\u001b[0m | \u001b[0m 11.89   \u001b[0m |\n",
      "| \u001b[0m 12      \u001b[0m | \u001b[0m 0.0     \u001b[0m | \u001b[0m 0.6823  \u001b[0m | \u001b[0m 4.563   \u001b[0m | \u001b[0m 136.5   \u001b[0m | \u001b[0m 18.79   \u001b[0m | \u001b[0m 3.454e+0\u001b[0m | \u001b[0m 2.755e+0\u001b[0m | \u001b[0m 18.21   \u001b[0m |\n",
      "| \u001b[0m 13      \u001b[0m | \u001b[0m 0.0     \u001b[0m | \u001b[0m 1.564   \u001b[0m | \u001b[0m 1.984   \u001b[0m | \u001b[0m 71.55   \u001b[0m | \u001b[0m 26.1    \u001b[0m | \u001b[0m 5.86e+05\u001b[0m | \u001b[0m 2.271e+0\u001b[0m | \u001b[0m 11.83   \u001b[0m |\n",
      "| \u001b[0m 14      \u001b[0m | \u001b[0m 0.007634\u001b[0m | \u001b[0m 0.8455  \u001b[0m | \u001b[0m 4.331   \u001b[0m | \u001b[0m 150.2   \u001b[0m | \u001b[0m 7.735   \u001b[0m | \u001b[0m 4.172e+0\u001b[0m | \u001b[0m 2.483e+0\u001b[0m | \u001b[0m 16.96   \u001b[0m |\n",
      "| \u001b[0m 15      \u001b[0m | \u001b[0m 0.05951 \u001b[0m | \u001b[0m 0.8455  \u001b[0m | \u001b[0m 4.022   \u001b[0m | \u001b[0m 165.1   \u001b[0m | \u001b[0m 18.93   \u001b[0m | \u001b[0m 5.529e+0\u001b[0m | \u001b[0m 1.662e+0\u001b[0m | \u001b[0m 18.09   \u001b[0m |\n",
      "| \u001b[0m 16      \u001b[0m | \u001b[0m 0.0     \u001b[0m | \u001b[0m 0.6251  \u001b[0m | \u001b[0m 2.566   \u001b[0m | \u001b[0m 83.36   \u001b[0m | \u001b[0m 12.18   \u001b[0m | \u001b[0m 3.259e+0\u001b[0m | \u001b[0m 2.712e+0\u001b[0m | \u001b[0m 11.47   \u001b[0m |\n",
      "| \u001b[0m 17      \u001b[0m | \u001b[0m 0.06592 \u001b[0m | \u001b[0m 0.7024  \u001b[0m | \u001b[0m 0.5903  \u001b[0m | \u001b[0m 137.0   \u001b[0m | \u001b[0m 27.75   \u001b[0m | \u001b[0m 4.779e+0\u001b[0m | \u001b[0m 2.881e+0\u001b[0m | \u001b[0m 16.86   \u001b[0m |\n",
      "=============================================================================================================\n",
      "2561.2816123962402\n"
     ]
    }
   ],
   "source": [
    "start = time.time()\n",
    "optimizer.maximize(\n",
    "    init_points=5,\n",
    "    n_iter=10,)\n",
    "print(time.time()-start)"
   ]
  },
  {
   "cell_type": "code",
   "execution_count": 14,
   "id": "9cf0161c-683e-466f-9be9-d3ad012f03af",
   "metadata": {},
   "outputs": [
    {
     "name": "stdout",
     "output_type": "stream",
     "text": [
      "|   iter    |  target   |  beta_1   |  beta_2   |   det_1   |   det_2   | laseroff  |  laseron  | main_det  |\n",
      "-------------------------------------------------------------------------------------------------------------\n",
      "| \u001b[0m 18      \u001b[0m | \u001b[0m 0.06592 \u001b[0m | \u001b[0m 0.7024  \u001b[0m | \u001b[0m 0.5903  \u001b[0m | \u001b[0m 137.0   \u001b[0m | \u001b[0m 27.75   \u001b[0m | \u001b[0m 4.779e+0\u001b[0m | \u001b[0m 2.881e+0\u001b[0m | \u001b[0m 16.86   \u001b[0m |\n",
      "| \u001b[0m 19      \u001b[0m | \u001b[0m 0.06592 \u001b[0m | \u001b[0m 0.7024  \u001b[0m | \u001b[0m 0.5903  \u001b[0m | \u001b[0m 137.0   \u001b[0m | \u001b[0m 27.75   \u001b[0m | \u001b[0m 4.779e+0\u001b[0m | \u001b[0m 2.881e+0\u001b[0m | \u001b[0m 16.86   \u001b[0m |\n",
      "| \u001b[0m 20      \u001b[0m | \u001b[0m 0.06592 \u001b[0m | \u001b[0m 0.7024  \u001b[0m | \u001b[0m 0.5903  \u001b[0m | \u001b[0m 137.0   \u001b[0m | \u001b[0m 27.75   \u001b[0m | \u001b[0m 4.779e+0\u001b[0m | \u001b[0m 2.881e+0\u001b[0m | \u001b[0m 16.86   \u001b[0m |\n",
      "| \u001b[0m 21      \u001b[0m | \u001b[0m 0.06592 \u001b[0m | \u001b[0m 0.7024  \u001b[0m | \u001b[0m 0.5903  \u001b[0m | \u001b[0m 137.0   \u001b[0m | \u001b[0m 27.75   \u001b[0m | \u001b[0m 4.779e+0\u001b[0m | \u001b[0m 2.881e+0\u001b[0m | \u001b[0m 16.86   \u001b[0m |\n",
      "| \u001b[0m 22      \u001b[0m | \u001b[0m 0.06592 \u001b[0m | \u001b[0m 0.7024  \u001b[0m | \u001b[0m 0.5903  \u001b[0m | \u001b[0m 137.0   \u001b[0m | \u001b[0m 27.75   \u001b[0m | \u001b[0m 4.779e+0\u001b[0m | \u001b[0m 2.881e+0\u001b[0m | \u001b[0m 16.86   \u001b[0m |\n",
      "| \u001b[0m 23      \u001b[0m | \u001b[0m 0.06592 \u001b[0m | \u001b[0m 0.7024  \u001b[0m | \u001b[0m 0.5903  \u001b[0m | \u001b[0m 137.0   \u001b[0m | \u001b[0m 27.75   \u001b[0m | \u001b[0m 4.779e+0\u001b[0m | \u001b[0m 2.881e+0\u001b[0m | \u001b[0m 16.86   \u001b[0m |\n",
      "| \u001b[0m 24      \u001b[0m | \u001b[0m 0.06592 \u001b[0m | \u001b[0m 0.7024  \u001b[0m | \u001b[0m 0.5903  \u001b[0m | \u001b[0m 137.0   \u001b[0m | \u001b[0m 27.75   \u001b[0m | \u001b[0m 4.779e+0\u001b[0m | \u001b[0m 2.881e+0\u001b[0m | \u001b[0m 16.86   \u001b[0m |\n",
      "| \u001b[0m 25      \u001b[0m | \u001b[0m 0.06592 \u001b[0m | \u001b[0m 0.7024  \u001b[0m | \u001b[0m 0.5903  \u001b[0m | \u001b[0m 137.0   \u001b[0m | \u001b[0m 27.75   \u001b[0m | \u001b[0m 4.779e+0\u001b[0m | \u001b[0m 2.881e+0\u001b[0m | \u001b[0m 16.86   \u001b[0m |\n",
      "| \u001b[0m 26      \u001b[0m | \u001b[0m 0.06592 \u001b[0m | \u001b[0m 0.7024  \u001b[0m | \u001b[0m 0.5903  \u001b[0m | \u001b[0m 137.0   \u001b[0m | \u001b[0m 27.75   \u001b[0m | \u001b[0m 4.779e+0\u001b[0m | \u001b[0m 2.881e+0\u001b[0m | \u001b[0m 16.86   \u001b[0m |\n",
      "| \u001b[0m 27      \u001b[0m | \u001b[0m 0.06592 \u001b[0m | \u001b[0m 0.7024  \u001b[0m | \u001b[0m 0.5903  \u001b[0m | \u001b[0m 137.0   \u001b[0m | \u001b[0m 27.75   \u001b[0m | \u001b[0m 4.779e+0\u001b[0m | \u001b[0m 2.881e+0\u001b[0m | \u001b[0m 16.86   \u001b[0m |\n",
      "| \u001b[0m 28      \u001b[0m | \u001b[0m 0.04585 \u001b[0m | \u001b[0m 1.488   \u001b[0m | \u001b[0m 3.182   \u001b[0m | \u001b[0m 146.3   \u001b[0m | \u001b[0m 6.266   \u001b[0m | \u001b[0m 3.513e+0\u001b[0m | \u001b[0m 2.509e+0\u001b[0m | \u001b[0m 19.62   \u001b[0m |\n",
      "| \u001b[0m 29      \u001b[0m | \u001b[0m 0.02298 \u001b[0m | \u001b[0m 1.079   \u001b[0m | \u001b[0m 1.535   \u001b[0m | \u001b[0m 120.0   \u001b[0m | \u001b[0m 15.41   \u001b[0m | \u001b[0m 3.373e+0\u001b[0m | \u001b[0m 2.562e+0\u001b[0m | \u001b[0m 18.32   \u001b[0m |\n",
      "| \u001b[0m 30      \u001b[0m | \u001b[0m 0.04675 \u001b[0m | \u001b[0m 1.2     \u001b[0m | \u001b[0m 1.292   \u001b[0m | \u001b[0m 155.1   \u001b[0m | \u001b[0m 18.3    \u001b[0m | \u001b[0m 4.011e+0\u001b[0m | \u001b[0m 2.791e+0\u001b[0m | \u001b[0m 16.07   \u001b[0m |\n",
      "| \u001b[0m 31      \u001b[0m | \u001b[0m 0.000653\u001b[0m | \u001b[0m 0.03797 \u001b[0m | \u001b[0m 4.314   \u001b[0m | \u001b[0m 112.7   \u001b[0m | \u001b[0m 9.89    \u001b[0m | \u001b[0m 5.044e+0\u001b[0m | \u001b[0m 2.052e+0\u001b[0m | \u001b[0m 13.8    \u001b[0m |\n"
     ]
    },
    {
     "name": "stderr",
     "output_type": "stream",
     "text": [
      "C:\\Users\\qmopl\\AppData\\Local\\Temp/ipykernel_10676/1716087149.py:82: IntegrationWarning: The occurrence of roundoff error is detected, which prevents \n",
      "  the requested tolerance from being achieved.  The error may be \n",
      "  underestimated.\n",
      "  return integrate.quad(total_func,v_trap_initial[0],v_trap_initial[-1],limit=100)[0]\n"
     ]
    },
    {
     "name": "stdout",
     "output_type": "stream",
     "text": [
      "| \u001b[0m 32      \u001b[0m | \u001b[0m 0.06581 \u001b[0m | \u001b[0m 0.4743  \u001b[0m | \u001b[0m 2.38    \u001b[0m | \u001b[0m 98.22   \u001b[0m | \u001b[0m 28.7    \u001b[0m | \u001b[0m 5.705e+0\u001b[0m | \u001b[0m 2.784e+0\u001b[0m | \u001b[0m 18.14   \u001b[0m |\n",
      "| \u001b[0m 33      \u001b[0m | \u001b[0m 0.03796 \u001b[0m | \u001b[0m 1.265   \u001b[0m | \u001b[0m 2.832   \u001b[0m | \u001b[0m 146.2   \u001b[0m | \u001b[0m 6.347   \u001b[0m | \u001b[0m 4.927e+0\u001b[0m | \u001b[0m 2.601e+0\u001b[0m | \u001b[0m 14.77   \u001b[0m |\n",
      "| \u001b[0m 34      \u001b[0m | \u001b[0m 0.05823 \u001b[0m | \u001b[0m 0.061   \u001b[0m | \u001b[0m 2.255   \u001b[0m | \u001b[0m 88.64   \u001b[0m | \u001b[0m 7.45    \u001b[0m | \u001b[0m 5.193e+0\u001b[0m | \u001b[0m 1.751e+0\u001b[0m | \u001b[0m 18.12   \u001b[0m |\n",
      "| \u001b[0m 35      \u001b[0m | \u001b[0m 0.000144\u001b[0m | \u001b[0m 1.739   \u001b[0m | \u001b[0m 2.135   \u001b[0m | \u001b[0m 95.12   \u001b[0m | \u001b[0m 13.24   \u001b[0m | \u001b[0m 3.785e+0\u001b[0m | \u001b[0m 2.72e+05\u001b[0m | \u001b[0m 11.21   \u001b[0m |\n",
      "| \u001b[0m 36      \u001b[0m | \u001b[0m 0.04169 \u001b[0m | \u001b[0m 1.343   \u001b[0m | \u001b[0m 0.499   \u001b[0m | \u001b[0m 126.0   \u001b[0m | \u001b[0m 22.68   \u001b[0m | \u001b[0m 5.022e+0\u001b[0m | \u001b[0m 2.439e+0\u001b[0m | \u001b[0m 16.65   \u001b[0m |\n",
      "| \u001b[0m 37      \u001b[0m | \u001b[0m 0.01743 \u001b[0m | \u001b[0m 1.707   \u001b[0m | \u001b[0m 3.056   \u001b[0m | \u001b[0m 71.92   \u001b[0m | \u001b[0m 13.21   \u001b[0m | \u001b[0m 4.106e+0\u001b[0m | \u001b[0m 2.88e+05\u001b[0m | \u001b[0m 18.9    \u001b[0m |\n",
      "| \u001b[0m 38      \u001b[0m | \u001b[0m 0.0     \u001b[0m | \u001b[0m 0.03977 \u001b[0m | \u001b[0m 4.478   \u001b[0m | \u001b[0m 158.7   \u001b[0m | \u001b[0m 11.53   \u001b[0m | \u001b[0m 3.256e+0\u001b[0m | \u001b[0m 1.445e+0\u001b[0m | \u001b[0m 12.45   \u001b[0m |\n",
      "| \u001b[0m 39      \u001b[0m | \u001b[0m 0.02363 \u001b[0m | \u001b[0m 0.2497  \u001b[0m | \u001b[0m 0.1445  \u001b[0m | \u001b[0m 131.6   \u001b[0m | \u001b[0m 23.87   \u001b[0m | \u001b[0m 3.845e+0\u001b[0m | \u001b[0m 2.342e+0\u001b[0m | \u001b[0m 16.76   \u001b[0m |\n",
      "| \u001b[0m 40      \u001b[0m | \u001b[0m 0.0     \u001b[0m | \u001b[0m 0.4628  \u001b[0m | \u001b[0m 4.623   \u001b[0m | \u001b[0m 121.1   \u001b[0m | \u001b[0m 11.96   \u001b[0m | \u001b[0m 3.746e+0\u001b[0m | \u001b[0m 2.708e+0\u001b[0m | \u001b[0m 14.08   \u001b[0m |\n",
      "| \u001b[0m 41      \u001b[0m | \u001b[0m 0.002746\u001b[0m | \u001b[0m 0.6739  \u001b[0m | \u001b[0m 0.9428  \u001b[0m | \u001b[0m 146.3   \u001b[0m | \u001b[0m 9.987   \u001b[0m | \u001b[0m 4.004e+0\u001b[0m | \u001b[0m 2.742e+0\u001b[0m | \u001b[0m 12.52   \u001b[0m |\n",
      "| \u001b[0m 42      \u001b[0m | \u001b[0m 0.005691\u001b[0m | \u001b[0m 0.5322  \u001b[0m | \u001b[0m 2.858   \u001b[0m | \u001b[0m 82.74   \u001b[0m | \u001b[0m 18.13   \u001b[0m | \u001b[0m 5.816e+0\u001b[0m | \u001b[0m 1.91e+05\u001b[0m | \u001b[0m 11.82   \u001b[0m |\n",
      "| \u001b[0m 43      \u001b[0m | \u001b[0m 0.008002\u001b[0m | \u001b[0m 0.4008  \u001b[0m | \u001b[0m 3.981   \u001b[0m | \u001b[0m 118.1   \u001b[0m | \u001b[0m 16.97   \u001b[0m | \u001b[0m 4.929e+0\u001b[0m | \u001b[0m 2.983e+0\u001b[0m | \u001b[0m 17.49   \u001b[0m |\n",
      "| \u001b[0m 44      \u001b[0m | \u001b[0m 0.004918\u001b[0m | \u001b[0m 0.7658  \u001b[0m | \u001b[0m 4.647   \u001b[0m | \u001b[0m 86.3    \u001b[0m | \u001b[0m 16.03   \u001b[0m | \u001b[0m 4.71e+05\u001b[0m | \u001b[0m 1.437e+0\u001b[0m | \u001b[0m 16.3    \u001b[0m |\n",
      "| \u001b[0m 45      \u001b[0m | \u001b[0m 0.0     \u001b[0m | \u001b[0m 1.767   \u001b[0m | \u001b[0m 4.07    \u001b[0m | \u001b[0m 161.2   \u001b[0m | \u001b[0m 29.72   \u001b[0m | \u001b[0m 3.216e+0\u001b[0m | \u001b[0m 1.476e+0\u001b[0m | \u001b[0m 10.14   \u001b[0m |\n",
      "| \u001b[0m 46      \u001b[0m | \u001b[0m 0.00779 \u001b[0m | \u001b[0m 1.315   \u001b[0m | \u001b[0m 0.3267  \u001b[0m | \u001b[0m 84.84   \u001b[0m | \u001b[0m 6.73    \u001b[0m | \u001b[0m 5.284e+0\u001b[0m | \u001b[0m 1.899e+0\u001b[0m | \u001b[0m 11.85   \u001b[0m |\n",
      "| \u001b[0m 47      \u001b[0m | \u001b[0m 0.0     \u001b[0m | \u001b[0m 1.508   \u001b[0m | \u001b[0m 2.686   \u001b[0m | \u001b[0m 157.1   \u001b[0m | \u001b[0m 23.47   \u001b[0m | \u001b[0m 5.31e+05\u001b[0m | \u001b[0m 1.614e+0\u001b[0m | \u001b[0m 15.45   \u001b[0m |\n",
      "| \u001b[0m 48      \u001b[0m | \u001b[0m 0.009985\u001b[0m | \u001b[0m 0.2798  \u001b[0m | \u001b[0m 3.412   \u001b[0m | \u001b[0m 110.8   \u001b[0m | \u001b[0m 22.98   \u001b[0m | \u001b[0m 5.543e+0\u001b[0m | \u001b[0m 1.987e+0\u001b[0m | \u001b[0m 12.98   \u001b[0m |\n",
      "| \u001b[0m 49      \u001b[0m | \u001b[0m 0.0123  \u001b[0m | \u001b[0m 1.798   \u001b[0m | \u001b[0m 0.7817  \u001b[0m | \u001b[0m 140.3   \u001b[0m | \u001b[0m 14.47   \u001b[0m | \u001b[0m 5.421e+0\u001b[0m | \u001b[0m 1.533e+0\u001b[0m | \u001b[0m 19.82   \u001b[0m |\n",
      "| \u001b[0m 50      \u001b[0m | \u001b[0m 0.06461 \u001b[0m | \u001b[0m 0.7412  \u001b[0m | \u001b[0m 1.899   \u001b[0m | \u001b[0m 111.2   \u001b[0m | \u001b[0m 23.77   \u001b[0m | \u001b[0m 4.472e+0\u001b[0m | \u001b[0m 2.653e+0\u001b[0m | \u001b[0m 18.21   \u001b[0m |\n",
      "| \u001b[0m 51      \u001b[0m | \u001b[0m 0.01378 \u001b[0m | \u001b[0m 1.823   \u001b[0m | \u001b[0m 0.9359  \u001b[0m | \u001b[0m 166.8   \u001b[0m | \u001b[0m 22.05   \u001b[0m | \u001b[0m 4.929e+0\u001b[0m | \u001b[0m 2.545e+0\u001b[0m | \u001b[0m 12.86   \u001b[0m |\n",
      "| \u001b[0m 52      \u001b[0m | \u001b[0m 0.002552\u001b[0m | \u001b[0m 0.1669  \u001b[0m | \u001b[0m 2.916   \u001b[0m | \u001b[0m 89.71   \u001b[0m | \u001b[0m 12.05   \u001b[0m | \u001b[0m 4.684e+0\u001b[0m | \u001b[0m 1.744e+0\u001b[0m | \u001b[0m 10.92   \u001b[0m |\n",
      "| \u001b[0m 53      \u001b[0m | \u001b[0m 0.01272 \u001b[0m | \u001b[0m 1.469   \u001b[0m | \u001b[0m 3.349   \u001b[0m | \u001b[0m 103.0   \u001b[0m | \u001b[0m 27.81   \u001b[0m | \u001b[0m 5.383e+0\u001b[0m | \u001b[0m 2.706e+0\u001b[0m | \u001b[0m 14.36   \u001b[0m |\n",
      "| \u001b[0m 54      \u001b[0m | \u001b[0m 0.01372 \u001b[0m | \u001b[0m 0.991   \u001b[0m | \u001b[0m 2.861   \u001b[0m | \u001b[0m 111.8   \u001b[0m | \u001b[0m 28.18   \u001b[0m | \u001b[0m 5.517e+0\u001b[0m | \u001b[0m 2.204e+0\u001b[0m | \u001b[0m 13.85   \u001b[0m |\n",
      "| \u001b[0m 55      \u001b[0m | \u001b[0m 0.02283 \u001b[0m | \u001b[0m 1.672   \u001b[0m | \u001b[0m 3.357   \u001b[0m | \u001b[0m 157.9   \u001b[0m | \u001b[0m 17.5    \u001b[0m | \u001b[0m 3.507e+0\u001b[0m | \u001b[0m 2.437e+0\u001b[0m | \u001b[0m 16.04   \u001b[0m |\n",
      "| \u001b[0m 56      \u001b[0m | \u001b[0m 0.000684\u001b[0m | \u001b[0m 0.1238  \u001b[0m | \u001b[0m 4.849   \u001b[0m | \u001b[0m 142.8   \u001b[0m | \u001b[0m 15.16   \u001b[0m | \u001b[0m 5.5e+05 \u001b[0m | \u001b[0m 2.838e+0\u001b[0m | \u001b[0m 15.26   \u001b[0m |\n",
      "| \u001b[0m 57      \u001b[0m | \u001b[0m 0.0     \u001b[0m | \u001b[0m 0.7658  \u001b[0m | \u001b[0m 4.892   \u001b[0m | \u001b[0m 157.1   \u001b[0m | \u001b[0m 20.42   \u001b[0m | \u001b[0m 3.603e+0\u001b[0m | \u001b[0m 1.786e+0\u001b[0m | \u001b[0m 13.11   \u001b[0m |\n",
      "| \u001b[0m 58      \u001b[0m | \u001b[0m 0.03123 \u001b[0m | \u001b[0m 1.671   \u001b[0m | \u001b[0m 2.017   \u001b[0m | \u001b[0m 98.59   \u001b[0m | \u001b[0m 14.29   \u001b[0m | \u001b[0m 5.485e+0\u001b[0m | \u001b[0m 2.326e+0\u001b[0m | \u001b[0m 15.61   \u001b[0m |\n",
      "| \u001b[0m 59      \u001b[0m | \u001b[0m 0.0621  \u001b[0m | \u001b[0m 0.761   \u001b[0m | \u001b[0m 3.818   \u001b[0m | \u001b[0m 153.7   \u001b[0m | \u001b[0m 11.06   \u001b[0m | \u001b[0m 4.379e+0\u001b[0m | \u001b[0m 1.808e+0\u001b[0m | \u001b[0m 18.36   \u001b[0m |\n",
      "| \u001b[0m 60      \u001b[0m | \u001b[0m 0.05041 \u001b[0m | \u001b[0m 0.1597  \u001b[0m | \u001b[0m 0.6895  \u001b[0m | \u001b[0m 136.8   \u001b[0m | \u001b[0m 29.05   \u001b[0m | \u001b[0m 5.663e+0\u001b[0m | \u001b[0m 1.802e+0\u001b[0m | \u001b[0m 18.07   \u001b[0m |\n",
      "| \u001b[0m 61      \u001b[0m | \u001b[0m 0.005555\u001b[0m | \u001b[0m 1.416   \u001b[0m | \u001b[0m 0.9988  \u001b[0m | \u001b[0m 125.3   \u001b[0m | \u001b[0m 10.25   \u001b[0m | \u001b[0m 4.383e+0\u001b[0m | \u001b[0m 1.413e+0\u001b[0m | \u001b[0m 10.72   \u001b[0m |\n",
      "| \u001b[0m 62      \u001b[0m | \u001b[0m 0.0254  \u001b[0m | \u001b[0m 0.08481 \u001b[0m | \u001b[0m 0.3796  \u001b[0m | \u001b[0m 154.9   \u001b[0m | \u001b[0m 14.95   \u001b[0m | \u001b[0m 4.468e+0\u001b[0m | \u001b[0m 2.926e+0\u001b[0m | \u001b[0m 17.78   \u001b[0m |\n",
      "| \u001b[0m 63      \u001b[0m | \u001b[0m 0.0     \u001b[0m | \u001b[0m 1.479   \u001b[0m | \u001b[0m 3.07    \u001b[0m | \u001b[0m 168.5   \u001b[0m | \u001b[0m 15.33   \u001b[0m | \u001b[0m 5.035e+0\u001b[0m | \u001b[0m 1.65e+05\u001b[0m | \u001b[0m 15.5    \u001b[0m |\n",
      "| \u001b[0m 64      \u001b[0m | \u001b[0m 0.0609  \u001b[0m | \u001b[0m 1.753   \u001b[0m | \u001b[0m 3.574   \u001b[0m | \u001b[0m 166.0   \u001b[0m | \u001b[0m 8.428   \u001b[0m | \u001b[0m 4.13e+05\u001b[0m | \u001b[0m 1.901e+0\u001b[0m | \u001b[0m 16.3    \u001b[0m |\n",
      "| \u001b[0m 65      \u001b[0m | \u001b[0m 0.05885 \u001b[0m | \u001b[0m 1.659   \u001b[0m | \u001b[0m 3.381   \u001b[0m | \u001b[0m 164.3   \u001b[0m | \u001b[0m 21.46   \u001b[0m | \u001b[0m 5.387e+0\u001b[0m | \u001b[0m 2.593e+0\u001b[0m | \u001b[0m 19.9    \u001b[0m |\n",
      "| \u001b[0m 66      \u001b[0m | \u001b[0m 0.004293\u001b[0m | \u001b[0m 1.83    \u001b[0m | \u001b[0m 1.919   \u001b[0m | \u001b[0m 105.8   \u001b[0m | \u001b[0m 8.654   \u001b[0m | \u001b[0m 3.803e+0\u001b[0m | \u001b[0m 2.247e+0\u001b[0m | \u001b[0m 12.72   \u001b[0m |\n",
      "| \u001b[0m 67      \u001b[0m | \u001b[0m 0.006666\u001b[0m | \u001b[0m 1.761   \u001b[0m | \u001b[0m 2.422   \u001b[0m | \u001b[0m 79.08   \u001b[0m | \u001b[0m 18.16   \u001b[0m | \u001b[0m 3.222e+0\u001b[0m | \u001b[0m 2.177e+0\u001b[0m | \u001b[0m 18.5    \u001b[0m |\n",
      "| \u001b[0m 68      \u001b[0m | \u001b[0m 0.00792 \u001b[0m | \u001b[0m 1.943   \u001b[0m | \u001b[0m 1.287   \u001b[0m | \u001b[0m 119.1   \u001b[0m | \u001b[0m 18.87   \u001b[0m | \u001b[0m 5.746e+0\u001b[0m | \u001b[0m 2.919e+0\u001b[0m | \u001b[0m 13.74   \u001b[0m |\n",
      "| \u001b[0m 69      \u001b[0m | \u001b[0m 0.06116 \u001b[0m | \u001b[0m 0.3951  \u001b[0m | \u001b[0m 0.6237  \u001b[0m | \u001b[0m 118.8   \u001b[0m | \u001b[0m 27.28   \u001b[0m | \u001b[0m 5.324e+0\u001b[0m | \u001b[0m 2.306e+0\u001b[0m | \u001b[0m 19.85   \u001b[0m |\n",
      "| \u001b[0m 70      \u001b[0m | \u001b[0m 0.0     \u001b[0m | \u001b[0m 1.341   \u001b[0m | \u001b[0m 0.5248  \u001b[0m | \u001b[0m 79.4    \u001b[0m | \u001b[0m 28.18   \u001b[0m | \u001b[0m 3.052e+0\u001b[0m | \u001b[0m 2.688e+0\u001b[0m | \u001b[0m 13.41   \u001b[0m |\n",
      "| \u001b[0m 71      \u001b[0m | \u001b[0m 0.005444\u001b[0m | \u001b[0m 1.626   \u001b[0m | \u001b[0m 0.2861  \u001b[0m | \u001b[0m 117.6   \u001b[0m | \u001b[0m 6.495   \u001b[0m | \u001b[0m 3.902e+0\u001b[0m | \u001b[0m 1.86e+05\u001b[0m | \u001b[0m 11.63   \u001b[0m |\n",
      "| \u001b[0m 72      \u001b[0m | \u001b[0m 0.05918 \u001b[0m | \u001b[0m 1.374   \u001b[0m | \u001b[0m 3.164   \u001b[0m | \u001b[0m 142.0   \u001b[0m | \u001b[0m 22.74   \u001b[0m | \u001b[0m 4.354e+0\u001b[0m | \u001b[0m 2.404e+0\u001b[0m | \u001b[0m 17.81   \u001b[0m |\n",
      "| \u001b[0m 73      \u001b[0m | \u001b[0m 0.000156\u001b[0m | \u001b[0m 1.857   \u001b[0m | \u001b[0m 4.792   \u001b[0m | \u001b[0m 141.6   \u001b[0m | \u001b[0m 15.99   \u001b[0m | \u001b[0m 3.863e+0\u001b[0m | \u001b[0m 2.754e+0\u001b[0m | \u001b[0m 14.95   \u001b[0m |\n",
      "| \u001b[0m 74      \u001b[0m | \u001b[0m 0.000969\u001b[0m | \u001b[0m 1.759   \u001b[0m | \u001b[0m 3.895   \u001b[0m | \u001b[0m 159.8   \u001b[0m | \u001b[0m 13.13   \u001b[0m | \u001b[0m 4.642e+0\u001b[0m | \u001b[0m 2.359e+0\u001b[0m | \u001b[0m 10.15   \u001b[0m |\n",
      "| \u001b[0m 75      \u001b[0m | \u001b[0m 0.003117\u001b[0m | \u001b[0m 1.146   \u001b[0m | \u001b[0m 4.182   \u001b[0m | \u001b[0m 72.41   \u001b[0m | \u001b[0m 14.55   \u001b[0m | \u001b[0m 4.821e+0\u001b[0m | \u001b[0m 1.925e+0\u001b[0m | \u001b[0m 14.34   \u001b[0m |\n",
      "| \u001b[0m 76      \u001b[0m | \u001b[0m 0.02364 \u001b[0m | \u001b[0m 1.58    \u001b[0m | \u001b[0m 4.04    \u001b[0m | \u001b[0m 120.6   \u001b[0m | \u001b[0m 9.092   \u001b[0m | \u001b[0m 5.724e+0\u001b[0m | \u001b[0m 1.42e+05\u001b[0m | \u001b[0m 14.97   \u001b[0m |\n",
      "| \u001b[0m 77      \u001b[0m | \u001b[0m 0.06664 \u001b[0m | \u001b[0m 0.8009  \u001b[0m | \u001b[0m 1.164   \u001b[0m | \u001b[0m 79.4    \u001b[0m | \u001b[0m 18.78   \u001b[0m | \u001b[0m 5.132e+0\u001b[0m | \u001b[0m 2.846e+0\u001b[0m | \u001b[0m 17.86   \u001b[0m |\n",
      "| \u001b[0m 78      \u001b[0m | \u001b[0m 0.001038\u001b[0m | \u001b[0m 0.6394  \u001b[0m | \u001b[0m 4.153   \u001b[0m | \u001b[0m 133.8   \u001b[0m | \u001b[0m 16.38   \u001b[0m | \u001b[0m 4.696e+0\u001b[0m | \u001b[0m 1.494e+0\u001b[0m | \u001b[0m 11.75   \u001b[0m |\n",
      "| \u001b[0m 79      \u001b[0m | \u001b[0m 0.002893\u001b[0m | \u001b[0m 0.6939  \u001b[0m | \u001b[0m 4.122   \u001b[0m | \u001b[0m 169.6   \u001b[0m | \u001b[0m 18.57   \u001b[0m | \u001b[0m 5.086e+0\u001b[0m | \u001b[0m 2.095e+0\u001b[0m | \u001b[0m 11.76   \u001b[0m |\n",
      "| \u001b[0m 80      \u001b[0m | \u001b[0m 0.000710\u001b[0m | \u001b[0m 1.189   \u001b[0m | \u001b[0m 2.786   \u001b[0m | \u001b[0m 114.2   \u001b[0m | \u001b[0m 17.96   \u001b[0m | \u001b[0m 3.589e+0\u001b[0m | \u001b[0m 1.571e+0\u001b[0m | \u001b[0m 10.71   \u001b[0m |\n",
      "| \u001b[0m 81      \u001b[0m | \u001b[0m 0.03944 \u001b[0m | \u001b[0m 0.9238  \u001b[0m | \u001b[0m 2.488   \u001b[0m | \u001b[0m 137.4   \u001b[0m | \u001b[0m 20.44   \u001b[0m | \u001b[0m 4.341e+0\u001b[0m | \u001b[0m 2.188e+0\u001b[0m | \u001b[0m 14.94   \u001b[0m |\n",
      "| \u001b[0m 82      \u001b[0m | \u001b[0m 0.000292\u001b[0m | \u001b[0m 0.6646  \u001b[0m | \u001b[0m 3.769   \u001b[0m | \u001b[0m 116.1   \u001b[0m | \u001b[0m 5.25    \u001b[0m | \u001b[0m 4.127e+0\u001b[0m | \u001b[0m 1.686e+0\u001b[0m | \u001b[0m 11.41   \u001b[0m |\n",
      "| \u001b[0m 83      \u001b[0m | \u001b[0m 0.01759 \u001b[0m | \u001b[0m 0.9516  \u001b[0m | \u001b[0m 0.05446 \u001b[0m | \u001b[0m 128.7   \u001b[0m | \u001b[0m 25.81   \u001b[0m | \u001b[0m 5.993e+0\u001b[0m | \u001b[0m 2.879e+0\u001b[0m | \u001b[0m 15.71   \u001b[0m |\n",
      "| \u001b[0m 84      \u001b[0m | \u001b[0m 0.05901 \u001b[0m | \u001b[0m 1.135   \u001b[0m | \u001b[0m 0.7437  \u001b[0m | \u001b[0m 143.1   \u001b[0m | \u001b[0m 9.232   \u001b[0m | \u001b[0m 4.023e+0\u001b[0m | \u001b[0m 2.366e+0\u001b[0m | \u001b[0m 17.22   \u001b[0m |\n",
      "| \u001b[0m 85      \u001b[0m | \u001b[0m 0.01117 \u001b[0m | \u001b[0m 1.586   \u001b[0m | \u001b[0m 1.073   \u001b[0m | \u001b[0m 138.0   \u001b[0m | \u001b[0m 7.332   \u001b[0m | \u001b[0m 3.75e+05\u001b[0m | \u001b[0m 2.867e+0\u001b[0m | \u001b[0m 15.0    \u001b[0m |\n",
      "| \u001b[0m 86      \u001b[0m | \u001b[0m 0.04385 \u001b[0m | \u001b[0m 1.331   \u001b[0m | \u001b[0m 2.401   \u001b[0m | \u001b[0m 124.3   \u001b[0m | \u001b[0m 21.28   \u001b[0m | \u001b[0m 3.473e+0\u001b[0m | \u001b[0m 1.398e+0\u001b[0m | \u001b[0m 17.27   \u001b[0m |\n",
      "| \u001b[0m 87      \u001b[0m | \u001b[0m 0.004833\u001b[0m | \u001b[0m 0.764   \u001b[0m | \u001b[0m 3.854   \u001b[0m | \u001b[0m 132.2   \u001b[0m | \u001b[0m 11.29   \u001b[0m | \u001b[0m 3.966e+0\u001b[0m | \u001b[0m 2.509e+0\u001b[0m | \u001b[0m 15.67   \u001b[0m |\n"
     ]
    },
    {
     "name": "stderr",
     "output_type": "stream",
     "text": [
      "C:\\Users\\qmopl\\AppData\\Local\\Temp/ipykernel_10676/1716087149.py:82: IntegrationWarning: The occurrence of roundoff error is detected, which prevents \n",
      "  the requested tolerance from being achieved.  The error may be \n",
      "  underestimated.\n",
      "  return integrate.quad(total_func,v_trap_initial[0],v_trap_initial[-1],limit=100)[0]\n"
     ]
    },
    {
     "name": "stdout",
     "output_type": "stream",
     "text": [
      "| \u001b[0m 88      \u001b[0m | \u001b[0m 0.04478 \u001b[0m | \u001b[0m 0.6092  \u001b[0m | \u001b[0m 3.742   \u001b[0m | \u001b[0m 144.6   \u001b[0m | \u001b[0m 26.13   \u001b[0m | \u001b[0m 4.61e+05\u001b[0m | \u001b[0m 1.531e+0\u001b[0m | \u001b[0m 16.21   \u001b[0m |\n"
     ]
    },
    {
     "name": "stderr",
     "output_type": "stream",
     "text": [
      "C:\\Users\\qmopl\\AppData\\Local\\Temp/ipykernel_10676/1716087149.py:82: IntegrationWarning: The occurrence of roundoff error is detected, which prevents \n",
      "  the requested tolerance from being achieved.  The error may be \n",
      "  underestimated.\n",
      "  return integrate.quad(total_func,v_trap_initial[0],v_trap_initial[-1],limit=100)[0]\n"
     ]
    },
    {
     "name": "stdout",
     "output_type": "stream",
     "text": [
      "| \u001b[0m 89      \u001b[0m | \u001b[0m 0.0468  \u001b[0m | \u001b[0m 1.709   \u001b[0m | \u001b[0m 1.794   \u001b[0m | \u001b[0m 70.73   \u001b[0m | \u001b[0m 27.31   \u001b[0m | \u001b[0m 4.841e+0\u001b[0m | \u001b[0m 2.41e+05\u001b[0m | \u001b[0m 16.33   \u001b[0m |\n",
      "| \u001b[0m 90      \u001b[0m | \u001b[0m 6.076e-0\u001b[0m | \u001b[0m 0.105   \u001b[0m | \u001b[0m 4.633   \u001b[0m | \u001b[0m 82.98   \u001b[0m | \u001b[0m 16.36   \u001b[0m | \u001b[0m 4.709e+0\u001b[0m | \u001b[0m 2.52e+05\u001b[0m | \u001b[0m 14.54   \u001b[0m |\n"
     ]
    },
    {
     "name": "stderr",
     "output_type": "stream",
     "text": [
      "C:\\Users\\qmopl\\AppData\\Local\\Temp/ipykernel_10676/1716087149.py:82: IntegrationWarning: The occurrence of roundoff error is detected, which prevents \n",
      "  the requested tolerance from being achieved.  The error may be \n",
      "  underestimated.\n",
      "  return integrate.quad(total_func,v_trap_initial[0],v_trap_initial[-1],limit=100)[0]\n"
     ]
    },
    {
     "name": "stdout",
     "output_type": "stream",
     "text": [
      "| \u001b[0m 91      \u001b[0m | \u001b[0m 0.04759 \u001b[0m | \u001b[0m 0.1867  \u001b[0m | \u001b[0m 2.612   \u001b[0m | \u001b[0m 162.9   \u001b[0m | \u001b[0m 22.91   \u001b[0m | \u001b[0m 4.537e+0\u001b[0m | \u001b[0m 2.421e+0\u001b[0m | \u001b[0m 17.02   \u001b[0m |\n"
     ]
    },
    {
     "name": "stderr",
     "output_type": "stream",
     "text": [
      "C:\\Users\\qmopl\\AppData\\Local\\Temp/ipykernel_10676/1716087149.py:82: IntegrationWarning: The occurrence of roundoff error is detected, which prevents \n",
      "  the requested tolerance from being achieved.  The error may be \n",
      "  underestimated.\n",
      "  return integrate.quad(total_func,v_trap_initial[0],v_trap_initial[-1],limit=100)[0]\n"
     ]
    },
    {
     "name": "stdout",
     "output_type": "stream",
     "text": [
      "| \u001b[0m 92      \u001b[0m | \u001b[0m 0.0649  \u001b[0m | \u001b[0m 1.306   \u001b[0m | \u001b[0m 2.867   \u001b[0m | \u001b[0m 126.0   \u001b[0m | \u001b[0m 10.03   \u001b[0m | \u001b[0m 4.649e+0\u001b[0m | \u001b[0m 2.682e+0\u001b[0m | \u001b[0m 17.48   \u001b[0m |\n",
      "| \u001b[0m 93      \u001b[0m | \u001b[0m 0.0017  \u001b[0m | \u001b[0m 0.8638  \u001b[0m | \u001b[0m 3.722   \u001b[0m | \u001b[0m 76.37   \u001b[0m | \u001b[0m 12.04   \u001b[0m | \u001b[0m 4.328e+0\u001b[0m | \u001b[0m 1.646e+0\u001b[0m | \u001b[0m 12.93   \u001b[0m |\n",
      "| \u001b[0m 94      \u001b[0m | \u001b[0m 0.01751 \u001b[0m | \u001b[0m 0.6035  \u001b[0m | \u001b[0m 1.795   \u001b[0m | \u001b[0m 74.86   \u001b[0m | \u001b[0m 27.76   \u001b[0m | \u001b[0m 4.926e+0\u001b[0m | \u001b[0m 2.136e+0\u001b[0m | \u001b[0m 13.27   \u001b[0m |\n",
      "| \u001b[0m 95      \u001b[0m | \u001b[0m 0.02347 \u001b[0m | \u001b[0m 0.7274  \u001b[0m | \u001b[0m 0.484   \u001b[0m | \u001b[0m 125.6   \u001b[0m | \u001b[0m 26.72   \u001b[0m | \u001b[0m 4.05e+05\u001b[0m | \u001b[0m 2.516e+0\u001b[0m | \u001b[0m 15.55   \u001b[0m |\n",
      "| \u001b[0m 96      \u001b[0m | \u001b[0m 0.0307  \u001b[0m | \u001b[0m 0.3547  \u001b[0m | \u001b[0m 2.597   \u001b[0m | \u001b[0m 165.7   \u001b[0m | \u001b[0m 14.22   \u001b[0m | \u001b[0m 5.168e+0\u001b[0m | \u001b[0m 1.419e+0\u001b[0m | \u001b[0m 13.67   \u001b[0m |\n",
      "| \u001b[0m 97      \u001b[0m | \u001b[0m 0.02045 \u001b[0m | \u001b[0m 1.245   \u001b[0m | \u001b[0m 3.104   \u001b[0m | \u001b[0m 106.2   \u001b[0m | \u001b[0m 12.06   \u001b[0m | \u001b[0m 5.053e+0\u001b[0m | \u001b[0m 2.304e+0\u001b[0m | \u001b[0m 13.89   \u001b[0m |\n",
      "| \u001b[0m 98      \u001b[0m | \u001b[0m 0.0     \u001b[0m | \u001b[0m 1.656   \u001b[0m | \u001b[0m 4.505   \u001b[0m | \u001b[0m 120.0   \u001b[0m | \u001b[0m 17.1    \u001b[0m | \u001b[0m 3.295e+0\u001b[0m | \u001b[0m 2.469e+0\u001b[0m | \u001b[0m 16.01   \u001b[0m |\n",
      "| \u001b[0m 99      \u001b[0m | \u001b[0m 0.06171 \u001b[0m | \u001b[0m 1.167   \u001b[0m | \u001b[0m 3.156   \u001b[0m | \u001b[0m 158.0   \u001b[0m | \u001b[0m 26.47   \u001b[0m | \u001b[0m 4.506e+0\u001b[0m | \u001b[0m 2.742e+0\u001b[0m | \u001b[0m 19.57   \u001b[0m |\n",
      "| \u001b[0m 100     \u001b[0m | \u001b[0m 0.0     \u001b[0m | \u001b[0m 1.849   \u001b[0m | \u001b[0m 0.1891  \u001b[0m | \u001b[0m 126.3   \u001b[0m | \u001b[0m 21.68   \u001b[0m | \u001b[0m 5.493e+0\u001b[0m | \u001b[0m 2.059e+0\u001b[0m | \u001b[0m 14.94   \u001b[0m |\n",
      "| \u001b[0m 101     \u001b[0m | \u001b[0m 0.00988 \u001b[0m | \u001b[0m 1.86    \u001b[0m | \u001b[0m 1.322   \u001b[0m | \u001b[0m 127.5   \u001b[0m | \u001b[0m 26.02   \u001b[0m | \u001b[0m 4.718e+0\u001b[0m | \u001b[0m 2.818e+0\u001b[0m | \u001b[0m 13.21   \u001b[0m |\n",
      "| \u001b[0m 102     \u001b[0m | \u001b[0m 0.04025 \u001b[0m | \u001b[0m 1.226   \u001b[0m | \u001b[0m 2.255   \u001b[0m | \u001b[0m 118.1   \u001b[0m | \u001b[0m 11.06   \u001b[0m | \u001b[0m 4.412e+0\u001b[0m | \u001b[0m 1.484e+0\u001b[0m | \u001b[0m 15.93   \u001b[0m |\n",
      "| \u001b[0m 103     \u001b[0m | \u001b[0m 0.003201\u001b[0m | \u001b[0m 0.6979  \u001b[0m | \u001b[0m 2.48    \u001b[0m | \u001b[0m 90.34   \u001b[0m | \u001b[0m 14.6    \u001b[0m | \u001b[0m 5.147e+0\u001b[0m | \u001b[0m 2.611e+0\u001b[0m | \u001b[0m 11.04   \u001b[0m |\n",
      "| \u001b[0m 104     \u001b[0m | \u001b[0m 0.001283\u001b[0m | \u001b[0m 0.7872  \u001b[0m | \u001b[0m 0.7427  \u001b[0m | \u001b[0m 150.3   \u001b[0m | \u001b[0m 26.02   \u001b[0m | \u001b[0m 4.732e+0\u001b[0m | \u001b[0m 2.993e+0\u001b[0m | \u001b[0m 10.57   \u001b[0m |\n",
      "| \u001b[0m 105     \u001b[0m | \u001b[0m 0.002272\u001b[0m | \u001b[0m 0.6926  \u001b[0m | \u001b[0m 0.9247  \u001b[0m | \u001b[0m 166.2   \u001b[0m | \u001b[0m 14.06   \u001b[0m | \u001b[0m 3.38e+05\u001b[0m | \u001b[0m 2.084e+0\u001b[0m | \u001b[0m 12.71   \u001b[0m |\n",
      "| \u001b[0m 106     \u001b[0m | \u001b[0m 0.01364 \u001b[0m | \u001b[0m 0.2095  \u001b[0m | \u001b[0m 0.883   \u001b[0m | \u001b[0m 94.18   \u001b[0m | \u001b[0m 12.68   \u001b[0m | \u001b[0m 5.96e+05\u001b[0m | \u001b[0m 2.549e+0\u001b[0m | \u001b[0m 13.11   \u001b[0m |\n",
      "| \u001b[0m 107     \u001b[0m | \u001b[0m 0.06168 \u001b[0m | \u001b[0m 1.283   \u001b[0m | \u001b[0m 1.202   \u001b[0m | \u001b[0m 154.9   \u001b[0m | \u001b[0m 14.33   \u001b[0m | \u001b[0m 3.806e+0\u001b[0m | \u001b[0m 2.608e+0\u001b[0m | \u001b[0m 17.81   \u001b[0m |\n",
      "| \u001b[0m 108     \u001b[0m | \u001b[0m 0.0399  \u001b[0m | \u001b[0m 0.8888  \u001b[0m | \u001b[0m 3.069   \u001b[0m | \u001b[0m 159.1   \u001b[0m | \u001b[0m 11.38   \u001b[0m | \u001b[0m 3.376e+0\u001b[0m | \u001b[0m 1.598e+0\u001b[0m | \u001b[0m 16.49   \u001b[0m |\n",
      "| \u001b[0m 109     \u001b[0m | \u001b[0m 0.01554 \u001b[0m | \u001b[0m 0.8923  \u001b[0m | \u001b[0m 2.483   \u001b[0m | \u001b[0m 125.8   \u001b[0m | \u001b[0m 9.886   \u001b[0m | \u001b[0m 3.403e+0\u001b[0m | \u001b[0m 2.479e+0\u001b[0m | \u001b[0m 17.98   \u001b[0m |\n",
      "| \u001b[0m 110     \u001b[0m | \u001b[0m 0.0495  \u001b[0m | \u001b[0m 1.934   \u001b[0m | \u001b[0m 0.09037 \u001b[0m | \u001b[0m 140.3   \u001b[0m | \u001b[0m 25.44   \u001b[0m | \u001b[0m 3.785e+0\u001b[0m | \u001b[0m 1.875e+0\u001b[0m | \u001b[0m 18.77   \u001b[0m |\n",
      "| \u001b[0m 111     \u001b[0m | \u001b[0m 0.05571 \u001b[0m | \u001b[0m 1.661   \u001b[0m | \u001b[0m 0.005316\u001b[0m | \u001b[0m 125.6   \u001b[0m | \u001b[0m 13.07   \u001b[0m | \u001b[0m 4.083e+0\u001b[0m | \u001b[0m 2.052e+0\u001b[0m | \u001b[0m 16.8    \u001b[0m |\n",
      "| \u001b[0m 112     \u001b[0m | \u001b[0m 0.04368 \u001b[0m | \u001b[0m 0.166   \u001b[0m | \u001b[0m 1.229   \u001b[0m | \u001b[0m 91.26   \u001b[0m | \u001b[0m 15.01   \u001b[0m | \u001b[0m 3.543e+0\u001b[0m | \u001b[0m 1.967e+0\u001b[0m | \u001b[0m 19.47   \u001b[0m |\n",
      "| \u001b[0m 113     \u001b[0m | \u001b[0m 0.0519  \u001b[0m | \u001b[0m 1.593   \u001b[0m | \u001b[0m 1.866   \u001b[0m | \u001b[0m 143.8   \u001b[0m | \u001b[0m 13.42   \u001b[0m | \u001b[0m 4.742e+0\u001b[0m | \u001b[0m 2.401e+0\u001b[0m | \u001b[0m 18.47   \u001b[0m |\n",
      "| \u001b[0m 114     \u001b[0m | \u001b[0m 0.0444  \u001b[0m | \u001b[0m 0.8129  \u001b[0m | \u001b[0m 1.867   \u001b[0m | \u001b[0m 129.2   \u001b[0m | \u001b[0m 28.44   \u001b[0m | \u001b[0m 4.963e+0\u001b[0m | \u001b[0m 2.072e+0\u001b[0m | \u001b[0m 19.66   \u001b[0m |\n",
      "| \u001b[0m 115     \u001b[0m | \u001b[0m 0.05912 \u001b[0m | \u001b[0m 0.6769  \u001b[0m | \u001b[0m 2.909   \u001b[0m | \u001b[0m 84.65   \u001b[0m | \u001b[0m 19.9    \u001b[0m | \u001b[0m 3.87e+05\u001b[0m | \u001b[0m 1.587e+0\u001b[0m | \u001b[0m 17.44   \u001b[0m |\n",
      "| \u001b[0m 116     \u001b[0m | \u001b[0m 0.0     \u001b[0m | \u001b[0m 1.782   \u001b[0m | \u001b[0m 4.66    \u001b[0m | \u001b[0m 82.24   \u001b[0m | \u001b[0m 10.18   \u001b[0m | \u001b[0m 4.544e+0\u001b[0m | \u001b[0m 2.231e+0\u001b[0m | \u001b[0m 11.27   \u001b[0m |\n",
      "| \u001b[0m 117     \u001b[0m | \u001b[0m 0.06178 \u001b[0m | \u001b[0m 0.04382 \u001b[0m | \u001b[0m 1.774   \u001b[0m | \u001b[0m 122.8   \u001b[0m | \u001b[0m 17.46   \u001b[0m | \u001b[0m 4.671e+0\u001b[0m | \u001b[0m 2.052e+0\u001b[0m | \u001b[0m 17.81   \u001b[0m |\n",
      "| \u001b[0m 118     \u001b[0m | \u001b[0m 0.0491  \u001b[0m | \u001b[0m 1.424   \u001b[0m | \u001b[0m 0.4156  \u001b[0m | \u001b[0m 136.7   \u001b[0m | \u001b[0m 11.94   \u001b[0m | \u001b[0m 4.618e+0\u001b[0m | \u001b[0m 2.314e+0\u001b[0m | \u001b[0m 15.87   \u001b[0m |\n",
      "| \u001b[0m 119     \u001b[0m | \u001b[0m 0.000133\u001b[0m | \u001b[0m 1.158   \u001b[0m | \u001b[0m 2.037   \u001b[0m | \u001b[0m 71.91   \u001b[0m | \u001b[0m 14.87   \u001b[0m | \u001b[0m 3.249e+0\u001b[0m | \u001b[0m 1.908e+0\u001b[0m | \u001b[0m 12.24   \u001b[0m |\n",
      "| \u001b[0m 120     \u001b[0m | \u001b[0m 0.0     \u001b[0m | \u001b[0m 0.1152  \u001b[0m | \u001b[0m 3.933   \u001b[0m | \u001b[0m 155.3   \u001b[0m | \u001b[0m 10.17   \u001b[0m | \u001b[0m 3.033e+0\u001b[0m | \u001b[0m 1.822e+0\u001b[0m | \u001b[0m 12.08   \u001b[0m |\n",
      "| \u001b[0m 121     \u001b[0m | \u001b[0m 0.06446 \u001b[0m | \u001b[0m 0.2537  \u001b[0m | \u001b[0m 1.95    \u001b[0m | \u001b[0m 96.55   \u001b[0m | \u001b[0m 22.7    \u001b[0m | \u001b[0m 4.347e+0\u001b[0m | \u001b[0m 2.444e+0\u001b[0m | \u001b[0m 19.27   \u001b[0m |\n",
      "| \u001b[0m 122     \u001b[0m | \u001b[0m 0.05209 \u001b[0m | \u001b[0m 1.204   \u001b[0m | \u001b[0m 1.995   \u001b[0m | \u001b[0m 94.61   \u001b[0m | \u001b[0m 8.506   \u001b[0m | \u001b[0m 5.658e+0\u001b[0m | \u001b[0m 2.042e+0\u001b[0m | \u001b[0m 19.29   \u001b[0m |\n",
      "| \u001b[0m 123     \u001b[0m | \u001b[0m 0.004998\u001b[0m | \u001b[0m 0.5926  \u001b[0m | \u001b[0m 4.174   \u001b[0m | \u001b[0m 119.1   \u001b[0m | \u001b[0m 21.69   \u001b[0m | \u001b[0m 5.901e+0\u001b[0m | \u001b[0m 2.161e+0\u001b[0m | \u001b[0m 13.77   \u001b[0m |\n",
      "| \u001b[0m 124     \u001b[0m | \u001b[0m 0.01561 \u001b[0m | \u001b[0m 1.088   \u001b[0m | \u001b[0m 2.764   \u001b[0m | \u001b[0m 76.99   \u001b[0m | \u001b[0m 21.27   \u001b[0m | \u001b[0m 4.491e+0\u001b[0m | \u001b[0m 2.138e+0\u001b[0m | \u001b[0m 13.67   \u001b[0m |\n",
      "| \u001b[0m 125     \u001b[0m | \u001b[0m 5.368e-0\u001b[0m | \u001b[0m 1.163   \u001b[0m | \u001b[0m 1.456   \u001b[0m | \u001b[0m 88.0    \u001b[0m | \u001b[0m 7.726   \u001b[0m | \u001b[0m 3.758e+0\u001b[0m | \u001b[0m 2.699e+0\u001b[0m | \u001b[0m 10.77   \u001b[0m |\n",
      "| \u001b[0m 126     \u001b[0m | \u001b[0m 0.0     \u001b[0m | \u001b[0m 0.06482 \u001b[0m | \u001b[0m 3.454   \u001b[0m | \u001b[0m 148.8   \u001b[0m | \u001b[0m 11.04   \u001b[0m | \u001b[0m 3.67e+05\u001b[0m | \u001b[0m 2.457e+0\u001b[0m | \u001b[0m 11.16   \u001b[0m |\n",
      "| \u001b[0m 127     \u001b[0m | \u001b[0m 0.04665 \u001b[0m | \u001b[0m 0.5965  \u001b[0m | \u001b[0m 3.112   \u001b[0m | \u001b[0m 155.7   \u001b[0m | \u001b[0m 16.96   \u001b[0m | \u001b[0m 4.676e+0\u001b[0m | \u001b[0m 2.44e+05\u001b[0m | \u001b[0m 16.42   \u001b[0m |\n",
      "=============================================================================================================\n",
      "25607.63279223442\n"
     ]
    },
    {
     "name": "stderr",
     "output_type": "stream",
     "text": [
      "C:\\Users\\qmopl\\AppData\\Local\\Temp/ipykernel_10676/1716087149.py:82: IntegrationWarning: The occurrence of roundoff error is detected, which prevents \n",
      "  the requested tolerance from being achieved.  The error may be \n",
      "  underestimated.\n",
      "  return integrate.quad(total_func,v_trap_initial[0],v_trap_initial[-1],limit=100)[0]\n"
     ]
    }
   ],
   "source": [
    "start = time.time()\n",
    "optimizer.maximize(\n",
    "    init_points=10,\n",
    "    n_iter=100,)\n",
    "print(time.time()-start)"
   ]
  },
  {
   "cell_type": "code",
   "execution_count": null,
   "id": "4fda1838-64a4-4d7a-90bb-46b0b1c5d955",
   "metadata": {},
   "outputs": [],
   "source": []
  }
 ],
 "metadata": {
  "kernelspec": {
   "display_name": "Python 3 (ipykernel)",
   "language": "python",
   "name": "python3"
  },
  "language_info": {
   "codemirror_mode": {
    "name": "ipython",
    "version": 3
   },
   "file_extension": ".py",
   "mimetype": "text/x-python",
   "name": "python",
   "nbconvert_exporter": "python",
   "pygments_lexer": "ipython3",
   "version": "3.9.7"
  }
 },
 "nbformat": 4,
 "nbformat_minor": 5
}
