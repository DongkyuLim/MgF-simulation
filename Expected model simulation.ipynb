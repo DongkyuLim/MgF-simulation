{
 "cells": [
  {
   "cell_type": "code",
   "execution_count": 1,
   "id": "8557f574-42db-4806-98f3-cf9b53839f8a",
   "metadata": {},
   "outputs": [
    {
     "name": "stderr",
     "output_type": "stream",
     "text": [
      "c:\\Users\\qmopl\\anaconda3\\envs\\LCPtest\\lib\\site-packages\\tqdm\\auto.py:22: TqdmWarning: IProgress not found. Please update jupyter and ipywidgets. See https://ipywidgets.readthedocs.io/en/stable/user_install.html\n",
      "  from .autonotebook import tqdm as notebook_tqdm\n"
     ]
    }
   ],
   "source": [
    "import sys\n",
    "import numpy as np\n",
    "import matplotlib.pyplot as plt\n",
    "import scipy.constants as cts\n",
    "import pylcp\n",
    "import time\n",
    "import random\n",
    "from tqdm import tqdm\n",
    "from scipy.interpolate import interp1d,interp2d,RegularGridInterpolator\n",
    "from scipy import stats\n",
    "from scipy import integrate\n",
    "from celluloid import Camera\n",
    "from bayes_opt import BayesianOptimization\n",
    "import json\n",
    "import seaborn as sns\n",
    "import White_class\n",
    "from scipy import special\n",
    "import pymongo\n",
    "import Expected_model_simulation\n",
    "from pymongo import MongoClient\n",
    "from scipy.optimize import root_scalar\n"
   ]
  },
  {
   "cell_type": "code",
   "execution_count": 2,
   "id": "12ee3adc-ce99-4837-a5dd-276dd06ab0d2",
   "metadata": {
    "tags": []
   },
   "outputs": [],
   "source": [
    "#Main variables\n",
    "\n",
    "main_detune = 17\n",
    "sideband_detune = 120\n",
    "white_detune = 10\n",
    "laser_on = 200000\n",
    "laser_off = 400015\n",
    "MOT_power = 50\n",
    "v0_start=1\n",
    "v0_step=1\n",
    "v0_end=25\n",
    "t0_start=0\n",
    "t0_step=1\n",
    "t0_end=1000000\n",
    "\n",
    "\n",
    "Gamma = 22 # Hz to kHz, Decay rate\n",
    "wavelength = 359.3e-9 # m to mm\n",
    "k = 1/wavelength*2*np.pi #x_0\n",
    "x0 = 1/k\n",
    "t0 = 1/Gamma*1/(2*np.pi*1e6)\n",
    "v0 = x0/t0\n",
    "m0 = cts.hbar*t0/x0**2\n",
    "a0 = x0/t0**2\n",
    "F0 = cts.hbar/(x0*t0)\n",
    "mass = 43*cts.value('atomic mass constant')/m0 # m_0\n",
    "waist = 0.012/x0\n",
    "v_max = 25.\n",
    "z_max = 384.855e-3/x0\n",
    "z_start = 384.855e-3/x0\n",
    "omega = 2*np.pi*(cts.c/wavelength) #Transition frequency\n",
    "Isat = np.pi*cts.h*cts.c*Gamma*2*np.pi*1e6/3*1/(wavelength)**3\n",
    "t_eval = np.arange(t0_start,t0_end,t0_step)\n",
    "\n",
    "# The detunings used in the PRAs:\n",
    "intensities = 2.*MOT_power*1e-3/(np.pi*0.012**2)/Isat\n",
    "\n",
    "#Define the hamiltonian\n",
    "H0_X, Bq_X, U_X, Xbasis = pylcp.hamiltonians.XFmolecules.Xstate(N=1,I=0.5,B=15496.8125/Gamma,\n",
    "gamma = 50.697/Gamma,b=154.7/Gamma, c=178.5/Gamma,gI=5.585,gS=2.0023193043622,\n",
    "    muB = cts.value('Bohr magneton in Hz/T')/1e6*1e-4/Gamma,\n",
    "    muN=cts.m_e/cts.m_p*cts.value('Bohr magneton in Hz/T')*1e-4*1e-6/Gamma,return_basis=True\n",
    "    )\n",
    "\n",
    "# b : SI coupling(isotropic), c : Iz Sz coupling(anisotropic), cc : I N coupling, gamma : S N coupling\n",
    "\n",
    "E_X = np.unique(np.diag(H0_X))\n",
    "\n",
    "H0_A, Bq_A, Abasis = pylcp.hamiltonians.XFmolecules.Astate(J=0.5,I=0.5,\n",
    "    P=+1,B=15788.2/Gamma,D=0.,H=0.,a=109./Gamma,b=-299.2/Gamma,c=274.2/Gamma,q=0., p=15./Gamma,\n",
    "    muB=cts.value('Bohr magneton in Hz/T')/1e6*1e-4/Gamma,\n",
    "    muN=cts.m_e/cts.m_p*cts.value('Bohr magneton in Hz/T')*1e-4*1e-6/Gamma,\n",
    "    gl=53/(2*15788.2),glprime=15/(2*15788.2),greprime=0.,return_basis=True\n",
    "    )\n",
    "# gJ : Lande g-factor, p : parity(e parity)\n",
    "\n",
    "\n",
    "E_A = np.unique(np.diag(H0_A))\n",
    "\n",
    "dijq = pylcp.hamiltonians.XFmolecules.dipoleXandAstates(\n",
    "    Xbasis, Abasis, UX=U_X\n",
    "    )\n",
    "\n",
    "hamiltonian = pylcp.hamiltonian(H0_X, H0_A, Bq_X, Bq_A, dijq,mass = mass)"
   ]
  },
  {
   "cell_type": "code",
   "execution_count": 2,
   "id": "c17312fc",
   "metadata": {},
   "outputs": [],
   "source": [
    "connection = MongoClient(\"localhost:27017\")\n",
    "db = connection.db.Expected_model\n",
    "max_parameters = db.find(projection={\"_id\":0},limit=5).sort(\"target\",pymongo.DESCENDING)"
   ]
  },
  {
   "cell_type": "code",
   "execution_count": 4,
   "id": "9d67d390",
   "metadata": {},
   "outputs": [
    {
     "data": {
      "text/plain": [
       "{'target': 0.013434975559152768,\n",
       " 'params': {'beta_1': 2.935124145664613,\n",
       "  'beta_2': 10.312814186442964,\n",
       "  'det_1': 115.49496654453418,\n",
       "  'det_2': 15.388812962322799,\n",
       "  'laseroff': 411581.2063215908,\n",
       "  'laseron': 235170.32507489598,\n",
       "  'main_det': 19.67630442684696},\n",
       " 'datetime': {'datetime': '2022-06-26 17:54:32',\n",
       "  'elapsed': 88663.352371,\n",
       "  'delta': 143.803469}}"
      ]
     },
     "execution_count": 4,
     "metadata": {},
     "output_type": "execute_result"
    }
   ],
   "source": [
    "max_parameters[0]"
   ]
  },
  {
   "cell_type": "code",
   "execution_count": 7,
   "id": "5be68a58-10d4-413d-8da3-a68bb0a46f1f",
   "metadata": {},
   "outputs": [
    {
     "name": "stdout",
     "output_type": "stream",
     "text": [
      "0.011812525646444817\n",
      "174.9402084350586\n"
     ]
    }
   ],
   "source": [
    "start = time.time()\n",
    "\n",
    "print(Expected_model_simulation.Expected_simulation(**max_parameters[0][\"params\"]))\n",
    "\n",
    "print(time.time()-start)"
   ]
  },
  {
   "cell_type": "code",
   "execution_count": 3,
   "id": "90849e4c-2c33-46d8-89d7-0d69430562ca",
   "metadata": {},
   "outputs": [],
   "source": [
    "pbounds = {'main_det':(10,20),'det_1':(70,170),'det_2':(5,30),'beta_1':(0,5),'beta_2':(0,15),'laseron':(138240,300000),'laseroff':(300001,600000)}"
   ]
  },
  {
   "cell_type": "code",
   "execution_count": 6,
   "id": "17032332-0cc3-4ce4-acbb-06cfa5f0654b",
   "metadata": {},
   "outputs": [],
   "source": [
    "optimizer = BayesianOptimization(\n",
    "    f = Expected_model_simulation.Expected_simulation,\n",
    "    pbounds=pbounds,\n",
    "    verbose=1,\n",
    "    random_state=1,\n",
    ")"
   ]
  },
  {
   "cell_type": "code",
   "execution_count": 5,
   "id": "7dab2bb3-6906-49f9-8db4-29a714c918cc",
   "metadata": {},
   "outputs": [
    {
     "data": {
      "text/plain": [
       "<bayes_opt.bayesian_optimization.BayesianOptimization at 0x1d056fc0a00>"
      ]
     },
     "execution_count": 5,
     "metadata": {},
     "output_type": "execute_result"
    }
   ],
   "source": [
    "from bayes_opt.util import load_logs\n",
    "\n",
    "# New optimizer is loaded with previously seen points\n",
    "load_logs(optimizer, logs=[\"./logs_Exp_multi.json\"])"
   ]
  },
  {
   "cell_type": "code",
   "execution_count": 7,
   "id": "07a3e321-0ab3-40f1-97e2-35a3035fdfd2",
   "metadata": {},
   "outputs": [
    {
     "name": "stdout",
     "output_type": "stream",
     "text": [
      "|   iter    |  target   |  beta_1   |  beta_2   |   det_1   |   det_2   | laseroff  |  laseron  | main_det  |\n",
      "-------------------------------------------------------------------------------------------------------------\n",
      "=============================================================================================================\n",
      "140.133859872818\n"
     ]
    }
   ],
   "source": [
    "start = time.time()\n",
    "optimizer.maximize(\n",
    "    init_points=1,\n",
    "    n_iter=0,)\n",
    "print(time.time()-start)"
   ]
  },
  {
   "cell_type": "code",
   "execution_count": 8,
   "id": "dac1e23d-ed2c-40b6-9be1-0c9505eebdfc",
   "metadata": {},
   "outputs": [],
   "source": [
    "from bayes_opt.logger import JSONLogger\n",
    "from bayes_opt.event import Events\n",
    "\n",
    "logger = JSONLogger(path='./logs_Exp_multi.json')\n",
    "optimizer.subscribe(Events.OPTIMIZATION_STEP,logger)"
   ]
  },
  {
   "cell_type": "code",
   "execution_count": 9,
   "id": "07a8cdc4",
   "metadata": {},
   "outputs": [
    {
     "data": {
      "text/plain": [
       "{'target': 0.0,\n",
       " 'params': {'beta_1': 2.08511002351287,\n",
       "  'beta_2': 10.804867401632372,\n",
       "  'det_1': 70.01143748173449,\n",
       "  'det_2': 12.558314315795993,\n",
       "  'laseroff': 344027.62048924307,\n",
       "  'laseron': 153176.69108980073,\n",
       "  'main_det': 11.86260211377671}}"
      ]
     },
     "execution_count": 9,
     "metadata": {},
     "output_type": "execute_result"
    }
   ],
   "source": [
    "optimizer.max"
   ]
  },
  {
   "cell_type": "code",
   "execution_count": 10,
   "id": "4ddbb751-193b-4bd8-9b86-37ff9497de02",
   "metadata": {},
   "outputs": [
    {
     "name": "stdout",
     "output_type": "stream",
     "text": [
      "|   iter    |  target   |  beta_1   |  beta_2   |   det_1   |   det_2   | laseroff  |  laseron  | main_det  |\n",
      "-------------------------------------------------------------------------------------------------------------\n",
      "| \u001b[95m 3       \u001b[0m | \u001b[95m 0.001336\u001b[0m | \u001b[95m 0.1369  \u001b[0m | \u001b[95m 10.06   \u001b[0m | \u001b[95m 111.7   \u001b[0m | \u001b[95m 18.97   \u001b[0m | \u001b[95m 3.421e+0\u001b[0m | \u001b[95m 1.703e+0\u001b[0m | \u001b[95m 18.01   \u001b[0m |\n",
      "| \u001b[95m 11      \u001b[0m | \u001b[95m 0.01069 \u001b[0m | \u001b[95m 0.9655  \u001b[0m | \u001b[95m 5.693   \u001b[0m | \u001b[95m 75.41   \u001b[0m | \u001b[95m 7.451   \u001b[0m | \u001b[95m 3.43e+05\u001b[0m | \u001b[95m 1.691e+0\u001b[0m | \u001b[95m 19.41   \u001b[0m |\n",
      "=============================================================================================================\n",
      "2056.2213096618652\n"
     ]
    }
   ],
   "source": [
    "start = time.time()\n",
    "optimizer.maximize(\n",
    "    init_points=5,\n",
    "    n_iter=10,)\n",
    "print(time.time()-start)"
   ]
  },
  {
   "cell_type": "code",
   "execution_count": 12,
   "id": "cddc92bd-b1d1-4c56-b0a8-1bba7b8e6156",
   "metadata": {},
   "outputs": [
    {
     "name": "stdout",
     "output_type": "stream",
     "text": [
      "|   iter    |  target   |  beta_1   |  beta_2   |   det_1   |   det_2   | laseroff  |  laseron  | main_det  |\n",
      "-------------------------------------------------------------------------------------------------------------\n",
      "| \u001b[95m 62      \u001b[0m | \u001b[95m 0.01343 \u001b[0m | \u001b[95m 2.935   \u001b[0m | \u001b[95m 10.31   \u001b[0m | \u001b[95m 115.5   \u001b[0m | \u001b[95m 15.39   \u001b[0m | \u001b[95m 4.116e+0\u001b[0m | \u001b[95m 2.352e+0\u001b[0m | \u001b[95m 19.68   \u001b[0m |\n",
      "=============================================================================================================\n",
      "3708.367482662201\n"
     ]
    }
   ],
   "source": [
    "start = time.time()\n",
    "optimizer.maximize(\n",
    "    init_points=5,\n",
    "    n_iter=25,)\n",
    "print(time.time()-start)\n"
   ]
  },
  {
   "cell_type": "code",
   "execution_count": 11,
   "id": "4fda1838-64a4-4d7a-90bb-46b0b1c5d955",
   "metadata": {},
   "outputs": [
    {
     "name": "stdout",
     "output_type": "stream",
     "text": [
      "|   iter    |  target   |  beta_1   |  beta_2   |   det_1   |   det_2   | laseroff  |  laseron  | main_det  |\n",
      "-------------------------------------------------------------------------------------------------------------\n",
      "| \u001b[0m 47      \u001b[0m | \u001b[0m 0.005689\u001b[0m | \u001b[0m 2.149   \u001b[0m | \u001b[0m 0.3916  \u001b[0m | \u001b[0m 103.7   \u001b[0m | \u001b[0m 19.79   \u001b[0m | \u001b[0m 4.88e+05\u001b[0m | \u001b[0m 2.369e+0\u001b[0m | \u001b[0m 19.61   \u001b[0m |\n",
      "=============================================================================================================\n"
     ]
    }
   ],
   "source": [
    "optimizer.maximize(n_iter=1,init_points = 0)"
   ]
  },
  {
   "cell_type": "code",
   "execution_count": 14,
   "id": "0f9ca17b",
   "metadata": {},
   "outputs": [
    {
     "name": "stdout",
     "output_type": "stream",
     "text": [
      "|   iter    |  target   |  beta_1   |  beta_2   |   det_1   |   det_2   | laseroff  |  laseron  | main_det  |\n",
      "-------------------------------------------------------------------------------------------------------------\n",
      "| \u001b[95m 98      \u001b[0m | \u001b[95m 0.01181 \u001b[0m | \u001b[95m 2.705   \u001b[0m | \u001b[95m 14.39   \u001b[0m | \u001b[95m 150.4   \u001b[0m | \u001b[95m 5.808   \u001b[0m | \u001b[95m 5.128e+0\u001b[0m | \u001b[95m 2.135e+0\u001b[0m | \u001b[95m 19.48   \u001b[0m |\n",
      "=============================================================================================================\n",
      "7503.4828906059265\n"
     ]
    }
   ],
   "source": [
    "start = time.time()\n",
    "optimizer.maximize(n_iter=5,init_points = 45)\n",
    "\n",
    "print(time.time()-start)"
   ]
  },
  {
   "cell_type": "code",
   "execution_count": 15,
   "id": "067f2740-c1f1-409f-98ac-65bcf3be7093",
   "metadata": {},
   "outputs": [
    {
     "data": {
      "text/plain": [
       "{'target': 0.011812525646444817,\n",
       " 'params': {'beta_1': 2.704759024810943,\n",
       "  'beta_2': 14.391514815926286,\n",
       "  'det_1': 150.39608914986468,\n",
       "  'det_2': 5.80807666558935,\n",
       "  'laseroff': 512816.4659821373,\n",
       "  'laseron': 213458.63965771275,\n",
       "  'main_det': 19.475489413950996}}"
      ]
     },
     "execution_count": 15,
     "metadata": {},
     "output_type": "execute_result"
    }
   ],
   "source": [
    "optimizer.max"
   ]
  },
  {
   "cell_type": "code",
   "execution_count": 16,
   "id": "2d6e6587",
   "metadata": {},
   "outputs": [
    {
     "data": {
      "text/plain": [
       "146"
      ]
     },
     "execution_count": 16,
     "metadata": {},
     "output_type": "execute_result"
    }
   ],
   "source": [
    "len(optimizer.res)"
   ]
  },
  {
   "cell_type": "code",
   "execution_count": 36,
   "id": "f5959640-e4e9-4620-8341-cb48e7501eaf",
   "metadata": {},
   "outputs": [],
   "source": [
    "rest = db.find(projection={\"_id\" : 0}).sort(\"target\",-1).limit(3)"
   ]
  },
  {
   "cell_type": "code",
   "execution_count": 37,
   "id": "db6d9f64",
   "metadata": {},
   "outputs": [
    {
     "name": "stdout",
     "output_type": "stream",
     "text": [
      "{'beta_1': 2.935124145664613, 'beta_2': 10.312814186442964, 'det_1': 115.49496654453418, 'det_2': 15.388812962322799, 'laseroff': 411581.2063215908, 'laseron': 235170.32507489598, 'main_det': 19.67630442684696}\n",
      "{'beta_1': 2.704759024810943, 'beta_2': 14.391514815926286, 'det_1': 150.39608914986468, 'det_2': 5.80807666558935, 'laseroff': 512816.4659821373, 'laseron': 213458.63965771275, 'main_det': 19.475489413950996}\n",
      "{'beta_1': 2.704759024810943, 'beta_2': 14.391514815926286, 'det_1': 150.39608914986468, 'det_2': 5.80807666558935, 'laseroff': 512816.4659821373, 'laseron': 213458.63965771275, 'main_det': 19.475489413950996}\n"
     ]
    }
   ],
   "source": [
    "for res in rest:\n",
    "    print(res['params'])\n"
   ]
  },
  {
   "cell_type": "code",
   "execution_count": null,
   "id": "9aa5bc89",
   "metadata": {},
   "outputs": [],
   "source": []
  }
 ],
 "metadata": {
  "interpreter": {
   "hash": "8e5c691d1df19e90ce0c56a82f5160c0bc8b8614d6b0ba467d19e18deeae170c"
  },
  "kernelspec": {
   "display_name": "Python 3.9.12 ('LCPtest')",
   "language": "python",
   "name": "python3"
  },
  "language_info": {
   "codemirror_mode": {
    "name": "ipython",
    "version": 3
   },
   "file_extension": ".py",
   "mimetype": "text/x-python",
   "name": "python",
   "nbconvert_exporter": "python",
   "pygments_lexer": "ipython3",
   "version": "3.9.12"
  }
 },
 "nbformat": 4,
 "nbformat_minor": 5
}
