{
 "cells": [
  {
   "cell_type": "code",
   "execution_count": 1,
   "id": "8557f574-42db-4806-98f3-cf9b53839f8a",
   "metadata": {},
   "outputs": [
    {
     "name": "stderr",
     "output_type": "stream",
     "text": [
      "c:\\Users\\qmopl\\anaconda3\\envs\\LCPtest\\lib\\site-packages\\tqdm\\auto.py:22: TqdmWarning: IProgress not found. Please update jupyter and ipywidgets. See https://ipywidgets.readthedocs.io/en/stable/user_install.html\n",
      "  from .autonotebook import tqdm as notebook_tqdm\n"
     ]
    }
   ],
   "source": [
    "import sys\n",
    "import numpy as np\n",
    "import matplotlib.pyplot as plt\n",
    "import scipy.constants as cts\n",
    "import pylcp\n",
    "import time\n",
    "import random\n",
    "from tqdm import tqdm\n",
    "from scipy.interpolate import interp1d,interp2d,RegularGridInterpolator\n",
    "from scipy import stats\n",
    "from scipy import integrate\n",
    "from celluloid import Camera\n",
    "from bayes_opt import BayesianOptimization\n",
    "import json\n",
    "import seaborn as sns\n",
    "import White_class\n",
    "from scipy import special\n",
    "import pymongo\n",
    "import Expected_model_simulation\n",
    "from pymongo import MongoClient\n",
    "from scipy.optimize import root_scalar\n"
   ]
  },
  {
   "cell_type": "code",
   "execution_count": 4,
   "id": "12ee3adc-ce99-4837-a5dd-276dd06ab0d2",
   "metadata": {
    "tags": []
   },
   "outputs": [],
   "source": [
    "#Main variables\n",
    "\n",
    "main_detune = 17\n",
    "sideband_detune = 120\n",
    "white_detune = 10\n",
    "laser_on = 200000\n",
    "laser_off = 400015\n",
    "MOT_power = 50\n",
    "v0_start=1\n",
    "v0_step=1\n",
    "v0_end=25\n",
    "t0_start=0\n",
    "t0_step=1\n",
    "t0_end=1000000\n",
    "\n",
    "\n",
    "Gamma = 22 # Hz to kHz, Decay rate\n",
    "wavelength = 359.3e-9 # m to mm\n",
    "k = 1/wavelength*2*np.pi #x_0\n",
    "x0 = 1/k\n",
    "t0 = 1/Gamma*1/(2*np.pi*1e6)\n",
    "v0 = x0/t0\n",
    "m0 = cts.hbar*t0/x0**2\n",
    "a0 = x0/t0**2\n",
    "F0 = cts.hbar/(x0*t0)\n",
    "mass = 43*cts.value('atomic mass constant')/m0 # m_0\n",
    "waist = 0.012/x0\n",
    "v_max = 25.\n",
    "z_max = 384.855e-3/x0\n",
    "z_start = 384.855e-3/x0\n",
    "omega = 2*np.pi*(cts.c/wavelength) #Transition frequency\n",
    "Isat = np.pi*cts.h*cts.c*Gamma*2*np.pi*1e6/3*1/(wavelength)**3\n",
    "t_eval = np.arange(t0_start,t0_end,t0_step)\n",
    "\n",
    "# The detunings used in the PRAs:\n",
    "intensities = 2.*MOT_power*1e-3/(np.pi*0.012**2)/Isat\n",
    "\n",
    "#Define the hamiltonian\n",
    "H0_X, Bq_X, U_X, Xbasis = pylcp.hamiltonians.XFmolecules.Xstate(N=1,I=0.5,B=15496.8125/Gamma,\n",
    "gamma = 50.697/Gamma,b=154.7/Gamma, c=178.5/Gamma,gI=5.585,gS=2.0023193043622,\n",
    "    muB = cts.value('Bohr magneton in Hz/T')/1e6*1e-4/Gamma,\n",
    "    muN=cts.m_e/cts.m_p*cts.value('Bohr magneton in Hz/T')*1e-4*1e-6/Gamma,return_basis=True\n",
    "    )\n",
    "\n",
    "# b : SI coupling(isotropic), c : Iz Sz coupling(anisotropic), cc : I N coupling, gamma : S N coupling\n",
    "\n",
    "E_X = np.unique(np.diag(H0_X))\n",
    "\n",
    "H0_A, Bq_A, Abasis = pylcp.hamiltonians.XFmolecules.Astate(J=0.5,I=0.5,\n",
    "    P=+1,B=15788.2/Gamma,D=0.,H=0.,a=109./Gamma,b=-299.2/Gamma,c=274.2/Gamma,q=0., p=15./Gamma,\n",
    "    muB=cts.value('Bohr magneton in Hz/T')/1e6*1e-4/Gamma,\n",
    "    muN=cts.m_e/cts.m_p*cts.value('Bohr magneton in Hz/T')*1e-4*1e-6/Gamma,\n",
    "    gl=53/(2*15788.2),glprime=15/(2*15788.2),greprime=0.,return_basis=True\n",
    "    )\n",
    "# gJ : Lande g-factor, p : parity(e parity)\n",
    "\n",
    "\n",
    "E_A = np.unique(np.diag(H0_A))\n",
    "\n",
    "dijq = pylcp.hamiltonians.XFmolecules.dipoleXandAstates(\n",
    "    Xbasis, Abasis, UX=U_X\n",
    "    )\n",
    "\n",
    "hamiltonian = pylcp.hamiltonian(H0_X, H0_A, Bq_X, Bq_A, dijq,mass = mass)"
   ]
  },
  {
   "cell_type": "code",
   "execution_count": 5,
   "id": "c17312fc",
   "metadata": {},
   "outputs": [],
   "source": [
    "connection = MongoClient(\"localhost:27017\")\n",
    "db = connection.db.Expected_model\n",
    "max_parameters = db.distinct(key = 'params',filter={'target' : {'$gte' : 0.01275}})"
   ]
  },
  {
   "cell_type": "code",
   "execution_count": 6,
   "id": "5be68a58-10d4-413d-8da3-a68bb0a46f1f",
   "metadata": {},
   "outputs": [
    {
     "name": "stdout",
     "output_type": "stream",
     "text": [
      "0.012984867292097274\n",
      "149.85220074653625\n"
     ]
    }
   ],
   "source": [
    "start = time.time()\n",
    "\n",
    "print(Expected_model_simulation.Expected_simulation(**max_parameters[0]))\n",
    "\n",
    "print(time.time()-start)"
   ]
  },
  {
   "cell_type": "code",
   "execution_count": 4,
   "id": "90849e4c-2c33-46d8-89d7-0d69430562ca",
   "metadata": {},
   "outputs": [],
   "source": [
    "pbounds = {'main_det':(10,20),'det_1':(70,170),'det_2':(5,30),'beta_1':(0,5),'beta_2':(0,15),'laseron':(138240,300000),'laseroff':(300001,600000)}"
   ]
  },
  {
   "cell_type": "code",
   "execution_count": 5,
   "id": "17032332-0cc3-4ce4-acbb-06cfa5f0654b",
   "metadata": {},
   "outputs": [],
   "source": [
    "optimizer = BayesianOptimization(\n",
    "    f = Expected_model_simulation.Expected_simulation,\n",
    "    pbounds=pbounds,\n",
    "    verbose=13,\n",
    "    random_state=1,\n",
    ")"
   ]
  },
  {
   "cell_type": "code",
   "execution_count": 6,
   "id": "7dab2bb3-6906-49f9-8db4-29a714c918cc",
   "metadata": {},
   "outputs": [
    {
     "data": {
      "text/plain": [
       "<bayes_opt.bayesian_optimization.BayesianOptimization at 0x223500fb8e0>"
      ]
     },
     "execution_count": 6,
     "metadata": {},
     "output_type": "execute_result"
    }
   ],
   "source": [
    "from bayes_opt.util import load_logs\n",
    "\n",
    "# New optimizer is loaded with previously seen points\n",
    "load_logs(optimizer, logs=[\"./logs_Exp_multi.json\"])"
   ]
  },
  {
   "cell_type": "code",
   "execution_count": 7,
   "id": "07a3e321-0ab3-40f1-97e2-35a3035fdfd2",
   "metadata": {},
   "outputs": [
    {
     "name": "stdout",
     "output_type": "stream",
     "text": [
      "|   iter    |  target   |  beta_1   |  beta_2   |   det_1   |   det_2   | laseroff  |  laseron  | main_det  |\n",
      "-------------------------------------------------------------------------------------------------------------\n",
      "| \u001b[0m 1       \u001b[0m | \u001b[0m 0.0     \u001b[0m | \u001b[0m 2.085   \u001b[0m | \u001b[0m 10.8    \u001b[0m | \u001b[0m 70.01   \u001b[0m | \u001b[0m 12.56   \u001b[0m | \u001b[0m 3.44e+05\u001b[0m | \u001b[0m 1.532e+0\u001b[0m | \u001b[0m 11.86   \u001b[0m |\n",
      "=============================================================================================================\n",
      "260.05457377433777\n"
     ]
    }
   ],
   "source": [
    "start = time.time()\n",
    "optimizer.maximize(\n",
    "    init_points=1,\n",
    "    n_iter=0,)\n",
    "print(time.time()-start)"
   ]
  },
  {
   "cell_type": "code",
   "execution_count": 8,
   "id": "dac1e23d-ed2c-40b6-9be1-0c9505eebdfc",
   "metadata": {},
   "outputs": [],
   "source": [
    "from bayes_opt.logger import JSONLogger\n",
    "from bayes_opt.event import Events\n",
    "\n",
    "logger = JSONLogger(path='./logs_Exp_multi.json')\n",
    "optimizer.subscribe(Events.OPTIMIZATION_STEP,logger)"
   ]
  },
  {
   "cell_type": "code",
   "execution_count": 9,
   "id": "4ddbb751-193b-4bd8-9b86-37ff9497de02",
   "metadata": {},
   "outputs": [
    {
     "name": "stdout",
     "output_type": "stream",
     "text": [
      "|   iter    |  target   |  beta_1   |  beta_2   |   det_1   |   det_2   | laseroff  |  laseron  | main_det  |\n",
      "-------------------------------------------------------------------------------------------------------------\n",
      "| \u001b[0m 2       \u001b[0m | \u001b[0m 0.0     \u001b[0m | \u001b[0m 1.728   \u001b[0m | \u001b[0m 5.952   \u001b[0m | \u001b[0m 123.9   \u001b[0m | \u001b[0m 15.48   \u001b[0m | \u001b[0m 5.056e+0\u001b[0m | \u001b[0m 1.713e+0\u001b[0m | \u001b[0m 18.78   \u001b[0m |\n",
      "| \u001b[0m 3       \u001b[0m | \u001b[0m 0.004483\u001b[0m | \u001b[0m 0.1369  \u001b[0m | \u001b[0m 10.06   \u001b[0m | \u001b[0m 111.7   \u001b[0m | \u001b[0m 18.97   \u001b[0m | \u001b[0m 3.421e+0\u001b[0m | \u001b[0m 1.703e+0\u001b[0m | \u001b[0m 18.01   \u001b[0m |\n",
      "| \u001b[0m 4       \u001b[0m | \u001b[0m 0.0     \u001b[0m | \u001b[0m 4.841   \u001b[0m | \u001b[0m 4.701   \u001b[0m | \u001b[0m 139.2   \u001b[0m | \u001b[0m 26.91   \u001b[0m | \u001b[0m 5.684e+0\u001b[0m | \u001b[0m 1.52e+05\u001b[0m | \u001b[0m 10.39   \u001b[0m |\n",
      "| \u001b[0m 5       \u001b[0m | \u001b[0m 0.0     \u001b[0m | \u001b[0m 0.8492  \u001b[0m | \u001b[0m 13.17   \u001b[0m | \u001b[0m 79.83   \u001b[0m | \u001b[0m 15.53   \u001b[0m | \u001b[0m 5.874e+0\u001b[0m | \u001b[0m 2.245e+0\u001b[0m | \u001b[0m 16.92   \u001b[0m |\n",
      "| \u001b[0m 6       \u001b[0m | \u001b[0m 0.0     \u001b[0m | \u001b[0m 1.578   \u001b[0m | \u001b[0m 10.3    \u001b[0m | \u001b[0m 153.5   \u001b[0m | \u001b[0m 5.457   \u001b[0m | \u001b[0m 5.25e+05\u001b[0m | \u001b[0m 2.982e+0\u001b[0m | \u001b[0m 17.48   \u001b[0m |\n",
      "| \u001b[0m 7       \u001b[0m | \u001b[0m 0.0     \u001b[0m | \u001b[0m 1.12    \u001b[0m | \u001b[0m 14.5    \u001b[0m | \u001b[0m 123.4   \u001b[0m | \u001b[0m 23.71   \u001b[0m | \u001b[0m 5.496e+0\u001b[0m | \u001b[0m 1.88e+05\u001b[0m | \u001b[0m 15.54   \u001b[0m |\n",
      "| \u001b[0m 8       \u001b[0m | \u001b[0m 0.000165\u001b[0m | \u001b[0m 4.996   \u001b[0m | \u001b[0m 0.4568  \u001b[0m | \u001b[0m 70.01   \u001b[0m | \u001b[0m 19.5    \u001b[0m | \u001b[0m 4.122e+0\u001b[0m | \u001b[0m 2.345e+0\u001b[0m | \u001b[0m 19.1    \u001b[0m |\n",
      "| \u001b[0m 9       \u001b[0m | \u001b[0m 0.0     \u001b[0m | \u001b[0m 4.825   \u001b[0m | \u001b[0m 0.9945  \u001b[0m | \u001b[0m 75.22   \u001b[0m | \u001b[0m 20.29   \u001b[0m | \u001b[0m 4.737e+0\u001b[0m | \u001b[0m 2.775e+0\u001b[0m | \u001b[0m 14.03   \u001b[0m |\n",
      "| \u001b[0m 10      \u001b[0m | \u001b[0m 0.006432\u001b[0m | \u001b[0m 1.615   \u001b[0m | \u001b[0m 10.69   \u001b[0m | \u001b[0m 118.0   \u001b[0m | \u001b[0m 5.67    \u001b[0m | \u001b[0m 5.048e+0\u001b[0m | \u001b[0m 2.644e+0\u001b[0m | \u001b[0m 19.74   \u001b[0m |\n",
      "| \u001b[0m 11      \u001b[0m | \u001b[0m 0.0     \u001b[0m | \u001b[0m 1.326   \u001b[0m | \u001b[0m 13.82   \u001b[0m | \u001b[0m 134.5   \u001b[0m | \u001b[0m 21.67   \u001b[0m | \u001b[0m 3.575e+0\u001b[0m | \u001b[0m 2.172e+0\u001b[0m | \u001b[0m 10.36   \u001b[0m |\n",
      "| \u001b[0m 12      \u001b[0m | \u001b[0m 0.0     \u001b[0m | \u001b[0m 3.583   \u001b[0m | \u001b[0m 9.774   \u001b[0m | \u001b[0m 80.46   \u001b[0m | \u001b[0m 7.177   \u001b[0m | \u001b[0m 4.966e+0\u001b[0m | \u001b[0m 2.727e+0\u001b[0m | \u001b[0m 12.02   \u001b[0m |\n",
      "| \u001b[0m 13      \u001b[0m | \u001b[0m 0.002048\u001b[0m | \u001b[0m 4.625   \u001b[0m | \u001b[0m 12.57   \u001b[0m | \u001b[0m 70.76   \u001b[0m | \u001b[0m 27.36   \u001b[0m | \u001b[0m 3.016e+0\u001b[0m | \u001b[0m 2.205e+0\u001b[0m | \u001b[0m 14.44   \u001b[0m |\n",
      "| \u001b[0m 14      \u001b[0m | \u001b[0m 0.005269\u001b[0m | \u001b[0m 4.91    \u001b[0m | \u001b[0m 2.971   \u001b[0m | \u001b[0m 162.9   \u001b[0m | \u001b[0m 15.38   \u001b[0m | \u001b[0m 4.213e+0\u001b[0m | \u001b[0m 1.408e+0\u001b[0m | \u001b[0m 17.81   \u001b[0m |\n",
      "| \u001b[0m 15      \u001b[0m | \u001b[0m 0.0     \u001b[0m | \u001b[0m 3.144   \u001b[0m | \u001b[0m 12.43   \u001b[0m | \u001b[0m 132.3   \u001b[0m | \u001b[0m 13.25   \u001b[0m | \u001b[0m 3.882e+0\u001b[0m | \u001b[0m 1.53e+05\u001b[0m | \u001b[0m 10.14   \u001b[0m |\n",
      "| \u001b[0m 16      \u001b[0m | \u001b[0m 0.000661\u001b[0m | \u001b[0m 2.327   \u001b[0m | \u001b[0m 3.534   \u001b[0m | \u001b[0m 89.2    \u001b[0m | \u001b[0m 7.42    \u001b[0m | \u001b[0m 5.783e+0\u001b[0m | \u001b[0m 2.076e+0\u001b[0m | \u001b[0m 15.96   \u001b[0m |\n",
      "=============================================================================================================\n",
      "2237.051639318466\n"
     ]
    }
   ],
   "source": [
    "start = time.time()\n",
    "optimizer.maximize(\n",
    "    init_points=5,\n",
    "    n_iter=10,)\n",
    "print(time.time()-start)"
   ]
  },
  {
   "cell_type": "code",
   "execution_count": 10,
   "id": "cddc92bd-b1d1-4c56-b0a8-1bba7b8e6156",
   "metadata": {},
   "outputs": [
    {
     "name": "stdout",
     "output_type": "stream",
     "text": [
      "|   iter    |  target   |  beta_1   |  beta_2   |   det_1   |   det_2   | laseroff  |  laseron  | main_det  |\n",
      "-------------------------------------------------------------------------------------------------------------\n",
      "| \u001b[0m 17      \u001b[0m | \u001b[0m 0.0     \u001b[0m | \u001b[0m 4.13    \u001b[0m | \u001b[0m 11.66   \u001b[0m | \u001b[0m 141.7   \u001b[0m | \u001b[0m 23.78   \u001b[0m | \u001b[0m 5.576e+0\u001b[0m | \u001b[0m 1.393e+0\u001b[0m | \u001b[0m 17.07   \u001b[0m |\n",
      "| \u001b[0m 18      \u001b[0m | \u001b[0m 0.000143\u001b[0m | \u001b[0m 4.139   \u001b[0m | \u001b[0m 8.871   \u001b[0m | \u001b[0m 131.4   \u001b[0m | \u001b[0m 18.73   \u001b[0m | \u001b[0m 4.794e+0\u001b[0m | \u001b[0m 2.415e+0\u001b[0m | \u001b[0m 13.45   \u001b[0m |\n",
      "| \u001b[0m 19      \u001b[0m | \u001b[0m 0.0     \u001b[0m | \u001b[0m 0.685   \u001b[0m | \u001b[0m 14.9    \u001b[0m | \u001b[0m 100.1   \u001b[0m | \u001b[0m 21.92   \u001b[0m | \u001b[0m 3.38e+05\u001b[0m | \u001b[0m 2.55e+05\u001b[0m | \u001b[0m 10.79   \u001b[0m |\n",
      "| \u001b[0m 20      \u001b[0m | \u001b[0m 0.001354\u001b[0m | \u001b[0m 3.0     \u001b[0m | \u001b[0m 3.875   \u001b[0m | \u001b[0m 155.1   \u001b[0m | \u001b[0m 18.3    \u001b[0m | \u001b[0m 4.011e+0\u001b[0m | \u001b[0m 2.791e+0\u001b[0m | \u001b[0m 16.07   \u001b[0m |\n",
      "| \u001b[0m 21      \u001b[0m | \u001b[0m 0.0     \u001b[0m | \u001b[0m 0.09493 \u001b[0m | \u001b[0m 12.94   \u001b[0m | \u001b[0m 112.7   \u001b[0m | \u001b[0m 9.89    \u001b[0m | \u001b[0m 5.044e+0\u001b[0m | \u001b[0m 2.052e+0\u001b[0m | \u001b[0m 13.8    \u001b[0m |\n",
      "| \u001b[0m 22      \u001b[0m | \u001b[0m 0.0     \u001b[0m | \u001b[0m 1.186   \u001b[0m | \u001b[0m 7.141   \u001b[0m | \u001b[0m 98.22   \u001b[0m | \u001b[0m 28.7    \u001b[0m | \u001b[0m 5.705e+0\u001b[0m | \u001b[0m 2.784e+0\u001b[0m | \u001b[0m 18.14   \u001b[0m |\n",
      "| \u001b[0m 23      \u001b[0m | \u001b[0m 0.00108 \u001b[0m | \u001b[0m 2.27    \u001b[0m | \u001b[0m 13.07   \u001b[0m | \u001b[0m 114.7   \u001b[0m | \u001b[0m 7.129   \u001b[0m | \u001b[0m 3.206e+0\u001b[0m | \u001b[0m 2.561e+0\u001b[0m | \u001b[0m 17.09   \u001b[0m |\n",
      "| \u001b[0m 24      \u001b[0m | \u001b[0m 0.0     \u001b[0m | \u001b[0m 1.311   \u001b[0m | \u001b[0m 6.289   \u001b[0m | \u001b[0m 102.9   \u001b[0m | \u001b[0m 8.738   \u001b[0m | \u001b[0m 5.83e+05\u001b[0m | \u001b[0m 1.518e+0\u001b[0m | \u001b[0m 15.3    \u001b[0m |\n",
      "| \u001b[0m 25      \u001b[0m | \u001b[0m 0.004383\u001b[0m | \u001b[0m 2.832   \u001b[0m | \u001b[0m 8.712   \u001b[0m | \u001b[0m 120.7   \u001b[0m | \u001b[0m 20.63   \u001b[0m | \u001b[0m 3.04e+05\u001b[0m | \u001b[0m 1.804e+0\u001b[0m | \u001b[0m 16.21   \u001b[0m |\n",
      "| \u001b[0m 26      \u001b[0m | \u001b[0m 0.001228\u001b[0m | \u001b[0m 4.821   \u001b[0m | \u001b[0m 1.387   \u001b[0m | \u001b[0m 136.9   \u001b[0m | \u001b[0m 25.55   \u001b[0m | \u001b[0m 5.007e+0\u001b[0m | \u001b[0m 2.256e+0\u001b[0m | \u001b[0m 18.68   \u001b[0m |\n",
      "| \u001b[0m 27      \u001b[0m | \u001b[0m 0.0     \u001b[0m | \u001b[0m 1.684   \u001b[0m | \u001b[0m 4.536   \u001b[0m | \u001b[0m 88.33   \u001b[0m | \u001b[0m 20.32   \u001b[0m | \u001b[0m 4.205e+0\u001b[0m | \u001b[0m 1.835e+0\u001b[0m | \u001b[0m 10.43   \u001b[0m |\n",
      "| \u001b[0m 28      \u001b[0m | \u001b[0m 0.004472\u001b[0m | \u001b[0m 0.1379  \u001b[0m | \u001b[0m 6.822   \u001b[0m | \u001b[0m 138.9   \u001b[0m | \u001b[0m 9.771   \u001b[0m | \u001b[0m 5.015e+0\u001b[0m | \u001b[0m 1.934e+0\u001b[0m | \u001b[0m 18.21   \u001b[0m |\n",
      "| \u001b[0m 29      \u001b[0m | \u001b[0m 0.0     \u001b[0m | \u001b[0m 1.419   \u001b[0m | \u001b[0m 6.62    \u001b[0m | \u001b[0m 93.96   \u001b[0m | \u001b[0m 23.42   \u001b[0m | \u001b[0m 4.476e+0\u001b[0m | \u001b[0m 2.574e+0\u001b[0m | \u001b[0m 14.18   \u001b[0m |\n",
      "| \u001b[0m 30      \u001b[0m | \u001b[0m 0.000332\u001b[0m | \u001b[0m 3.299   \u001b[0m | \u001b[0m 11.32   \u001b[0m | \u001b[0m 116.4   \u001b[0m | \u001b[0m 11.24   \u001b[0m | \u001b[0m 5.269e+0\u001b[0m | \u001b[0m 1.834e+0\u001b[0m | \u001b[0m 15.1    \u001b[0m |\n",
      "| \u001b[0m 31      \u001b[0m | \u001b[0m 0.0     \u001b[0m | \u001b[0m 1.241   \u001b[0m | \u001b[0m 9.205   \u001b[0m | \u001b[0m 109.7   \u001b[0m | \u001b[0m 27.13   \u001b[0m | \u001b[0m 4.875e+0\u001b[0m | \u001b[0m 1.725e+0\u001b[0m | \u001b[0m 15.35   \u001b[0m |\n",
      "| \u001b[0m 32      \u001b[0m | \u001b[0m 0.002245\u001b[0m | \u001b[0m 0.6825  \u001b[0m | \u001b[0m 1.134   \u001b[0m | \u001b[0m 96.66   \u001b[0m | \u001b[0m 28.48   \u001b[0m | \u001b[0m 4.659e+0\u001b[0m | \u001b[0m 2.204e+0\u001b[0m | \u001b[0m 16.87   \u001b[0m |\n",
      "| \u001b[0m 33      \u001b[0m | \u001b[0m 0.002347\u001b[0m | \u001b[0m 1.184   \u001b[0m | \u001b[0m 6.793   \u001b[0m | \u001b[0m 121.1   \u001b[0m | \u001b[0m 8.094   \u001b[0m | \u001b[0m 4.729e+0\u001b[0m | \u001b[0m 2.138e+0\u001b[0m | \u001b[0m 17.81   \u001b[0m |\n",
      "| \u001b[0m 34      \u001b[0m | \u001b[0m 0.0     \u001b[0m | \u001b[0m 1.915   \u001b[0m | \u001b[0m 13.94   \u001b[0m | \u001b[0m 86.3    \u001b[0m | \u001b[0m 16.03   \u001b[0m | \u001b[0m 4.71e+05\u001b[0m | \u001b[0m 1.437e+0\u001b[0m | \u001b[0m 16.3    \u001b[0m |\n",
      "| \u001b[0m 35      \u001b[0m | \u001b[0m 0.005482\u001b[0m | \u001b[0m 3.805   \u001b[0m | \u001b[0m 9.937   \u001b[0m | \u001b[0m 87.6    \u001b[0m | \u001b[0m 25.53   \u001b[0m | \u001b[0m 4.919e+0\u001b[0m | \u001b[0m 1.623e+0\u001b[0m | \u001b[0m 19.47   \u001b[0m |\n",
      "| \u001b[0m 36      \u001b[0m | \u001b[0m 0.0     \u001b[0m | \u001b[0m 3.288   \u001b[0m | \u001b[0m 0.9802  \u001b[0m | \u001b[0m 84.84   \u001b[0m | \u001b[0m 6.73    \u001b[0m | \u001b[0m 5.284e+0\u001b[0m | \u001b[0m 1.899e+0\u001b[0m | \u001b[0m 11.85   \u001b[0m |\n",
      "| \u001b[0m 37      \u001b[0m | \u001b[0m 0.0     \u001b[0m | \u001b[0m 0.2051  \u001b[0m | \u001b[0m 1.177   \u001b[0m | \u001b[0m 151.2   \u001b[0m | \u001b[0m 17.69   \u001b[0m | \u001b[0m 5.213e+0\u001b[0m | \u001b[0m 1.638e+0\u001b[0m | \u001b[0m 12.86   \u001b[0m |\n",
      "| \u001b[0m 38      \u001b[0m | \u001b[0m 0.0     \u001b[0m | \u001b[0m 2.511   \u001b[0m | \u001b[0m 9.47    \u001b[0m | \u001b[0m 168.8   \u001b[0m | \u001b[0m 23.14   \u001b[0m | \u001b[0m 4.893e+0\u001b[0m | \u001b[0m 2.763e+0\u001b[0m | \u001b[0m 19.6    \u001b[0m |\n",
      "| \u001b[0m 39      \u001b[0m | \u001b[0m 0.002503\u001b[0m | \u001b[0m 4.494   \u001b[0m | \u001b[0m 2.345   \u001b[0m | \u001b[0m 140.3   \u001b[0m | \u001b[0m 14.47   \u001b[0m | \u001b[0m 5.421e+0\u001b[0m | \u001b[0m 1.533e+0\u001b[0m | \u001b[0m 19.82   \u001b[0m |\n",
      "| \u001b[0m 40      \u001b[0m | \u001b[0m 0.007713\u001b[0m | \u001b[0m 1.853   \u001b[0m | \u001b[0m 5.696   \u001b[0m | \u001b[0m 111.2   \u001b[0m | \u001b[0m 23.77   \u001b[0m | \u001b[0m 4.472e+0\u001b[0m | \u001b[0m 2.653e+0\u001b[0m | \u001b[0m 18.21   \u001b[0m |\n",
      "| \u001b[0m 41      \u001b[0m | \u001b[0m 0.000154\u001b[0m | \u001b[0m 4.557   \u001b[0m | \u001b[0m 2.808   \u001b[0m | \u001b[0m 166.8   \u001b[0m | \u001b[0m 22.05   \u001b[0m | \u001b[0m 4.929e+0\u001b[0m | \u001b[0m 2.545e+0\u001b[0m | \u001b[0m 12.86   \u001b[0m |\n",
      "| \u001b[0m 42      \u001b[0m | \u001b[0m 0.0     \u001b[0m | \u001b[0m 1.015   \u001b[0m | \u001b[0m 1.343   \u001b[0m | \u001b[0m 92.83   \u001b[0m | \u001b[0m 20.57   \u001b[0m | \u001b[0m 3.021e+0\u001b[0m | \u001b[0m 2.998e+0\u001b[0m | \u001b[0m 18.68   \u001b[0m |\n",
      "| \u001b[0m 43      \u001b[0m | \u001b[0m 0.0     \u001b[0m | \u001b[0m 3.576   \u001b[0m | \u001b[0m 0.02348 \u001b[0m | \u001b[0m 108.6   \u001b[0m | \u001b[0m 14.08   \u001b[0m | \u001b[0m 4.814e+0\u001b[0m | \u001b[0m 2.058e+0\u001b[0m | \u001b[0m 11.78   \u001b[0m |\n",
      "| \u001b[0m 44      \u001b[0m | \u001b[0m 0.0     \u001b[0m | \u001b[0m 1.128   \u001b[0m | \u001b[0m 14.39   \u001b[0m | \u001b[0m 79.16   \u001b[0m | \u001b[0m 15.34   \u001b[0m | \u001b[0m 3.553e+0\u001b[0m | \u001b[0m 2.245e+0\u001b[0m | \u001b[0m 13.71   \u001b[0m |\n",
      "| \u001b[0m 45      \u001b[0m | \u001b[0m 0.0     \u001b[0m | \u001b[0m 4.361   \u001b[0m | \u001b[0m 1.754   \u001b[0m | \u001b[0m 103.7   \u001b[0m | \u001b[0m 20.75   \u001b[0m | \u001b[0m 3.666e+0\u001b[0m | \u001b[0m 2.372e+0\u001b[0m | \u001b[0m 10.34   \u001b[0m |\n",
      "| \u001b[0m 46      \u001b[0m | \u001b[0m 0.0     \u001b[0m | \u001b[0m 2.037   \u001b[0m | \u001b[0m 0.1263  \u001b[0m | \u001b[0m 120.2   \u001b[0m | \u001b[0m 27.79   \u001b[0m | \u001b[0m 5.38e+05\u001b[0m | \u001b[0m 2.55e+05\u001b[0m | \u001b[0m 10.66   \u001b[0m |\n",
      "=============================================================================================================\n",
      "3546.4340686798096\n"
     ]
    }
   ],
   "source": [
    "start = time.time()\n",
    "optimizer.maximize(\n",
    "    init_points=0,\n",
    "    n_iter=30,)\n",
    "print(time.time()-start)"
   ]
  },
  {
   "cell_type": "code",
   "execution_count": 11,
   "id": "4fda1838-64a4-4d7a-90bb-46b0b1c5d955",
   "metadata": {},
   "outputs": [
    {
     "name": "stdout",
     "output_type": "stream",
     "text": [
      "|   iter    |  target   |  beta_1   |  beta_2   |   det_1   |   det_2   | laseroff  |  laseron  | main_det  |\n",
      "-------------------------------------------------------------------------------------------------------------\n",
      "| \u001b[0m 47      \u001b[0m | \u001b[0m 0.005689\u001b[0m | \u001b[0m 2.149   \u001b[0m | \u001b[0m 0.3916  \u001b[0m | \u001b[0m 103.7   \u001b[0m | \u001b[0m 19.79   \u001b[0m | \u001b[0m 4.88e+05\u001b[0m | \u001b[0m 2.369e+0\u001b[0m | \u001b[0m 19.61   \u001b[0m |\n",
      "=============================================================================================================\n"
     ]
    }
   ],
   "source": [
    "optimizer.maximize(n_iter=1,init_points = 0)"
   ]
  },
  {
   "cell_type": "code",
   "execution_count": 17,
   "id": "0f9ca17b",
   "metadata": {},
   "outputs": [
    {
     "name": "stdout",
     "output_type": "stream",
     "text": [
      "|   iter    |  target   |  beta_1   |  beta_2   |   det_1   |   det_2   | laseroff  |  laseron  | main_det  |\n",
      "-------------------------------------------------------------------------------------------------------------\n",
      "| \u001b[0m 148     \u001b[0m | \u001b[0m 0.0     \u001b[0m | \u001b[0m 2.016   \u001b[0m | \u001b[0m 11.38   \u001b[0m | \u001b[0m 141.7   \u001b[0m | \u001b[0m 29.68   \u001b[0m | \u001b[0m 3.834e+0\u001b[0m | \u001b[0m 1.389e+0\u001b[0m | \u001b[0m 19.34   \u001b[0m |\n",
      "| \u001b[0m 149     \u001b[0m | \u001b[0m 0.003363\u001b[0m | \u001b[0m 4.289   \u001b[0m | \u001b[0m 10.93   \u001b[0m | \u001b[0m 121.7   \u001b[0m | \u001b[0m 22.67   \u001b[0m | \u001b[0m 5.342e+0\u001b[0m | \u001b[0m 1.989e+0\u001b[0m | \u001b[0m 17.7    \u001b[0m |\n",
      "| \u001b[0m 150     \u001b[0m | \u001b[0m 0.0     \u001b[0m | \u001b[0m 3.753   \u001b[0m | \u001b[0m 9.198   \u001b[0m | \u001b[0m 110.2   \u001b[0m | \u001b[0m 22.43   \u001b[0m | \u001b[0m 3.009e+0\u001b[0m | \u001b[0m 2.636e+0\u001b[0m | \u001b[0m 18.96   \u001b[0m |\n",
      "| \u001b[0m 151     \u001b[0m | \u001b[0m 0.0     \u001b[0m | \u001b[0m 1.197   \u001b[0m | \u001b[0m 1.812   \u001b[0m | \u001b[0m 92.03   \u001b[0m | \u001b[0m 12.55   \u001b[0m | \u001b[0m 5.649e+0\u001b[0m | \u001b[0m 2.261e+0\u001b[0m | \u001b[0m 12.87   \u001b[0m |\n",
      "| \u001b[0m 152     \u001b[0m | \u001b[0m 0.01042 \u001b[0m | \u001b[0m 0.6918  \u001b[0m | \u001b[0m 4.352   \u001b[0m | \u001b[0m 131.4   \u001b[0m | \u001b[0m 13.1    \u001b[0m | \u001b[0m 4.372e+0\u001b[0m | \u001b[0m 2.101e+0\u001b[0m | \u001b[0m 18.28   \u001b[0m |\n",
      "| \u001b[0m 153     \u001b[0m | \u001b[0m 0.00309 \u001b[0m | \u001b[0m 2.132   \u001b[0m | \u001b[0m 5.185   \u001b[0m | \u001b[0m 137.5   \u001b[0m | \u001b[0m 10.54   \u001b[0m | \u001b[0m 4.402e+0\u001b[0m | \u001b[0m 1.892e+0\u001b[0m | \u001b[0m 16.27   \u001b[0m |\n",
      "| \u001b[0m 154     \u001b[0m | \u001b[0m 0.000265\u001b[0m | \u001b[0m 4.387   \u001b[0m | \u001b[0m 6.715   \u001b[0m | \u001b[0m 148.4   \u001b[0m | \u001b[0m 16.42   \u001b[0m | \u001b[0m 4.969e+0\u001b[0m | \u001b[0m 1.596e+0\u001b[0m | \u001b[0m 14.33   \u001b[0m |\n",
      "| \u001b[0m 155     \u001b[0m | \u001b[0m 7.748e-0\u001b[0m | \u001b[0m 4.547   \u001b[0m | \u001b[0m 9.082   \u001b[0m | \u001b[0m 146.7   \u001b[0m | \u001b[0m 17.62   \u001b[0m | \u001b[0m 4.494e+0\u001b[0m | \u001b[0m 2.746e+0\u001b[0m | \u001b[0m 10.68   \u001b[0m |\n",
      "| \u001b[0m 156     \u001b[0m | \u001b[0m 0.0     \u001b[0m | \u001b[0m 2.866   \u001b[0m | \u001b[0m 14.14   \u001b[0m | \u001b[0m 121.8   \u001b[0m | \u001b[0m 9.862   \u001b[0m | \u001b[0m 5.544e+0\u001b[0m | \u001b[0m 1.789e+0\u001b[0m | \u001b[0m 17.01   \u001b[0m |\n",
      "| \u001b[0m 157     \u001b[0m | \u001b[0m 0.0     \u001b[0m | \u001b[0m 2.701   \u001b[0m | \u001b[0m 14.23   \u001b[0m | \u001b[0m 132.4   \u001b[0m | \u001b[0m 25.95   \u001b[0m | \u001b[0m 3.024e+0\u001b[0m | \u001b[0m 2.983e+0\u001b[0m | \u001b[0m 10.78   \u001b[0m |\n",
      "| \u001b[0m 158     \u001b[0m | \u001b[0m 0.0     \u001b[0m | \u001b[0m 1.611   \u001b[0m | \u001b[0m 14.19   \u001b[0m | \u001b[0m 70.89   \u001b[0m | \u001b[0m 25.57   \u001b[0m | \u001b[0m 5.584e+0\u001b[0m | \u001b[0m 2.094e+0\u001b[0m | \u001b[0m 12.56   \u001b[0m |\n",
      "| \u001b[0m 159     \u001b[0m | \u001b[0m 0.002434\u001b[0m | \u001b[0m 4.013   \u001b[0m | \u001b[0m 7.168   \u001b[0m | \u001b[0m 83.43   \u001b[0m | \u001b[0m 28.2    \u001b[0m | \u001b[0m 5.688e+0\u001b[0m | \u001b[0m 2.178e+0\u001b[0m | \u001b[0m 18.57   \u001b[0m |\n",
      "| \u001b[0m 160     \u001b[0m | \u001b[0m 0.001117\u001b[0m | \u001b[0m 2.093   \u001b[0m | \u001b[0m 10.25   \u001b[0m | \u001b[0m 109.8   \u001b[0m | \u001b[0m 17.64   \u001b[0m | \u001b[0m 3.569e+0\u001b[0m | \u001b[0m 2.943e+0\u001b[0m | \u001b[0m 12.94   \u001b[0m |\n",
      "| \u001b[0m 161     \u001b[0m | \u001b[0m 0.000321\u001b[0m | \u001b[0m 0.5173  \u001b[0m | \u001b[0m 2.165   \u001b[0m | \u001b[0m 71.41   \u001b[0m | \u001b[0m 22.9    \u001b[0m | \u001b[0m 4.693e+0\u001b[0m | \u001b[0m 2.668e+0\u001b[0m | \u001b[0m 15.07   \u001b[0m |\n",
      "| \u001b[0m 162     \u001b[0m | \u001b[0m 0.000129\u001b[0m | \u001b[0m 3.959   \u001b[0m | \u001b[0m 10.44   \u001b[0m | \u001b[0m 147.8   \u001b[0m | \u001b[0m 15.16   \u001b[0m | \u001b[0m 4.943e+0\u001b[0m | \u001b[0m 1.673e+0\u001b[0m | \u001b[0m 13.22   \u001b[0m |\n",
      "| \u001b[0m 163     \u001b[0m | \u001b[0m 0.0     \u001b[0m | \u001b[0m 0.863   \u001b[0m | \u001b[0m 6.13    \u001b[0m | \u001b[0m 94.14   \u001b[0m | \u001b[0m 15.17   \u001b[0m | \u001b[0m 5.926e+0\u001b[0m | \u001b[0m 1.901e+0\u001b[0m | \u001b[0m 19.82   \u001b[0m |\n",
      "| \u001b[0m 164     \u001b[0m | \u001b[0m 0.000449\u001b[0m | \u001b[0m 3.182   \u001b[0m | \u001b[0m 5.626   \u001b[0m | \u001b[0m 155.7   \u001b[0m | \u001b[0m 20.49   \u001b[0m | \u001b[0m 3.756e+0\u001b[0m | \u001b[0m 2.665e+0\u001b[0m | \u001b[0m 14.33   \u001b[0m |\n",
      "| \u001b[0m 165     \u001b[0m | \u001b[0m 0.0     \u001b[0m | \u001b[0m 1.788   \u001b[0m | \u001b[0m 4.954   \u001b[0m | \u001b[0m 139.7   \u001b[0m | \u001b[0m 11.72   \u001b[0m | \u001b[0m 5.425e+0\u001b[0m | \u001b[0m 1.86e+05\u001b[0m | \u001b[0m 15.44   \u001b[0m |\n",
      "| \u001b[0m 166     \u001b[0m | \u001b[0m 0.0     \u001b[0m | \u001b[0m 2.44    \u001b[0m | \u001b[0m 12.83   \u001b[0m | \u001b[0m 158.8   \u001b[0m | \u001b[0m 9.61    \u001b[0m | \u001b[0m 4.756e+0\u001b[0m | \u001b[0m 2.835e+0\u001b[0m | \u001b[0m 14.46   \u001b[0m |\n",
      "| \u001b[0m 167     \u001b[0m | \u001b[0m 0.000315\u001b[0m | \u001b[0m 4.609   \u001b[0m | \u001b[0m 4.185   \u001b[0m | \u001b[0m 130.9   \u001b[0m | \u001b[0m 22.06   \u001b[0m | \u001b[0m 3.685e+0\u001b[0m | \u001b[0m 1.405e+0\u001b[0m | \u001b[0m 14.17   \u001b[0m |\n",
      "| \u001b[0m 168     \u001b[0m | \u001b[0m 0.002496\u001b[0m | \u001b[0m 4.692   \u001b[0m | \u001b[0m 5.145   \u001b[0m | \u001b[0m 148.0   \u001b[0m | \u001b[0m 9.368   \u001b[0m | \u001b[0m 4.026e+0\u001b[0m | \u001b[0m 1.616e+0\u001b[0m | \u001b[0m 17.17   \u001b[0m |\n",
      "| \u001b[0m 169     \u001b[0m | \u001b[0m 0.000343\u001b[0m | \u001b[0m 3.497   \u001b[0m | \u001b[0m 10.33   \u001b[0m | \u001b[0m 95.34   \u001b[0m | \u001b[0m 22.31   \u001b[0m | \u001b[0m 3.682e+0\u001b[0m | \u001b[0m 2.069e+0\u001b[0m | \u001b[0m 13.72   \u001b[0m |\n",
      "| \u001b[0m 170     \u001b[0m | \u001b[0m 0.0     \u001b[0m | \u001b[0m 1.777   \u001b[0m | \u001b[0m 0.8648  \u001b[0m | \u001b[0m 133.2   \u001b[0m | \u001b[0m 22.68   \u001b[0m | \u001b[0m 4.841e+0\u001b[0m | \u001b[0m 2.431e+0\u001b[0m | \u001b[0m 11.7    \u001b[0m |\n",
      "| \u001b[0m 171     \u001b[0m | \u001b[0m 0.0     \u001b[0m | \u001b[0m 0.7472  \u001b[0m | \u001b[0m 7.713   \u001b[0m | \u001b[0m 157.5   \u001b[0m | \u001b[0m 9.599   \u001b[0m | \u001b[0m 4.389e+0\u001b[0m | \u001b[0m 2.076e+0\u001b[0m | \u001b[0m 14.97   \u001b[0m |\n",
      "| \u001b[0m 172     \u001b[0m | \u001b[0m 0.0     \u001b[0m | \u001b[0m 0.8076  \u001b[0m | \u001b[0m 5.137   \u001b[0m | \u001b[0m 96.19   \u001b[0m | \u001b[0m 26.11   \u001b[0m | \u001b[0m 5.401e+0\u001b[0m | \u001b[0m 2.073e+0\u001b[0m | \u001b[0m 16.07   \u001b[0m |\n",
      "| \u001b[0m 173     \u001b[0m | \u001b[0m 0.0     \u001b[0m | \u001b[0m 0.7273  \u001b[0m | \u001b[0m 7.644   \u001b[0m | \u001b[0m 99.69   \u001b[0m | \u001b[0m 26.49   \u001b[0m | \u001b[0m 5.015e+0\u001b[0m | \u001b[0m 2.407e+0\u001b[0m | \u001b[0m 11.25   \u001b[0m |\n",
      "| \u001b[0m 174     \u001b[0m | \u001b[0m 0.0     \u001b[0m | \u001b[0m 2.353   \u001b[0m | \u001b[0m 14.8    \u001b[0m | \u001b[0m 164.8   \u001b[0m | \u001b[0m 21.13   \u001b[0m | \u001b[0m 3.455e+0\u001b[0m | \u001b[0m 2.416e+0\u001b[0m | \u001b[0m 15.66   \u001b[0m |\n",
      "| \u001b[0m 175     \u001b[0m | \u001b[0m 0.0     \u001b[0m | \u001b[0m 2.343   \u001b[0m | \u001b[0m 6.421   \u001b[0m | \u001b[0m 129.9   \u001b[0m | \u001b[0m 26.25   \u001b[0m | \u001b[0m 5.253e+0\u001b[0m | \u001b[0m 2.32e+05\u001b[0m | \u001b[0m 19.25   \u001b[0m |\n",
      "| \u001b[0m 176     \u001b[0m | \u001b[0m 0.0     \u001b[0m | \u001b[0m 0.3237  \u001b[0m | \u001b[0m 14.87   \u001b[0m | \u001b[0m 75.3    \u001b[0m | \u001b[0m 9.987   \u001b[0m | \u001b[0m 4.268e+0\u001b[0m | \u001b[0m 1.556e+0\u001b[0m | \u001b[0m 16.24   \u001b[0m |\n",
      "| \u001b[0m 177     \u001b[0m | \u001b[0m 0.0     \u001b[0m | \u001b[0m 0.24    \u001b[0m | \u001b[0m 4.269   \u001b[0m | \u001b[0m 76.1    \u001b[0m | \u001b[0m 22.59   \u001b[0m | \u001b[0m 5.005e+0\u001b[0m | \u001b[0m 1.995e+0\u001b[0m | \u001b[0m 11.88   \u001b[0m |\n",
      "| \u001b[0m 178     \u001b[0m | \u001b[0m 0.000128\u001b[0m | \u001b[0m 3.735   \u001b[0m | \u001b[0m 5.106   \u001b[0m | \u001b[0m 149.5   \u001b[0m | \u001b[0m 17.2    \u001b[0m | \u001b[0m 4.577e+0\u001b[0m | \u001b[0m 1.428e+0\u001b[0m | \u001b[0m 16.44   \u001b[0m |\n",
      "| \u001b[0m 179     \u001b[0m | \u001b[0m 0.000306\u001b[0m | \u001b[0m 1.753   \u001b[0m | \u001b[0m 3.438   \u001b[0m | \u001b[0m 113.4   \u001b[0m | \u001b[0m 14.56   \u001b[0m | \u001b[0m 4.409e+0\u001b[0m | \u001b[0m 2.967e+0\u001b[0m | \u001b[0m 13.64   \u001b[0m |\n",
      "| \u001b[0m 180     \u001b[0m | \u001b[0m 0.0     \u001b[0m | \u001b[0m 3.872   \u001b[0m | \u001b[0m 8.292   \u001b[0m | \u001b[0m 158.9   \u001b[0m | \u001b[0m 13.87   \u001b[0m | \u001b[0m 3.737e+0\u001b[0m | \u001b[0m 2.856e+0\u001b[0m | \u001b[0m 10.44   \u001b[0m |\n",
      "| \u001b[0m 181     \u001b[0m | \u001b[0m 0.0     \u001b[0m | \u001b[0m 4.754   \u001b[0m | \u001b[0m 8.346   \u001b[0m | \u001b[0m 107.6   \u001b[0m | \u001b[0m 29.88   \u001b[0m | \u001b[0m 3.175e+0\u001b[0m | \u001b[0m 2.218e+0\u001b[0m | \u001b[0m 10.31   \u001b[0m |\n",
      "| \u001b[0m 182     \u001b[0m | \u001b[0m 0.002443\u001b[0m | \u001b[0m 2.856   \u001b[0m | \u001b[0m 2.707   \u001b[0m | \u001b[0m 133.1   \u001b[0m | \u001b[0m 29.52   \u001b[0m | \u001b[0m 5.625e+0\u001b[0m | \u001b[0m 2.113e+0\u001b[0m | \u001b[0m 17.08   \u001b[0m |\n",
      "| \u001b[0m 183     \u001b[0m | \u001b[0m 2.23e-05\u001b[0m | \u001b[0m 3.887   \u001b[0m | \u001b[0m 7.423   \u001b[0m | \u001b[0m 122.9   \u001b[0m | \u001b[0m 8.77    \u001b[0m | \u001b[0m 4.108e+0\u001b[0m | \u001b[0m 1.612e+0\u001b[0m | \u001b[0m 17.27   \u001b[0m |\n",
      "| \u001b[0m 184     \u001b[0m | \u001b[0m 0.0     \u001b[0m | \u001b[0m 2.385   \u001b[0m | \u001b[0m 6.733   \u001b[0m | \u001b[0m 158.6   \u001b[0m | \u001b[0m 18.19   \u001b[0m | \u001b[0m 4.227e+0\u001b[0m | \u001b[0m 1.817e+0\u001b[0m | \u001b[0m 10.72   \u001b[0m |\n",
      "| \u001b[0m 185     \u001b[0m | \u001b[0m 0.0     \u001b[0m | \u001b[0m 2.091   \u001b[0m | \u001b[0m 0.3863  \u001b[0m | \u001b[0m 99.12   \u001b[0m | \u001b[0m 17.59   \u001b[0m | \u001b[0m 5.898e+0\u001b[0m | \u001b[0m 1.559e+0\u001b[0m | \u001b[0m 16.73   \u001b[0m |\n",
      "| \u001b[0m 186     \u001b[0m | \u001b[0m 0.000167\u001b[0m | \u001b[0m 2.5     \u001b[0m | \u001b[0m 11.66   \u001b[0m | \u001b[0m 84.36   \u001b[0m | \u001b[0m 7.08    \u001b[0m | \u001b[0m 4.198e+0\u001b[0m | \u001b[0m 2.672e+0\u001b[0m | \u001b[0m 11.92   \u001b[0m |\n",
      "| \u001b[0m 187     \u001b[0m | \u001b[0m 0.0     \u001b[0m | \u001b[0m 3.839   \u001b[0m | \u001b[0m 4.354   \u001b[0m | \u001b[0m 91.69   \u001b[0m | \u001b[0m 5.418   \u001b[0m | \u001b[0m 4.196e+0\u001b[0m | \u001b[0m 1.999e+0\u001b[0m | \u001b[0m 16.59   \u001b[0m |\n",
      "| \u001b[0m 188     \u001b[0m | \u001b[0m 0.0     \u001b[0m | \u001b[0m 0.3546  \u001b[0m | \u001b[0m 2.289   \u001b[0m | \u001b[0m 71.66   \u001b[0m | \u001b[0m 7.845   \u001b[0m | \u001b[0m 4.955e+0\u001b[0m | \u001b[0m 2.034e+0\u001b[0m | \u001b[0m 13.21   \u001b[0m |\n",
      "| \u001b[0m 189     \u001b[0m | \u001b[0m 0.0     \u001b[0m | \u001b[0m 2.79    \u001b[0m | \u001b[0m 14.9    \u001b[0m | \u001b[0m 153.4   \u001b[0m | \u001b[0m 22.49   \u001b[0m | \u001b[0m 5.755e+0\u001b[0m | \u001b[0m 1.447e+0\u001b[0m | \u001b[0m 10.7    \u001b[0m |\n",
      "| \u001b[0m 190     \u001b[0m | \u001b[0m 0.0     \u001b[0m | \u001b[0m 2.37    \u001b[0m | \u001b[0m 5.238   \u001b[0m | \u001b[0m 163.7   \u001b[0m | \u001b[0m 17.24   \u001b[0m | \u001b[0m 4.619e+0\u001b[0m | \u001b[0m 2.831e+0\u001b[0m | \u001b[0m 14.47   \u001b[0m |\n",
      "| \u001b[0m 191     \u001b[0m | \u001b[0m 0.000344\u001b[0m | \u001b[0m 4.385   \u001b[0m | \u001b[0m 3.804   \u001b[0m | \u001b[0m 97.38   \u001b[0m | \u001b[0m 13.21   \u001b[0m | \u001b[0m 4.643e+0\u001b[0m | \u001b[0m 1.738e+0\u001b[0m | \u001b[0m 16.71   \u001b[0m |\n",
      "| \u001b[0m 192     \u001b[0m | \u001b[0m 0.002365\u001b[0m | \u001b[0m 0.714   \u001b[0m | \u001b[0m 1.412   \u001b[0m | \u001b[0m 157.0   \u001b[0m | \u001b[0m 10.92   \u001b[0m | \u001b[0m 4.158e+0\u001b[0m | \u001b[0m 2.307e+0\u001b[0m | \u001b[0m 15.26   \u001b[0m |\n",
      "| \u001b[0m 193     \u001b[0m | \u001b[0m 0.0     \u001b[0m | \u001b[0m 1.515   \u001b[0m | \u001b[0m 5.878   \u001b[0m | \u001b[0m 158.0   \u001b[0m | \u001b[0m 5.398   \u001b[0m | \u001b[0m 4.321e+0\u001b[0m | \u001b[0m 2.683e+0\u001b[0m | \u001b[0m 10.01   \u001b[0m |\n",
      "| \u001b[0m 194     \u001b[0m | \u001b[0m 0.0114  \u001b[0m | \u001b[0m 2.493   \u001b[0m | \u001b[0m 10.71   \u001b[0m | \u001b[0m 81.5    \u001b[0m | \u001b[0m 13.58   \u001b[0m | \u001b[0m 4.915e+0\u001b[0m | \u001b[0m 2.068e+0\u001b[0m | \u001b[0m 19.79   \u001b[0m |\n",
      "| \u001b[0m 195     \u001b[0m | \u001b[0m 0.0     \u001b[0m | \u001b[0m 3.351   \u001b[0m | \u001b[0m 1.574   \u001b[0m | \u001b[0m 79.4    \u001b[0m | \u001b[0m 28.18   \u001b[0m | \u001b[0m 3.052e+0\u001b[0m | \u001b[0m 2.688e+0\u001b[0m | \u001b[0m 13.41   \u001b[0m |\n",
      "| \u001b[0m 196     \u001b[0m | \u001b[0m 0.0     \u001b[0m | \u001b[0m 2.825   \u001b[0m | \u001b[0m 14.18   \u001b[0m | \u001b[0m 152.7   \u001b[0m | \u001b[0m 29.92   \u001b[0m | \u001b[0m 4.741e+0\u001b[0m | \u001b[0m 1.865e+0\u001b[0m | \u001b[0m 12.2    \u001b[0m |\n",
      "| \u001b[0m 197     \u001b[0m | \u001b[0m 0.0063  \u001b[0m | \u001b[0m 3.436   \u001b[0m | \u001b[0m 9.493   \u001b[0m | \u001b[0m 142.0   \u001b[0m | \u001b[0m 22.74   \u001b[0m | \u001b[0m 4.354e+0\u001b[0m | \u001b[0m 2.404e+0\u001b[0m | \u001b[0m 17.81   \u001b[0m |\n",
      "=============================================================================================================\n",
      "5167.835093021393\n"
     ]
    }
   ],
   "source": [
    "start = time.time()\n",
    "optimizer.maximize(n_iter=5,init_points = 45)\n",
    "\n",
    "print(time.time()-start)"
   ]
  },
  {
   "cell_type": "code",
   "execution_count": 18,
   "id": "067f2740-c1f1-409f-98ac-65bcf3be7093",
   "metadata": {},
   "outputs": [
    {
     "data": {
      "text/plain": [
       "{'target': 0.012751073397031026,\n",
       " 'params': {'beta_1': 2.935124145664613,\n",
       "  'beta_2': 10.312814186442964,\n",
       "  'det_1': 115.49496654453418,\n",
       "  'det_2': 15.388812962322799,\n",
       "  'laseroff': 411581.2063215908,\n",
       "  'laseron': 235170.32507489598,\n",
       "  'main_det': 19.67630442684696}}"
      ]
     },
     "execution_count": 18,
     "metadata": {},
     "output_type": "execute_result"
    }
   ],
   "source": [
    "optimizer.max"
   ]
  },
  {
   "cell_type": "code",
   "execution_count": 36,
   "id": "f5959640-e4e9-4620-8341-cb48e7501eaf",
   "metadata": {},
   "outputs": [],
   "source": [
    "rest = db.find(projection={\"_id\" : 0}).sort(\"target\",-1).limit(3)"
   ]
  },
  {
   "cell_type": "code",
   "execution_count": 37,
   "id": "db6d9f64",
   "metadata": {},
   "outputs": [
    {
     "name": "stdout",
     "output_type": "stream",
     "text": [
      "{'beta_1': 2.935124145664613, 'beta_2': 10.312814186442964, 'det_1': 115.49496654453418, 'det_2': 15.388812962322799, 'laseroff': 411581.2063215908, 'laseron': 235170.32507489598, 'main_det': 19.67630442684696}\n",
      "{'beta_1': 2.704759024810943, 'beta_2': 14.391514815926286, 'det_1': 150.39608914986468, 'det_2': 5.80807666558935, 'laseroff': 512816.4659821373, 'laseron': 213458.63965771275, 'main_det': 19.475489413950996}\n",
      "{'beta_1': 2.704759024810943, 'beta_2': 14.391514815926286, 'det_1': 150.39608914986468, 'det_2': 5.80807666558935, 'laseroff': 512816.4659821373, 'laseron': 213458.63965771275, 'main_det': 19.475489413950996}\n"
     ]
    }
   ],
   "source": [
    "for res in rest:\n",
    "    print(res['params'])\n"
   ]
  },
  {
   "cell_type": "code",
   "execution_count": null,
   "id": "9aa5bc89",
   "metadata": {},
   "outputs": [],
   "source": []
  }
 ],
 "metadata": {
  "interpreter": {
   "hash": "8e5c691d1df19e90ce0c56a82f5160c0bc8b8614d6b0ba467d19e18deeae170c"
  },
  "kernelspec": {
   "display_name": "Python 3.9.12 ('LCPtest')",
   "language": "python",
   "name": "python3"
  },
  "language_info": {
   "codemirror_mode": {
    "name": "ipython",
    "version": 3
   },
   "file_extension": ".py",
   "mimetype": "text/x-python",
   "name": "python",
   "nbconvert_exporter": "python",
   "pygments_lexer": "ipython3",
   "version": "3.9.12"
  }
 },
 "nbformat": 4,
 "nbformat_minor": 5
}
