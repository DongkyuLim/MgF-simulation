{
 "cells": [
  {
   "cell_type": "code",
   "execution_count": 10,
   "id": "8557f574-42db-4806-98f3-cf9b53839f8a",
   "metadata": {},
   "outputs": [],
   "source": [
    "import sys\n",
    "import numpy as np\n",
    "import matplotlib.pyplot as plt\n",
    "import scipy.constants as cts\n",
    "import pylcp\n",
    "import time\n",
    "import random\n",
    "from tqdm import tqdm\n",
    "from scipy.interpolate import interp1d,interp2d,RegularGridInterpolator\n",
    "from scipy import stats\n",
    "from scipy import integrate\n",
    "from celluloid import Camera\n",
    "from bayes_opt import BayesianOptimization\n",
    "import json\n",
    "import seaborn as sns\n",
    "import White_class\n",
    "from scipy import special\n",
    "import pymongo\n",
    "import Expected_model_simulation\n",
    "from pymongo import MongoClient\n",
    "from scipy.optimize import root_scalar\n"
   ]
  },
  {
   "cell_type": "code",
   "execution_count": 2,
   "id": "12ee3adc-ce99-4837-a5dd-276dd06ab0d2",
   "metadata": {
    "tags": []
   },
   "outputs": [],
   "source": [
    "#Main variables\n",
    "\n",
    "main_detune = 17\n",
    "sideband_detune = 120\n",
    "white_detune = 10\n",
    "laser_on = 200000\n",
    "laser_off = 400015\n",
    "MOT_power = 50\n",
    "v0_start=1\n",
    "v0_step=1\n",
    "v0_end=25\n",
    "t0_start=0\n",
    "t0_step=1\n",
    "t0_end=1000000\n",
    "\n",
    "\n",
    "Gamma = 22 # Hz to kHz, Decay rate\n",
    "wavelength = 359.3e-9 # m to mm\n",
    "k = 1/wavelength*2*np.pi #x_0\n",
    "x0 = 1/k\n",
    "t0 = 1/Gamma*1/(2*np.pi*1e6)\n",
    "v0 = x0/t0\n",
    "m0 = cts.hbar*t0/x0**2\n",
    "a0 = x0/t0**2\n",
    "F0 = cts.hbar/(x0*t0)\n",
    "mass = 43*cts.value('atomic mass constant')/m0 # m_0\n",
    "mag_field_grad = 1252.8168984164048*x0\n",
    "waist = 0.012/x0\n",
    "v_max = 25.\n",
    "z_max = 384.855e-3/x0\n",
    "z_start = 384.855e-3/x0\n",
    "omega = 2*np.pi*(cts.c/wavelength) #Transition frequency\n",
    "Isat = np.pi*cts.h*cts.c*Gamma*2*np.pi*1e6/3*1/(wavelength)**3\n",
    "t_eval = np.arange(t0_start,t0_end,t0_step)\n",
    "\n",
    "# The detunings used in the PRAs:\n",
    "intensities = 2.*MOT_power*1e-3/(np.pi*0.012**2)/Isat\n",
    "\n",
    "#Define the hamiltonian\n",
    "H0_X, Bq_X, U_X, Xbasis = pylcp.hamiltonians.XFmolecules.Xstate(N=1,I=0.5,B=15496.8125/Gamma,\n",
    "gamma = 50.697/Gamma,b=154.7/Gamma, c=178.5/Gamma,gI=5.585,gS=2.0023193043622,\n",
    "    muB = cts.value('Bohr magneton in Hz/T')/1e6*1e-4/Gamma,\n",
    "    muN=cts.m_e/cts.m_p*cts.value('Bohr magneton in Hz/T')*1e-4*1e-6/Gamma,return_basis=True\n",
    "    )\n",
    "\n",
    "# b : SI coupling(isotropic), c : Iz Sz coupling(anisotropic), cc : I N coupling, gamma : S N coupling\n",
    "\n",
    "E_X = np.unique(np.diag(H0_X))\n",
    "\n",
    "H0_A, Bq_A, Abasis = pylcp.hamiltonians.XFmolecules.Astate(J=0.5,I=0.5,\n",
    "    P=+1,B=15788.2/Gamma,D=0.,H=0.,a=0./Gamma,b=-0.4/Gamma,c=0.,q=0., p=15./Gamma,\n",
    "    muB=cts.value('Bohr magneton in Hz/T')/1e6*1e-4/Gamma,\n",
    "    muN=cts.m_e/cts.m_p*cts.value('Bohr magneton in Hz/T')*1e-4*1e-6/Gamma,return_basis=True\n",
    "    )\n",
    "\n",
    "# gJ : Lande g-factor, p : parity(e parity)\n",
    "\n",
    "E_A = np.unique(np.diag(H0_A))\n",
    "\n",
    "dijq = pylcp.hamiltonians.XFmolecules.dipoleXandAstates(\n",
    "    Xbasis, Abasis, UX=U_X\n",
    "    )\n",
    "\n",
    "hamiltonian = pylcp.hamiltonian(H0_X, H0_A, Bq_X, Bq_A, dijq,mass = mass)"
   ]
  },
  {
   "cell_type": "code",
   "execution_count": 11,
   "id": "c17312fc",
   "metadata": {},
   "outputs": [],
   "source": [
    "connection = MongoClient(\"localhost:27017\")\n",
    "db = connection.db.Expected_model\n",
    "max_parameters = db.distinct(key = 'params',filter={'target' : {'$gte' : 0.0666}})"
   ]
  },
  {
   "cell_type": "code",
   "execution_count": 12,
   "id": "5be68a58-10d4-413d-8da3-a68bb0a46f1f",
   "metadata": {},
   "outputs": [
    {
     "name": "stderr",
     "output_type": "stream",
     "text": [
      "100%|██████████| 8/8 [01:07<00:00,  8.42s/it]\n",
      "100%|██████████| 5/5 [00:04<00:00,  1.12it/s]\n"
     ]
    },
    {
     "name": "stdout",
     "output_type": "stream",
     "text": [
      "0.0013148561476419495\n",
      "73.31702542304993\n"
     ]
    }
   ],
   "source": [
    "start = time.time()\n",
    "\n",
    "print(Expected_model_simulation.Expected_simulation(**max_parameters[0]))\n",
    "\n",
    "print(time.time()-start)"
   ]
  },
  {
   "cell_type": "code",
   "execution_count": 5,
   "id": "90849e4c-2c33-46d8-89d7-0d69430562ca",
   "metadata": {},
   "outputs": [],
   "source": [
    "pbounds = {'main_det':(10,20),'det_1':(70,170),'det_2':(5,30),'beta_1':(0,5),'beta_2':(0,15),'laseron':(138240,300000),'laseroff':(300001,600000)}"
   ]
  },
  {
   "cell_type": "code",
   "execution_count": 7,
   "id": "17032332-0cc3-4ce4-acbb-06cfa5f0654b",
   "metadata": {},
   "outputs": [],
   "source": [
    "optimizer = BayesianOptimization(\n",
    "    f = Expected_model_simulation.Expected_simulation,\n",
    "    pbounds=pbounds,\n",
    "    verbose=13,\n",
    "    random_state=1,\n",
    ")"
   ]
  },
  {
   "cell_type": "code",
   "execution_count": 8,
   "id": "7dab2bb3-6906-49f9-8db4-29a714c918cc",
   "metadata": {},
   "outputs": [
    {
     "ename": "FileNotFoundError",
     "evalue": "[Errno 2] No such file or directory: './logs_Exp_multi.json'",
     "output_type": "error",
     "traceback": [
      "\u001b[1;31m---------------------------------------------------------------------------\u001b[0m",
      "\u001b[1;31mFileNotFoundError\u001b[0m                         Traceback (most recent call last)",
      "\u001b[1;32m~\\AppData\\Local\\Temp/ipykernel_25184/1846434011.py\u001b[0m in \u001b[0;36m<module>\u001b[1;34m\u001b[0m\n\u001b[0;32m      2\u001b[0m \u001b[1;33m\u001b[0m\u001b[0m\n\u001b[0;32m      3\u001b[0m \u001b[1;31m# New optimizer is loaded with previously seen points\u001b[0m\u001b[1;33m\u001b[0m\u001b[1;33m\u001b[0m\u001b[0m\n\u001b[1;32m----> 4\u001b[1;33m \u001b[0mload_logs\u001b[0m\u001b[1;33m(\u001b[0m\u001b[0moptimizer\u001b[0m\u001b[1;33m,\u001b[0m \u001b[0mlogs\u001b[0m\u001b[1;33m=\u001b[0m\u001b[1;33m[\u001b[0m\u001b[1;34m\"./logs_Exp_multi.json\"\u001b[0m\u001b[1;33m]\u001b[0m\u001b[1;33m)\u001b[0m\u001b[1;33m\u001b[0m\u001b[1;33m\u001b[0m\u001b[0m\n\u001b[0m",
      "\u001b[1;32mc:\\Users\\qmopl\\anaconda3\\envs\\LCP\\lib\\site-packages\\bayes_opt\\util.py\u001b[0m in \u001b[0;36mload_logs\u001b[1;34m(optimizer, logs)\u001b[0m\n\u001b[0;32m    138\u001b[0m \u001b[1;33m\u001b[0m\u001b[0m\n\u001b[0;32m    139\u001b[0m     \u001b[1;32mfor\u001b[0m \u001b[0mlog\u001b[0m \u001b[1;32min\u001b[0m \u001b[0mlogs\u001b[0m\u001b[1;33m:\u001b[0m\u001b[1;33m\u001b[0m\u001b[1;33m\u001b[0m\u001b[0m\n\u001b[1;32m--> 140\u001b[1;33m         \u001b[1;32mwith\u001b[0m \u001b[0mopen\u001b[0m\u001b[1;33m(\u001b[0m\u001b[0mlog\u001b[0m\u001b[1;33m,\u001b[0m \u001b[1;34m\"r\"\u001b[0m\u001b[1;33m)\u001b[0m \u001b[1;32mas\u001b[0m \u001b[0mj\u001b[0m\u001b[1;33m:\u001b[0m\u001b[1;33m\u001b[0m\u001b[1;33m\u001b[0m\u001b[0m\n\u001b[0m\u001b[0;32m    141\u001b[0m             \u001b[1;32mwhile\u001b[0m \u001b[1;32mTrue\u001b[0m\u001b[1;33m:\u001b[0m\u001b[1;33m\u001b[0m\u001b[1;33m\u001b[0m\u001b[0m\n\u001b[0;32m    142\u001b[0m                 \u001b[1;32mtry\u001b[0m\u001b[1;33m:\u001b[0m\u001b[1;33m\u001b[0m\u001b[1;33m\u001b[0m\u001b[0m\n",
      "\u001b[1;31mFileNotFoundError\u001b[0m: [Errno 2] No such file or directory: './logs_Exp_multi.json'"
     ]
    }
   ],
   "source": [
    "from bayes_opt.util import load_logs\n",
    "\n",
    "# New optimizer is loaded with previously seen points\n",
    "# load_logs(optimizer, logs=[\"./logs_Exp_multi.json\"])"
   ]
  },
  {
   "cell_type": "code",
   "execution_count": 9,
   "id": "07a3e321-0ab3-40f1-97e2-35a3035fdfd2",
   "metadata": {},
   "outputs": [
    {
     "name": "stdout",
     "output_type": "stream",
     "text": [
      "|   iter    |  target   |  beta_1   |  beta_2   |   det_1   |   det_2   | laseroff  |  laseron  | main_det  |\n",
      "-------------------------------------------------------------------------------------------------------------\n"
     ]
    },
    {
     "name": "stderr",
     "output_type": "stream",
     "text": [
      "100%|██████████| 8/8 [04:11<00:00, 31.42s/it]\n",
      "100%|██████████| 1/1 [00:03<00:00,  3.84s/it]\n"
     ]
    },
    {
     "name": "stdout",
     "output_type": "stream",
     "text": [
      "| \u001b[0m 1       \u001b[0m | \u001b[0m 0.0     \u001b[0m | \u001b[0m 2.085   \u001b[0m | \u001b[0m 10.8    \u001b[0m | \u001b[0m 70.01   \u001b[0m | \u001b[0m 12.56   \u001b[0m | \u001b[0m 3.44e+05\u001b[0m | \u001b[0m 1.532e+0\u001b[0m | \u001b[0m 11.86   \u001b[0m |\n",
      "=============================================================================================================\n",
      "256.365740776062\n"
     ]
    }
   ],
   "source": [
    "start = time.time()\n",
    "optimizer.maximize(\n",
    "    init_points=1,\n",
    "    n_iter=0,)\n",
    "print(time.time()-start)"
   ]
  },
  {
   "cell_type": "code",
   "execution_count": 60,
   "id": "dac1e23d-ed2c-40b6-9be1-0c9505eebdfc",
   "metadata": {},
   "outputs": [],
   "source": [
    "from bayes_opt.logger import JSONLogger\n",
    "from bayes_opt.event import Events\n",
    "\n",
    "logger = JSONLogger(path='./logs_Exp_multi.json')\n",
    "optimizer.subscribe(Events.OPTIMIZATION_STEP,logger)"
   ]
  },
  {
   "cell_type": "code",
   "execution_count": 61,
   "id": "4ddbb751-193b-4bd8-9b86-37ff9497de02",
   "metadata": {},
   "outputs": [
    {
     "name": "stdout",
     "output_type": "stream",
     "text": [
      "|   iter    |  target   |  beta_1   |  beta_2   |   det_1   |   det_2   | laseroff  |  laseron  | main_det  |\n",
      "-------------------------------------------------------------------------------------------------------------\n",
      "| \u001b[0m 2       \u001b[0m | \u001b[0m 0.0     \u001b[0m | \u001b[0m 1.728   \u001b[0m | \u001b[0m 5.952   \u001b[0m | \u001b[0m 123.9   \u001b[0m | \u001b[0m 15.48   \u001b[0m | \u001b[0m 5.056e+0\u001b[0m | \u001b[0m 1.713e+0\u001b[0m | \u001b[0m 18.78   \u001b[0m |\n",
      "| \u001b[0m 3       \u001b[0m | \u001b[0m 0.02726 \u001b[0m | \u001b[0m 0.1369  \u001b[0m | \u001b[0m 10.06   \u001b[0m | \u001b[0m 111.7   \u001b[0m | \u001b[0m 18.97   \u001b[0m | \u001b[0m 3.421e+0\u001b[0m | \u001b[0m 1.703e+0\u001b[0m | \u001b[0m 18.01   \u001b[0m |\n",
      "| \u001b[0m 4       \u001b[0m | \u001b[0m 0.0     \u001b[0m | \u001b[0m 4.841   \u001b[0m | \u001b[0m 4.701   \u001b[0m | \u001b[0m 139.2   \u001b[0m | \u001b[0m 26.91   \u001b[0m | \u001b[0m 5.684e+0\u001b[0m | \u001b[0m 1.52e+05\u001b[0m | \u001b[0m 10.39   \u001b[0m |\n",
      "| \u001b[0m 5       \u001b[0m | \u001b[0m 0.0     \u001b[0m | \u001b[0m 0.8492  \u001b[0m | \u001b[0m 13.17   \u001b[0m | \u001b[0m 79.83   \u001b[0m | \u001b[0m 15.53   \u001b[0m | \u001b[0m 5.874e+0\u001b[0m | \u001b[0m 2.245e+0\u001b[0m | \u001b[0m 16.92   \u001b[0m |\n",
      "| \u001b[95m 6       \u001b[0m | \u001b[95m 0.0473  \u001b[0m | \u001b[95m 1.578   \u001b[0m | \u001b[95m 10.3    \u001b[0m | \u001b[95m 153.5   \u001b[0m | \u001b[95m 5.457   \u001b[0m | \u001b[95m 5.25e+05\u001b[0m | \u001b[95m 2.982e+0\u001b[0m | \u001b[95m 17.48   \u001b[0m |\n",
      "| \u001b[0m 7       \u001b[0m | \u001b[0m 0.0     \u001b[0m | \u001b[0m 1.12    \u001b[0m | \u001b[0m 14.5    \u001b[0m | \u001b[0m 123.4   \u001b[0m | \u001b[0m 23.71   \u001b[0m | \u001b[0m 5.496e+0\u001b[0m | \u001b[0m 1.88e+05\u001b[0m | \u001b[0m 15.54   \u001b[0m |\n",
      "| \u001b[0m 8       \u001b[0m | \u001b[0m 0.0     \u001b[0m | \u001b[0m 0.5403  \u001b[0m | \u001b[0m 9.576   \u001b[0m | \u001b[0m 141.3   \u001b[0m | \u001b[0m 18.9    \u001b[0m | \u001b[0m 3.72e+05\u001b[0m | \u001b[0m 1.397e+0\u001b[0m | \u001b[0m 12.15   \u001b[0m |\n",
      "| \u001b[0m 9       \u001b[0m | \u001b[0m 0.0     \u001b[0m | \u001b[0m 4.825   \u001b[0m | \u001b[0m 0.9945  \u001b[0m | \u001b[0m 75.22   \u001b[0m | \u001b[0m 20.29   \u001b[0m | \u001b[0m 4.737e+0\u001b[0m | \u001b[0m 2.775e+0\u001b[0m | \u001b[0m 14.03   \u001b[0m |\n",
      "| \u001b[95m 10      \u001b[0m | \u001b[95m 0.1184  \u001b[0m | \u001b[95m 3.274   \u001b[0m | \u001b[95m 7.52    \u001b[0m | \u001b[95m 158.8   \u001b[0m | \u001b[95m 13.97   \u001b[0m | \u001b[95m 3.317e+0\u001b[0m | \u001b[95m 1.522e+0\u001b[0m | \u001b[95m 16.0    \u001b[0m |\n",
      "| \u001b[0m 11      \u001b[0m | \u001b[0m 0.02322 \u001b[0m | \u001b[0m 3.134   \u001b[0m | \u001b[0m 3.142   \u001b[0m | \u001b[0m 162.8   \u001b[0m | \u001b[0m 19.77   \u001b[0m | \u001b[0m 3.316e+0\u001b[0m | \u001b[0m 1.506e+0\u001b[0m | \u001b[0m 12.25   \u001b[0m |\n",
      "| \u001b[0m 12      \u001b[0m | \u001b[0m 0.0     \u001b[0m | \u001b[0m 3.583   \u001b[0m | \u001b[0m 9.774   \u001b[0m | \u001b[0m 80.46   \u001b[0m | \u001b[0m 7.177   \u001b[0m | \u001b[0m 4.966e+0\u001b[0m | \u001b[0m 2.727e+0\u001b[0m | \u001b[0m 12.02   \u001b[0m |\n",
      "| \u001b[0m 13      \u001b[0m | \u001b[0m 0.0     \u001b[0m | \u001b[0m 3.286   \u001b[0m | \u001b[0m 11.13   \u001b[0m | \u001b[0m 163.9   \u001b[0m | \u001b[0m 19.28   \u001b[0m | \u001b[0m 3.315e+0\u001b[0m | \u001b[0m 1.521e+0\u001b[0m | \u001b[0m 12.09   \u001b[0m |\n",
      "| \u001b[95m 14      \u001b[0m | \u001b[95m 0.2319  \u001b[0m | \u001b[95m 4.91    \u001b[0m | \u001b[95m 2.971   \u001b[0m | \u001b[95m 162.9   \u001b[0m | \u001b[95m 15.38   \u001b[0m | \u001b[95m 4.213e+0\u001b[0m | \u001b[95m 1.408e+0\u001b[0m | \u001b[95m 17.81   \u001b[0m |\n",
      "| \u001b[0m 15      \u001b[0m | \u001b[0m 0.01503 \u001b[0m | \u001b[0m 3.144   \u001b[0m | \u001b[0m 12.43   \u001b[0m | \u001b[0m 132.3   \u001b[0m | \u001b[0m 13.25   \u001b[0m | \u001b[0m 3.882e+0\u001b[0m | \u001b[0m 1.53e+05\u001b[0m | \u001b[0m 10.14   \u001b[0m |\n",
      "| \u001b[0m 16      \u001b[0m | \u001b[0m 0.07499 \u001b[0m | \u001b[0m 2.327   \u001b[0m | \u001b[0m 3.534   \u001b[0m | \u001b[0m 89.2    \u001b[0m | \u001b[0m 7.42    \u001b[0m | \u001b[0m 5.783e+0\u001b[0m | \u001b[0m 2.076e+0\u001b[0m | \u001b[0m 15.96   \u001b[0m |\n",
      "=============================================================================================================\n",
      "2803.8727040290833\n"
     ]
    }
   ],
   "source": [
    "start = time.time()\n",
    "optimizer.maximize(\n",
    "    init_points=5,\n",
    "    n_iter=10,)\n",
    "print(time.time()-start)"
   ]
  },
  {
   "cell_type": "code",
   "execution_count": 10,
   "id": "cddc92bd-b1d1-4c56-b0a8-1bba7b8e6156",
   "metadata": {},
   "outputs": [
    {
     "name": "stdout",
     "output_type": "stream",
     "text": [
      "|   iter    |  target   |  beta_1   |  beta_2   |   det_1   |   det_2   | laseroff  |  laseron  | main_det  |\n",
      "-------------------------------------------------------------------------------------------------------------\n",
      "| \u001b[0m 1       \u001b[0m | \u001b[0m 0.0     \u001b[0m | \u001b[0m 2.646   \u001b[0m | \u001b[0m 7.78    \u001b[0m | \u001b[0m 155.1   \u001b[0m | \u001b[0m 14.86   \u001b[0m | \u001b[0m 3.28e+05\u001b[0m | \u001b[0m 2.377e+0\u001b[0m | \u001b[0m 10.4    \u001b[0m |\n",
      "| \u001b[0m 2       \u001b[0m | \u001b[0m 0.0     \u001b[0m | \u001b[0m 3.826   \u001b[0m | \u001b[0m 1.643   \u001b[0m | \u001b[0m 122.2   \u001b[0m | \u001b[0m 24.21   \u001b[0m | \u001b[0m 5.061e+0\u001b[0m | \u001b[0m 1.598e+0\u001b[0m | \u001b[0m 12.02   \u001b[0m |\n",
      "| \u001b[0m 3       \u001b[0m | \u001b[0m 0.01639 \u001b[0m | \u001b[0m 2.883   \u001b[0m | \u001b[0m 3.271   \u001b[0m | \u001b[0m 135.7   \u001b[0m | \u001b[0m 14.08   \u001b[0m | \u001b[0m 3.042e+0\u001b[0m | \u001b[0m 2.007e+0\u001b[0m | \u001b[0m 14.02   \u001b[0m |\n",
      "| \u001b[95m 4       \u001b[0m | \u001b[95m 0.2334  \u001b[0m | \u001b[95m 1.615   \u001b[0m | \u001b[95m 10.69   \u001b[0m | \u001b[95m 118.0   \u001b[0m | \u001b[95m 5.67    \u001b[0m | \u001b[95m 5.048e+0\u001b[0m | \u001b[95m 2.644e+0\u001b[0m | \u001b[95m 19.74   \u001b[0m |\n",
      "| \u001b[0m 5       \u001b[0m | \u001b[0m 0.0     \u001b[0m | \u001b[0m 2.207   \u001b[0m | \u001b[0m 7.635   \u001b[0m | \u001b[0m 128.4   \u001b[0m | \u001b[0m 25.99   \u001b[0m | \u001b[0m 3.008e+0\u001b[0m | \u001b[0m 2.706e+0\u001b[0m | \u001b[0m 11.11   \u001b[0m |\n",
      "| \u001b[0m 6       \u001b[0m | \u001b[0m 0.02142 \u001b[0m | \u001b[0m 0.1765  \u001b[0m | \u001b[0m 10.53   \u001b[0m | \u001b[0m 151.0   \u001b[0m | \u001b[0m 16.91   \u001b[0m | \u001b[0m 3.743e+0\u001b[0m | \u001b[0m 2.611e+0\u001b[0m | \u001b[0m 10.2    \u001b[0m |\n",
      "| \u001b[0m 7       \u001b[0m | \u001b[0m 0.1048  \u001b[0m | \u001b[0m 4.625   \u001b[0m | \u001b[0m 12.57   \u001b[0m | \u001b[0m 70.76   \u001b[0m | \u001b[0m 27.36   \u001b[0m | \u001b[0m 3.016e+0\u001b[0m | \u001b[0m 2.205e+0\u001b[0m | \u001b[0m 14.44   \u001b[0m |\n",
      "| \u001b[0m 8       \u001b[0m | \u001b[0m 0.1048  \u001b[0m | \u001b[0m 4.625   \u001b[0m | \u001b[0m 12.57   \u001b[0m | \u001b[0m 70.76   \u001b[0m | \u001b[0m 27.36   \u001b[0m | \u001b[0m 3.016e+0\u001b[0m | \u001b[0m 2.205e+0\u001b[0m | \u001b[0m 14.44   \u001b[0m |\n",
      "| \u001b[0m 9       \u001b[0m | \u001b[0m 0.0     \u001b[0m | \u001b[0m 1.712   \u001b[0m | \u001b[0m 11.24   \u001b[0m | \u001b[0m 153.5   \u001b[0m | \u001b[0m 12.89   \u001b[0m | \u001b[0m 5.26e+05\u001b[0m | \u001b[0m 2.822e+0\u001b[0m | \u001b[0m 13.26   \u001b[0m |\n",
      "| \u001b[0m 10      \u001b[0m | \u001b[0m 0.0     \u001b[0m | \u001b[0m 2.511   \u001b[0m | \u001b[0m 2.673   \u001b[0m | \u001b[0m 157.5   \u001b[0m | \u001b[0m 28.46   \u001b[0m | \u001b[0m 5.279e+0\u001b[0m | \u001b[0m 2.628e+0\u001b[0m | \u001b[0m 12.98   \u001b[0m |\n",
      "| \u001b[0m 11      \u001b[0m | \u001b[0m 0.0     \u001b[0m | \u001b[0m 2.86    \u001b[0m | \u001b[0m 0.8793  \u001b[0m | \u001b[0m 118.5   \u001b[0m | \u001b[0m 16.24   \u001b[0m | \u001b[0m 3.337e+0\u001b[0m | \u001b[0m 2.627e+0\u001b[0m | \u001b[0m 15.57   \u001b[0m |\n",
      "| \u001b[0m 12      \u001b[0m | \u001b[0m 0.0     \u001b[0m | \u001b[0m 3.72    \u001b[0m | \u001b[0m 9.545   \u001b[0m | \u001b[0m 146.3   \u001b[0m | \u001b[0m 6.266   \u001b[0m | \u001b[0m 3.513e+0\u001b[0m | \u001b[0m 2.509e+0\u001b[0m | \u001b[0m 19.62   \u001b[0m |\n",
      "| \u001b[0m 13      \u001b[0m | \u001b[0m 0.0     \u001b[0m | \u001b[0m 0.685   \u001b[0m | \u001b[0m 14.9    \u001b[0m | \u001b[0m 100.1   \u001b[0m | \u001b[0m 21.92   \u001b[0m | \u001b[0m 3.38e+05\u001b[0m | \u001b[0m 2.55e+05\u001b[0m | \u001b[0m 10.79   \u001b[0m |\n",
      "| \u001b[0m 14      \u001b[0m | \u001b[0m 0.2181  \u001b[0m | \u001b[0m 3.0     \u001b[0m | \u001b[0m 3.875   \u001b[0m | \u001b[0m 155.1   \u001b[0m | \u001b[0m 18.3    \u001b[0m | \u001b[0m 4.011e+0\u001b[0m | \u001b[0m 2.791e+0\u001b[0m | \u001b[0m 16.07   \u001b[0m |\n",
      "| \u001b[0m 15      \u001b[0m | \u001b[0m 0.0     \u001b[0m | \u001b[0m 0.09493 \u001b[0m | \u001b[0m 12.94   \u001b[0m | \u001b[0m 112.7   \u001b[0m | \u001b[0m 9.89    \u001b[0m | \u001b[0m 5.044e+0\u001b[0m | \u001b[0m 2.052e+0\u001b[0m | \u001b[0m 13.8    \u001b[0m |\n",
      "| \u001b[0m 16      \u001b[0m | \u001b[0m 0.0     \u001b[0m | \u001b[0m 1.186   \u001b[0m | \u001b[0m 7.141   \u001b[0m | \u001b[0m 98.22   \u001b[0m | \u001b[0m 28.7    \u001b[0m | \u001b[0m 5.705e+0\u001b[0m | \u001b[0m 2.784e+0\u001b[0m | \u001b[0m 18.14   \u001b[0m |\n",
      "| \u001b[0m 17      \u001b[0m | \u001b[0m 0.0     \u001b[0m | \u001b[0m 2.27    \u001b[0m | \u001b[0m 13.07   \u001b[0m | \u001b[0m 114.7   \u001b[0m | \u001b[0m 7.129   \u001b[0m | \u001b[0m 3.206e+0\u001b[0m | \u001b[0m 2.561e+0\u001b[0m | \u001b[0m 17.09   \u001b[0m |\n",
      "| \u001b[0m 18      \u001b[0m | \u001b[0m 0.0     \u001b[0m | \u001b[0m 1.311   \u001b[0m | \u001b[0m 6.289   \u001b[0m | \u001b[0m 102.9   \u001b[0m | \u001b[0m 8.738   \u001b[0m | \u001b[0m 5.83e+05\u001b[0m | \u001b[0m 1.518e+0\u001b[0m | \u001b[0m 15.3    \u001b[0m |\n",
      "| \u001b[0m 19      \u001b[0m | \u001b[0m 0.1584  \u001b[0m | \u001b[0m 2.832   \u001b[0m | \u001b[0m 8.712   \u001b[0m | \u001b[0m 120.7   \u001b[0m | \u001b[0m 20.63   \u001b[0m | \u001b[0m 3.04e+05\u001b[0m | \u001b[0m 1.804e+0\u001b[0m | \u001b[0m 16.21   \u001b[0m |\n",
      "| \u001b[0m 20      \u001b[0m | \u001b[0m 0.1621  \u001b[0m | \u001b[0m 4.821   \u001b[0m | \u001b[0m 1.387   \u001b[0m | \u001b[0m 136.9   \u001b[0m | \u001b[0m 25.55   \u001b[0m | \u001b[0m 5.007e+0\u001b[0m | \u001b[0m 2.256e+0\u001b[0m | \u001b[0m 18.68   \u001b[0m |\n",
      "| \u001b[0m 21      \u001b[0m | \u001b[0m 0.0     \u001b[0m | \u001b[0m 1.684   \u001b[0m | \u001b[0m 4.536   \u001b[0m | \u001b[0m 88.33   \u001b[0m | \u001b[0m 20.32   \u001b[0m | \u001b[0m 4.205e+0\u001b[0m | \u001b[0m 1.835e+0\u001b[0m | \u001b[0m 10.43   \u001b[0m |\n",
      "| \u001b[0m 22      \u001b[0m | \u001b[0m 0.1033  \u001b[0m | \u001b[0m 0.1379  \u001b[0m | \u001b[0m 6.822   \u001b[0m | \u001b[0m 138.9   \u001b[0m | \u001b[0m 9.771   \u001b[0m | \u001b[0m 5.015e+0\u001b[0m | \u001b[0m 1.934e+0\u001b[0m | \u001b[0m 18.21   \u001b[0m |\n",
      "| \u001b[0m 23      \u001b[0m | \u001b[0m 0.0     \u001b[0m | \u001b[0m 1.419   \u001b[0m | \u001b[0m 6.62    \u001b[0m | \u001b[0m 93.96   \u001b[0m | \u001b[0m 23.42   \u001b[0m | \u001b[0m 4.476e+0\u001b[0m | \u001b[0m 2.574e+0\u001b[0m | \u001b[0m 14.18   \u001b[0m |\n",
      "| \u001b[0m 24      \u001b[0m | \u001b[0m 0.09215 \u001b[0m | \u001b[0m 3.299   \u001b[0m | \u001b[0m 11.32   \u001b[0m | \u001b[0m 116.4   \u001b[0m | \u001b[0m 11.24   \u001b[0m | \u001b[0m 5.269e+0\u001b[0m | \u001b[0m 1.834e+0\u001b[0m | \u001b[0m 15.1    \u001b[0m |\n",
      "| \u001b[0m 25      \u001b[0m | \u001b[0m 0.0     \u001b[0m | \u001b[0m 1.241   \u001b[0m | \u001b[0m 9.205   \u001b[0m | \u001b[0m 109.7   \u001b[0m | \u001b[0m 27.13   \u001b[0m | \u001b[0m 4.875e+0\u001b[0m | \u001b[0m 1.725e+0\u001b[0m | \u001b[0m 15.35   \u001b[0m |\n",
      "| \u001b[0m 26      \u001b[0m | \u001b[0m 0.1344  \u001b[0m | \u001b[0m 0.6825  \u001b[0m | \u001b[0m 1.134   \u001b[0m | \u001b[0m 96.66   \u001b[0m | \u001b[0m 28.48   \u001b[0m | \u001b[0m 4.659e+0\u001b[0m | \u001b[0m 2.204e+0\u001b[0m | \u001b[0m 16.87   \u001b[0m |\n",
      "| \u001b[0m 27      \u001b[0m | \u001b[0m 0.05437 \u001b[0m | \u001b[0m 1.184   \u001b[0m | \u001b[0m 6.793   \u001b[0m | \u001b[0m 121.1   \u001b[0m | \u001b[0m 8.094   \u001b[0m | \u001b[0m 4.729e+0\u001b[0m | \u001b[0m 2.138e+0\u001b[0m | \u001b[0m 17.81   \u001b[0m |\n",
      "| \u001b[0m 28      \u001b[0m | \u001b[0m 0.008994\u001b[0m | \u001b[0m 1.694   \u001b[0m | \u001b[0m 2.223   \u001b[0m | \u001b[0m 91.37   \u001b[0m | \u001b[0m 5.295   \u001b[0m | \u001b[0m 3.408e+0\u001b[0m | \u001b[0m 2.696e+0\u001b[0m | \u001b[0m 14.83   \u001b[0m |\n"
     ]
    },
    {
     "name": "stderr",
     "output_type": "stream",
     "text": [
      "C:\\Users\\qmopl\\AppData\\Local\\Temp/ipykernel_10708/3589849535.py:83: IntegrationWarning: The occurrence of roundoff error is detected, which prevents \n",
      "  the requested tolerance from being achieved.  The error may be \n",
      "  underestimated.\n",
      "  return integrate.quad(total_func,v_trap_initial[0],v_trap_initial[-1],limit=100)[0]\n"
     ]
    },
    {
     "name": "stdout",
     "output_type": "stream",
     "text": [
      "| \u001b[95m 29      \u001b[0m | \u001b[95m 0.2944  \u001b[0m | \u001b[95m 3.805   \u001b[0m | \u001b[95m 9.937   \u001b[0m | \u001b[95m 87.6    \u001b[0m | \u001b[95m 25.53   \u001b[0m | \u001b[95m 4.919e+0\u001b[0m | \u001b[95m 1.623e+0\u001b[0m | \u001b[95m 19.47   \u001b[0m |\n",
      "| \u001b[0m 30      \u001b[0m | \u001b[0m 0.0     \u001b[0m | \u001b[0m 3.157   \u001b[0m | \u001b[0m 12.44   \u001b[0m | \u001b[0m 145.8   \u001b[0m | \u001b[0m 26.19   \u001b[0m | \u001b[0m 4.12e+05\u001b[0m | \u001b[0m 2.233e+0\u001b[0m | \u001b[0m 11.68   \u001b[0m |\n",
      "=============================================================================================================\n",
      "4919.5048615932465\n"
     ]
    }
   ],
   "source": [
    "start = time.time()\n",
    "optimizer.maximize(\n",
    "    init_points=0,\n",
    "    n_iter=30,)\n",
    "print(time.time()-start)"
   ]
  },
  {
   "cell_type": "code",
   "execution_count": 15,
   "id": "4fda1838-64a4-4d7a-90bb-46b0b1c5d955",
   "metadata": {},
   "outputs": [
    {
     "name": "stdout",
     "output_type": "stream",
     "text": [
      "|   iter    |  target   |  beta_1   |  beta_2   |   det_1   |   det_2   | laseroff  |  laseron  | main_det  |\n",
      "-------------------------------------------------------------------------------------------------------------\n",
      "| \u001b[0m 53      \u001b[0m | \u001b[0m 0.002721\u001b[0m | \u001b[0m 4.385   \u001b[0m | \u001b[0m 0.326   \u001b[0m | \u001b[0m 116.6   \u001b[0m | \u001b[0m 15.66   \u001b[0m | \u001b[0m 4.285e+0\u001b[0m | \u001b[0m 2.125e+0\u001b[0m | \u001b[0m 18.62   \u001b[0m |\n",
      "=============================================================================================================\n"
     ]
    }
   ],
   "source": [
    "optimizer.maximize(n_iter=1,init_points = 0)"
   ]
  },
  {
   "cell_type": "code",
   "execution_count": 11,
   "id": "067f2740-c1f1-409f-98ac-65bcf3be7093",
   "metadata": {},
   "outputs": [
    {
     "data": {
      "text/plain": [
       "{'target': 0.2944409759829353,\n",
       " 'params': {'beta_1': 3.8050995873529567,\n",
       "  'beta_2': 9.936559576119455,\n",
       "  'det_1': 87.59839010311943,\n",
       "  'det_2': 25.530476380724924,\n",
       "  'laseroff': 491912.16996315226,\n",
       "  'laseron': 162300.30234814572,\n",
       "  'main_det': 19.47056298409516}}"
      ]
     },
     "execution_count": 11,
     "metadata": {},
     "output_type": "execute_result"
    }
   ],
   "source": [
    "optimizer.max"
   ]
  },
  {
   "cell_type": "code",
   "execution_count": null,
   "id": "f5959640-e4e9-4620-8341-cb48e7501eaf",
   "metadata": {},
   "outputs": [],
   "source": []
  }
 ],
 "metadata": {
  "interpreter": {
   "hash": "4b55606c8833af54b3268326a0bac43b57d16c72c8d4ee8f2278f918e7af482e"
  },
  "kernelspec": {
   "display_name": "Python 3.9.7 ('LCP')",
   "language": "python",
   "name": "python3"
  },
  "language_info": {
   "codemirror_mode": {
    "name": "ipython",
    "version": 3
   },
   "file_extension": ".py",
   "mimetype": "text/x-python",
   "name": "python",
   "nbconvert_exporter": "python",
   "pygments_lexer": "ipython3",
   "version": "3.9.7"
  }
 },
 "nbformat": 4,
 "nbformat_minor": 5
}
