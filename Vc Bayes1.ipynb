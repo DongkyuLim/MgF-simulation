{
 "cells": [
  {
   "cell_type": "code",
   "execution_count": 1,
   "id": "mechanical-model",
   "metadata": {
    "tags": []
   },
   "outputs": [],
   "source": [
    "import numpy as np\n",
    "import matplotlib.pyplot as plt\n",
    "import scipy.constants as cts\n",
    "import pylcp\n",
    "import time\n",
    "from bayes_opt import BayesianOptimization\n",
    "from scipy.optimize import root_scalar\n",
    "from scipy import integrate,special"
   ]
  },
  {
   "cell_type": "code",
   "execution_count": 2,
   "id": "casual-edgar",
   "metadata": {},
   "outputs": [],
   "source": [
    "#Define the constants\n",
    "main_detune = 17\n",
    "sideband_detune = 120\n",
    "white_detune = 10\n",
    "laser_on = 200000\n",
    "laser_off = 400015\n",
    "MOT_power = 50\n",
    "v0_start=1\n",
    "v0_step=1\n",
    "v0_end=25\n",
    "t0_start=0\n",
    "t0_step=1\n",
    "t0_end=3500000\n",
    "\n",
    "Gamma = 22 # Hz to kHz, Decay rate\n",
    "wavelength = 359.3e-9 # m to mm\n",
    "k = 1/wavelength*2*np.pi #x_0\n",
    "x0 = 1/k\n",
    "t0 = 1/Gamma*1/(2*np.pi*1e6)\n",
    "v0 = x0/t0\n",
    "m0 = cts.hbar*t0/x0**2\n",
    "a0 = x0/t0**2\n",
    "F0 = cts.hbar/(x0*t0)\n",
    "mass = 43*cts.value('atomic mass constant')/m0 # m_0\n",
    "mag_field_grad = 1252.8168984164048*x0\n",
    "waist = 0.012/x0\n",
    "v_max = 8.\n",
    "z_max = 384.855e-3/x0\n",
    "z_start = 384.855e-3/x0\n",
    "omega = 2*np.pi*(cts.c/wavelength) #Transition frequency\n",
    "Isat = np.pi*cts.h*cts.c*Gamma*2*np.pi*1e6/3*1/(wavelength)**3\n",
    "t_eval = np.arange(t0_start,t0_end,t0_step)\n",
    "\n",
    "# The detunings used in the PRAs:\n",
    "intensities = 2.*MOT_power*1e-3/(np.pi*0.012**2)/Isat\n",
    "\n",
    "#Define the hamiltonian\n",
    "H0_X, Bq_X, U_X, Xbasis = pylcp.hamiltonians.XFmolecules.Xstate(N=1,I=0.5,B=15496.8125/Gamma,\n",
    "gamma = 50.697/Gamma,b=154.7/Gamma, c=178.5/Gamma,gI=5.585,gS=2.0023193043622,\n",
    "    muB = cts.value('Bohr magneton in Hz/T')/1e6*1e-4/Gamma,\n",
    "    muN=cts.m_e/cts.m_p*cts.value('Bohr magneton in Hz/T')*1e-4*1e-6/Gamma,return_basis=True\n",
    "    )\n",
    "\n",
    "# b : SI coupling(isotropic), c : Iz Sz coupling(anisotropic), cc : I N coupling, gamma : S N coupling\n",
    "\n",
    "E_X = np.unique(np.diag(H0_X))\n",
    "\n",
    "H0_A, Bq_A, Abasis = pylcp.hamiltonians.XFmolecules.Astate(J=0.5,I=0.5,\n",
    "    P=+1,B=15788.2/Gamma,D=0.,H=0.,a=0./Gamma,b=-0.4/Gamma,c=0.,q=0., p=15./Gamma,\n",
    "    muB=cts.value('Bohr magneton in Hz/T')/1e6*1e-4/Gamma,\n",
    "    muN=cts.m_e/cts.m_p*cts.value('Bohr magneton in Hz/T')*1e-4*1e-6/Gamma,return_basis=True\n",
    "    )\n",
    "\n",
    "# gJ : Lande g-factor, p : parity(e parity)\n",
    "\n",
    "E_A = np.unique(np.diag(H0_A))\n",
    "\n",
    "dijq = pylcp.hamiltonians.XFmolecules.dipoleXandAstates(\n",
    "    Xbasis, Abasis, UX=U_X\n",
    "    )\n",
    "\n",
    "hamiltonian = pylcp.hamiltonian(H0_X, H0_A, Bq_X, Bq_A, dijq,mass = mass)"
   ]
  },
  {
   "cell_type": "code",
   "execution_count": 3,
   "id": "worse-registrar",
   "metadata": {},
   "outputs": [],
   "source": [
    "def Fixed_detune_MgF_MOT(d1,d2,d3,d4,p1,p2,p3,p4,pol1,pol2,pol3,pol4):\n",
    "    pX = (p1+p2+p3+p4)/4\n",
    "    pp1 = p1 - pX\n",
    "    pp2 = p2 - pX\n",
    "    pp3 = p3- pX\n",
    "    pp4 = p4 - pX\n",
    "    \n",
    "    def intensity_res(pp):\n",
    "        intensity_norm = 0.050\n",
    "        result = 2.*(intensity_norm+pp/(10**3))/(np.pi*(0.012)**2)/Isat\n",
    "        return result\n",
    "    \n",
    "    def sigmoid_function(x):\n",
    "        if (1/(1+np.exp(-1*x))*2)//1 == 1.:\n",
    "            return +1\n",
    "        else:\n",
    "            return -11\n",
    "    \n",
    "    laserBeams = pylcp.laserBeams()\n",
    "    for ii, Eg_i in enumerate(E_X):\n",
    "        if ii<1:\n",
    "            laserBeams += pylcp.conventional3DMOTBeams(\n",
    "                s=intensity_res(pp1), delta=(E_A[-1] - Eg_i)+d1,pol=sigmoid_function(pol1),wb=waist,\n",
    "                beam_type=pylcp.gaussianBeam\n",
    "                )\n",
    "        elif ii==1:\n",
    "            laserBeams += pylcp.conventional3DMOTBeams(\n",
    "                s=intensity_res(pp2), delta=(E_A[-1] - Eg_i)+d2,pol=sigmoid_function(pol2),wb=waist,\n",
    "                beam_type=pylcp.gaussianBeam)\n",
    "        elif ii==2:\n",
    "            laserBeams += pylcp.conventional3DMOTBeams(\n",
    "                s=intensity_res(pp3), delta=(E_A[-1] - Eg_i)+d3,pol=sigmoid_function(pol3),wb=waist,\n",
    "                beam_type=pylcp.gaussianBeam\n",
    "                )\n",
    "        else:\n",
    "            laserBeams += pylcp.conventional3DMOTBeams(\n",
    "                s=intensity_res(pp4), delta=(E_A[-1] - Eg_i)+d4,pol=sigmoid_function(pol4),wb=waist,\n",
    "                beam_type=pylcp.gaussianBeam\n",
    "                )\n",
    "\n",
    "    return laserBeams"
   ]
  },
  {
   "cell_type": "code",
   "execution_count": 4,
   "id": "fabulous-split",
   "metadata": {},
   "outputs": [],
   "source": [
    "def vc_bayesian(v0s,Bgrad, d1,d2,d3,d4,p1,p2,p3,p4,pol1,pol2,pol3,pol4):\n",
    "    def Coil_field(Bgrads,R):\n",
    "        Bx = -1/4.4415*Bgrads*R[0]*x0*1000\n",
    "        By = -1/4.4415*Bgrads*R[1]*x0*1000\n",
    "        Bz = Bgrads*R[2]*x0\n",
    "        return np.array([Bx,By,Bz])\n",
    "\n",
    "\n",
    "#     def trap_condition(t,y):\n",
    "#         if abs(y[-6])*1000*x0<10 and abs(y[-4])*1000*x0<10 and abs(y[-3])<5e-2 and abs(y[-1])<5e-2:\n",
    "#             val = -1.\n",
    "#         else:\n",
    "#             val = 1.\n",
    "#         return val\n",
    "    \n",
    "#     def lost_condition(t,y):\n",
    "#         if y[-6]*1000*x0>30 or abs(y[-4])*1000*x0>10:\n",
    "#             val = -1.\n",
    "#         else:\n",
    "#             val=1.\n",
    "#         return val\n",
    "    \n",
    "#     trap_condition.terminal = True\n",
    "#     lost_condition.terminal = True\n",
    "    \n",
    "    laserBeams = Fixed_detune_MgF_MOT(d1,d2,d3,d4,p1,p2,p3,p4,pol1,pol2,pol3,pol4)\n",
    "    magField = lambda R,t : Coil_field(Bgrad,R)\n",
    "    eqn = pylcp.rateeq(laserBeams=laserBeams,magField=magField,hamitlonian=hamiltonian)\n",
    "\n",
    "    eqn.set_initial_position_and_velocity(np.array([-1*z_start,-1*z_start,0]),np.array([v0s,v0s,0]))\n",
    "    eqn.set_initial_pop(np.array([1,1,1,1,1,1,1,1,1,1,1,1,0,0,0,0]))\n",
    "\n",
    "    eqn.evolve_motion([0.,max(t_eval)],t_eval=t_eval,events= None,progress_bar = 0,method='LSODA',max_step=2e5)\n",
    "    sol = eqn.sol\n",
    "    \n",
    "    if abs(sol.r[0][-1])*1000*x0<10 and abs(sol.v[0][-1])<5e-2:\n",
    "        return v0s\n",
    "    else:\n",
    "        return -1."
   ]
  },
  {
   "cell_type": "code",
   "execution_count": 11,
   "id": "square-harvest",
   "metadata": {},
   "outputs": [
    {
     "name": "stdout",
     "output_type": "stream",
     "text": [
      "2.5\n",
      "8.855360269546509\n"
     ]
    }
   ],
   "source": [
    "start = time.time()\n",
    "\n",
    "print(vc_bayesian(2.5,1.252,-0.4,0.1,-1.7,-2.8,5,21,28,26,-1,-1,1,-1))  \n",
    "\n",
    "print(time.time()-start)"
   ]
  },
  {
   "cell_type": "code",
   "execution_count": 5,
   "id": "downtown-inquiry",
   "metadata": {},
   "outputs": [],
   "source": [
    "pbounds = {'v0s':(2,8),'Bgrad':(0.5,20),'d1':(-3,1),'d2':(-3,1),'d3':(-3,1),'d4':(-3,1),'p1':(0,50),'p2':(0,50),'p3':(0,50),'p4':(0,50),'pol1':(-1,1),'pol2':(-1,1),'pol3':(-1,1),'pol4':(-1,1)}"
   ]
  },
  {
   "cell_type": "code",
   "execution_count": 6,
   "id": "lonely-collective",
   "metadata": {},
   "outputs": [],
   "source": [
    "optimizer = BayesianOptimization(\n",
    "    f = vc_bayesian,\n",
    "    pbounds=pbounds,\n",
    "    verbose=13,\n",
    "    random_state=1,\n",
    ")"
   ]
  },
  {
   "cell_type": "code",
   "execution_count": 14,
   "id": "4b8e6bce-223f-48d8-b81d-0b9a332421bc",
   "metadata": {},
   "outputs": [
    {
     "name": "stdout",
     "output_type": "stream",
     "text": [
      "|   iter    |  target   |   Bgrad   |    d1     |    d2     |    d3     |    d4     |    p1     |    p2     |    p3     |    p4     |   pol1    |   pol2    |   pol3    |   pol4    |    v0s    |\n",
      "-------------------------------------------------------------------------------------------------------------------------------------------------------------------------------------------------\n",
      "| \u001b[0m 1       \u001b[0m | \u001b[0m-1.0     \u001b[0m | \u001b[0m 8.632   \u001b[0m | \u001b[0m-0.1187  \u001b[0m | \u001b[0m-3.0     \u001b[0m | \u001b[0m-1.791   \u001b[0m | \u001b[0m-2.413   \u001b[0m | \u001b[0m 4.617   \u001b[0m | \u001b[0m 9.313   \u001b[0m | \u001b[0m 17.28   \u001b[0m | \u001b[0m 19.84   \u001b[0m | \u001b[0m 0.07763 \u001b[0m | \u001b[0m-0.1616  \u001b[0m | \u001b[0m 0.3704  \u001b[0m | \u001b[0m-0.5911  \u001b[0m | \u001b[0m 7.269   \u001b[0m |\n",
      "| \u001b[95m 2       \u001b[0m | \u001b[95m 2.657   \u001b[0m | \u001b[95m 8.159   \u001b[0m | \u001b[95m-0.5539  \u001b[0m | \u001b[95m-0.8439  \u001b[0m | \u001b[95m-2.181   \u001b[0m | \u001b[95m-2.332   \u001b[0m | \u001b[95m 24.15   \u001b[0m | \u001b[95m 28.56   \u001b[0m | \u001b[95m 2.302   \u001b[0m | \u001b[95m 30.67   \u001b[0m | \u001b[95m-0.5294  \u001b[0m | \u001b[95m-0.2846  \u001b[0m | \u001b[95m 0.7505  \u001b[0m | \u001b[95m 0.5304  \u001b[0m | \u001b[95m 2.657   \u001b[0m |\n",
      "=================================================================================================================================================================================================\n",
      "43.229613065719604\n"
     ]
    }
   ],
   "source": [
    "start = time.time()\n",
    "optimizer.maximize(\n",
    "    init_points=1,\n",
    "    n_iter=1,)\n",
    "print(time.time()-start)"
   ]
  },
  {
   "cell_type": "code",
   "execution_count": 7,
   "id": "bc9fae1c-3ad4-4f38-b76b-6d5c2198a138",
   "metadata": {
    "tags": []
   },
   "outputs": [
    {
     "data": {
      "text/plain": [
       "<bayes_opt.bayesian_optimization.BayesianOptimization at 0x1c1e5632dc0>"
      ]
     },
     "execution_count": 7,
     "metadata": {},
     "output_type": "execute_result"
    }
   ],
   "source": [
    "from bayes_opt.util import load_logs\n",
    "\n",
    "# New optimizer is loaded with previously seen points\n",
    "load_logs(optimizer, logs=[\"./logs_update.json\"])"
   ]
  },
  {
   "cell_type": "code",
   "execution_count": 8,
   "id": "91d3b7f7-2672-4b08-93d6-215f00c73377",
   "metadata": {},
   "outputs": [
    {
     "data": {
      "text/plain": [
       "{'target': 5.761614983061673,\n",
       " 'params': {'Bgrad': 2.5292051720695046,\n",
       "  'd1': -2.342005526929945,\n",
       "  'd2': -0.6475705326556596,\n",
       "  'd3': -2.1289507330733537,\n",
       "  'd4': -0.16476307816457147,\n",
       "  'p1': 16.478373418476938,\n",
       "  'p2': 4.970983929588368,\n",
       "  'p3': 40.023817831203324,\n",
       "  'p4': 33.08779896059957,\n",
       "  'pol1': -0.04335662246115479,\n",
       "  'pol2': 0.3366592462685245,\n",
       "  'pol3': 0.8740834907465769,\n",
       "  'pol4': 0.19361922677925247,\n",
       "  'v0s': 5.761614983061673}}"
      ]
     },
     "execution_count": 8,
     "metadata": {},
     "output_type": "execute_result"
    }
   ],
   "source": [
    "optimizer.max"
   ]
  },
  {
   "cell_type": "code",
   "execution_count": 10,
   "id": "2fc23d45-3bb4-42a4-9e32-3eb27005c9fa",
   "metadata": {},
   "outputs": [
    {
     "data": {
      "text/plain": [
       "260"
      ]
     },
     "execution_count": 10,
     "metadata": {},
     "output_type": "execute_result"
    }
   ],
   "source": [
    "len(optimizer.res)"
   ]
  },
  {
   "cell_type": "code",
   "execution_count": 15,
   "id": "eab12103-2e23-46b0-a09e-c80851df0124",
   "metadata": {},
   "outputs": [],
   "source": [
    "from bayes_opt.logger import JSONLogger\n",
    "from bayes_opt.event import Events\n",
    "\n",
    "logger = JSONLogger(path='./logs_update.json')\n",
    "optimizer.subscribe(Events.OPTIMIZATION_STEP,logger)"
   ]
  },
  {
   "cell_type": "code",
   "execution_count": 17,
   "id": "d3943d98-be4e-457c-b849-54a628b82272",
   "metadata": {},
   "outputs": [
    {
     "name": "stdout",
     "output_type": "stream",
     "text": [
      "|   iter    |  target   |   Bgrad   |    d1     |    d2     |    d3     |    d4     |    p1     |    p2     |    p3     |    p4     |   pol1    |   pol2    |   pol3    |   pol4    |    v0s    |\n",
      "-------------------------------------------------------------------------------------------------------------------------------------------------------------------------------------------------\n",
      "| \u001b[0m 133     \u001b[0m | \u001b[0m-1.0     \u001b[0m | \u001b[0m 16.16   \u001b[0m | \u001b[0m-1.39    \u001b[0m | \u001b[0m 0.6187  \u001b[0m | \u001b[0m-2.852   \u001b[0m | \u001b[0m 0.0955  \u001b[0m | \u001b[0m 6.282   \u001b[0m | \u001b[0m 30.93   \u001b[0m | \u001b[0m 0.5182  \u001b[0m | \u001b[0m 26.93   \u001b[0m | \u001b[0m-0.994   \u001b[0m | \u001b[0m 0.9024  \u001b[0m | \u001b[0m 0.8108  \u001b[0m | \u001b[0m 0.5919  \u001b[0m | \u001b[0m 7.492   \u001b[0m |\n",
      "| \u001b[0m 134     \u001b[0m | \u001b[0m-1.0     \u001b[0m | \u001b[0m 3.338   \u001b[0m | \u001b[0m-2.369   \u001b[0m | \u001b[0m-2.249   \u001b[0m | \u001b[0m-0.51    \u001b[0m | \u001b[0m 0.6232  \u001b[0m | \u001b[0m 49.5    \u001b[0m | \u001b[0m 35.56   \u001b[0m | \u001b[0m 36.59   \u001b[0m | \u001b[0m 45.46   \u001b[0m | \u001b[0m-0.1983  \u001b[0m | \u001b[0m-0.5003  \u001b[0m | \u001b[0m-0.6531  \u001b[0m | \u001b[0m-0.7611  \u001b[0m | \u001b[0m 6.876   \u001b[0m |\n",
      "| \u001b[0m 135     \u001b[0m | \u001b[0m-1.0     \u001b[0m | \u001b[0m 3.362   \u001b[0m | \u001b[0m-1.943   \u001b[0m | \u001b[0m 0.2764  \u001b[0m | \u001b[0m-1.758   \u001b[0m | \u001b[0m 0.9297  \u001b[0m | \u001b[0m 13.33   \u001b[0m | \u001b[0m 26.68   \u001b[0m | \u001b[0m 15.72   \u001b[0m | \u001b[0m 45.54   \u001b[0m | \u001b[0m-0.2669  \u001b[0m | \u001b[0m-0.1328  \u001b[0m | \u001b[0m 0.02459 \u001b[0m | \u001b[0m 0.8778  \u001b[0m | \u001b[0m 2.186   \u001b[0m |\n",
      "| \u001b[0m 136     \u001b[0m | \u001b[0m-1.0     \u001b[0m | \u001b[0m 14.48   \u001b[0m | \u001b[0m 0.5641  \u001b[0m | \u001b[0m-2.891   \u001b[0m | \u001b[0m-0.9118  \u001b[0m | \u001b[0m-1.696   \u001b[0m | \u001b[0m 42.97   \u001b[0m | \u001b[0m 27.93   \u001b[0m | \u001b[0m 34.51   \u001b[0m | \u001b[0m 22.64   \u001b[0m | \u001b[0m 0.2566  \u001b[0m | \u001b[0m-0.4198  \u001b[0m | \u001b[0m-0.9813  \u001b[0m | \u001b[0m 0.1535  \u001b[0m | \u001b[0m 3.869   \u001b[0m |\n",
      "| \u001b[0m 137     \u001b[0m | \u001b[0m 3.049   \u001b[0m | \u001b[0m 10.59   \u001b[0m | \u001b[0m 0.6656  \u001b[0m | \u001b[0m-1.294   \u001b[0m | \u001b[0m-2.01    \u001b[0m | \u001b[0m-1.515   \u001b[0m | \u001b[0m 46.59   \u001b[0m | \u001b[0m 46.84   \u001b[0m | \u001b[0m 42.22   \u001b[0m | \u001b[0m 46.01   \u001b[0m | \u001b[0m-0.5442  \u001b[0m | \u001b[0m-0.825   \u001b[0m | \u001b[0m-0.5454  \u001b[0m | \u001b[0m-0.3712  \u001b[0m | \u001b[0m 3.049   \u001b[0m |\n",
      "| \u001b[0m 138     \u001b[0m | \u001b[0m 3.048   \u001b[0m | \u001b[0m 12.34   \u001b[0m | \u001b[0m-1.346   \u001b[0m | \u001b[0m 0.2654  \u001b[0m | \u001b[0m-2.259   \u001b[0m | \u001b[0m-0.1925  \u001b[0m | \u001b[0m 12.02   \u001b[0m | \u001b[0m 28.71   \u001b[0m | \u001b[0m 17.45   \u001b[0m | \u001b[0m 2.848   \u001b[0m | \u001b[0m-0.5424  \u001b[0m | \u001b[0m 0.3282  \u001b[0m | \u001b[0m-0.0055  \u001b[0m | \u001b[0m 0.03803 \u001b[0m | \u001b[0m 3.048   \u001b[0m |\n",
      "| \u001b[0m 139     \u001b[0m | \u001b[0m-1.0     \u001b[0m | \u001b[0m 11.63   \u001b[0m | \u001b[0m 0.987   \u001b[0m | \u001b[0m 0.2673  \u001b[0m | \u001b[0m-0.6225  \u001b[0m | \u001b[0m 0.904   \u001b[0m | \u001b[0m 45.08   \u001b[0m | \u001b[0m 29.78   \u001b[0m | \u001b[0m 1.621   \u001b[0m | \u001b[0m 4.679   \u001b[0m | \u001b[0m-0.8693  \u001b[0m | \u001b[0m-0.09653 \u001b[0m | \u001b[0m-0.2491  \u001b[0m | \u001b[0m 0.9507  \u001b[0m | \u001b[0m 3.008   \u001b[0m |\n",
      "| \u001b[0m 140     \u001b[0m | \u001b[0m-1.0     \u001b[0m | \u001b[0m 19.47   \u001b[0m | \u001b[0m 0.0699  \u001b[0m | \u001b[0m 0.297   \u001b[0m | \u001b[0m-0.4695  \u001b[0m | \u001b[0m-0.3251  \u001b[0m | \u001b[0m 23.84   \u001b[0m | \u001b[0m 0.6568  \u001b[0m | \u001b[0m 17.65   \u001b[0m | \u001b[0m 24.6    \u001b[0m | \u001b[0m 0.4602  \u001b[0m | \u001b[0m-0.06274 \u001b[0m | \u001b[0m-0.08519 \u001b[0m | \u001b[0m-0.7247  \u001b[0m | \u001b[0m 2.065   \u001b[0m |\n",
      "| \u001b[0m 141     \u001b[0m | \u001b[0m 2.782   \u001b[0m | \u001b[0m 15.29   \u001b[0m | \u001b[0m-1.72    \u001b[0m | \u001b[0m 0.9375  \u001b[0m | \u001b[0m-2.119   \u001b[0m | \u001b[0m-1.645   \u001b[0m | \u001b[0m 26.19   \u001b[0m | \u001b[0m 37.74   \u001b[0m | \u001b[0m 23.19   \u001b[0m | \u001b[0m 6.241   \u001b[0m | \u001b[0m-0.375   \u001b[0m | \u001b[0m 0.009038\u001b[0m | \u001b[0m 0.3477  \u001b[0m | \u001b[0m 0.5403  \u001b[0m | \u001b[0m 2.782   \u001b[0m |\n",
      "| \u001b[0m 142     \u001b[0m | \u001b[0m-1.0     \u001b[0m | \u001b[0m 0.9468  \u001b[0m | \u001b[0m-0.9237  \u001b[0m | \u001b[0m 0.24    \u001b[0m | \u001b[0m-2.95    \u001b[0m | \u001b[0m-0.3101  \u001b[0m | \u001b[0m 34.34   \u001b[0m | \u001b[0m 22.46   \u001b[0m | \u001b[0m 45.74   \u001b[0m | \u001b[0m 32.22   \u001b[0m | \u001b[0m-0.9895  \u001b[0m | \u001b[0m-0.03114 \u001b[0m | \u001b[0m 0.7186  \u001b[0m | \u001b[0m 0.6608  \u001b[0m | \u001b[0m 5.895   \u001b[0m |\n",
      "| \u001b[0m 143     \u001b[0m | \u001b[0m-1.0     \u001b[0m | \u001b[0m 13.64   \u001b[0m | \u001b[0m-0.686   \u001b[0m | \u001b[0m-1.904   \u001b[0m | \u001b[0m-0.7579  \u001b[0m | \u001b[0m-0.3131  \u001b[0m | \u001b[0m 17.62   \u001b[0m | \u001b[0m 42.79   \u001b[0m | \u001b[0m 9.752   \u001b[0m | \u001b[0m 37.37   \u001b[0m | \u001b[0m-0.4208  \u001b[0m | \u001b[0m 0.5476  \u001b[0m | \u001b[0m-0.1445  \u001b[0m | \u001b[0m 0.6154  \u001b[0m | \u001b[0m 4.121   \u001b[0m |\n",
      "| \u001b[0m 144     \u001b[0m | \u001b[0m-1.0     \u001b[0m | \u001b[0m 4.667   \u001b[0m | \u001b[0m 0.06914 \u001b[0m | \u001b[0m-1.765   \u001b[0m | \u001b[0m-0.06702 \u001b[0m | \u001b[0m-0.02211 \u001b[0m | \u001b[0m 11.07   \u001b[0m | \u001b[0m 10.71   \u001b[0m | \u001b[0m 9.947   \u001b[0m | \u001b[0m 7.126   \u001b[0m | \u001b[0m-0.2458  \u001b[0m | \u001b[0m-0.9467  \u001b[0m | \u001b[0m-0.7782  \u001b[0m | \u001b[0m 0.3491  \u001b[0m | \u001b[0m 6.799   \u001b[0m |\n",
      "| \u001b[0m 145     \u001b[0m | \u001b[0m-1.0     \u001b[0m | \u001b[0m 2.07    \u001b[0m | \u001b[0m-2.073   \u001b[0m | \u001b[0m-2.169   \u001b[0m | \u001b[0m 0.6693  \u001b[0m | \u001b[0m-0.1547  \u001b[0m | \u001b[0m 27.69   \u001b[0m | \u001b[0m 15.23   \u001b[0m | \u001b[0m 41.74   \u001b[0m | \u001b[0m 21.77   \u001b[0m | \u001b[0m 0.8469  \u001b[0m | \u001b[0m 0.4121  \u001b[0m | \u001b[0m-0.04394 \u001b[0m | \u001b[0m-0.7476  \u001b[0m | \u001b[0m 7.856   \u001b[0m |\n",
      "| \u001b[0m 146     \u001b[0m | \u001b[0m-1.0     \u001b[0m | \u001b[0m 3.617   \u001b[0m | \u001b[0m-2.19    \u001b[0m | \u001b[0m-1.275   \u001b[0m | \u001b[0m-1.383   \u001b[0m | \u001b[0m-2.413   \u001b[0m | \u001b[0m 36.47   \u001b[0m | \u001b[0m 9.437   \u001b[0m | \u001b[0m 32.19   \u001b[0m | \u001b[0m 37.72   \u001b[0m | \u001b[0m-0.5785  \u001b[0m | \u001b[0m 0.2019  \u001b[0m | \u001b[0m 0.4979  \u001b[0m | \u001b[0m 0.2764  \u001b[0m | \u001b[0m 5.583   \u001b[0m |\n",
      "| \u001b[0m 147     \u001b[0m | \u001b[0m-1.0     \u001b[0m | \u001b[0m 6.262   \u001b[0m | \u001b[0m-0.07357 \u001b[0m | \u001b[0m 0.7812  \u001b[0m | \u001b[0m-1.298   \u001b[0m | \u001b[0m 0.1287  \u001b[0m | \u001b[0m 2.807   \u001b[0m | \u001b[0m 41.76   \u001b[0m | \u001b[0m 9.613   \u001b[0m | \u001b[0m 19.75   \u001b[0m | \u001b[0m-0.3998  \u001b[0m | \u001b[0m-0.8398  \u001b[0m | \u001b[0m 0.8093  \u001b[0m | \u001b[0m-0.2597  \u001b[0m | \u001b[0m 5.184   \u001b[0m |\n",
      "| \u001b[0m 148     \u001b[0m | \u001b[0m-1.0     \u001b[0m | \u001b[0m 10.14   \u001b[0m | \u001b[0m-2.471   \u001b[0m | \u001b[0m-2.174   \u001b[0m | \u001b[0m-2.695   \u001b[0m | \u001b[0m-0.9683  \u001b[0m | \u001b[0m 13.08   \u001b[0m | \u001b[0m 17.85   \u001b[0m | \u001b[0m 5.403   \u001b[0m | \u001b[0m 39.38   \u001b[0m | \u001b[0m-0.7868  \u001b[0m | \u001b[0m 0.9714  \u001b[0m | \u001b[0m-0.6457  \u001b[0m | \u001b[0m 0.1448  \u001b[0m | \u001b[0m 2.269   \u001b[0m |\n",
      "| \u001b[0m 149     \u001b[0m | \u001b[0m 5.353   \u001b[0m | \u001b[0m 15.85   \u001b[0m | \u001b[0m-2.242   \u001b[0m | \u001b[0m-0.8884  \u001b[0m | \u001b[0m-0.03969 \u001b[0m | \u001b[0m-2.4     \u001b[0m | \u001b[0m 27.55   \u001b[0m | \u001b[0m 10.83   \u001b[0m | \u001b[0m 37.96   \u001b[0m | \u001b[0m 36.15   \u001b[0m | \u001b[0m-0.6469  \u001b[0m | \u001b[0m 0.7239  \u001b[0m | \u001b[0m-0.9604  \u001b[0m | \u001b[0m 0.7205  \u001b[0m | \u001b[0m 5.353   \u001b[0m |\n",
      "| \u001b[0m 150     \u001b[0m | \u001b[0m-1.0     \u001b[0m | \u001b[0m 8.363   \u001b[0m | \u001b[0m 0.03499 \u001b[0m | \u001b[0m-0.1323  \u001b[0m | \u001b[0m 0.9493  \u001b[0m | \u001b[0m-1.888   \u001b[0m | \u001b[0m 0.1897  \u001b[0m | \u001b[0m 46.7    \u001b[0m | \u001b[0m 42.89   \u001b[0m | \u001b[0m 36.44   \u001b[0m | \u001b[0m 0.03338 \u001b[0m | \u001b[0m 0.4139  \u001b[0m | \u001b[0m 0.5611  \u001b[0m | \u001b[0m-0.2502  \u001b[0m | \u001b[0m 6.622   \u001b[0m |\n",
      "| \u001b[0m 151     \u001b[0m | \u001b[0m-1.0     \u001b[0m | \u001b[0m 15.14   \u001b[0m | \u001b[0m-0.5472  \u001b[0m | \u001b[0m-1.393   \u001b[0m | \u001b[0m-0.2108  \u001b[0m | \u001b[0m-2.988   \u001b[0m | \u001b[0m 38.74   \u001b[0m | \u001b[0m 44.82   \u001b[0m | \u001b[0m 11.97   \u001b[0m | \u001b[0m 6.038   \u001b[0m | \u001b[0m-0.5594  \u001b[0m | \u001b[0m-0.3958  \u001b[0m | \u001b[0m 0.7661  \u001b[0m | \u001b[0m 0.08633 \u001b[0m | \u001b[0m 3.72    \u001b[0m |\n",
      "| \u001b[0m 152     \u001b[0m | \u001b[0m-1.0     \u001b[0m | \u001b[0m 3.198   \u001b[0m | \u001b[0m-1.839   \u001b[0m | \u001b[0m-0.5445  \u001b[0m | \u001b[0m-1.703   \u001b[0m | \u001b[0m-1.171   \u001b[0m | \u001b[0m 22.21   \u001b[0m | \u001b[0m 41.41   \u001b[0m | \u001b[0m 21.32   \u001b[0m | \u001b[0m 17.28   \u001b[0m | \u001b[0m 0.3499  \u001b[0m | \u001b[0m-0.557   \u001b[0m | \u001b[0m-0.06551 \u001b[0m | \u001b[0m-0.3705  \u001b[0m | \u001b[0m 5.761   \u001b[0m |\n",
      "| \u001b[0m 153     \u001b[0m | \u001b[0m 2.407   \u001b[0m | \u001b[0m 17.61   \u001b[0m | \u001b[0m-1.209   \u001b[0m | \u001b[0m 0.1378  \u001b[0m | \u001b[0m-1.172   \u001b[0m | \u001b[0m-0.3751  \u001b[0m | \u001b[0m 6.592   \u001b[0m | \u001b[0m 21.65   \u001b[0m | \u001b[0m 45.47   \u001b[0m | \u001b[0m 30.27   \u001b[0m | \u001b[0m 0.5335  \u001b[0m | \u001b[0m 0.009401\u001b[0m | \u001b[0m-0.003889\u001b[0m | \u001b[0m 0.6858  \u001b[0m | \u001b[0m 2.407   \u001b[0m |\n",
      "| \u001b[0m 154     \u001b[0m | \u001b[0m-1.0     \u001b[0m | \u001b[0m 11.68   \u001b[0m | \u001b[0m 0.7711  \u001b[0m | \u001b[0m-0.9286  \u001b[0m | \u001b[0m-2.222   \u001b[0m | \u001b[0m 0.3918  \u001b[0m | \u001b[0m 12.58   \u001b[0m | \u001b[0m 35.04   \u001b[0m | \u001b[0m 27.01   \u001b[0m | \u001b[0m 47.44   \u001b[0m | \u001b[0m 0.2487  \u001b[0m | \u001b[0m 0.676   \u001b[0m | \u001b[0m-0.9841  \u001b[0m | \u001b[0m 0.9787  \u001b[0m | \u001b[0m 2.466   \u001b[0m |\n",
      "| \u001b[0m 155     \u001b[0m | \u001b[0m-1.0     \u001b[0m | \u001b[0m 6.782   \u001b[0m | \u001b[0m 0.7846  \u001b[0m | \u001b[0m-2.964   \u001b[0m | \u001b[0m 0.2909  \u001b[0m | \u001b[0m 0.4448  \u001b[0m | \u001b[0m 21.99   \u001b[0m | \u001b[0m 12.79   \u001b[0m | \u001b[0m 40.13   \u001b[0m | \u001b[0m 23.89   \u001b[0m | \u001b[0m-0.7313  \u001b[0m | \u001b[0m 0.8557  \u001b[0m | \u001b[0m 0.7919  \u001b[0m | \u001b[0m-0.01691 \u001b[0m | \u001b[0m 7.14    \u001b[0m |\n",
      "| \u001b[0m 156     \u001b[0m | \u001b[0m-1.0     \u001b[0m | \u001b[0m 8.662   \u001b[0m | \u001b[0m-0.2661  \u001b[0m | \u001b[0m-1.408   \u001b[0m | \u001b[0m-0.977   \u001b[0m | \u001b[0m-2.242   \u001b[0m | \u001b[0m 48.25   \u001b[0m | \u001b[0m 14.71   \u001b[0m | \u001b[0m 5.173   \u001b[0m | \u001b[0m 7.216   \u001b[0m | \u001b[0m-0.9718  \u001b[0m | \u001b[0m 0.4319  \u001b[0m | \u001b[0m 0.129   \u001b[0m | \u001b[0m 0.5892  \u001b[0m | \u001b[0m 5.042   \u001b[0m |\n",
      "| \u001b[0m 157     \u001b[0m | \u001b[0m-1.0     \u001b[0m | \u001b[0m 15.94   \u001b[0m | \u001b[0m-0.2169  \u001b[0m | \u001b[0m 0.1114  \u001b[0m | \u001b[0m-1.374   \u001b[0m | \u001b[0m-0.4089  \u001b[0m | \u001b[0m 8.99    \u001b[0m | \u001b[0m 16.09   \u001b[0m | \u001b[0m 8.63    \u001b[0m | \u001b[0m 20.43   \u001b[0m | \u001b[0m-0.5172  \u001b[0m | \u001b[0m-0.1862  \u001b[0m | \u001b[0m 0.9504  \u001b[0m | \u001b[0m-0.3594  \u001b[0m | \u001b[0m 7.895   \u001b[0m |\n",
      "| \u001b[0m 158     \u001b[0m | \u001b[0m-1.0     \u001b[0m | \u001b[0m 12.91   \u001b[0m | \u001b[0m-1.5     \u001b[0m | \u001b[0m 0.4299  \u001b[0m | \u001b[0m-0.5217  \u001b[0m | \u001b[0m-1.992   \u001b[0m | \u001b[0m 39.64   \u001b[0m | \u001b[0m 21.65   \u001b[0m | \u001b[0m 17.88   \u001b[0m | \u001b[0m 16.51   \u001b[0m | \u001b[0m 0.3947  \u001b[0m | \u001b[0m-0.4627  \u001b[0m | \u001b[0m 0.6166  \u001b[0m | \u001b[0m-0.4094  \u001b[0m | \u001b[0m 5.265   \u001b[0m |\n",
      "| \u001b[0m 159     \u001b[0m | \u001b[0m-1.0     \u001b[0m | \u001b[0m 10.01   \u001b[0m | \u001b[0m 0.4214  \u001b[0m | \u001b[0m 0.5535  \u001b[0m | \u001b[0m-2.262   \u001b[0m | \u001b[0m-0.6586  \u001b[0m | \u001b[0m 44.91   \u001b[0m | \u001b[0m 22.31   \u001b[0m | \u001b[0m 46.09   \u001b[0m | \u001b[0m 13.95   \u001b[0m | \u001b[0m 0.2177  \u001b[0m | \u001b[0m 0.3649  \u001b[0m | \u001b[0m-0.5436  \u001b[0m | \u001b[0m-0.9725  \u001b[0m | \u001b[0m 4.5     \u001b[0m |\n",
      "| \u001b[0m 160     \u001b[0m | \u001b[0m 4.232   \u001b[0m | \u001b[0m 18.8    \u001b[0m | \u001b[0m-1.628   \u001b[0m | \u001b[0m 0.119   \u001b[0m | \u001b[0m-2.301   \u001b[0m | \u001b[0m-1.632   \u001b[0m | \u001b[0m 7.23    \u001b[0m | \u001b[0m 35.84   \u001b[0m | \u001b[0m 34.97   \u001b[0m | \u001b[0m 34.42   \u001b[0m | \u001b[0m-0.4932  \u001b[0m | \u001b[0m 0.3847  \u001b[0m | \u001b[0m-0.5454  \u001b[0m | \u001b[0m-0.1507  \u001b[0m | \u001b[0m 4.232   \u001b[0m |\n",
      "| \u001b[0m 161     \u001b[0m | \u001b[0m-1.0     \u001b[0m | \u001b[0m 7.429   \u001b[0m | \u001b[0m-2.769   \u001b[0m | \u001b[0m-0.4734  \u001b[0m | \u001b[0m-0.1707  \u001b[0m | \u001b[0m-0.5456  \u001b[0m | \u001b[0m 32.42   \u001b[0m | \u001b[0m 8.497   \u001b[0m | \u001b[0m 7.472   \u001b[0m | \u001b[0m 25.71   \u001b[0m | \u001b[0m 0.7507  \u001b[0m | \u001b[0m-0.6321  \u001b[0m | \u001b[0m-0.07432 \u001b[0m | \u001b[0m-0.1421  \u001b[0m | \u001b[0m 4.984   \u001b[0m |\n",
      "| \u001b[0m 162     \u001b[0m | \u001b[0m-1.0     \u001b[0m | \u001b[0m 3.649   \u001b[0m | \u001b[0m-1.63    \u001b[0m | \u001b[0m-1.952   \u001b[0m | \u001b[0m 0.3781  \u001b[0m | \u001b[0m 0.2013  \u001b[0m | \u001b[0m 21.33   \u001b[0m | \u001b[0m 30.35   \u001b[0m | \u001b[0m 7.273   \u001b[0m | \u001b[0m 25.48   \u001b[0m | \u001b[0m-0.4061  \u001b[0m | \u001b[0m 0.7193  \u001b[0m | \u001b[0m 0.3432  \u001b[0m | \u001b[0m 0.2669  \u001b[0m | \u001b[0m 2.749   \u001b[0m |\n",
      "| \u001b[0m 163     \u001b[0m | \u001b[0m 3.664   \u001b[0m | \u001b[0m 13.86   \u001b[0m | \u001b[0m 0.8287  \u001b[0m | \u001b[0m-0.3013  \u001b[0m | \u001b[0m-1.902   \u001b[0m | \u001b[0m-2.281   \u001b[0m | \u001b[0m 49.34   \u001b[0m | \u001b[0m 17.59   \u001b[0m | \u001b[0m 25.88   \u001b[0m | \u001b[0m 14.24   \u001b[0m | \u001b[0m-0.2267  \u001b[0m | \u001b[0m 0.6459  \u001b[0m | \u001b[0m-0.6772  \u001b[0m | \u001b[0m 0.03693 \u001b[0m | \u001b[0m 3.664   \u001b[0m |\n",
      "| \u001b[0m 164     \u001b[0m | \u001b[0m-1.0     \u001b[0m | \u001b[0m 14.76   \u001b[0m | \u001b[0m-1.82    \u001b[0m | \u001b[0m-1.091   \u001b[0m | \u001b[0m 0.6212  \u001b[0m | \u001b[0m-2.655   \u001b[0m | \u001b[0m 29.91   \u001b[0m | \u001b[0m 1.449   \u001b[0m | \u001b[0m 37.35   \u001b[0m | \u001b[0m 4.568   \u001b[0m | \u001b[0m-0.6448  \u001b[0m | \u001b[0m 0.6549  \u001b[0m | \u001b[0m 0.3405  \u001b[0m | \u001b[0m-0.7941  \u001b[0m | \u001b[0m 3.33    \u001b[0m |\n",
      "| \u001b[0m 165     \u001b[0m | \u001b[0m-1.0     \u001b[0m | \u001b[0m 17.8    \u001b[0m | \u001b[0m-0.5827  \u001b[0m | \u001b[0m-2.479   \u001b[0m | \u001b[0m-1.32    \u001b[0m | \u001b[0m-2.306   \u001b[0m | \u001b[0m 13.38   \u001b[0m | \u001b[0m 23.75   \u001b[0m | \u001b[0m 1.057   \u001b[0m | \u001b[0m 39.92   \u001b[0m | \u001b[0m 0.6478  \u001b[0m | \u001b[0m 0.2043  \u001b[0m | \u001b[0m-0.8127  \u001b[0m | \u001b[0m 0.2118  \u001b[0m | \u001b[0m 2.934   \u001b[0m |\n",
      "| \u001b[0m 166     \u001b[0m | \u001b[0m 4.996   \u001b[0m | \u001b[0m 1.397   \u001b[0m | \u001b[0m-2.394   \u001b[0m | \u001b[0m-2.728   \u001b[0m | \u001b[0m-0.1746  \u001b[0m | \u001b[0m 0.3097  \u001b[0m | \u001b[0m 10.08   \u001b[0m | \u001b[0m 6.378   \u001b[0m | \u001b[0m 26.96   \u001b[0m | \u001b[0m 24.99   \u001b[0m | \u001b[0m 0.8697  \u001b[0m | \u001b[0m 0.7376  \u001b[0m | \u001b[0m-0.7352  \u001b[0m | \u001b[0m 0.7862  \u001b[0m | \u001b[0m 4.996   \u001b[0m |\n",
      "| \u001b[0m 167     \u001b[0m | \u001b[0m-1.0     \u001b[0m | \u001b[0m 17.94   \u001b[0m | \u001b[0m 0.8323  \u001b[0m | \u001b[0m-1.173   \u001b[0m | \u001b[0m 0.9776  \u001b[0m | \u001b[0m 0.3523  \u001b[0m | \u001b[0m 19.49   \u001b[0m | \u001b[0m 10.06   \u001b[0m | \u001b[0m 10.15   \u001b[0m | \u001b[0m 14.69   \u001b[0m | \u001b[0m 0.6637  \u001b[0m | \u001b[0m 0.382   \u001b[0m | \u001b[0m-0.8224  \u001b[0m | \u001b[0m-0.6663  \u001b[0m | \u001b[0m 2.69    \u001b[0m |\n",
      "| \u001b[0m 168     \u001b[0m | \u001b[0m-1.0     \u001b[0m | \u001b[0m 16.3    \u001b[0m | \u001b[0m 0.6975  \u001b[0m | \u001b[0m-1.129   \u001b[0m | \u001b[0m 0.6674  \u001b[0m | \u001b[0m 0.07933 \u001b[0m | \u001b[0m 21.0    \u001b[0m | \u001b[0m 8.771   \u001b[0m | \u001b[0m 24.05   \u001b[0m | \u001b[0m 21.18   \u001b[0m | \u001b[0m 0.7485  \u001b[0m | \u001b[0m 0.9165  \u001b[0m | \u001b[0m-0.0864  \u001b[0m | \u001b[0m-0.4248  \u001b[0m | \u001b[0m 6.941   \u001b[0m |\n",
      "| \u001b[0m 169     \u001b[0m | \u001b[0m-1.0     \u001b[0m | \u001b[0m 5.718   \u001b[0m | \u001b[0m-0.3124  \u001b[0m | \u001b[0m-0.7831  \u001b[0m | \u001b[0m-2.167   \u001b[0m | \u001b[0m-1.621   \u001b[0m | \u001b[0m 8.62    \u001b[0m | \u001b[0m 32.92   \u001b[0m | \u001b[0m 17.47   \u001b[0m | \u001b[0m 36.29   \u001b[0m | \u001b[0m-0.0468  \u001b[0m | \u001b[0m 0.2241  \u001b[0m | \u001b[0m-0.7988  \u001b[0m | \u001b[0m 0.3294  \u001b[0m | \u001b[0m 3.951   \u001b[0m |\n",
      "| \u001b[0m 170     \u001b[0m | \u001b[0m-1.0     \u001b[0m | \u001b[0m 17.71   \u001b[0m | \u001b[0m 0.947   \u001b[0m | \u001b[0m-2.676   \u001b[0m | \u001b[0m-2.327   \u001b[0m | \u001b[0m-2.998   \u001b[0m | \u001b[0m 22.02   \u001b[0m | \u001b[0m 24.59   \u001b[0m | \u001b[0m 25.64   \u001b[0m | \u001b[0m 30.99   \u001b[0m | \u001b[0m 0.1608  \u001b[0m | \u001b[0m-0.08737 \u001b[0m | \u001b[0m 0.4332  \u001b[0m | \u001b[0m 0.3582  \u001b[0m | \u001b[0m 7.471   \u001b[0m |\n",
      "| \u001b[0m 171     \u001b[0m | \u001b[0m-1.0     \u001b[0m | \u001b[0m 16.99   \u001b[0m | \u001b[0m-1.322   \u001b[0m | \u001b[0m 0.1657  \u001b[0m | \u001b[0m-0.1472  \u001b[0m | \u001b[0m-0.241   \u001b[0m | \u001b[0m 15.7    \u001b[0m | \u001b[0m 7.972   \u001b[0m | \u001b[0m 30.28   \u001b[0m | \u001b[0m 20.99   \u001b[0m | \u001b[0m 0.6866  \u001b[0m | \u001b[0m 0.9597  \u001b[0m | \u001b[0m 0.9655  \u001b[0m | \u001b[0m-0.5893  \u001b[0m | \u001b[0m 6.37    \u001b[0m |\n",
      "| \u001b[0m 172     \u001b[0m | \u001b[0m-1.0     \u001b[0m | \u001b[0m 7.589   \u001b[0m | \u001b[0m 0.3064  \u001b[0m | \u001b[0m 0.07197 \u001b[0m | \u001b[0m-2.225   \u001b[0m | \u001b[0m 0.2136  \u001b[0m | \u001b[0m 44.82   \u001b[0m | \u001b[0m 29.58   \u001b[0m | \u001b[0m 13.15   \u001b[0m | \u001b[0m 20.94   \u001b[0m | \u001b[0m 0.7351  \u001b[0m | \u001b[0m-0.7852  \u001b[0m | \u001b[0m 0.004279\u001b[0m | \u001b[0m-0.3853  \u001b[0m | \u001b[0m 6.736   \u001b[0m |\n",
      "| \u001b[0m 173     \u001b[0m | \u001b[0m 2.592   \u001b[0m | \u001b[0m 11.04   \u001b[0m | \u001b[0m-2.184   \u001b[0m | \u001b[0m-1.781   \u001b[0m | \u001b[0m-0.4499  \u001b[0m | \u001b[0m-0.5813  \u001b[0m | \u001b[0m 46.76   \u001b[0m | \u001b[0m 29.7    \u001b[0m | \u001b[0m 33.35   \u001b[0m | \u001b[0m 44.58   \u001b[0m | \u001b[0m-0.1184  \u001b[0m | \u001b[0m-0.7349  \u001b[0m | \u001b[0m 0.2858  \u001b[0m | \u001b[0m 0.4886  \u001b[0m | \u001b[0m 2.592   \u001b[0m |\n",
      "| \u001b[0m 174     \u001b[0m | \u001b[0m-1.0     \u001b[0m | \u001b[0m 5.681   \u001b[0m | \u001b[0m-0.1097  \u001b[0m | \u001b[0m-0.8552  \u001b[0m | \u001b[0m-0.3136  \u001b[0m | \u001b[0m-2.796   \u001b[0m | \u001b[0m 22.29   \u001b[0m | \u001b[0m 13.33   \u001b[0m | \u001b[0m 13.11   \u001b[0m | \u001b[0m 46.38   \u001b[0m | \u001b[0m-0.6541  \u001b[0m | \u001b[0m 0.7158  \u001b[0m | \u001b[0m 0.06547 \u001b[0m | \u001b[0m-0.0989  \u001b[0m | \u001b[0m 6.603   \u001b[0m |\n",
      "| \u001b[0m 175     \u001b[0m | \u001b[0m 4.003   \u001b[0m | \u001b[0m 2.961   \u001b[0m | \u001b[0m-0.2407  \u001b[0m | \u001b[0m-2.807   \u001b[0m | \u001b[0m-2.199   \u001b[0m | \u001b[0m-1.482   \u001b[0m | \u001b[0m 41.21   \u001b[0m | \u001b[0m 7.01    \u001b[0m | \u001b[0m 49.48   \u001b[0m | \u001b[0m 22.91   \u001b[0m | \u001b[0m-0.5816  \u001b[0m | \u001b[0m-0.4386  \u001b[0m | \u001b[0m 0.6129  \u001b[0m | \u001b[0m-0.6331  \u001b[0m | \u001b[0m 4.003   \u001b[0m |\n",
      "| \u001b[0m 176     \u001b[0m | \u001b[0m-1.0     \u001b[0m | \u001b[0m 4.767   \u001b[0m | \u001b[0m-0.2477  \u001b[0m | \u001b[0m-1.364   \u001b[0m | \u001b[0m-2.928   \u001b[0m | \u001b[0m-2.863   \u001b[0m | \u001b[0m 45.02   \u001b[0m | \u001b[0m 27.04   \u001b[0m | \u001b[0m 48.65   \u001b[0m | \u001b[0m 43.5    \u001b[0m | \u001b[0m-0.4822  \u001b[0m | \u001b[0m 0.8615  \u001b[0m | \u001b[0m-0.4208  \u001b[0m | \u001b[0m-0.02091 \u001b[0m | \u001b[0m 6.735   \u001b[0m |\n",
      "| \u001b[0m 177     \u001b[0m | \u001b[0m-1.0     \u001b[0m | \u001b[0m 9.585   \u001b[0m | \u001b[0m 0.4331  \u001b[0m | \u001b[0m-0.6783  \u001b[0m | \u001b[0m 0.9167  \u001b[0m | \u001b[0m 0.5678  \u001b[0m | \u001b[0m 48.37   \u001b[0m | \u001b[0m 22.04   \u001b[0m | \u001b[0m 12.94   \u001b[0m | \u001b[0m 29.34   \u001b[0m | \u001b[0m 0.2287  \u001b[0m | \u001b[0m 0.3723  \u001b[0m | \u001b[0m 0.5401  \u001b[0m | \u001b[0m 0.4274  \u001b[0m | \u001b[0m 2.02    \u001b[0m |\n",
      "| \u001b[0m 178     \u001b[0m | \u001b[0m-1.0     \u001b[0m | \u001b[0m 1.159   \u001b[0m | \u001b[0m-1.812   \u001b[0m | \u001b[0m-0.9889  \u001b[0m | \u001b[0m-1.91    \u001b[0m | \u001b[0m-0.505   \u001b[0m | \u001b[0m 25.73   \u001b[0m | \u001b[0m 33.49   \u001b[0m | \u001b[0m 46.21   \u001b[0m | \u001b[0m 29.03   \u001b[0m | \u001b[0m 0.9332  \u001b[0m | \u001b[0m 0.3546  \u001b[0m | \u001b[0m 0.7044  \u001b[0m | \u001b[0m-0.9628  \u001b[0m | \u001b[0m 4.261   \u001b[0m |\n",
      "| \u001b[0m 179     \u001b[0m | \u001b[0m-1.0     \u001b[0m | \u001b[0m 11.84   \u001b[0m | \u001b[0m 0.7103  \u001b[0m | \u001b[0m-1.012   \u001b[0m | \u001b[0m 0.8341  \u001b[0m | \u001b[0m 0.1368  \u001b[0m | \u001b[0m 44.33   \u001b[0m | \u001b[0m 47.61   \u001b[0m | \u001b[0m 45.97   \u001b[0m | \u001b[0m 47.36   \u001b[0m | \u001b[0m 0.8062  \u001b[0m | \u001b[0m-0.2075  \u001b[0m | \u001b[0m 0.4475  \u001b[0m | \u001b[0m 0.5802  \u001b[0m | \u001b[0m 6.418   \u001b[0m |\n",
      "| \u001b[0m 180     \u001b[0m | \u001b[0m 3.507   \u001b[0m | \u001b[0m 7.051   \u001b[0m | \u001b[0m 0.118   \u001b[0m | \u001b[0m-2.142   \u001b[0m | \u001b[0m-2.855   \u001b[0m | \u001b[0m-0.7384  \u001b[0m | \u001b[0m 13.53   \u001b[0m | \u001b[0m 13.78   \u001b[0m | \u001b[0m 8.01    \u001b[0m | \u001b[0m 37.54   \u001b[0m | \u001b[0m 0.07826 \u001b[0m | \u001b[0m 0.9524  \u001b[0m | \u001b[0m 0.3282  \u001b[0m | \u001b[0m 0.03316 \u001b[0m | \u001b[0m 3.507   \u001b[0m |\n",
      "| \u001b[0m 181     \u001b[0m | \u001b[0m-1.0     \u001b[0m | \u001b[0m 14.38   \u001b[0m | \u001b[0m 0.6305  \u001b[0m | \u001b[0m-2.925   \u001b[0m | \u001b[0m-1.404   \u001b[0m | \u001b[0m 0.2637  \u001b[0m | \u001b[0m 46.63   \u001b[0m | \u001b[0m 33.12   \u001b[0m | \u001b[0m 32.26   \u001b[0m | \u001b[0m 23.1    \u001b[0m | \u001b[0m 0.6185  \u001b[0m | \u001b[0m 0.1129  \u001b[0m | \u001b[0m 0.9363  \u001b[0m | \u001b[0m 0.8841  \u001b[0m | \u001b[0m 6.142   \u001b[0m |\n",
      "| \u001b[0m 182     \u001b[0m | \u001b[0m-1.0     \u001b[0m | \u001b[0m 3.764   \u001b[0m | \u001b[0m 0.6372  \u001b[0m | \u001b[0m-1.064   \u001b[0m | \u001b[0m-1.904   \u001b[0m | \u001b[0m 0.7554  \u001b[0m | \u001b[0m 28.53   \u001b[0m | \u001b[0m 23.82   \u001b[0m | \u001b[0m 7.814   \u001b[0m | \u001b[0m 11.37   \u001b[0m | \u001b[0m-0.5308  \u001b[0m | \u001b[0m 0.03392 \u001b[0m | \u001b[0m 0.7201  \u001b[0m | \u001b[0m 0.8236  \u001b[0m | \u001b[0m 2.247   \u001b[0m |\n",
      "| \u001b[0m 183     \u001b[0m | \u001b[0m-1.0     \u001b[0m | \u001b[0m 5.62    \u001b[0m | \u001b[0m 0.1227  \u001b[0m | \u001b[0m-1.7     \u001b[0m | \u001b[0m-2.87    \u001b[0m | \u001b[0m-2.76    \u001b[0m | \u001b[0m 26.03   \u001b[0m | \u001b[0m 46.82   \u001b[0m | \u001b[0m 33.86   \u001b[0m | \u001b[0m 33.92   \u001b[0m | \u001b[0m 0.2171  \u001b[0m | \u001b[0m-0.09665 \u001b[0m | \u001b[0m 0.9589  \u001b[0m | \u001b[0m 0.9326  \u001b[0m | \u001b[0m 2.621   \u001b[0m |\n",
      "| \u001b[0m 184     \u001b[0m | \u001b[0m 4.745   \u001b[0m | \u001b[0m 11.79   \u001b[0m | \u001b[0m-2.489   \u001b[0m | \u001b[0m-2.881   \u001b[0m | \u001b[0m 0.3064  \u001b[0m | \u001b[0m-2.983   \u001b[0m | \u001b[0m 16.22   \u001b[0m | \u001b[0m 33.68   \u001b[0m | \u001b[0m 23.5    \u001b[0m | \u001b[0m 4.304   \u001b[0m | \u001b[0m 0.3916  \u001b[0m | \u001b[0m 0.2469  \u001b[0m | \u001b[0m 0.2547  \u001b[0m | \u001b[0m 0.9267  \u001b[0m | \u001b[0m 4.745   \u001b[0m |\n",
      "| \u001b[0m 185     \u001b[0m | \u001b[0m-1.0     \u001b[0m | \u001b[0m 14.02   \u001b[0m | \u001b[0m-0.6865  \u001b[0m | \u001b[0m 0.06767 \u001b[0m | \u001b[0m 0.9022  \u001b[0m | \u001b[0m-0.7483  \u001b[0m | \u001b[0m 19.5    \u001b[0m | \u001b[0m 16.21   \u001b[0m | \u001b[0m 8.359   \u001b[0m | \u001b[0m 39.61   \u001b[0m | \u001b[0m 0.2564  \u001b[0m | \u001b[0m-8.222e-0\u001b[0m | \u001b[0m 0.2105  \u001b[0m | \u001b[0m 0.2443  \u001b[0m | \u001b[0m 7.052   \u001b[0m |\n",
      "| \u001b[0m 186     \u001b[0m | \u001b[0m-1.0     \u001b[0m | \u001b[0m 7.146   \u001b[0m | \u001b[0m 0.4687  \u001b[0m | \u001b[0m-1.307   \u001b[0m | \u001b[0m-0.1499  \u001b[0m | \u001b[0m-2.481   \u001b[0m | \u001b[0m 12.57   \u001b[0m | \u001b[0m 38.12   \u001b[0m | \u001b[0m 16.43   \u001b[0m | \u001b[0m 1.977   \u001b[0m | \u001b[0m-0.09008 \u001b[0m | \u001b[0m-0.4019  \u001b[0m | \u001b[0m 0.1454  \u001b[0m | \u001b[0m-0.09882 \u001b[0m | \u001b[0m 2.573   \u001b[0m |\n",
      "| \u001b[0m 187     \u001b[0m | \u001b[0m-1.0     \u001b[0m | \u001b[0m 12.49   \u001b[0m | \u001b[0m-0.9136  \u001b[0m | \u001b[0m-1.423   \u001b[0m | \u001b[0m-0.7635  \u001b[0m | \u001b[0m-2.979   \u001b[0m | \u001b[0m 9.434   \u001b[0m | \u001b[0m 39.81   \u001b[0m | \u001b[0m 28.2    \u001b[0m | \u001b[0m 21.23   \u001b[0m | \u001b[0m-0.4678  \u001b[0m | \u001b[0m 0.4669  \u001b[0m | \u001b[0m 0.01154 \u001b[0m | \u001b[0m-0.05072 \u001b[0m | \u001b[0m 4.998   \u001b[0m |\n",
      "| \u001b[0m 188     \u001b[0m | \u001b[0m-1.0     \u001b[0m | \u001b[0m 16.87   \u001b[0m | \u001b[0m-1.43    \u001b[0m | \u001b[0m-0.04533 \u001b[0m | \u001b[0m 0.07554 \u001b[0m | \u001b[0m-0.4187  \u001b[0m | \u001b[0m 42.65   \u001b[0m | \u001b[0m 26.47   \u001b[0m | \u001b[0m 37.79   \u001b[0m | \u001b[0m 15.61   \u001b[0m | \u001b[0m 0.09204 \u001b[0m | \u001b[0m-0.3704  \u001b[0m | \u001b[0m 0.4374  \u001b[0m | \u001b[0m 0.3511  \u001b[0m | \u001b[0m 5.342   \u001b[0m |\n",
      "| \u001b[0m 189     \u001b[0m | \u001b[0m-1.0     \u001b[0m | \u001b[0m 15.75   \u001b[0m | \u001b[0m-0.6481  \u001b[0m | \u001b[0m-1.866   \u001b[0m | \u001b[0m 0.3019  \u001b[0m | \u001b[0m-2.743   \u001b[0m | \u001b[0m 11.87   \u001b[0m | \u001b[0m 32.49   \u001b[0m | \u001b[0m 40.97   \u001b[0m | \u001b[0m 19.13   \u001b[0m | \u001b[0m 0.6239  \u001b[0m | \u001b[0m 0.3976  \u001b[0m | \u001b[0m-0.01319 \u001b[0m | \u001b[0m-0.4434  \u001b[0m | \u001b[0m 3.136   \u001b[0m |\n",
      "| \u001b[0m 190     \u001b[0m | \u001b[0m-1.0     \u001b[0m | \u001b[0m 13.76   \u001b[0m | \u001b[0m-1.442   \u001b[0m | \u001b[0m-1.445   \u001b[0m | \u001b[0m-1.459   \u001b[0m | \u001b[0m 0.41    \u001b[0m | \u001b[0m 28.37   \u001b[0m | \u001b[0m 46.77   \u001b[0m | \u001b[0m 39.74   \u001b[0m | \u001b[0m 9.7     \u001b[0m | \u001b[0m 0.03572 \u001b[0m | \u001b[0m 0.01473 \u001b[0m | \u001b[0m-0.08236 \u001b[0m | \u001b[0m 0.3394  \u001b[0m | \u001b[0m 2.396   \u001b[0m |\n",
      "| \u001b[0m 191     \u001b[0m | \u001b[0m-1.0     \u001b[0m | \u001b[0m 4.547   \u001b[0m | \u001b[0m-0.5825  \u001b[0m | \u001b[0m 0.01008 \u001b[0m | \u001b[0m-1.761   \u001b[0m | \u001b[0m-2.239   \u001b[0m | \u001b[0m 45.48   \u001b[0m | \u001b[0m 37.28   \u001b[0m | \u001b[0m 6.893   \u001b[0m | \u001b[0m 44.88   \u001b[0m | \u001b[0m-0.2333  \u001b[0m | \u001b[0m 0.9997  \u001b[0m | \u001b[0m 0.4778  \u001b[0m | \u001b[0m-0.7442  \u001b[0m | \u001b[0m 2.386   \u001b[0m |\n",
      "| \u001b[0m 192     \u001b[0m | \u001b[0m-1.0     \u001b[0m | \u001b[0m 9.349   \u001b[0m | \u001b[0m-0.8966  \u001b[0m | \u001b[0m 0.1603  \u001b[0m | \u001b[0m 0.8737  \u001b[0m | \u001b[0m 0.2745  \u001b[0m | \u001b[0m 35.86   \u001b[0m | \u001b[0m 22.49   \u001b[0m | \u001b[0m 20.11   \u001b[0m | \u001b[0m 35.04   \u001b[0m | \u001b[0m-0.5971  \u001b[0m | \u001b[0m 0.06677 \u001b[0m | \u001b[0m 0.0111  \u001b[0m | \u001b[0m-0.3111  \u001b[0m | \u001b[0m 4.476   \u001b[0m |\n",
      "| \u001b[0m 193     \u001b[0m | \u001b[0m 3.517   \u001b[0m | \u001b[0m 10.22   \u001b[0m | \u001b[0m-1.349   \u001b[0m | \u001b[0m-1.282   \u001b[0m | \u001b[0m-2.055   \u001b[0m | \u001b[0m-1.828   \u001b[0m | \u001b[0m 14.78   \u001b[0m | \u001b[0m 46.99   \u001b[0m | \u001b[0m 19.64   \u001b[0m | \u001b[0m 24.62   \u001b[0m | \u001b[0m 0.03389 \u001b[0m | \u001b[0m 0.7443  \u001b[0m | \u001b[0m 0.03837 \u001b[0m | \u001b[0m 0.8017  \u001b[0m | \u001b[0m 3.517   \u001b[0m |\n",
      "| \u001b[0m 194     \u001b[0m | \u001b[0m-1.0     \u001b[0m | \u001b[0m 15.54   \u001b[0m | \u001b[0m 0.6259  \u001b[0m | \u001b[0m-2.815   \u001b[0m | \u001b[0m-0.3868  \u001b[0m | \u001b[0m-2.149   \u001b[0m | \u001b[0m 23.92   \u001b[0m | \u001b[0m 43.34   \u001b[0m | \u001b[0m 19.46   \u001b[0m | \u001b[0m 8.837   \u001b[0m | \u001b[0m 0.3323  \u001b[0m | \u001b[0m-0.9021  \u001b[0m | \u001b[0m 0.5814  \u001b[0m | \u001b[0m 0.9841  \u001b[0m | \u001b[0m 4.176   \u001b[0m |\n",
      "| \u001b[0m 195     \u001b[0m | \u001b[0m-1.0     \u001b[0m | \u001b[0m 11.84   \u001b[0m | \u001b[0m-0.1791  \u001b[0m | \u001b[0m-1.77    \u001b[0m | \u001b[0m-1.451   \u001b[0m | \u001b[0m-1.762   \u001b[0m | \u001b[0m 14.99   \u001b[0m | \u001b[0m 1.498   \u001b[0m | \u001b[0m 13.83   \u001b[0m | \u001b[0m 36.99   \u001b[0m | \u001b[0m-0.3914  \u001b[0m | \u001b[0m-0.9018  \u001b[0m | \u001b[0m-0.7976  \u001b[0m | \u001b[0m 0.6219  \u001b[0m | \u001b[0m 5.435   \u001b[0m |\n",
      "| \u001b[0m 196     \u001b[0m | \u001b[0m-1.0     \u001b[0m | \u001b[0m 6.795   \u001b[0m | \u001b[0m 0.8575  \u001b[0m | \u001b[0m 0.7488  \u001b[0m | \u001b[0m-2.928   \u001b[0m | \u001b[0m-2.594   \u001b[0m | \u001b[0m 31.7    \u001b[0m | \u001b[0m 2.198   \u001b[0m | \u001b[0m 22.33   \u001b[0m | \u001b[0m 0.1186  \u001b[0m | \u001b[0m 0.3561  \u001b[0m | \u001b[0m 0.6374  \u001b[0m | \u001b[0m-0.5605  \u001b[0m | \u001b[0m-0.385   \u001b[0m | \u001b[0m 6.223   \u001b[0m |\n",
      "| \u001b[0m 197     \u001b[0m | \u001b[0m-1.0     \u001b[0m | \u001b[0m 18.89   \u001b[0m | \u001b[0m 0.2926  \u001b[0m | \u001b[0m 0.94    \u001b[0m | \u001b[0m-1.877   \u001b[0m | \u001b[0m-0.9358  \u001b[0m | \u001b[0m 16.2    \u001b[0m | \u001b[0m 13.61   \u001b[0m | \u001b[0m 47.81   \u001b[0m | \u001b[0m 6.054   \u001b[0m | \u001b[0m 0.1119  \u001b[0m | \u001b[0m 0.9347  \u001b[0m | \u001b[0m 0.7724  \u001b[0m | \u001b[0m 0.5852  \u001b[0m | \u001b[0m 7.447   \u001b[0m |\n",
      "| \u001b[0m 198     \u001b[0m | \u001b[0m-1.0     \u001b[0m | \u001b[0m 9.657   \u001b[0m | \u001b[0m-2.505   \u001b[0m | \u001b[0m-1.245   \u001b[0m | \u001b[0m-0.6303  \u001b[0m | \u001b[0m-0.388   \u001b[0m | \u001b[0m 32.43   \u001b[0m | \u001b[0m 42.28   \u001b[0m | \u001b[0m 28.13   \u001b[0m | \u001b[0m 31.69   \u001b[0m | \u001b[0m 0.02672 \u001b[0m | \u001b[0m 0.0421  \u001b[0m | \u001b[0m 0.6868  \u001b[0m | \u001b[0m 0.2267  \u001b[0m | \u001b[0m 7.52    \u001b[0m |\n",
      "| \u001b[0m 199     \u001b[0m | \u001b[0m-1.0     \u001b[0m | \u001b[0m 7.903   \u001b[0m | \u001b[0m 0.07011 \u001b[0m | \u001b[0m-2.868   \u001b[0m | \u001b[0m-0.5416  \u001b[0m | \u001b[0m-0.8417  \u001b[0m | \u001b[0m 40.23   \u001b[0m | \u001b[0m 21.11   \u001b[0m | \u001b[0m 1.554   \u001b[0m | \u001b[0m 1.135   \u001b[0m | \u001b[0m-0.5665  \u001b[0m | \u001b[0m 0.1615  \u001b[0m | \u001b[0m-0.2002  \u001b[0m | \u001b[0m 0.9399  \u001b[0m | \u001b[0m 4.18    \u001b[0m |\n",
      "| \u001b[0m 200     \u001b[0m | \u001b[0m 4.207   \u001b[0m | \u001b[0m 12.23   \u001b[0m | \u001b[0m-2.967   \u001b[0m | \u001b[0m-1.2     \u001b[0m | \u001b[0m-1.623   \u001b[0m | \u001b[0m 0.4127  \u001b[0m | \u001b[0m 37.9    \u001b[0m | \u001b[0m 1.633   \u001b[0m | \u001b[0m 12.57   \u001b[0m | \u001b[0m 41.79   \u001b[0m | \u001b[0m 0.2695  \u001b[0m | \u001b[0m 0.7358  \u001b[0m | \u001b[0m 0.8786  \u001b[0m | \u001b[0m 0.836   \u001b[0m | \u001b[0m 4.207   \u001b[0m |\n",
      "| \u001b[0m 201     \u001b[0m | \u001b[0m 4.145   \u001b[0m | \u001b[0m 14.12   \u001b[0m | \u001b[0m-1.745   \u001b[0m | \u001b[0m-1.28    \u001b[0m | \u001b[0m-2.854   \u001b[0m | \u001b[0m-2.625   \u001b[0m | \u001b[0m 15.68   \u001b[0m | \u001b[0m 44.04   \u001b[0m | \u001b[0m 12.19   \u001b[0m | \u001b[0m 0.7651  \u001b[0m | \u001b[0m-0.2561  \u001b[0m | \u001b[0m 0.08326 \u001b[0m | \u001b[0m-0.2334  \u001b[0m | \u001b[0m 0.06996 \u001b[0m | \u001b[0m 4.145   \u001b[0m |\n",
      "| \u001b[0m 202     \u001b[0m | \u001b[0m-1.0     \u001b[0m | \u001b[0m 2.347   \u001b[0m | \u001b[0m-0.2047  \u001b[0m | \u001b[0m-0.5261  \u001b[0m | \u001b[0m 0.1607  \u001b[0m | \u001b[0m-2.226   \u001b[0m | \u001b[0m 38.05   \u001b[0m | \u001b[0m 18.4    \u001b[0m | \u001b[0m 8.052   \u001b[0m | \u001b[0m 32.81   \u001b[0m | \u001b[0m-0.1132  \u001b[0m | \u001b[0m-0.9416  \u001b[0m | \u001b[0m 0.3416  \u001b[0m | \u001b[0m 0.8866  \u001b[0m | \u001b[0m 4.263   \u001b[0m |\n",
      "| \u001b[0m 203     \u001b[0m | \u001b[0m-1.0     \u001b[0m | \u001b[0m 7.914   \u001b[0m | \u001b[0m 0.5589  \u001b[0m | \u001b[0m-1.763   \u001b[0m | \u001b[0m-1.122   \u001b[0m | \u001b[0m 0.8536  \u001b[0m | \u001b[0m 16.79   \u001b[0m | \u001b[0m 35.41   \u001b[0m | \u001b[0m 46.09   \u001b[0m | \u001b[0m 27.72   \u001b[0m | \u001b[0m 0.6118  \u001b[0m | \u001b[0m 0.9062  \u001b[0m | \u001b[0m 0.8713  \u001b[0m | \u001b[0m 0.8388  \u001b[0m | \u001b[0m 7.076   \u001b[0m |\n",
      "| \u001b[0m 204     \u001b[0m | \u001b[0m-1.0     \u001b[0m | \u001b[0m 0.9774  \u001b[0m | \u001b[0m 0.606   \u001b[0m | \u001b[0m 0.5803  \u001b[0m | \u001b[0m-1.589   \u001b[0m | \u001b[0m 0.08343 \u001b[0m | \u001b[0m 16.67   \u001b[0m | \u001b[0m 49.91   \u001b[0m | \u001b[0m 7.954   \u001b[0m | \u001b[0m 39.02   \u001b[0m | \u001b[0m 0.5367  \u001b[0m | \u001b[0m 0.7917  \u001b[0m | \u001b[0m 0.9407  \u001b[0m | \u001b[0m-0.4723  \u001b[0m | \u001b[0m 4.448   \u001b[0m |\n",
      "| \u001b[0m 205     \u001b[0m | \u001b[0m-1.0     \u001b[0m | \u001b[0m 11.29   \u001b[0m | \u001b[0m-2.857   \u001b[0m | \u001b[0m-0.8418  \u001b[0m | \u001b[0m-1.658   \u001b[0m | \u001b[0m 0.6562  \u001b[0m | \u001b[0m 42.82   \u001b[0m | \u001b[0m 26.57   \u001b[0m | \u001b[0m 26.33   \u001b[0m | \u001b[0m 46.71   \u001b[0m | \u001b[0m 0.1313  \u001b[0m | \u001b[0m-0.894   \u001b[0m | \u001b[0m-0.3821  \u001b[0m | \u001b[0m 0.5215  \u001b[0m | \u001b[0m 5.316   \u001b[0m |\n",
      "| \u001b[0m 206     \u001b[0m | \u001b[0m-1.0     \u001b[0m | \u001b[0m 2.595   \u001b[0m | \u001b[0m 0.1212  \u001b[0m | \u001b[0m-2.475   \u001b[0m | \u001b[0m 0.9634  \u001b[0m | \u001b[0m-2.267   \u001b[0m | \u001b[0m 40.03   \u001b[0m | \u001b[0m 43.82   \u001b[0m | \u001b[0m 20.38   \u001b[0m | \u001b[0m 35.05   \u001b[0m | \u001b[0m 0.7678  \u001b[0m | \u001b[0m 0.4177  \u001b[0m | \u001b[0m-0.7997  \u001b[0m | \u001b[0m 0.2052  \u001b[0m | \u001b[0m 6.709   \u001b[0m |\n",
      "| \u001b[0m 207     \u001b[0m | \u001b[0m-1.0     \u001b[0m | \u001b[0m 1.606   \u001b[0m | \u001b[0m-2.385   \u001b[0m | \u001b[0m-0.2867  \u001b[0m | \u001b[0m-2.277   \u001b[0m | \u001b[0m-2.227   \u001b[0m | \u001b[0m 28.65   \u001b[0m | \u001b[0m 47.48   \u001b[0m | \u001b[0m 22.65   \u001b[0m | \u001b[0m 7.023   \u001b[0m | \u001b[0m-0.04157 \u001b[0m | \u001b[0m-0.09094 \u001b[0m | \u001b[0m-0.6746  \u001b[0m | \u001b[0m-0.721   \u001b[0m | \u001b[0m 6.78    \u001b[0m |\n",
      "| \u001b[0m 208     \u001b[0m | \u001b[0m 5.545   \u001b[0m | \u001b[0m 7.64    \u001b[0m | \u001b[0m-2.179   \u001b[0m | \u001b[0m 0.8363  \u001b[0m | \u001b[0m-1.8     \u001b[0m | \u001b[0m-0.7376  \u001b[0m | \u001b[0m 18.17   \u001b[0m | \u001b[0m 20.2    \u001b[0m | \u001b[0m 32.76   \u001b[0m | \u001b[0m 42.67   \u001b[0m | \u001b[0m 0.4506  \u001b[0m | \u001b[0m 0.6759  \u001b[0m | \u001b[0m 0.0317  \u001b[0m | \u001b[0m 0.9525  \u001b[0m | \u001b[0m 5.545   \u001b[0m |\n",
      "| \u001b[0m 209     \u001b[0m | \u001b[0m-1.0     \u001b[0m | \u001b[0m 12.38   \u001b[0m | \u001b[0m-2.266   \u001b[0m | \u001b[0m-2.168   \u001b[0m | \u001b[0m-1.493   \u001b[0m | \u001b[0m-1.067   \u001b[0m | \u001b[0m 36.68   \u001b[0m | \u001b[0m 33.25   \u001b[0m | \u001b[0m 2.397   \u001b[0m | \u001b[0m 22.5    \u001b[0m | \u001b[0m-0.9133  \u001b[0m | \u001b[0m 0.5336  \u001b[0m | \u001b[0m-0.4023  \u001b[0m | \u001b[0m 0.7636  \u001b[0m | \u001b[0m 7.74    \u001b[0m |\n",
      "| \u001b[0m 210     \u001b[0m | \u001b[0m-1.0     \u001b[0m | \u001b[0m 16.57   \u001b[0m | \u001b[0m-0.6669  \u001b[0m | \u001b[0m-0.755   \u001b[0m | \u001b[0m 0.5545  \u001b[0m | \u001b[0m-2.543   \u001b[0m | \u001b[0m 3.427   \u001b[0m | \u001b[0m 28.59   \u001b[0m | \u001b[0m 10.36   \u001b[0m | \u001b[0m 7.403   \u001b[0m | \u001b[0m 0.8592  \u001b[0m | \u001b[0m 0.1111  \u001b[0m | \u001b[0m 0.7408  \u001b[0m | \u001b[0m 0.5425  \u001b[0m | \u001b[0m 7.628   \u001b[0m |\n",
      "| \u001b[0m 211     \u001b[0m | \u001b[0m-1.0     \u001b[0m | \u001b[0m 14.11   \u001b[0m | \u001b[0m-2.878   \u001b[0m | \u001b[0m-1.459   \u001b[0m | \u001b[0m-1.975   \u001b[0m | \u001b[0m-2.329   \u001b[0m | \u001b[0m 3.185   \u001b[0m | \u001b[0m 11.81   \u001b[0m | \u001b[0m 45.27   \u001b[0m | \u001b[0m 12.15   \u001b[0m | \u001b[0m 0.09106 \u001b[0m | \u001b[0m-0.6469  \u001b[0m | \u001b[0m 0.4511  \u001b[0m | \u001b[0m-0.2395  \u001b[0m | \u001b[0m 6.75    \u001b[0m |\n",
      "| \u001b[0m 212     \u001b[0m | \u001b[0m 4.768   \u001b[0m | \u001b[0m 13.56   \u001b[0m | \u001b[0m-1.412   \u001b[0m | \u001b[0m-0.3513  \u001b[0m | \u001b[0m-2.013   \u001b[0m | \u001b[0m-2.175   \u001b[0m | \u001b[0m 49.78   \u001b[0m | \u001b[0m 16.7    \u001b[0m | \u001b[0m 34.74   \u001b[0m | \u001b[0m 15.27   \u001b[0m | \u001b[0m-0.09718 \u001b[0m | \u001b[0m 0.6944  \u001b[0m | \u001b[0m 0.2007  \u001b[0m | \u001b[0m 0.9313  \u001b[0m | \u001b[0m 4.768   \u001b[0m |\n",
      "| \u001b[0m 213     \u001b[0m | \u001b[0m-1.0     \u001b[0m | \u001b[0m 2.635   \u001b[0m | \u001b[0m-1.894   \u001b[0m | \u001b[0m-1.543   \u001b[0m | \u001b[0m 0.8934  \u001b[0m | \u001b[0m 0.5504  \u001b[0m | \u001b[0m 21.83   \u001b[0m | \u001b[0m 30.51   \u001b[0m | \u001b[0m 49.45   \u001b[0m | \u001b[0m 31.52   \u001b[0m | \u001b[0m-0.5817  \u001b[0m | \u001b[0m-0.2177  \u001b[0m | \u001b[0m-0.04741 \u001b[0m | \u001b[0m 0.03046 \u001b[0m | \u001b[0m 4.553   \u001b[0m |\n",
      "| \u001b[0m 214     \u001b[0m | \u001b[0m 3.999   \u001b[0m | \u001b[0m 12.45   \u001b[0m | \u001b[0m-2.125   \u001b[0m | \u001b[0m-0.1537  \u001b[0m | \u001b[0m 0.9369  \u001b[0m | \u001b[0m-2.695   \u001b[0m | \u001b[0m 5.114   \u001b[0m | \u001b[0m 40.69   \u001b[0m | \u001b[0m 10.82   \u001b[0m | \u001b[0m 39.6    \u001b[0m | \u001b[0m-0.5199  \u001b[0m | \u001b[0m 0.4182  \u001b[0m | \u001b[0m 0.5842  \u001b[0m | \u001b[0m-0.914   \u001b[0m | \u001b[0m 3.999   \u001b[0m |\n",
      "| \u001b[0m 215     \u001b[0m | \u001b[0m-1.0     \u001b[0m | \u001b[0m 4.038   \u001b[0m | \u001b[0m-2.567   \u001b[0m | \u001b[0m-2.381   \u001b[0m | \u001b[0m-0.6963  \u001b[0m | \u001b[0m-1.303   \u001b[0m | \u001b[0m 25.77   \u001b[0m | \u001b[0m 16.17   \u001b[0m | \u001b[0m 47.95   \u001b[0m | \u001b[0m 43.41   \u001b[0m | \u001b[0m-0.3963  \u001b[0m | \u001b[0m-0.3892  \u001b[0m | \u001b[0m 0.3242  \u001b[0m | \u001b[0m 0.2697  \u001b[0m | \u001b[0m 7.873   \u001b[0m |\n",
      "| \u001b[0m 216     \u001b[0m | \u001b[0m-1.0     \u001b[0m | \u001b[0m 3.196   \u001b[0m | \u001b[0m 0.3638  \u001b[0m | \u001b[0m-1.491   \u001b[0m | \u001b[0m-1.33    \u001b[0m | \u001b[0m-1.565   \u001b[0m | \u001b[0m 46.31   \u001b[0m | \u001b[0m 23.17   \u001b[0m | \u001b[0m 37.71   \u001b[0m | \u001b[0m 17.59   \u001b[0m | \u001b[0m 0.5223  \u001b[0m | \u001b[0m 0.553   \u001b[0m | \u001b[0m 0.0329  \u001b[0m | \u001b[0m 0.08801 \u001b[0m | \u001b[0m 5.323   \u001b[0m |\n",
      "| \u001b[0m 217     \u001b[0m | \u001b[0m 2.918   \u001b[0m | \u001b[0m 18.54   \u001b[0m | \u001b[0m 0.3946  \u001b[0m | \u001b[0m-2.061   \u001b[0m | \u001b[0m-2.916   \u001b[0m | \u001b[0m-2.773   \u001b[0m | \u001b[0m 45.53   \u001b[0m | \u001b[0m 16.03   \u001b[0m | \u001b[0m 19.56   \u001b[0m | \u001b[0m 41.63   \u001b[0m | \u001b[0m 0.5297  \u001b[0m | \u001b[0m 0.2351  \u001b[0m | \u001b[0m 0.31    \u001b[0m | \u001b[0m-0.8203  \u001b[0m | \u001b[0m 2.918   \u001b[0m |\n",
      "| \u001b[0m 218     \u001b[0m | \u001b[0m 2.778   \u001b[0m | \u001b[0m 8.457   \u001b[0m | \u001b[0m-2.428   \u001b[0m | \u001b[0m-0.6742  \u001b[0m | \u001b[0m-1.757   \u001b[0m | \u001b[0m-0.7547  \u001b[0m | \u001b[0m 33.83   \u001b[0m | \u001b[0m 21.55   \u001b[0m | \u001b[0m 13.38   \u001b[0m | \u001b[0m 21.91   \u001b[0m | \u001b[0m-0.2632  \u001b[0m | \u001b[0m 0.9868  \u001b[0m | \u001b[0m-0.596   \u001b[0m | \u001b[0m 0.9485  \u001b[0m | \u001b[0m 2.778   \u001b[0m |\n",
      "| \u001b[0m 219     \u001b[0m | \u001b[0m-1.0     \u001b[0m | \u001b[0m 4.272   \u001b[0m | \u001b[0m-2.736   \u001b[0m | \u001b[0m-1.93    \u001b[0m | \u001b[0m-2.003   \u001b[0m | \u001b[0m-1.635   \u001b[0m | \u001b[0m 38.32   \u001b[0m | \u001b[0m 25.17   \u001b[0m | \u001b[0m 47.07   \u001b[0m | \u001b[0m 25.81   \u001b[0m | \u001b[0m-0.9722  \u001b[0m | \u001b[0m-0.1167  \u001b[0m | \u001b[0m-0.1578  \u001b[0m | \u001b[0m 0.3358  \u001b[0m | \u001b[0m 5.859   \u001b[0m |\n",
      "| \u001b[0m 220     \u001b[0m | \u001b[0m-1.0     \u001b[0m | \u001b[0m 10.72   \u001b[0m | \u001b[0m-2.894   \u001b[0m | \u001b[0m-2.876   \u001b[0m | \u001b[0m-1.355   \u001b[0m | \u001b[0m-0.7888  \u001b[0m | \u001b[0m 4.309   \u001b[0m | \u001b[0m 3.163   \u001b[0m | \u001b[0m 3.478   \u001b[0m | \u001b[0m 47.74   \u001b[0m | \u001b[0m 0.7975  \u001b[0m | \u001b[0m 0.3508  \u001b[0m | \u001b[0m-0.3619  \u001b[0m | \u001b[0m-0.8548  \u001b[0m | \u001b[0m 6.455   \u001b[0m |\n",
      "| \u001b[0m 221     \u001b[0m | \u001b[0m-1.0     \u001b[0m | \u001b[0m 10.76   \u001b[0m | \u001b[0m-1.403   \u001b[0m | \u001b[0m-1.307   \u001b[0m | \u001b[0m-2.189   \u001b[0m | \u001b[0m-1.274   \u001b[0m | \u001b[0m 40.5    \u001b[0m | \u001b[0m 39.16   \u001b[0m | \u001b[0m 12.15   \u001b[0m | \u001b[0m 14.7    \u001b[0m | \u001b[0m 0.8332  \u001b[0m | \u001b[0m 0.6052  \u001b[0m | \u001b[0m 0.8173  \u001b[0m | \u001b[0m-0.6776  \u001b[0m | \u001b[0m 7.251   \u001b[0m |\n",
      "| \u001b[0m 222     \u001b[0m | \u001b[0m-1.0     \u001b[0m | \u001b[0m 3.774   \u001b[0m | \u001b[0m-0.811   \u001b[0m | \u001b[0m 0.107   \u001b[0m | \u001b[0m-0.1039  \u001b[0m | \u001b[0m-0.8986  \u001b[0m | \u001b[0m 46.51   \u001b[0m | \u001b[0m 13.69   \u001b[0m | \u001b[0m 33.73   \u001b[0m | \u001b[0m 31.24   \u001b[0m | \u001b[0m 0.9893  \u001b[0m | \u001b[0m-0.2236  \u001b[0m | \u001b[0m 0.2487  \u001b[0m | \u001b[0m-0.5651  \u001b[0m | \u001b[0m 6.674   \u001b[0m |\n",
      "| \u001b[0m 223     \u001b[0m | \u001b[0m-1.0     \u001b[0m | \u001b[0m 14.66   \u001b[0m | \u001b[0m-2.843   \u001b[0m | \u001b[0m-0.4559  \u001b[0m | \u001b[0m-2.631   \u001b[0m | \u001b[0m 0.5524  \u001b[0m | \u001b[0m 14.27   \u001b[0m | \u001b[0m 35.1    \u001b[0m | \u001b[0m 12.81   \u001b[0m | \u001b[0m 34.98   \u001b[0m | \u001b[0m-0.5569  \u001b[0m | \u001b[0m 0.9581  \u001b[0m | \u001b[0m-0.3121  \u001b[0m | \u001b[0m 0.05964 \u001b[0m | \u001b[0m 5.455   \u001b[0m |\n",
      "| \u001b[0m 224     \u001b[0m | \u001b[0m-1.0     \u001b[0m | \u001b[0m 8.285   \u001b[0m | \u001b[0m-0.4205  \u001b[0m | \u001b[0m-2.563   \u001b[0m | \u001b[0m 0.4232  \u001b[0m | \u001b[0m-2.656   \u001b[0m | \u001b[0m 14.98   \u001b[0m | \u001b[0m 34.64   \u001b[0m | \u001b[0m 4.757   \u001b[0m | \u001b[0m 47.11   \u001b[0m | \u001b[0m 0.6431  \u001b[0m | \u001b[0m-0.5568  \u001b[0m | \u001b[0m-0.9557  \u001b[0m | \u001b[0m-0.05069 \u001b[0m | \u001b[0m 5.904   \u001b[0m |\n",
      "| \u001b[0m 225     \u001b[0m | \u001b[0m-1.0     \u001b[0m | \u001b[0m 15.97   \u001b[0m | \u001b[0m-1.519   \u001b[0m | \u001b[0m-2.908   \u001b[0m | \u001b[0m-2.264   \u001b[0m | \u001b[0m-1.975   \u001b[0m | \u001b[0m 26.28   \u001b[0m | \u001b[0m 33.82   \u001b[0m | \u001b[0m 23.89   \u001b[0m | \u001b[0m 18.83   \u001b[0m | \u001b[0m-0.00262 \u001b[0m | \u001b[0m 0.78    \u001b[0m | \u001b[0m 0.0628  \u001b[0m | \u001b[0m-0.5564  \u001b[0m | \u001b[0m 7.207   \u001b[0m |\n",
      "| \u001b[0m 226     \u001b[0m | \u001b[0m-1.0     \u001b[0m | \u001b[0m 18.69   \u001b[0m | \u001b[0m 0.6572  \u001b[0m | \u001b[0m 0.1147  \u001b[0m | \u001b[0m-2.523   \u001b[0m | \u001b[0m 0.4663  \u001b[0m | \u001b[0m 4.277   \u001b[0m | \u001b[0m 4.167   \u001b[0m | \u001b[0m 7.672   \u001b[0m | \u001b[0m 23.97   \u001b[0m | \u001b[0m-0.9316  \u001b[0m | \u001b[0m 0.8235  \u001b[0m | \u001b[0m-0.525   \u001b[0m | \u001b[0m 0.9566  \u001b[0m | \u001b[0m 6.219   \u001b[0m |\n",
      "| \u001b[0m 227     \u001b[0m | \u001b[0m 3.77    \u001b[0m | \u001b[0m 11.45   \u001b[0m | \u001b[0m-0.4871  \u001b[0m | \u001b[0m-0.9791  \u001b[0m | \u001b[0m-2.402   \u001b[0m | \u001b[0m-1.869   \u001b[0m | \u001b[0m 49.59   \u001b[0m | \u001b[0m 19.5    \u001b[0m | \u001b[0m 39.86   \u001b[0m | \u001b[0m 29.0    \u001b[0m | \u001b[0m-0.4449  \u001b[0m | \u001b[0m 0.6384  \u001b[0m | \u001b[0m-0.1932  \u001b[0m | \u001b[0m-0.8124  \u001b[0m | \u001b[0m 3.77    \u001b[0m |\n",
      "| \u001b[0m 228     \u001b[0m | \u001b[0m-1.0     \u001b[0m | \u001b[0m 9.922   \u001b[0m | \u001b[0m-2.24    \u001b[0m | \u001b[0m 0.07828 \u001b[0m | \u001b[0m-2.337   \u001b[0m | \u001b[0m-2.879   \u001b[0m | \u001b[0m 29.85   \u001b[0m | \u001b[0m 7.711   \u001b[0m | \u001b[0m 45.8    \u001b[0m | \u001b[0m 43.51   \u001b[0m | \u001b[0m 0.3203  \u001b[0m | \u001b[0m-0.757   \u001b[0m | \u001b[0m-0.2724  \u001b[0m | \u001b[0m 0.6863  \u001b[0m | \u001b[0m 6.462   \u001b[0m |\n",
      "| \u001b[0m 229     \u001b[0m | \u001b[0m-1.0     \u001b[0m | \u001b[0m 17.53   \u001b[0m | \u001b[0m 0.313   \u001b[0m | \u001b[0m 0.4989  \u001b[0m | \u001b[0m-1.369   \u001b[0m | \u001b[0m-2.518   \u001b[0m | \u001b[0m 46.3    \u001b[0m | \u001b[0m 26.75   \u001b[0m | \u001b[0m 17.76   \u001b[0m | \u001b[0m 32.18   \u001b[0m | \u001b[0m 0.5585  \u001b[0m | \u001b[0m 0.375   \u001b[0m | \u001b[0m-0.613   \u001b[0m | \u001b[0m 0.7895  \u001b[0m | \u001b[0m 3.318   \u001b[0m |\n",
      "| \u001b[0m 230     \u001b[0m | \u001b[0m-1.0     \u001b[0m | \u001b[0m 19.08   \u001b[0m | \u001b[0m-2.215   \u001b[0m | \u001b[0m-2.655   \u001b[0m | \u001b[0m-2.232   \u001b[0m | \u001b[0m-2.479   \u001b[0m | \u001b[0m 31.31   \u001b[0m | \u001b[0m 10.83   \u001b[0m | \u001b[0m 31.5    \u001b[0m | \u001b[0m 26.54   \u001b[0m | \u001b[0m 0.3957  \u001b[0m | \u001b[0m 0.21    \u001b[0m | \u001b[0m 0.5482  \u001b[0m | \u001b[0m-0.8603  \u001b[0m | \u001b[0m 7.848   \u001b[0m |\n",
      "| \u001b[0m 231     \u001b[0m | \u001b[0m-1.0     \u001b[0m | \u001b[0m 9.24    \u001b[0m | \u001b[0m-2.607   \u001b[0m | \u001b[0m 0.126   \u001b[0m | \u001b[0m 0.3672  \u001b[0m | \u001b[0m-1.486   \u001b[0m | \u001b[0m 2.175   \u001b[0m | \u001b[0m 0.4154  \u001b[0m | \u001b[0m 13.21   \u001b[0m | \u001b[0m 31.19   \u001b[0m | \u001b[0m 0.05194 \u001b[0m | \u001b[0m-0.7875  \u001b[0m | \u001b[0m 0.3936  \u001b[0m | \u001b[0m-0.2771  \u001b[0m | \u001b[0m 3.28    \u001b[0m |\n",
      "| \u001b[0m 232     \u001b[0m | \u001b[0m-1.0     \u001b[0m | \u001b[0m 1.017   \u001b[0m | \u001b[0m 0.8054  \u001b[0m | \u001b[0m-0.2143  \u001b[0m | \u001b[0m-2.784   \u001b[0m | \u001b[0m-2.811   \u001b[0m | \u001b[0m 10.24   \u001b[0m | \u001b[0m 28.53   \u001b[0m | \u001b[0m 47.73   \u001b[0m | \u001b[0m 35.44   \u001b[0m | \u001b[0m-0.7687  \u001b[0m | \u001b[0m-0.03086 \u001b[0m | \u001b[0m 0.03481 \u001b[0m | \u001b[0m 0.09728 \u001b[0m | \u001b[0m 5.487   \u001b[0m |\n",
      "| \u001b[0m 233     \u001b[0m | \u001b[0m-1.0     \u001b[0m | \u001b[0m 3.694   \u001b[0m | \u001b[0m 0.4123  \u001b[0m | \u001b[0m 0.2028  \u001b[0m | \u001b[0m-2.851   \u001b[0m | \u001b[0m-1.207   \u001b[0m | \u001b[0m 7.079   \u001b[0m | \u001b[0m 31.75   \u001b[0m | \u001b[0m 19.23   \u001b[0m | \u001b[0m 23.45   \u001b[0m | \u001b[0m-0.2732  \u001b[0m | \u001b[0m 0.665   \u001b[0m | \u001b[0m-0.2484  \u001b[0m | \u001b[0m-0.5856  \u001b[0m | \u001b[0m 2.604   \u001b[0m |\n",
      "| \u001b[0m 234     \u001b[0m | \u001b[0m-1.0     \u001b[0m | \u001b[0m 17.15   \u001b[0m | \u001b[0m-1.401   \u001b[0m | \u001b[0m 0.7039  \u001b[0m | \u001b[0m-1.016   \u001b[0m | \u001b[0m-2.965   \u001b[0m | \u001b[0m 41.63   \u001b[0m | \u001b[0m 47.67   \u001b[0m | \u001b[0m 1.943   \u001b[0m | \u001b[0m 17.52   \u001b[0m | \u001b[0m-0.4041  \u001b[0m | \u001b[0m-0.2944  \u001b[0m | \u001b[0m-0.3636  \u001b[0m | \u001b[0m 0.5341  \u001b[0m | \u001b[0m 6.626   \u001b[0m |\n",
      "| \u001b[0m 235     \u001b[0m | \u001b[0m-1.0     \u001b[0m | \u001b[0m 11.45   \u001b[0m | \u001b[0m-2.924   \u001b[0m | \u001b[0m-1.478   \u001b[0m | \u001b[0m-2.108   \u001b[0m | \u001b[0m-1.641   \u001b[0m | \u001b[0m 8.746   \u001b[0m | \u001b[0m 5.195   \u001b[0m | \u001b[0m 27.11   \u001b[0m | \u001b[0m 10.86   \u001b[0m | \u001b[0m 0.06304 \u001b[0m | \u001b[0m-0.09937 \u001b[0m | \u001b[0m-0.646   \u001b[0m | \u001b[0m 0.5422  \u001b[0m | \u001b[0m 4.283   \u001b[0m |\n",
      "| \u001b[0m 236     \u001b[0m | \u001b[0m-1.0     \u001b[0m | \u001b[0m 6.511   \u001b[0m | \u001b[0m-1.895   \u001b[0m | \u001b[0m-0.1512  \u001b[0m | \u001b[0m-0.12    \u001b[0m | \u001b[0m-0.7306  \u001b[0m | \u001b[0m 7.702   \u001b[0m | \u001b[0m 1.249   \u001b[0m | \u001b[0m 20.65   \u001b[0m | \u001b[0m 12.53   \u001b[0m | \u001b[0m-0.4874  \u001b[0m | \u001b[0m-0.8669  \u001b[0m | \u001b[0m 0.7991  \u001b[0m | \u001b[0m-0.3947  \u001b[0m | \u001b[0m 7.869   \u001b[0m |\n",
      "| \u001b[0m 237     \u001b[0m | \u001b[0m 3.442   \u001b[0m | \u001b[0m 19.83   \u001b[0m | \u001b[0m-2.047   \u001b[0m | \u001b[0m-0.1676  \u001b[0m | \u001b[0m-2.311   \u001b[0m | \u001b[0m-1.62    \u001b[0m | \u001b[0m 33.38   \u001b[0m | \u001b[0m 14.87   \u001b[0m | \u001b[0m 30.61   \u001b[0m | \u001b[0m 5.082   \u001b[0m | \u001b[0m-0.4307  \u001b[0m | \u001b[0m-0.2465  \u001b[0m | \u001b[0m-0.8508  \u001b[0m | \u001b[0m-0.04341 \u001b[0m | \u001b[0m 3.442   \u001b[0m |\n",
      "| \u001b[0m 238     \u001b[0m | \u001b[0m-1.0     \u001b[0m | \u001b[0m 14.28   \u001b[0m | \u001b[0m-0.6756  \u001b[0m | \u001b[0m-0.8291  \u001b[0m | \u001b[0m-1.373   \u001b[0m | \u001b[0m-2.203   \u001b[0m | \u001b[0m 2.091   \u001b[0m | \u001b[0m 29.59   \u001b[0m | \u001b[0m 19.05   \u001b[0m | \u001b[0m 24.47   \u001b[0m | \u001b[0m 0.5234  \u001b[0m | \u001b[0m 0.9204  \u001b[0m | \u001b[0m-0.2697  \u001b[0m | \u001b[0m-0.5378  \u001b[0m | \u001b[0m 3.489   \u001b[0m |\n",
      "| \u001b[0m 239     \u001b[0m | \u001b[0m-1.0     \u001b[0m | \u001b[0m 19.36   \u001b[0m | \u001b[0m 0.4112  \u001b[0m | \u001b[0m-0.8848  \u001b[0m | \u001b[0m-2.208   \u001b[0m | \u001b[0m-1.078   \u001b[0m | \u001b[0m 23.96   \u001b[0m | \u001b[0m 22.15   \u001b[0m | \u001b[0m 13.87   \u001b[0m | \u001b[0m 29.84   \u001b[0m | \u001b[0m 0.3613  \u001b[0m | \u001b[0m 0.34    \u001b[0m | \u001b[0m 0.6091  \u001b[0m | \u001b[0m 0.1859  \u001b[0m | \u001b[0m 4.707   \u001b[0m |\n",
      "| \u001b[0m 240     \u001b[0m | \u001b[0m-1.0     \u001b[0m | \u001b[0m 9.594   \u001b[0m | \u001b[0m-2.891   \u001b[0m | \u001b[0m-0.8483  \u001b[0m | \u001b[0m-1.405   \u001b[0m | \u001b[0m 0.6016  \u001b[0m | \u001b[0m 10.61   \u001b[0m | \u001b[0m 32.77   \u001b[0m | \u001b[0m 30.0    \u001b[0m | \u001b[0m 13.1    \u001b[0m | \u001b[0m 0.6611  \u001b[0m | \u001b[0m 0.3098  \u001b[0m | \u001b[0m-0.4069  \u001b[0m | \u001b[0m 0.9993  \u001b[0m | \u001b[0m 5.894   \u001b[0m |\n",
      "| \u001b[0m 241     \u001b[0m | \u001b[0m-1.0     \u001b[0m | \u001b[0m 4.937   \u001b[0m | \u001b[0m-1.684   \u001b[0m | \u001b[0m-0.0754  \u001b[0m | \u001b[0m 0.7827  \u001b[0m | \u001b[0m 0.526   \u001b[0m | \u001b[0m 49.0    \u001b[0m | \u001b[0m 30.31   \u001b[0m | \u001b[0m 13.95   \u001b[0m | \u001b[0m 0.6431  \u001b[0m | \u001b[0m 0.2161  \u001b[0m | \u001b[0m-0.6747  \u001b[0m | \u001b[0m-0.7331  \u001b[0m | \u001b[0m 0.2162  \u001b[0m | \u001b[0m 7.704   \u001b[0m |\n",
      "| \u001b[0m 242     \u001b[0m | \u001b[0m 2.679   \u001b[0m | \u001b[0m 1.71    \u001b[0m | \u001b[0m-2.106   \u001b[0m | \u001b[0m-2.826   \u001b[0m | \u001b[0m-0.9135  \u001b[0m | \u001b[0m-2.806   \u001b[0m | \u001b[0m 15.77   \u001b[0m | \u001b[0m 45.03   \u001b[0m | \u001b[0m 44.08   \u001b[0m | \u001b[0m 16.98   \u001b[0m | \u001b[0m-0.8602  \u001b[0m | \u001b[0m-0.486   \u001b[0m | \u001b[0m 0.1403  \u001b[0m | \u001b[0m 0.6951  \u001b[0m | \u001b[0m 2.679   \u001b[0m |\n",
      "| \u001b[0m 243     \u001b[0m | \u001b[0m 2.686   \u001b[0m | \u001b[0m 0.6101  \u001b[0m | \u001b[0m-0.4372  \u001b[0m | \u001b[0m-0.3499  \u001b[0m | \u001b[0m-0.2805  \u001b[0m | \u001b[0m-2.569   \u001b[0m | \u001b[0m 39.19   \u001b[0m | \u001b[0m 16.39   \u001b[0m | \u001b[0m 13.5    \u001b[0m | \u001b[0m 16.48   \u001b[0m | \u001b[0m 0.8596  \u001b[0m | \u001b[0m-0.6243  \u001b[0m | \u001b[0m 0.2611  \u001b[0m | \u001b[0m-0.08035 \u001b[0m | \u001b[0m 2.686   \u001b[0m |\n",
      "| \u001b[0m 244     \u001b[0m | \u001b[0m-1.0     \u001b[0m | \u001b[0m 19.99   \u001b[0m | \u001b[0m 0.5718  \u001b[0m | \u001b[0m 0.9768  \u001b[0m | \u001b[0m-1.232   \u001b[0m | \u001b[0m-2.341   \u001b[0m | \u001b[0m 6.874   \u001b[0m | \u001b[0m 18.2    \u001b[0m | \u001b[0m 12.65   \u001b[0m | \u001b[0m 42.92   \u001b[0m | \u001b[0m 0.1605  \u001b[0m | \u001b[0m-0.5967  \u001b[0m | \u001b[0m 0.631   \u001b[0m | \u001b[0m 0.1744  \u001b[0m | \u001b[0m 3.111   \u001b[0m |\n",
      "| \u001b[0m 245     \u001b[0m | \u001b[0m-1.0     \u001b[0m | \u001b[0m 13.48   \u001b[0m | \u001b[0m 0.9421  \u001b[0m | \u001b[0m-2.051   \u001b[0m | \u001b[0m-1.804   \u001b[0m | \u001b[0m 0.2612  \u001b[0m | \u001b[0m 18.0    \u001b[0m | \u001b[0m 26.08   \u001b[0m | \u001b[0m 17.65   \u001b[0m | \u001b[0m 34.76   \u001b[0m | \u001b[0m 0.7841  \u001b[0m | \u001b[0m-0.7982  \u001b[0m | \u001b[0m-0.7305  \u001b[0m | \u001b[0m 0.06619 \u001b[0m | \u001b[0m 5.695   \u001b[0m |\n",
      "| \u001b[0m 246     \u001b[0m | \u001b[0m-1.0     \u001b[0m | \u001b[0m 2.645   \u001b[0m | \u001b[0m 0.189   \u001b[0m | \u001b[0m 0.9131  \u001b[0m | \u001b[0m 0.1846  \u001b[0m | \u001b[0m-1.194   \u001b[0m | \u001b[0m 2.683   \u001b[0m | \u001b[0m 19.58   \u001b[0m | \u001b[0m 24.16   \u001b[0m | \u001b[0m 49.98   \u001b[0m | \u001b[0m 0.9408  \u001b[0m | \u001b[0m-0.02351 \u001b[0m | \u001b[0m-0.7325  \u001b[0m | \u001b[0m-0.03785 \u001b[0m | \u001b[0m 6.921   \u001b[0m |\n",
      "| \u001b[0m 247     \u001b[0m | \u001b[0m-1.0     \u001b[0m | \u001b[0m 1.151   \u001b[0m | \u001b[0m-0.247   \u001b[0m | \u001b[0m-0.7594  \u001b[0m | \u001b[0m-1.252   \u001b[0m | \u001b[0m-2.123   \u001b[0m | \u001b[0m 38.83   \u001b[0m | \u001b[0m 15.67   \u001b[0m | \u001b[0m 12.31   \u001b[0m | \u001b[0m 15.53   \u001b[0m | \u001b[0m-0.8661  \u001b[0m | \u001b[0m-0.09489 \u001b[0m | \u001b[0m-0.007043\u001b[0m | \u001b[0m-0.2422  \u001b[0m | \u001b[0m 4.161   \u001b[0m |\n",
      "| \u001b[0m 248     \u001b[0m | \u001b[0m-1.0     \u001b[0m | \u001b[0m 9.295   \u001b[0m | \u001b[0m-1.402   \u001b[0m | \u001b[0m-0.1284  \u001b[0m | \u001b[0m 0.7739  \u001b[0m | \u001b[0m-0.1421  \u001b[0m | \u001b[0m 49.09   \u001b[0m | \u001b[0m 2.959   \u001b[0m | \u001b[0m 21.09   \u001b[0m | \u001b[0m 17.38   \u001b[0m | \u001b[0m-0.2852  \u001b[0m | \u001b[0m 0.6796  \u001b[0m | \u001b[0m 0.6756  \u001b[0m | \u001b[0m 0.3298  \u001b[0m | \u001b[0m 2.035   \u001b[0m |\n",
      "| \u001b[0m 249     \u001b[0m | \u001b[0m-1.0     \u001b[0m | \u001b[0m 1.191   \u001b[0m | \u001b[0m 0.2246  \u001b[0m | \u001b[0m 0.7036  \u001b[0m | \u001b[0m-1.358   \u001b[0m | \u001b[0m 0.6678  \u001b[0m | \u001b[0m 33.6    \u001b[0m | \u001b[0m 27.76   \u001b[0m | \u001b[0m 3.558   \u001b[0m | \u001b[0m 12.74   \u001b[0m | \u001b[0m 0.989   \u001b[0m | \u001b[0m 0.8257  \u001b[0m | \u001b[0m 0.5999  \u001b[0m | \u001b[0m-0.4193  \u001b[0m | \u001b[0m 4.417   \u001b[0m |\n",
      "| \u001b[0m 250     \u001b[0m | \u001b[0m-1.0     \u001b[0m | \u001b[0m 15.81   \u001b[0m | \u001b[0m 0.7278  \u001b[0m | \u001b[0m 0.2086  \u001b[0m | \u001b[0m-1.422   \u001b[0m | \u001b[0m-1.495   \u001b[0m | \u001b[0m 15.34   \u001b[0m | \u001b[0m 17.99   \u001b[0m | \u001b[0m 12.24   \u001b[0m | \u001b[0m 24.62   \u001b[0m | \u001b[0m-0.07046 \u001b[0m | \u001b[0m-0.564   \u001b[0m | \u001b[0m-0.5149  \u001b[0m | \u001b[0m-0.2532  \u001b[0m | \u001b[0m 5.139   \u001b[0m |\n",
      "| \u001b[0m 251     \u001b[0m | \u001b[0m-1.0     \u001b[0m | \u001b[0m 8.731   \u001b[0m | \u001b[0m-0.611   \u001b[0m | \u001b[0m-2.125   \u001b[0m | \u001b[0m 0.7282  \u001b[0m | \u001b[0m-1.848   \u001b[0m | \u001b[0m 1.949   \u001b[0m | \u001b[0m 7.741   \u001b[0m | \u001b[0m 23.76   \u001b[0m | \u001b[0m 13.18   \u001b[0m | \u001b[0m-0.5018  \u001b[0m | \u001b[0m-0.7705  \u001b[0m | \u001b[0m 0.3916  \u001b[0m | \u001b[0m-0.8525  \u001b[0m | \u001b[0m 4.263   \u001b[0m |\n",
      "| \u001b[0m 252     \u001b[0m | \u001b[0m-1.0     \u001b[0m | \u001b[0m 8.444   \u001b[0m | \u001b[0m-1.321   \u001b[0m | \u001b[0m-0.6372  \u001b[0m | \u001b[0m-2.086   \u001b[0m | \u001b[0m-2.416   \u001b[0m | \u001b[0m 14.24   \u001b[0m | \u001b[0m 32.11   \u001b[0m | \u001b[0m 43.54   \u001b[0m | \u001b[0m 3.474   \u001b[0m | \u001b[0m-0.8536  \u001b[0m | \u001b[0m 0.5348  \u001b[0m | \u001b[0m 0.412   \u001b[0m | \u001b[0m-0.4588  \u001b[0m | \u001b[0m 5.031   \u001b[0m |\n",
      "| \u001b[0m 253     \u001b[0m | \u001b[0m-1.0     \u001b[0m | \u001b[0m 1.531   \u001b[0m | \u001b[0m-0.5271  \u001b[0m | \u001b[0m-2.457   \u001b[0m | \u001b[0m-0.9557  \u001b[0m | \u001b[0m-2.488   \u001b[0m | \u001b[0m 32.29   \u001b[0m | \u001b[0m 10.08   \u001b[0m | \u001b[0m 1.151   \u001b[0m | \u001b[0m 46.68   \u001b[0m | \u001b[0m 0.1955  \u001b[0m | \u001b[0m-0.8398  \u001b[0m | \u001b[0m 0.2097  \u001b[0m | \u001b[0m 0.3777  \u001b[0m | \u001b[0m 5.258   \u001b[0m |\n",
      "| \u001b[0m 254     \u001b[0m | \u001b[0m-1.0     \u001b[0m | \u001b[0m 19.45   \u001b[0m | \u001b[0m-2.113   \u001b[0m | \u001b[0m-2.284   \u001b[0m | \u001b[0m 0.1772  \u001b[0m | \u001b[0m 0.9722  \u001b[0m | \u001b[0m 30.47   \u001b[0m | \u001b[0m 37.53   \u001b[0m | \u001b[0m 19.86   \u001b[0m | \u001b[0m 9.403   \u001b[0m | \u001b[0m-0.3766  \u001b[0m | \u001b[0m 0.8113  \u001b[0m | \u001b[0m-0.3774  \u001b[0m | \u001b[0m 0.2042  \u001b[0m | \u001b[0m 5.605   \u001b[0m |\n",
      "| \u001b[0m 255     \u001b[0m | \u001b[0m-1.0     \u001b[0m | \u001b[0m 11.68   \u001b[0m | \u001b[0m-1.059   \u001b[0m | \u001b[0m 0.6622  \u001b[0m | \u001b[0m-1.111   \u001b[0m | \u001b[0m-2.532   \u001b[0m | \u001b[0m 7.72    \u001b[0m | \u001b[0m 22.26   \u001b[0m | \u001b[0m 8.234   \u001b[0m | \u001b[0m 26.76   \u001b[0m | \u001b[0m-0.8141  \u001b[0m | \u001b[0m-0.8626  \u001b[0m | \u001b[0m-0.8602  \u001b[0m | \u001b[0m 0.2486  \u001b[0m | \u001b[0m 2.219   \u001b[0m |\n",
      "| \u001b[0m 256     \u001b[0m | \u001b[0m-1.0     \u001b[0m | \u001b[0m 8.157   \u001b[0m | \u001b[0m-2.343   \u001b[0m | \u001b[0m-2.123   \u001b[0m | \u001b[0m-0.5769  \u001b[0m | \u001b[0m 0.561   \u001b[0m | \u001b[0m 20.4    \u001b[0m | \u001b[0m 11.93   \u001b[0m | \u001b[0m 43.04   \u001b[0m | \u001b[0m 8.882   \u001b[0m | \u001b[0m-0.2939  \u001b[0m | \u001b[0m-0.7506  \u001b[0m | \u001b[0m 0.8014  \u001b[0m | \u001b[0m 0.8041  \u001b[0m | \u001b[0m 5.716   \u001b[0m |\n",
      "| \u001b[0m 257     \u001b[0m | \u001b[0m-1.0     \u001b[0m | \u001b[0m 11.28   \u001b[0m | \u001b[0m-2.365   \u001b[0m | \u001b[0m-0.07491 \u001b[0m | \u001b[0m 0.2163  \u001b[0m | \u001b[0m-0.8907  \u001b[0m | \u001b[0m 4.57    \u001b[0m | \u001b[0m 14.86   \u001b[0m | \u001b[0m 35.03   \u001b[0m | \u001b[0m 37.74   \u001b[0m | \u001b[0m-0.5258  \u001b[0m | \u001b[0m 0.4828  \u001b[0m | \u001b[0m 0.7959  \u001b[0m | \u001b[0m 0.9127  \u001b[0m | \u001b[0m 2.354   \u001b[0m |\n",
      "| \u001b[0m 258     \u001b[0m | \u001b[0m-1.0     \u001b[0m | \u001b[0m 7.501   \u001b[0m | \u001b[0m-0.3067  \u001b[0m | \u001b[0m-2.584   \u001b[0m | \u001b[0m 0.9708  \u001b[0m | \u001b[0m-0.09152 \u001b[0m | \u001b[0m 10.12   \u001b[0m | \u001b[0m 10.39   \u001b[0m | \u001b[0m 27.8    \u001b[0m | \u001b[0m 49.54   \u001b[0m | \u001b[0m-0.2851  \u001b[0m | \u001b[0m 0.9402  \u001b[0m | \u001b[0m 0.8971  \u001b[0m | \u001b[0m-0.06373 \u001b[0m | \u001b[0m 6.74    \u001b[0m |\n",
      "| \u001b[0m 259     \u001b[0m | \u001b[0m-1.0     \u001b[0m | \u001b[0m 1.107   \u001b[0m | \u001b[0m-2.213   \u001b[0m | \u001b[0m-2.797   \u001b[0m | \u001b[0m-2.69    \u001b[0m | \u001b[0m 0.7961  \u001b[0m | \u001b[0m 36.34   \u001b[0m | \u001b[0m 22.49   \u001b[0m | \u001b[0m 3.168   \u001b[0m | \u001b[0m 33.66   \u001b[0m | \u001b[0m 0.3521  \u001b[0m | \u001b[0m 0.9411  \u001b[0m | \u001b[0m 0.2937  \u001b[0m | \u001b[0m 0.1175  \u001b[0m | \u001b[0m 4.506   \u001b[0m |\n",
      "| \u001b[0m 260     \u001b[0m | \u001b[0m 2.139   \u001b[0m | \u001b[0m 14.06   \u001b[0m | \u001b[0m 0.1362  \u001b[0m | \u001b[0m-0.7981  \u001b[0m | \u001b[0m 0.687   \u001b[0m | \u001b[0m-2.064   \u001b[0m | \u001b[0m 27.49   \u001b[0m | \u001b[0m 35.31   \u001b[0m | \u001b[0m 27.81   \u001b[0m | \u001b[0m 7.491   \u001b[0m | \u001b[0m-0.4067  \u001b[0m | \u001b[0m-0.4775  \u001b[0m | \u001b[0m-0.2341  \u001b[0m | \u001b[0m 0.9738  \u001b[0m | \u001b[0m 2.139   \u001b[0m |\n",
      "| \u001b[0m 261     \u001b[0m | \u001b[0m 3.611   \u001b[0m | \u001b[0m 11.13   \u001b[0m | \u001b[0m-0.6939  \u001b[0m | \u001b[0m-1.303   \u001b[0m | \u001b[0m-2.59    \u001b[0m | \u001b[0m-1.926   \u001b[0m | \u001b[0m 34.21   \u001b[0m | \u001b[0m 39.48   \u001b[0m | \u001b[0m 29.71   \u001b[0m | \u001b[0m 14.28   \u001b[0m | \u001b[0m-0.8396  \u001b[0m | \u001b[0m-0.3252  \u001b[0m | \u001b[0m-0.3373  \u001b[0m | \u001b[0m-0.4708  \u001b[0m | \u001b[0m 3.611   \u001b[0m |\n",
      "| \u001b[0m 262     \u001b[0m | \u001b[0m-1.0     \u001b[0m | \u001b[0m 7.953   \u001b[0m | \u001b[0m-2.616   \u001b[0m | \u001b[0m-0.2995  \u001b[0m | \u001b[0m-1.441   \u001b[0m | \u001b[0m-1.919   \u001b[0m | \u001b[0m 18.54   \u001b[0m | \u001b[0m 41.98   \u001b[0m | \u001b[0m 29.32   \u001b[0m | \u001b[0m 22.44   \u001b[0m | \u001b[0m 0.07323 \u001b[0m | \u001b[0m 0.7435  \u001b[0m | \u001b[0m-0.2613  \u001b[0m | \u001b[0m 0.6048  \u001b[0m | \u001b[0m 5.989   \u001b[0m |\n",
      "=================================================================================================================================================================================================\n",
      "3938.6205792427063\n"
     ]
    }
   ],
   "source": [
    "start = time.time()\n",
    "optimizer.maximize(\n",
    "    init_points=30,\n",
    "    n_iter=100,)\n",
    "print(time.time()-start)"
   ]
  },
  {
   "cell_type": "code",
   "execution_count": null,
   "id": "rough-despite",
   "metadata": {},
   "outputs": [],
   "source": [
    "import pprint"
   ]
  },
  {
   "cell_type": "code",
   "execution_count": null,
   "id": "veterinary-remainder",
   "metadata": {},
   "outputs": [],
   "source": [
    "pprint.pprint(optimizer.max)"
   ]
  },
  {
   "cell_type": "code",
   "execution_count": null,
   "id": "5f098733-deef-4727-8a8b-4c8956be8511",
   "metadata": {},
   "outputs": [],
   "source": [
    "optimizer.res[0]"
   ]
  },
  {
   "cell_type": "code",
   "execution_count": 17,
   "id": "compressed-forward",
   "metadata": {},
   "outputs": [],
   "source": [
    "# vc_bayesian(**optimizer.max['params'])"
   ]
  },
  {
   "cell_type": "code",
   "execution_count": 18,
   "id": "241678ba-ebf1-4cab-8ed8-ea7190a8f460",
   "metadata": {},
   "outputs": [],
   "source": [
    "def ploting_function(v0s,I, d1,d2,d3,d4,p1,p2,p3,p4,pol1,pol2,pol3,pol4):\n",
    "    def Coil_field(I,R:np.array):\n",
    "        n = 510\n",
    "        s = 0.1016 # in meter\n",
    "        rad = 0.071976 # in meter\n",
    "        def dBx(theta,L):\n",
    "            dl = np.array([-rad*np.sin(theta),rad*np.cos(theta),0])\n",
    "            rprime = R*x0 - np.array([0,0,L])+np.array([rad*np.cos(theta),rad*np.sin(theta),0])\n",
    "            dB = cts.mu_0/(4*np.pi)*np.cross(dl,rprime)/((np.sum(rprime**2))**(3/2))*I\n",
    "            # print(dl,rprime,dB)\n",
    "            return dB[0]\n",
    "        def dBy(theta,L):\n",
    "            dl = np.array([-rad*np.sin(theta),rad*np.cos(theta),0])\n",
    "            rprime = R*x0 - np.array([0,0,L])+np.array([rad*np.cos(theta),rad*np.sin(theta),0])\n",
    "            dB = cts.mu_0/(4*np.pi)*np.cross(dl,rprime)/((np.sum(rprime**2))**(3/2))*I\n",
    "            return dB[1]\n",
    "\n",
    "        def dBz(theta,L):\n",
    "            dl = np.array([-rad*np.sin(theta),rad*np.cos(theta),0])\n",
    "            rprime = R*x0 - np.array([0,0,L])+np.array([rad*np.cos(theta),rad*np.sin(theta),0])\n",
    "            dB = cts.mu_0/(4*np.pi)*np.cross(dl,rprime)/((np.sum(rprime**2))**(3/2))*I\n",
    "            return dB[2]\n",
    "\n",
    "\n",
    "        Bx = integrate.quad(dBx,0,2*np.pi,args=(-s))[0]-integrate.quad(dBx,0,2*np.pi,args=(s))[0]\n",
    "        By = integrate.quad(dBy,0,2*np.pi,args=(-s))[0]-integrate.quad(dBy,0,2*np.pi,args=(s))[0]\n",
    "        Bz = integrate.quad(dBz,0,2*np.pi,args=(-s))[0]-integrate.quad(dBz,0,2*np.pi,args=(s))[0]\n",
    "\n",
    "        return np.array([Bx,By,Bz])*n*10000 # Return in Gauss\n",
    "    \n",
    "    laserBeams = Fixed_detune_MgF_MOT(d1,d2,d3,d4,p1,p2,p3,p4,pol1,pol2,pol3,pol4)\n",
    "    magField=lambda R,t:Coil_field(I,R)\n",
    "    eqn = pylcp.rateeq(laserBeams=laserBeams,magField=magField,hamitlonian=hamiltonian)\n",
    "    eqn.generate_force_profile([Z,np.zeros(Z.shape),np.zeros(Z.shape)],[V,np.zeros(V.shape),np.zeros(V.shape)],name='Fx',progress_bar=1)\n",
    "\n",
    "    eqn.set_initial_position_and_velocity(np.array([-1*z_start,0,0]),np.array([v0s,0,0]))\n",
    "    eqn.set_initial_pop(np.array([1,1,1,1,1,1,1,1,1,1,1,1,0,0,0,0]))\n",
    "\n",
    "    eqn.evolve_motion([0.,max(t_eval)],t_eval=t_eval,events= None,progress_bar = 0,method='LSODA')\n",
    "    \n",
    "    fig,ax = plt.subplots(1,1,figsize=(13,7))\n",
    "    \n",
    "    imz = ax.imshow(eqn.profile['Fx'].F[0]*a0/mass*1e-3, origin='lower',\n",
    "           extent=(np.amin(zz*x0*1000), np.amax(zz*x0*1000),\n",
    "                   np.amin(vv*v0), np.amax(vv*v0)),\n",
    "           aspect='auto',cmap='RdBu')\n",
    "    cbz = plt.colorbar(imz,ax = ax)\n",
    "    cbz.set_label('$a (\\mathrm{km/s^2})$')\n",
    "    ax.set_xlabel('$x (\\mathrm{mm})$')\n",
    "    ax.set_ylabel('$v (\\mathrm{m/s})$')\n",
    "    ax.set_title('X axis force image')\n",
    "    ax.set_xlim(-1*z_max*x0*1000,z_max*x0*1000)\n",
    "    ax.set_ylim(-1*v_max*v0,1*v_max*v0)\n",
    "    fig.subplots_adjust(left=0.12,right=0.9)\n",
    "    \n",
    "    print(eqn.sol.v[0][-1], eqn.sol.r[0][-1])\n",
    "    ax.plot(eqn.sol.r[0]*x0*1000,eqn.sol.v[0]*v0,'k') \n",
    "#     ax.plot(eqn.sol.r[0]*x0*1000,v0*v0s*np.ones(len(eqn.sol.r[0])),'g')\n",
    "    # fig.savefig('./MOT/optimized')\n",
    "    "
   ]
  },
  {
   "cell_type": "code",
   "execution_count": 21,
   "id": "d1609dfe-6b00-4a6d-8101-1a93b8a0d14d",
   "metadata": {},
   "outputs": [],
   "source": [
    "def ploting_function_2(v0s,I, d1,d2,d3,d4,p1,p2,p3,p4,pol1,pol2,pol3,pol4):\n",
    "    def Coil_field(I,R:np.array):\n",
    "        n = 510\n",
    "        s = 0.1016 # in meter\n",
    "        rad = 0.071976 # in meter\n",
    "        def dBx(theta,L):\n",
    "            dl = np.array([-rad*np.sin(theta),rad*np.cos(theta),0])\n",
    "            rprime = R*x0 - np.array([0,0,L])+np.array([rad*np.cos(theta),rad*np.sin(theta),0])\n",
    "            dB = cts.mu_0/(4*np.pi)*np.cross(dl,rprime)/((np.sum(rprime**2))**(3/2))*I\n",
    "            # print(dl,rprime,dB)\n",
    "            return dB[0]\n",
    "        def dBy(theta,L):\n",
    "            dl = np.array([-rad*np.sin(theta),rad*np.cos(theta),0])\n",
    "            rprime = R*x0 - np.array([0,0,L])+np.array([rad*np.cos(theta),rad*np.sin(theta),0])\n",
    "            dB = cts.mu_0/(4*np.pi)*np.cross(dl,rprime)/((np.sum(rprime**2))**(3/2))*I\n",
    "            return dB[1]\n",
    "\n",
    "        def dBz(theta,L):\n",
    "            dl = np.array([-rad*np.sin(theta),rad*np.cos(theta),0])\n",
    "            rprime = R*x0 - np.array([0,0,L])+np.array([rad*np.cos(theta),rad*np.sin(theta),0])\n",
    "            dB = cts.mu_0/(4*np.pi)*np.cross(dl,rprime)/((np.sum(rprime**2))**(3/2))*I\n",
    "            return dB[2]\n",
    "\n",
    "\n",
    "        Bx = integrate.quad(dBx,0,2*np.pi,args=(-s))[0]-integrate.quad(dBx,0,2*np.pi,args=(s))[0]\n",
    "        By = integrate.quad(dBy,0,2*np.pi,args=(-s))[0]-integrate.quad(dBy,0,2*np.pi,args=(s))[0]\n",
    "        Bz = integrate.quad(dBz,0,2*np.pi,args=(-s))[0]-integrate.quad(dBz,0,2*np.pi,args=(s))[0]\n",
    "\n",
    "        return np.array([Bx,By,Bz])*n*10000 # Return in Gauss\n",
    "    v_list = np.linspace(v0s-2,v0s+2,11)\n",
    "    zz = np.linspace(-1*z_max,z_max,100)\n",
    "    vv = np.linspace(-1*v_max,v_max,100)\n",
    "    Z,V = np.meshgrid(zz,vv)\n",
    "    sols_list = list()\n",
    "    \n",
    "    laserBeams = Fixed_detune_MgF_MOT(d1,d2,d3,d4,p1,p2,p3,p4,pol1,pol2,pol3,pol4)\n",
    "    magField=lambda R,t:Coil_field(I,R)\n",
    "    eqn = pylcp.rateeq(laserBeams=laserBeams,magField=magField,hamitlonian=hamiltonian)\n",
    "#     eqn.generate_force_profile([Z,np.zeros(Z.shape),np.zeros(Z.shape)],[V,np.zeros(V.shape),np.zeros(V.shape)],name='Fx',progress_bar=1)\n",
    "#     eqn.generate_force_profile([np.zeros(Z.shape),Z,np.zeros(Z.shape)],[np.zeros(V.shape),V,np.zeros(V.shape)],name='Fy',progress_bar=1)\n",
    "#     eqn.generate_force_profile([np.zeros(Z.shape),np.zeros(Z.shape),Z],[np.zeros(V.shape),np.zeros(V.shape),V],name='Fz',progress_bar=1)\n",
    "\n",
    "\n",
    "    \n",
    "    for v0ss in v_list:\n",
    "        eqn.set_initial_position_and_velocity(np.array([-1*z_start,-1*z_start,0]),np.array([v0ss,v0ss,1]))\n",
    "        eqn.set_initial_pop(np.array([1,1,1,1,1,1,1,1,1,1,1,1,0,0,0,0]))\n",
    "\n",
    "        eqn.evolve_motion([0.,max(t_eval)],t_eval=t_eval,events= None,progress_bar = 1,method='LSODA',max_step = 2e5)\n",
    "        sols_list.append(eqn.sol)\n",
    "    \n",
    "    fig,ax = plt.subplots(1,3,figsize=(20,4))\n",
    "    \n",
    "#     imx = ax[0].imshow(eqn.profile['Fx'].F[0]*a0/mass*1e-3, origin='lower',\n",
    "#            extent=(np.amin(zz*x0*1000), np.amax(zz*x0*1000),\n",
    "#                    np.amin(vv*v0), np.amax(vv*v0)),\n",
    "#            aspect='auto',cmap='RdBu')\n",
    "#     cbx = plt.colorbar(imx,ax = ax[0])\n",
    "#     cbx.set_label('$a (\\mathrm{km/s^2})$')\n",
    "    \n",
    "#     imy = ax[1].imshow(eqn.profile['Fy'].F[1]*a0/mass*1e-3, origin='lower',\n",
    "#            extent=(np.amin(zz*x0*1000), np.amax(zz*x0*1000),\n",
    "#                    np.amin(vv*v0), np.amax(vv*v0)),\n",
    "#            aspect='auto',cmap='RdBu')\n",
    "#     cby = plt.colorbar(imy,ax = ax[1])\n",
    "#     cby.set_label('$a (\\mathrm{km/s^2})$')\n",
    "\n",
    "#     imz = ax[2].imshow(eqn.profile['Fz'].F[2]*a0/mass*1e-3, origin='lower',\n",
    "#            extent=(np.amin(zz*x0*1000), np.amax(zz*x0*1000),\n",
    "#                    np.amin(vv*v0), np.amax(vv*v0)),\n",
    "#            aspect='auto',cmap='RdBu')\n",
    "#     cbz = plt.colorbar(imz,ax = ax[2])\n",
    "#     cbz.set_label('$a (\\mathrm{km/s^2})$')\n",
    "    ax[2].set_xlabel('$z (\\mathrm{mm})$')\n",
    "    ax[2].set_ylabel('$v (\\mathrm{m/s})$')\n",
    "    ax[2].set_title('Z axis force image')\n",
    "    ax[2].set_xlim(-1*z_max*x0*1000,z_max*x0*1000)\n",
    "    ax[2].set_ylim(-1*v_max*v0,1*v_max*v0)\n",
    "\n",
    "    ax[0].set_xlabel('$x (\\mathrm{mm})$')\n",
    "    ax[0].set_ylabel('$v (\\mathrm{m/s})$')\n",
    "    ax[0].set_title('X axis force image')\n",
    "    ax[0].set_xlim(-1*z_max*x0*1000,z_max*x0*1000)\n",
    "    ax[0].set_ylim(-1*v_max*v0,1*v_max*v0)\n",
    "    \n",
    "    ax[1].set_xlabel('$y (\\mathrm{mm})$')\n",
    "    ax[1].set_ylabel('$v (\\mathrm{m/s})$')\n",
    "    ax[1].set_title('Y axis force image')\n",
    "    ax[1].set_xlim(-1*z_max*x0*1000,z_max*x0*1000)\n",
    "    ax[1].set_ylim(-1*v_max*v0,1*v_max*v0)\n",
    "    fig.subplots_adjust(left=0.12,right=0.9)\n",
    "    \n",
    "    print(eqn.sol.v[0][-1], eqn.sol.r[0][-1])\n",
    "    for sol in sols_list:\n",
    "        ax[0].plot(sol.r[0]*x0*1000,sol.v[0]*v0)\n",
    "        ax[1].plot(sol.r[1]*x0*1000,sol.v[1]*v0)\n",
    "        ax[2].plot(sol.r[2]*x0*1000,sol.v[2]*v0)\n",
    "        print(sol.v[0][0]*v0, sol.v[1][0]*v0)\n",
    "#     ax.plot(eqn.sol.r[0]*x0*1000,v0*v0s*np.ones(len(eqn.sol.r[0])),'g')\n",
    "#     fig.savefig('./MOT/optimized_xy')\n",
    "    "
   ]
  },
  {
   "cell_type": "code",
   "execution_count": 22,
   "id": "7170e23c-8c01-4464-83b2-8daab89b8fef",
   "metadata": {},
   "outputs": [
    {
     "name": "stdout",
     "output_type": "stream",
     "text": [
      "Completed in 44.60 s.                                                    \n",
      "Completed in 1:40.                                                       \n",
      "Completed in 1:12.                                                       \n",
      "Completed in 42.28 s.                                                    \n",
      "Completed in 38.04 s.                                                    \n",
      "Completed in 26.02 s.                                                    \n",
      "Completed in 30.27 s.                                                    \n",
      "Completed in 36.01 s.                                                    \n",
      "Completed in 41.39 s.                                                    \n",
      "Completed in 30.47 s.                                                    \n",
      "Completed in 36.45 s.                                                    \n",
      "7.816533630112002 20620940.171011426\n",
      "30.12088576222311 30.12088576222311\n",
      "33.282725762223116 33.282725762223116\n",
      "36.444565762223114 36.444565762223114\n",
      "39.60640576222311 39.60640576222311\n",
      "42.76824576222311 42.76824576222311\n",
      "45.930085762223115 45.930085762223115\n",
      "49.09192576222311 49.09192576222311\n",
      "52.25376576222312 52.25376576222312\n",
      "55.415605762223116 55.415605762223116\n",
      "58.57744576222311 58.57744576222311\n",
      "61.73928576222311 61.73928576222311\n"
     ]
    },
    {
     "data": {
      "image/png": "[encoded data removed]",
      "text/plain": [
       "<Figure size 1440x288 with 3 Axes>"
      ]
     },
     "metadata": {
      "needs_background": "light"
     },
     "output_type": "display_data"
    }
   ],
   "source": [
    "ploting_function_2(**optimizer.max['params'])"
   ]
  },
  {
   "cell_type": "code",
   "execution_count": 17,
   "id": "a33f7e72-0575-4a76-8ab4-fce195544ae2",
   "metadata": {},
   "outputs": [
    {
     "data": {
      "text/plain": [
       "{'I': 12.528168984164047,\n",
       " 'd1': -2.5199775899908197,\n",
       " 'd2': 0.22773582325913377,\n",
       " 'd3': -0.6681841482979487,\n",
       " 'd4': -0.4729265546420556,\n",
       " 'p1': 15.499490198498794,\n",
       " 'p2': 20.486544283932638,\n",
       " 'p3': 23.168825254769747,\n",
       " 'p4': 21.018278114257004,\n",
       " 'pol1': -0.7070729036856251,\n",
       " 'pol2': -0.22622612784360263,\n",
       " 'pol3': 0.8451169581057016,\n",
       " 'pol4': 0.9480729825079086,\n",
       " 'v0s': 5.810551547481607}"
      ]
     },
     "execution_count": 17,
     "metadata": {},
     "output_type": "execute_result"
    }
   ],
   "source": [
    "optimizer.max['params']"
   ]
  },
  {
   "cell_type": "code",
   "execution_count": null,
   "id": "4f40c693-cd12-4687-8186-fa8874e33c4c",
   "metadata": {},
   "outputs": [],
   "source": [
    "3e6*t0"
   ]
  },
  {
   "cell_type": "code",
   "execution_count": null,
   "id": "8514592d-27d3-4bf5-bf83-e4977b363412",
   "metadata": {},
   "outputs": [],
   "source": [
    "1e5*x0"
   ]
  },
  {
   "cell_type": "code",
   "execution_count": null,
   "id": "f9433d40-34ff-45ef-bb90-a725782aea2c",
   "metadata": {},
   "outputs": [],
   "source": []
  }
 ],
 "metadata": {
  "kernelspec": {
   "display_name": "Python 3 (ipykernel)",
   "language": "python",
   "name": "python3"
  },
  "language_info": {
   "codemirror_mode": {
    "name": "ipython",
    "version": 3
   },
   "file_extension": ".py",
   "mimetype": "text/x-python",
   "name": "python",
   "nbconvert_exporter": "python",
   "pygments_lexer": "ipython3",
   "version": "3.9.7"
  }
 },
 "nbformat": 4,
 "nbformat_minor": 5
}
