{
 "cells": [
  {
   "cell_type": "code",
   "execution_count": 6,
   "id": "ae6ed603-a621-4235-8e78-d9ab55b8b7e3",
   "metadata": {},
   "outputs": [],
   "source": [
    "import sys\n",
    "import numpy as np\n",
    "import matplotlib.pyplot as plt\n",
    "import scipy.constants as cts\n",
    "import pylcp\n",
    "import time\n",
    "import random\n",
    "from tqdm import tqdm\n",
    "from scipy.interpolate import interp1d,interp2d\n",
    "from scipy import stats\n",
    "from scipy import integrate\n",
    "from celluloid import Camera\n",
    "from bayes_opt import BayesianOptimization\n",
    "import json\n",
    "import seaborn as sns\n",
    "from scipy import special\n",
    "from scipy import integrate \n",
    "import copy"
   ]
  },
  {
   "cell_type": "code",
   "execution_count": 7,
   "id": "19bcb737-2f85-491c-bddc-533f0c60b441",
   "metadata": {
    "tags": []
   },
   "outputs": [],
   "source": [
    "#Main variables\n",
    "\n",
    "main_detune = 17\n",
    "sideband_detune = 120\n",
    "white_detune = 10\n",
    "laser_on = 200000\n",
    "laser_off = 400015\n",
    "MOT_power = 50\n",
    "v0_start=1\n",
    "v0_step=1\n",
    "v0_end=25\n",
    "t0_start=0\n",
    "t0_step=1\n",
    "t0_end=3500000\n",
    "\n",
    "\n",
    "Gamma = 22 # Hz to kHz, Decay rate\n",
    "wavelength = 359.3e-9 # m to mm\n",
    "k = 1/wavelength*2*np.pi #x_0\n",
    "x0 = 1/k\n",
    "t0 = 1/Gamma*1/(2*np.pi*1e6)\n",
    "v0 = x0/t0\n",
    "m0 = cts.hbar*t0/x0**2\n",
    "a0 = x0/t0**2\n",
    "F0 = cts.hbar/(x0*t0)\n",
    "mass = 43*cts.value('atomic mass constant')/m0 # m_0\n",
    "mag_field_grad = 1252.8168984164048*x0\n",
    "waist = 0.012/x0\n",
    "v_max = 8.\n",
    "z_max = 384.855e-3/x0\n",
    "z_start = 384.855e-3/x0\n",
    "omega = 2*np.pi*(cts.c/wavelength) #Transition frequency\n",
    "Isat = np.pi*cts.h*cts.c*Gamma*2*np.pi*1e6/3*1/(wavelength)**3\n",
    "t_eval = np.arange(t0_start,t0_end,t0_step)\n",
    "\n",
    "# The detunings used in the PRAs:\n",
    "intensities = 2.*MOT_power*1e-3/(np.pi*0.012**2)/Isat\n",
    "\n",
    "#Define the hamiltonian\n",
    "H0_X, Bq_X, U_X, Xbasis = pylcp.hamiltonians.XFmolecules.Xstate(N=1,I=0.5,B=15496.8125/Gamma,\n",
    "gamma = 50.697/Gamma,b=154.7/Gamma, c=178.5/Gamma,gI=5.585,gS=2.0023193043622,\n",
    "    muB = cts.value('Bohr magneton in Hz/T')/1e6*1e-4/Gamma,\n",
    "    muN=cts.m_e/cts.m_p*cts.value('Bohr magneton in Hz/T')*1e-4*1e-6/Gamma,return_basis=True\n",
    "    )\n",
    "\n",
    "# b : SI coupling(isotropic), c : Iz Sz coupling(anisotropic), cc : I N coupling, gamma : S N coupling\n",
    "\n",
    "E_X = np.unique(np.diag(H0_X))\n",
    "\n",
    "H0_A, Bq_A, Abasis = pylcp.hamiltonians.XFmolecules.Astate(J=0.5,I=0.5,\n",
    "    P=+1,B=15788.2/Gamma,D=0.,H=0.,a=0./Gamma,b=-0.4/Gamma,c=0.,q=0., p=15./Gamma,\n",
    "    muB=cts.value('Bohr magneton in Hz/T')/1e6*1e-4/Gamma,\n",
    "    muN=cts.m_e/cts.m_p*cts.value('Bohr magneton in Hz/T')*1e-4*1e-6/Gamma,return_basis=True\n",
    "    )\n",
    "\n",
    "# gJ : Lande g-factor, p : parity(e parity)\n",
    "\n",
    "E_A = np.unique(np.diag(H0_A))\n",
    "\n",
    "dijq = pylcp.hamiltonians.XFmolecules.dipoleXandAstates(\n",
    "    Xbasis, Abasis, UX=U_X\n",
    "    )\n",
    "\n",
    "hamiltonian = pylcp.hamiltonian(H0_X, H0_A, Bq_X, Bq_A, dijq,mass = mass)"
   ]
  },
  {
   "cell_type": "code",
   "execution_count": 3,
   "id": "cd7d0c62-1b4d-4976-aca3-2fbd7b331bf4",
   "metadata": {},
   "outputs": [],
   "source": [
    "Result_array = np.load(\"D:/migration/VC_finding_array.npy\")"
   ]
  },
  {
   "cell_type": "code",
   "execution_count": 5,
   "id": "2ede0297",
   "metadata": {},
   "outputs": [],
   "source": [
    "from scipy.interpolate import RegularGridInterpolator\n",
    "\n",
    "z_range = np.linspace(0,12,13)\n",
    "vz_range = np.linspace(0,3,13)\n",
    "vc_range = np.linspace(1,7,13)\n",
    "\n",
    "trap_lost = RegularGridInterpolator((z_range,vz_range,vc_range),Result_array[0])\n"
   ]
  },
  {
   "cell_type": "code",
   "execution_count": 42,
   "id": "32b578cb",
   "metadata": {},
   "outputs": [],
   "source": [
    "def capture_condition(z,vz,vc):\n",
    "    try:\n",
    "        if vc<1 and vc>0:\n",
    "            result = trap_lost([z,vz,1])[0]\n",
    "        else:\n",
    "            result = trap_lost([z,vz,vc])[0]\n",
    "    except(ValueError):\n",
    "        result = -1.\n",
    "    finally:\n",
    "        if result == 1.:\n",
    "            print(\"Trapped\")\n",
    "        else:\n",
    "            print(\"lost\")\n",
    "        return result"
   ]
  },
  {
   "cell_type": "code",
   "execution_count": 43,
   "id": "da541fb6",
   "metadata": {},
   "outputs": [
    {
     "name": "stdout",
     "output_type": "stream",
     "text": [
      "lost\n"
     ]
    },
    {
     "data": {
      "text/plain": [
       "-0.6000000000000014"
      ]
     },
     "execution_count": 43,
     "metadata": {},
     "output_type": "execute_result"
    }
   ],
   "source": [
    "capture_condition(1,1,6.4)"
   ]
  },
  {
   "cell_type": "code",
   "execution_count": 2,
   "id": "ecb5f42a",
   "metadata": {},
   "outputs": [],
   "source": [
    "v0 =7.9046\n",
    "\n",
    "ls = stats.norm(140/v0,17/v0)"
   ]
  },
  {
   "cell_type": "code",
   "execution_count": 5,
   "id": "331ebb8f",
   "metadata": {},
   "outputs": [
    {
     "data": {
      "text/plain": [
       "0.9626938807432605"
      ]
     },
     "execution_count": 5,
     "metadata": {},
     "output_type": "execute_result"
    }
   ],
   "source": [
    "ls.cdf(22)-ls.cdf(13)"
   ]
  },
  {
   "cell_type": "code",
   "execution_count": 10,
   "id": "69b9a57d",
   "metadata": {},
   "outputs": [
    {
     "data": {
      "text/plain": [
       "619.9208564751222"
      ]
     },
     "execution_count": 10,
     "metadata": {},
     "output_type": "execute_result"
    }
   ],
   "source": [
    "Isat"
   ]
  },
  {
   "cell_type": "code",
   "execution_count": 12,
   "id": "e389f7b7",
   "metadata": {},
   "outputs": [
    {
     "data": {
      "text/plain": [
       "66.94162344675568"
      ]
     },
     "execution_count": 12,
     "metadata": {},
     "output_type": "execute_result"
    }
   ],
   "source": [
    "5.988269600338705*7.9046*np.sqrt(2)"
   ]
  },
  {
   "cell_type": "code",
   "execution_count": null,
   "id": "bd2a4687",
   "metadata": {},
   "outputs": [],
   "source": []
  }
 ],
 "metadata": {
  "kernelspec": {
   "display_name": "Python 3.9.12 ('LCPtest')",
   "language": "python",
   "name": "python3"
  },
  "language_info": {
   "codemirror_mode": {
    "name": "ipython",
    "version": 3
   },
   "file_extension": ".py",
   "mimetype": "text/x-python",
   "name": "python",
   "nbconvert_exporter": "python",
   "pygments_lexer": "ipython3",
   "version": "3.9.12"
  },
  "vscode": {
   "interpreter": {
    "hash": "8e5c691d1df19e90ce0c56a82f5160c0bc8b8614d6b0ba467d19e18deeae170c"
   }
  }
 },
 "nbformat": 4,
 "nbformat_minor": 5
}
