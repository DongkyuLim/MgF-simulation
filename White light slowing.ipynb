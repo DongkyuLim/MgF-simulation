{
 "cells": [
  {
   "cell_type": "code",
   "execution_count": 1,
   "id": "26036880-9d12-4354-9b96-c404b4fecc97",
   "metadata": {},
   "outputs": [],
   "source": [
    "import numpy as np\n",
    "import matplotlib.pyplot as plt\n",
    "import scipy.constants as cts\n",
    "import pylcp\n",
    "import time\n",
    "import random\n",
    "from tqdm import tqdm"
   ]
  },
  {
   "cell_type": "code",
   "execution_count": 29,
   "id": "1b2b87f7-a2b2-4308-9359-d1bdf6f3c33a",
   "metadata": {},
   "outputs": [],
   "source": [
    "#Main variables\n",
    "\n",
    "figname = str(main_detune)+'_'+str(white_detune)+ ', '+str(power_rate_1)+'_'+str(power_rate_2)\n",
    "\n",
    "\n",
    "#Define the constants\n",
    "Gamma = 22 # Hz to kHz, Decay rate\n",
    "wavelength = 359.3e-9 # m to mm\n",
    "k = 1/wavelength*2*np.pi #x_0\n",
    "x0 = 1/k\n",
    "t0 = 1/Gamma*1/(2*np.pi*1e6)\n",
    "v0 = x0/t0\n",
    "m0 = cts.hbar*t0/x0**2\n",
    "a0 = x0/t0**2\n",
    "F0 = cts.hbar/(x0*t0)\n",
    "mass = 43*cts.value('atomic mass constant')/m0 # m_0\n",
    "waist = 0.012/x0\n",
    "v_max = 20\n",
    "z_max = 384.855e-3/x0\n",
    "z_start = 384.855e-3/x0\n",
    "dz = 0.05/x0\n",
    "dv = 0.05\n",
    "v_eval = np.arange(1,20,1)\n",
    "t_eval = np.linspace(0.,laser_off+1000,laser_off+1001)\n",
    "omega = 2*np.pi*(cts.c/wavelength) #Transition frequency\n",
    "Isat = np.pi*cts.h*cts.c*Gamma*2*np.pi*1e6/3*1/(wavelength)**3\n",
    "\n",
    "# The detunings used in the PRAs:\n",
    "intensity = 2./(np.pi*(0.020)**2)/Isat\n",
    "\n",
    "\n",
    "#Define the hamiltonian\n",
    "H0_X, Bq_X, U_X, Xbasis = pylcp.hamiltonians.XFmolecules.Xstate(B=0,\n",
    "gamma = 50.697/Gamma,b=154.7/Gamma, c=178.5/Gamma,\n",
    "    muB = cts.value('Bohr magneton in Hz/T')/1e6*1e-4/Gamma,return_basis=True\n",
    "    )\n",
    "\n",
    "# b : SI coupling(isotropic), c : Iz Sz coupling(anisotropic), cc : I N coupling, gamma : S N coupling\n",
    "\n",
    "E_X = np.unique(np.diag(H0_X))\n",
    "\n",
    "H0_A, Bq_A, Abasis = pylcp.hamiltonians.XFmolecules.Astate(\n",
    "    P=+1, Ahfs=-1.5/Gamma, q=0, p=0,gJ=-0.00002,\n",
    "    muB=cts.value('Bohr magneton in Hz/T')/1e6*1e-4/Gamma, return_basis=True\n",
    "    )\n",
    "\n",
    "# gJ : Lande g-factor, p : parity(e parity)\n",
    "\n",
    "E_A = np.unique(np.diag(H0_A))\n",
    "\n",
    "dijq = pylcp.hamiltonians.XFmolecules.dipoleXandAstates(\n",
    "    Xbasis, Abasis, UX=U_X\n",
    "    )\n",
    "\n",
    "hamiltonian = pylcp.hamiltonian(H0_X, H0_A, Bq_X, Bq_A, dijq,mass = mass)"
   ]
  },
  {
   "cell_type": "code",
   "execution_count": 30,
   "id": "77e0220f-f404-4509-9f9b-ce6981a2a05b",
   "metadata": {},
   "outputs": [],
   "source": [
    "#Define the zero magnetic field.\n",
    "\n",
    "magField = np.zeros(3)"
   ]
  },
  {
   "cell_type": "code",
   "execution_count": 31,
   "id": "f78619aa-20c6-49e9-8590-03bc41208616",
   "metadata": {},
   "outputs": [],
   "source": [
    "def Fixed_detune_MgF_MOT(main_det,det,pr_1,pr_2,laseron,laseroff):\n",
    "    det_side = 120/Gamma\n",
    "    det_side2 = det/Gamma\n",
    "    Avg_X = np.average(E_X)\n",
    "    \n",
    "    init_pow = 0.5*2./(np.pi*(0.020)**2)/Isat\n",
    "    pow_rate1 = pr_1/(2+pr_1)\n",
    "    pow_rate2 = pr_2/(4+pr_2)\n",
    "    pow_rate1_i = (1-pow_rate1)/2\n",
    "    pow_rate2_i = (1-pow_rate2)/4\n",
    "    \n",
    "    def Heav_step(t):\n",
    "        if laseron<=t and t<laseron+14:\n",
    "            return -1*(t-laseron-7)*((t-laseron-7)**2-49*3)*1/686*1/2+1/2\n",
    "        elif laseron+14<=t and t<laseroff:\n",
    "            return 1\n",
    "        elif t>=laseroff and t<laseroff+14:\n",
    "            return (t-laseroff-7)*((t-laseroff-7)**2-49*3)*1/686*1/2 + 1/2\n",
    "        else:\n",
    "            return 0    \n",
    "        \n",
    "    \n",
    "    laserBeams = pylcp.laserBeams()\n",
    "# Minus Sideband part\n",
    "    laserBeams += pylcp.laserBeams([{'kvec':np.array([0,0,-1]),'pol':+1,'pol_coord':'spherical','delta':(E_A[-1]-Avg_X-main_det)-det_side-det_side2*2,\n",
    "                                     's': lambda R,t : init_pow*np.exp(-2*(np.sum(R**2)-R[2]**2)/waist**2)*Heav_step(t)*pow_rate1_i*pow_rate2_i},\n",
    "                                    {'kvec':np.array([0,0,-1]),'pol':-1,'pol_coord':'spherical','delta':(E_A[-1]-Avg_X-main_det)-det_side-det_side2*2,\n",
    "                                     's': lambda R,t : init_pow*np.exp(-2*(np.sum(R**2)-R[2]**2)/waist**2)*Heav_step(t)*pow_rate1_i*pow_rate2_i}])\n",
    "    laserBeams += pylcp.laserBeams([{'kvec':np.array([0,0,-1]),'pol':+1,'pol_coord':'spherical','delta':(E_A[-1]-Avg_X-main_det)-det_side-det_side2*1,\n",
    "                                     's': lambda R,t : init_pow*np.exp(-2*(np.sum(R**2)-R[2]**2)/waist**2)*Heav_step(t)*pow_rate1_i*pow_rate2_i},\n",
    "                                    {'kvec':np.array([0,0,-1]),'pol':-1,'pol_coord':'spherical','delta':(E_A[-1]-Avg_X-main_det)-det_side-det_side2*1,\n",
    "                                     's': lambda R,t : init_pow*np.exp(-2*(np.sum(R**2)-R[2]**2)/waist**2)*Heav_step(t)*pow_rate1_i*pow_rate2_i}])\n",
    "    laserBeams += pylcp.laserBeams([{'kvec':np.array([0,0,-1]),'pol':+1,'pol_coord':'spherical','delta':(E_A[-1]-Avg_X-main_det)-det_side-det_side2*0,\n",
    "                                     's': lambda R,t : init_pow*np.exp(-2*(np.sum(R**2)-R[2]**2)/waist**2)*Heav_step(t)*pow_rate1_i*pow_rate2},\n",
    "                                    {'kvec':np.array([0,0,-1]),'pol':-1,'pol_coord':'spherical','delta':(E_A[-1]-Avg_X-main_det)-det_side-det_side2*0,\n",
    "                                     's': lambda R,t : init_pow*np.exp(-2*(np.sum(R**2)-R[2]**2)/waist**2)*Heav_step(t)*pow_rate1_i*pow_rate2}])\n",
    "    laserBeams += pylcp.laserBeams([{'kvec':np.array([0,0,-1]),'pol':+1,'pol_coord':'spherical','delta':(E_A[-1]-Avg_X-main_det)-det_side+det_side2*1,\n",
    "                                     's': lambda R,t : init_pow*np.exp(-2*(np.sum(R**2)-R[2]**2)/waist**2)*Heav_step(t)*pow_rate1_i*pow_rate2_i},\n",
    "                                    {'kvec':np.array([0,0,-1]),'pol':-1,'pol_coord':'spherical','delta':(E_A[-1]-Avg_X-main_det)-det_side+det_side2*1,\n",
    "                                     's': lambda R,t : init_pow*np.exp(-2*(np.sum(R**2)-R[2]**2)/waist**2)*Heav_step(t)*pow_rate1_i*pow_rate2_i}])\n",
    "    laserBeams += pylcp.laserBeams([{'kvec':np.array([0,0,-1]),'pol':+1,'pol_coord':'spherical','delta':(E_A[-1]-Avg_X-main_det)-det_side+det_side2*2,\n",
    "                                     's': lambda R,t : init_pow*np.exp(-2*(np.sum(R**2)-R[2]**2)/waist**2)*Heav_step(t)*pow_rate1_i*pow_rate2_i},\n",
    "                                    {'kvec':np.array([0,0,-1]),'pol':-1,'pol_coord':'spherical','delta':(E_A[-1]-Avg_X-main_det)-det_side+det_side2*2,\n",
    "                                     's': lambda R,t : init_pow*np.exp(-2*(np.sum(R**2)-R[2]**2)/waist**2)*Heav_step(t)*pow_rate1_i*pow_rate2_i}])\n",
    "\n",
    "# Main Slowing Laser\n",
    "    laserBeams += pylcp.laserBeams([{'kvec':np.array([0,0,-1]),'pol':+1,'pol_coord':'spherical','delta':(E_A[-1]-Avg_X-main_det)-det_side2*2,\n",
    "                                     's': lambda R,t : init_pow*np.exp(-2*(np.sum(R**2)-R[2]**2)/waist**2)*Heav_step(t)*pow_rate1*pow_rate2_i},\n",
    "                                    {'kvec':np.array([0,0,-1]),'pol':-1,'pol_coord':'spherical','delta':(E_A[-1]-Avg_X-main_det)-det_side2*2,\n",
    "                                     's': lambda R,t : init_pow*np.exp(-2*(np.sum(R**2)-R[2]**2)/waist**2)*Heav_step(t)*pow_rate1*pow_rate2_i}])\n",
    "    laserBeams += pylcp.laserBeams([{'kvec':np.array([0,0,-1]),'pol':+1,'pol_coord':'spherical','delta':(E_A[-1]-Avg_X-main_det)-det_side2*1,\n",
    "                                     's': lambda R,t : init_pow*np.exp(-2*(np.sum(R**2)-R[2]**2)/waist**2)*Heav_step(t)*pow_rate1*pow_rate2_i},\n",
    "                                    {'kvec':np.array([0,0,-1]),'pol':-1,'pol_coord':'spherical','delta':(E_A[-1]-Avg_X-main_det)-det_side2*1,\n",
    "                                     's': lambda R,t : init_pow*np.exp(-2*(np.sum(R**2)-R[2]**2)/waist**2)*Heav_step(t)*pow_rate1*pow_rate2_i}])\n",
    "    laserBeams += pylcp.laserBeams([{'kvec':np.array([0,0,-1]),'pol':+1,'pol_coord':'spherical','delta':(E_A[-1]-Avg_X-main_det)-det_side2*0,\n",
    "                                     's': lambda R,t : init_pow*np.exp(-2*(np.sum(R**2)-R[2]**2)/waist**2)*Heav_step(t)*pow_rate1*pow_rate2},\n",
    "                                    {'kvec':np.array([0,0,-1]),'pol':-1,'pol_coord':'spherical','delta':(E_A[-1]-Avg_X-main_det)-det_side2*0,\n",
    "                                     's': lambda R,t : init_pow*np.exp(-2*(np.sum(R**2)-R[2]**2)/waist**2)*Heav_step(t)*pow_rate1*pow_rate2}])\n",
    "    laserBeams += pylcp.laserBeams([{'kvec':np.array([0,0,-1]),'pol':+1,'pol_coord':'spherical','delta':(E_A[-1]-Avg_X-main_det)+det_side2*1,\n",
    "                                     's': lambda R,t : init_pow*np.exp(-2*(np.sum(R**2)-R[2]**2)/waist**2)*Heav_step(t)*pow_rate1*pow_rate2_i},\n",
    "                                    {'kvec':np.array([0,0,-1]),'pol':-1,'pol_coord':'spherical','delta':(E_A[-1]-Avg_X-main_det)+det_side2*1,\n",
    "                                     's': lambda R,t : init_pow*np.exp(-2*(np.sum(R**2)-R[2]**2)/waist**2)*Heav_step(t)*pow_rate1*pow_rate2_i}])\n",
    "    laserBeams += pylcp.laserBeams([{'kvec':np.array([0,0,-1]),'pol':+1,'pol_coord':'spherical','delta':(E_A[-1]-Avg_X-main_det)+det_side2*2,\n",
    "                                     's': lambda R,t : init_pow*np.exp(-2*(np.sum(R**2)-R[2]**2)/waist**2)*Heav_step(t)*pow_rate1*pow_rate2_i},\n",
    "                                    {'kvec':np.array([0,0,-1]),'pol':-1,'pol_coord':'spherical','delta':(E_A[-1]-Avg_X-main_det)+det_side2*2,\n",
    "                                     's': lambda R,t : init_pow*np.exp(-2*(np.sum(R**2)-R[2]**2)/waist**2)*Heav_step(t)*pow_rate1*pow_rate2_i}])\n",
    "# Plus Sideband part\n",
    "    laserBeams += pylcp.laserBeams([{'kvec':np.array([0,0,-1]),'pol':+1,'pol_coord':'spherical','delta':(E_A[-1]-Avg_X-main_det)+det_side-det_side2*2,\n",
    "                                     's': lambda R,t : init_pow*np.exp(-2*(np.sum(R**2)-R[2]**2)/waist**2)*Heav_step(t)*pow_rate1_i*pow_rate2_i},\n",
    "                                    {'kvec':np.array([0,0,-1]),'pol':-1,'pol_coord':'spherical','delta':(E_A[-1]-Avg_X-main_det)+det_side-det_side2*2,\n",
    "                                     's': lambda R,t : init_pow*np.exp(-2*(np.sum(R**2)-R[2]**2)/waist**2)*Heav_step(t)*pow_rate1_i*pow_rate2_i}])\n",
    "    laserBeams += pylcp.laserBeams([{'kvec':np.array([0,0,-1]),'pol':+1,'pol_coord':'spherical','delta':(E_A[-1]-Avg_X-main_det)+det_side-det_side2*1,\n",
    "                                     's': lambda R,t : init_pow*np.exp(-2*(np.sum(R**2)-R[2]**2)/waist**2)*Heav_step(t)*pow_rate1_i*pow_rate2_i},\n",
    "                                    {'kvec':np.array([0,0,-1]),'pol':-1,'pol_coord':'spherical','delta':(E_A[-1]-Avg_X-main_det)+det_side-det_side2*1,\n",
    "                                     's': lambda R,t : init_pow*np.exp(-2*(np.sum(R**2)-R[2]**2)/waist**2)*Heav_step(t)*pow_rate1_i*pow_rate2_i}])\n",
    "    laserBeams += pylcp.laserBeams([{'kvec':np.array([0,0,-1]),'pol':+1,'pol_coord':'spherical','delta':(E_A[-1]-Avg_X-main_det)+det_side-det_side2*0,\n",
    "                                     's': lambda R,t : init_pow*np.exp(-2*(np.sum(R**2)-R[2]**2)/waist**2)*Heav_step(t)*pow_rate1_i*pow_rate2},\n",
    "                                    {'kvec':np.array([0,0,-1]),'pol':-1,'pol_coord':'spherical','delta':(E_A[-1]-Avg_X-main_det)+det_side-det_side2*0,\n",
    "                                     's': lambda R,t : init_pow*np.exp(-2*(np.sum(R**2)-R[2]**2)/waist**2)*Heav_step(t)*pow_rate1_i*pow_rate2}])\n",
    "    laserBeams += pylcp.laserBeams([{'kvec':np.array([0,0,-1]),'pol':+1,'pol_coord':'spherical','delta':(E_A[-1]-Avg_X-main_det)+det_side+det_side2*1,\n",
    "                                     's': lambda R,t : init_pow*np.exp(-2*(np.sum(R**2)-R[2]**2)/waist**2)*Heav_step(t)*pow_rate1_i*pow_rate2_i},\n",
    "                                    {'kvec':np.array([0,0,-1]),'pol':-1,'pol_coord':'spherical','delta':(E_A[-1]-Avg_X-main_det)+det_side+det_side2*1,\n",
    "                                     's': lambda R,t : init_pow*np.exp(-2*(np.sum(R**2)-R[2]**2)/waist**2)*Heav_step(t)*pow_rate1_i*pow_rate2_i}])\n",
    "    laserBeams += pylcp.laserBeams([{'kvec':np.array([0,0,-1]),'pol':+1,'pol_coord':'spherical','delta':(E_A[-1]-Avg_X-main_det)+det_side+det_side2*2,\n",
    "                                     's': lambda R,t : init_pow*np.exp(-2*(np.sum(R**2)-R[2]**2)/waist**2)*Heav_step(t)*pow_rate1_i*pow_rate2_i},\n",
    "                                    {'kvec':np.array([0,0,-1]),'pol':-1,'pol_coord':'spherical','delta':(E_A[-1]-Avg_X-main_det)+det_side+det_side2*2,\n",
    "                                     's': lambda R,t : init_pow*np.exp(-2*(np.sum(R**2)-R[2]**2)/waist**2)*Heav_step(t)*pow_rate1_i*pow_rate2_i}])\n",
    "    return laserBeams"
   ]
  },
  {
   "cell_type": "code",
   "execution_count": 32,
   "id": "4789434b-506a-4140-b13d-f0707f7a3cc7",
   "metadata": {},
   "outputs": [],
   "source": [
    "def Fixed_detune_MgF_MOT_force(times,main_det,det,pr_1,pr_2,laseron,laseroff):\n",
    "    det_side = 120/Gamma\n",
    "    det_side2 = det/Gamma\n",
    "    Avg_X = np.average(E_X)\n",
    "    \n",
    "    init_pow = 0.5*2./(np.pi*(0.020)**2)/Isat\n",
    "    pow_rate1 = pr_1/(2+pr_1)\n",
    "    pow_rate2 = pr_2/(4+pr_2)\n",
    "    pow_rate1_i = (1-pow_rate1)/2\n",
    "    pow_rate2_i = (1-pow_rate2)/4\n",
    "    \n",
    "    def Heav_step(t):\n",
    "        if laseron<=t and t<laseron+14:\n",
    "            return -1*(t-laseron-7)*((t-laseron-7)**2-49*3)*1/686*1/2+1/2\n",
    "        elif laseron+14<t and t<laseroff:\n",
    "            return 1\n",
    "        elif t>=laseroff and t<laseroff+14:\n",
    "            return (t-laseroff-7)*((t-laseroff-7)**2-49*3)*1/686*1/2 + 1/2\n",
    "        else:\n",
    "            return 0    \n",
    "        \n",
    "    \n",
    "    laserBeams = pylcp.laserBeams()\n",
    "# Minus Sideband part\n",
    "    laserBeams += pylcp.laserBeams([{'kvec':np.array([0,0,-1]),'pol':+1,'pol_coord':'spherical','delta':(E_A[-1]-Avg_X-main_det)-det_side-det_side2*2,\n",
    "                                     's': lambda R,t : init_pow*np.exp(-2*(np.sum(R**2)-R[2]**2)/waist**2)*Heav_step(times)*pow_rate1_i*pow_rate2_i},\n",
    "                                    {'kvec':np.array([0,0,-1]),'pol':-1,'pol_coord':'spherical','delta':(E_A[-1]-Avg_X-main_det)-det_side-det_side2*2,\n",
    "                                     's': lambda R,t : init_pow*np.exp(-2*(np.sum(R**2)-R[2]**2)/waist**2)*Heav_step(times)*pow_rate1_i*pow_rate2_i}])\n",
    "    laserBeams += pylcp.laserBeams([{'kvec':np.array([0,0,-1]),'pol':+1,'pol_coord':'spherical','delta':(E_A[-1]-Avg_X-main_det)-det_side-det_side2*1,\n",
    "                                     's': lambda R,t : init_pow*np.exp(-2*(np.sum(R**2)-R[2]**2)/waist**2)*Heav_step(times)*pow_rate1_i*pow_rate2_i},\n",
    "                                    {'kvec':np.array([0,0,-1]),'pol':-1,'pol_coord':'spherical','delta':(E_A[-1]-Avg_X-main_det)-det_side-det_side2*1,\n",
    "                                     's': lambda R,t : init_pow*np.exp(-2*(np.sum(R**2)-R[2]**2)/waist**2)*Heav_step(times)*pow_rate1_i*pow_rate2_i}])\n",
    "    laserBeams += pylcp.laserBeams([{'kvec':np.array([0,0,-1]),'pol':+1,'pol_coord':'spherical','delta':(E_A[-1]-Avg_X-main_det)-det_side-det_side2*0,\n",
    "                                     's': lambda R,t : init_pow*np.exp(-2*(np.sum(R**2)-R[2]**2)/waist**2)*Heav_step(times)*pow_rate1_i*pow_rate2},\n",
    "                                    {'kvec':np.array([0,0,-1]),'pol':-1,'pol_coord':'spherical','delta':(E_A[-1]-Avg_X-main_det)-det_side-det_side2*0,\n",
    "                                     's': lambda R,t : init_pow*np.exp(-2*(np.sum(R**2)-R[2]**2)/waist**2)*Heav_step(times)*pow_rate1_i*pow_rate2}])\n",
    "    laserBeams += pylcp.laserBeams([{'kvec':np.array([0,0,-1]),'pol':+1,'pol_coord':'spherical','delta':(E_A[-1]-Avg_X-main_det)-det_side+det_side2*1,\n",
    "                                     's': lambda R,t : init_pow*np.exp(-2*(np.sum(R**2)-R[2]**2)/waist**2)*Heav_step(times)*pow_rate1_i*pow_rate2_i},\n",
    "                                    {'kvec':np.array([0,0,-1]),'pol':-1,'pol_coord':'spherical','delta':(E_A[-1]-Avg_X-main_det)-det_side+det_side2*1,\n",
    "                                     's': lambda R,t : init_pow*np.exp(-2*(np.sum(R**2)-R[2]**2)/waist**2)*Heav_step(times)*pow_rate1_i*pow_rate2_i}])\n",
    "    laserBeams += pylcp.laserBeams([{'kvec':np.array([0,0,-1]),'pol':+1,'pol_coord':'spherical','delta':(E_A[-1]-Avg_X-main_det)-det_side+det_side2*2,\n",
    "                                     's': lambda R,t : init_pow*np.exp(-2*(np.sum(R**2)-R[2]**2)/waist**2)*Heav_step(times)*pow_rate1_i*pow_rate2_i},\n",
    "                                    {'kvec':np.array([0,0,-1]),'pol':-1,'pol_coord':'spherical','delta':(E_A[-1]-Avg_X-main_det)-det_side+det_side2*2,\n",
    "                                     's': lambda R,t : init_pow*np.exp(-2*(np.sum(R**2)-R[2]**2)/waist**2)*Heav_step(times)*pow_rate1_i*pow_rate2_i}])\n",
    "\n",
    "# Main Slowing Laser\n",
    "    laserBeams += pylcp.laserBeams([{'kvec':np.array([0,0,-1]),'pol':+1,'pol_coord':'spherical','delta':(E_A[-1]-Avg_X-main_det)-det_side2*2,\n",
    "                                     's': lambda R,t : init_pow*np.exp(-2*(np.sum(R**2)-R[2]**2)/waist**2)*Heav_step(times)*pow_rate1*pow_rate2_i},\n",
    "                                    {'kvec':np.array([0,0,-1]),'pol':-1,'pol_coord':'spherical','delta':(E_A[-1]-Avg_X-main_det)-det_side2*2,\n",
    "                                     's': lambda R,t : init_pow*np.exp(-2*(np.sum(R**2)-R[2]**2)/waist**2)*Heav_step(times)*pow_rate1*pow_rate2_i}])\n",
    "    laserBeams += pylcp.laserBeams([{'kvec':np.array([0,0,-1]),'pol':+1,'pol_coord':'spherical','delta':(E_A[-1]-Avg_X-main_det)-det_side2*1,\n",
    "                                     's': lambda R,t : init_pow*np.exp(-2*(np.sum(R**2)-R[2]**2)/waist**2)*Heav_step(times)*pow_rate1*pow_rate2_i},\n",
    "                                    {'kvec':np.array([0,0,-1]),'pol':-1,'pol_coord':'spherical','delta':(E_A[-1]-Avg_X-main_det)-det_side2*1,\n",
    "                                     's': lambda R,t : init_pow*np.exp(-2*(np.sum(R**2)-R[2]**2)/waist**2)*Heav_step(times)*pow_rate1*pow_rate2_i}])\n",
    "    laserBeams += pylcp.laserBeams([{'kvec':np.array([0,0,-1]),'pol':+1,'pol_coord':'spherical','delta':(E_A[-1]-Avg_X-main_det)-det_side2*0,\n",
    "                                     's': lambda R,t : init_pow*np.exp(-2*(np.sum(R**2)-R[2]**2)/waist**2)*Heav_step(times)*pow_rate1*pow_rate2},\n",
    "                                    {'kvec':np.array([0,0,-1]),'pol':-1,'pol_coord':'spherical','delta':(E_A[-1]-Avg_X-main_det)-det_side2*0,\n",
    "                                     's': lambda R,t : init_pow*np.exp(-2*(np.sum(R**2)-R[2]**2)/waist**2)*Heav_step(times)*pow_rate1*pow_rate2}])\n",
    "    laserBeams += pylcp.laserBeams([{'kvec':np.array([0,0,-1]),'pol':+1,'pol_coord':'spherical','delta':(E_A[-1]-Avg_X-main_det)+det_side2*1,\n",
    "                                     's': lambda R,t : init_pow*np.exp(-2*(np.sum(R**2)-R[2]**2)/waist**2)*Heav_step(times)*pow_rate1*pow_rate2_i},\n",
    "                                    {'kvec':np.array([0,0,-1]),'pol':-1,'pol_coord':'spherical','delta':(E_A[-1]-Avg_X-main_det)+det_side2*1,\n",
    "                                     's': lambda R,t : init_pow*np.exp(-2*(np.sum(R**2)-R[2]**2)/waist**2)*Heav_step(times)*pow_rate1*pow_rate2_i}])\n",
    "    laserBeams += pylcp.laserBeams([{'kvec':np.array([0,0,-1]),'pol':+1,'pol_coord':'spherical','delta':(E_A[-1]-Avg_X-main_det)+det_side2*2,\n",
    "                                     's': lambda R,t : init_pow*np.exp(-2*(np.sum(R**2)-R[2]**2)/waist**2)*Heav_step(times)*pow_rate1*pow_rate2_i},\n",
    "                                    {'kvec':np.array([0,0,-1]),'pol':-1,'pol_coord':'spherical','delta':(E_A[-1]-Avg_X-main_det)+det_side2*2,\n",
    "                                     's': lambda R,t : init_pow*np.exp(-2*(np.sum(R**2)-R[2]**2)/waist**2)*Heav_step(times)*pow_rate1*pow_rate2_i}])\n",
    "# Plus Sideband part\n",
    "    laserBeams += pylcp.laserBeams([{'kvec':np.array([0,0,-1]),'pol':+1,'pol_coord':'spherical','delta':(E_A[-1]-Avg_X-main_det)+det_side-det_side2*2,\n",
    "                                     's': lambda R,t : init_pow*np.exp(-2*(np.sum(R**2)-R[2]**2)/waist**2)*Heav_step(times)*pow_rate1_i*pow_rate2_i},\n",
    "                                    {'kvec':np.array([0,0,-1]),'pol':-1,'pol_coord':'spherical','delta':(E_A[-1]-Avg_X-main_det)+det_side-det_side2*2,\n",
    "                                     's': lambda R,t : init_pow*np.exp(-2*(np.sum(R**2)-R[2]**2)/waist**2)*Heav_step(times)*pow_rate1_i*pow_rate2_i}])\n",
    "    laserBeams += pylcp.laserBeams([{'kvec':np.array([0,0,-1]),'pol':+1,'pol_coord':'spherical','delta':(E_A[-1]-Avg_X-main_det)+det_side-det_side2*1,\n",
    "                                     's': lambda R,t : init_pow*np.exp(-2*(np.sum(R**2)-R[2]**2)/waist**2)*Heav_step(times)*pow_rate1_i*pow_rate2_i},\n",
    "                                    {'kvec':np.array([0,0,-1]),'pol':-1,'pol_coord':'spherical','delta':(E_A[-1]-Avg_X-main_det)+det_side-det_side2*1,\n",
    "                                     's': lambda R,t : init_pow*np.exp(-2*(np.sum(R**2)-R[2]**2)/waist**2)*Heav_step(times)*pow_rate1_i*pow_rate2_i}])\n",
    "    laserBeams += pylcp.laserBeams([{'kvec':np.array([0,0,-1]),'pol':+1,'pol_coord':'spherical','delta':(E_A[-1]-Avg_X-main_det)+det_side-det_side2*0,\n",
    "                                     's': lambda R,t : init_pow*np.exp(-2*(np.sum(R**2)-R[2]**2)/waist**2)*Heav_step(times)*pow_rate1_i*pow_rate2},\n",
    "                                    {'kvec':np.array([0,0,-1]),'pol':-1,'pol_coord':'spherical','delta':(E_A[-1]-Avg_X-main_det)+det_side-det_side2*0,\n",
    "                                     's': lambda R,t : init_pow*np.exp(-2*(np.sum(R**2)-R[2]**2)/waist**2)*Heav_step(times)*pow_rate1_i*pow_rate2}])\n",
    "    laserBeams += pylcp.laserBeams([{'kvec':np.array([0,0,-1]),'pol':+1,'pol_coord':'spherical','delta':(E_A[-1]-Avg_X-main_det)+det_side+det_side2*1,\n",
    "                                     's': lambda R,t : init_pow*np.exp(-2*(np.sum(R**2)-R[2]**2)/waist**2)*Heav_step(times)*pow_rate1_i*pow_rate2_i},\n",
    "                                    {'kvec':np.array([0,0,-1]),'pol':-1,'pol_coord':'spherical','delta':(E_A[-1]-Avg_X-main_det)+det_side+det_side2*1,\n",
    "                                     's': lambda R,t : init_pow*np.exp(-2*(np.sum(R**2)-R[2]**2)/waist**2)*Heav_step(times)*pow_rate1_i*pow_rate2_i}])\n",
    "    laserBeams += pylcp.laserBeams([{'kvec':np.array([0,0,-1]),'pol':+1,'pol_coord':'spherical','delta':(E_A[-1]-Avg_X-main_det)+det_side+det_side2*2,\n",
    "                                     's': lambda R,t : init_pow*np.exp(-2*(np.sum(R**2)-R[2]**2)/waist**2)*Heav_step(times)*pow_rate1_i*pow_rate2_i},\n",
    "                                    {'kvec':np.array([0,0,-1]),'pol':-1,'pol_coord':'spherical','delta':(E_A[-1]-Avg_X-main_det)+det_side+det_side2*2,\n",
    "                                     's': lambda R,t : init_pow*np.exp(-2*(np.sum(R**2)-R[2]**2)/waist**2)*Heav_step(times)*pow_rate1_i*pow_rate2_i}])\n",
    "    return laserBeams"
   ]
  },
  {
   "cell_type": "code",
   "execution_count": 33,
   "id": "c568b9ab-4685-4135-a5d3-52fefb46d8b8",
   "metadata": {},
   "outputs": [],
   "source": [
    "laserBeams = Fixed_detune_MgF_MOT(main_detune,white_detune,power_rate_1,power_rate_2,laser_on,laser_off)"
   ]
  },
  {
   "cell_type": "code",
   "execution_count": 34,
   "id": "15f85339-a3a5-490f-bddd-b3fcd30cc300",
   "metadata": {},
   "outputs": [],
   "source": [
    "rateeq = pylcp.rateeq(laserBeams,magField,hamiltonian,include_mag_forces=False)"
   ]
  },
  {
   "cell_type": "code",
   "execution_count": 35,
   "id": "d2ec364d-5da9-4d90-b00d-f6151586e477",
   "metadata": {},
   "outputs": [
    {
     "name": "stdout",
     "output_type": "stream",
     "text": [
      "Completed in 12.11 s.                                               \n"
     ]
    }
   ],
   "source": [
    "zz = np.linspace(-1*z_max,z_max,100)\n",
    "vv = np.linspace(-1*v_max,v_max+dv,100)\n",
    "Z,V = np.meshgrid(zz,vv)\n",
    "\n",
    "rateeq.generate_force_profile([np.zeros(Z.shape),np.zeros(Z.shape),Z],[np.zeros(V.shape),np.zeros(V.shape),V],name='F',progress_bar=1)"
   ]
  },
  {
   "cell_type": "code",
   "execution_count": 36,
   "id": "e0ed8ddb-b4b1-4885-b7b4-c086cebcce8e",
   "metadata": {},
   "outputs": [
    {
     "data": {
      "image/png": "[encoded data removed]",
      "text/plain": [
       "<Figure size 432x288 with 2 Axes>"
      ]
     },
     "metadata": {
      "needs_background": "light"
     },
     "output_type": "display_data"
    }
   ],
   "source": [
    "fig, ax = plt.subplots(1, 1)\n",
    "plt.imshow(rateeq.profile['F'].F[2]/mass*1e-3*a0, origin='lower',\n",
    "           extent=(np.amin(zz*1000*x0), np.amax(zz*1000*x0),\n",
    "                   (np.amin(vv*v0)), (np.amax(vv*v0))),\n",
    "           aspect='auto',cmap='gray')\n",
    "cb1 = plt.colorbar()\n",
    "cb1.set_label('$a\\ (\\mathrm{km/s^2})$')\n",
    "ax.set_xlabel('$z\\ (\\mathrm{mm})$')\n",
    "ax.set_ylabel('$v\\ (\\mathrm{m/s})$')\n",
    "ax.set_title('Force image')\n",
    "fig.subplots_adjust(left=0.12,right=0.9)\n",
    "\n",
    "# # fig.savefig('./White light/'+figname+' Force_image.png')"
   ]
  },
  {
   "cell_type": "code",
   "execution_count": 10,
   "id": "af93aa67-1867-471c-a7b7-41645dc17243",
   "metadata": {},
   "outputs": [
    {
     "name": "stdout",
     "output_type": "stream",
     "text": [
      "Completed in 1.20 s.                                               \n",
      "Completed in 0.88 s.                                               \n",
      "Completed in 1.70 s.                                               \n",
      "Completed in 1.55 s.                                               \n",
      "Completed in 2.65 s.                                                \n",
      "Completed in 2.47 s.                                                \n",
      "Completed in 3.06 s.                                                \n",
      "Completed in 3.26 s.                                                \n",
      "Completed in 3.89 s.                                                \n",
      "Completed in 3.13 s.                                                \n",
      "Completed in 3.32 s.                                                \n",
      "Completed in 3.85 s.                                                \n",
      "Completed in 3.87 s.                                                \n",
      "Completed in 4.50 s.                                                \n",
      "Completed in 5.42 s.                                                \n",
      "Completed in 4.59 s.                                                \n",
      "Completed in 5.20 s.                                                \n",
      "Completed in 5.50 s.                                                \n",
      "Completed in 5.65 s.                                                \n"
     ]
    }
   ],
   "source": [
    "# See solve_ivp documentation for event function discussion:\n",
    "def captured_condition(t, y, threshold=4):\n",
    "    if abs(y[-1])<100:\n",
    "        val = 0.\n",
    "    else:\n",
    "        val = 1.\n",
    "\n",
    "    return val\n",
    "def lost_condition(t,y):\n",
    "    if y[-4]>4 and y[-1]>0:\n",
    "        val = -1\n",
    "    elif y[-4]<0:\n",
    "        val = -1\n",
    "    else:\n",
    "        val = 1\n",
    "    return val\n",
    "\n",
    "def for_transverse_condition(t,y):\n",
    "    if y[-1]>0 and y[-4]<4 and y[-4]>0:\n",
    "        val = -1.\n",
    "    else:\n",
    "        val = 1.\n",
    "    return val\n",
    "\n",
    "captured_condition.terminal=False\n",
    "lost_condition.terminal=False\n",
    "for_transverse_condition.terminal = False\n",
    "conditions =  [captured_condition,lost_condition,for_transverse_condition]\n",
    "\n",
    "sols_rate = list()\n",
    "\n",
    "start = time.time()\n",
    "\n",
    "for v0a in v_eval:\n",
    "    rateeq.set_initial_position_and_velocity(np.array([0.,0.,-1*z_start]),np.array([0.,0.,v0a]))\n",
    "    rateeq.set_initial_pop(np.array([1,1,1,1,1,1,1,1,1,1,1,1,0,0,0,0]))\n",
    "    \n",
    "    rateeq.evolve_motion([0.,max(t_eval)],t_eval=t_eval,events= conditions,progress_bar = 1,method='Radau')\n",
    "    sols_rate.append(rateeq.sol)"
   ]
  },
  {
   "cell_type": "code",
   "execution_count": 11,
   "id": "45c79590-8e56-4a41-b4cc-f8726344b4f1",
   "metadata": {},
   "outputs": [
    {
     "data": {
      "text/plain": [
       "[<matplotlib.lines.Line2D at 0x21bc6cd9ca0>]"
      ]
     },
     "execution_count": 11,
     "metadata": {},
     "output_type": "execute_result"
    },
    {
     "data": {
      "image/png": "[encoded data removed]",
      "text/plain": [
       "<Figure size 432x288 with 1 Axes>"
      ]
     },
     "metadata": {
      "needs_background": "light"
     },
     "output_type": "display_data"
    }
   ],
   "source": [
    "from matplotlib.colors import Normalize\n",
    "\n",
    "fig, ax = plt.subplots(1, 1)\n",
    "# plt.imshow(rateeq.profile['F'].F[2]/mass*1e-3*a0, origin='lower',\n",
    "#            extent=(np.amin(zz*1000*x0), np.amax(zz*1000*x0),\n",
    "#                    (np.amin(vv*v0)), (np.amax(vv*v0))),\n",
    "#            aspect='auto',cmap='gray')\n",
    "# cb1 = plt.colorbar()\n",
    "# cb1.set_label('$a\\ (\\mathrm{km/s^2})$')\n",
    "ax.set_xlabel('$z\\ (\\mathrm{mm})$')\n",
    "ax.set_ylabel('$v\\ (\\mathrm{m/s})$')\n",
    "ax.set_title('Z axis motion trace')\n",
    "ax.set_xlim(-1*z_max*x0*1000,z_max*x0*1000)\n",
    "ax.set_ylim(-1*v_max*v0,v_max*v0)\n",
    "fig.subplots_adjust(left=0.12,right=0.9)\n",
    "\n",
    "for sol in sols_rate:\n",
    "    ax.plot(sol.r[2]*x0*1000,sol.v[2]*v0, 'b')\n",
    "ax.plot(zz,np.ones(len(zz))*30,'r')\n",
    "\n",
    "# fig.savefig('./White light/'+figname+f', from {v_eval[0]} to {v_eval[-1]}'+' Motion-trace with step fucntion.png') \n",
    "# fig.savefig('./White light/'+figname+' Sine Motion-trace.png')\n",
    "# fig.savefig('./PR/white motion trace.png')"
   ]
  },
  {
   "cell_type": "code",
   "execution_count": 12,
   "id": "ff39804e-e6fa-4431-b34b-914406ed5afb",
   "metadata": {},
   "outputs": [
    {
     "data": {
      "text/plain": [
       "array([0.00000e+00, 1.00000e+00, 2.00000e+00, ..., 8.01013e+05,\n",
       "       8.01014e+05, 8.01015e+05])"
      ]
     },
     "execution_count": 12,
     "metadata": {},
     "output_type": "execute_result"
    }
   ],
   "source": [
    "sols_rate[10].t"
   ]
  },
  {
   "cell_type": "code",
   "execution_count": 13,
   "id": "8e8417bb-0fc0-4760-adca-edcdd015a16e",
   "metadata": {},
   "outputs": [],
   "source": [
    "from matplotlib.animation import FuncAnimation\n",
    "from celluloid import Camera"
   ]
  },
  {
   "cell_type": "code",
   "execution_count": 14,
   "id": "708ec5b7-ab0f-4e80-bfba-3d73321f2b23",
   "metadata": {},
   "outputs": [],
   "source": [
    "# fig, ax = plt.subplots(1, 1)\n",
    "# camera = Camera(fig)"
   ]
  },
  {
   "cell_type": "code",
   "execution_count": 15,
   "id": "833b9beb-6015-4f18-9ef2-002d638cfc69",
   "metadata": {},
   "outputs": [],
   "source": [
    "# time_steps = np.linspace(0,1000000,101)\n",
    "\n",
    "# for time_step in tqdm(time_steps):\n",
    "#     laserBeams = Fixed_detune_MgF_MOT_force(time_step,main_detune,white_detune,power_rate_1,power_rate_2,laser_on,laser_off)\n",
    "#     rateeq = pylcp.rateeq(laserBeams,magField,hamiltonian,include_mag_forces=False)\n",
    "#     rateeq.generate_force_profile([np.zeros(Z.shape),np.zeros(Z.shape),Z],[np.zeros(V.shape),np.zeros(V.shape),V],name='F',progress_bar=0)\n",
    "#     ax.imshow(rateeq.profile['F'].F[2]/mass*1e-3*a0, origin='lower',\n",
    "#                extent=(np.amin(zz*1000*x0), np.amax(zz*1000*x0),\n",
    "#                        (np.amin(vv*v0)), (np.amax(vv*v0))),\n",
    "#                aspect='auto',cmap='gray')\n",
    "#     ts = int(time_step)\n",
    "#     for sol in sols_rate:\n",
    "#         ax.plot(sol.r[2][ts]*x0*1000,sol.v[2][ts]*v0,'go')\n",
    "#     ax.set_xlim(-1*z_max*x0*1000,z_max*x0*1000)\n",
    "#     ax.set_ylim(-1*max(v_eval)*v0,max(v_eval)*v0)\n",
    "#     fig.subplots_adjust(left=0.12,right=0.9)\n",
    "#     ax.set_xlabel('$z\\ (\\mathrm{mm})$')\n",
    "#     ax.set_ylabel('$v\\ (\\mathrm{m/s})$')\n",
    "#     ax.set_title('Force image')\n",
    "#     fig.subplots_adjust(left=0.12,right=0.9)\n",
    "#     camera.snap()\n",
    "# xss = np.linspace(-400,400,801)\n",
    "# yss = np.ones(801)*4*v0\n",
    "# ax.plot(xss,yss,'r')\n"
   ]
  },
  {
   "cell_type": "code",
   "execution_count": 16,
   "id": "0e513292-6fbf-4e2d-8265-bc125072a126",
   "metadata": {},
   "outputs": [],
   "source": [
    "# ax.set_title('Force image & Motion trace')"
   ]
  },
  {
   "cell_type": "code",
   "execution_count": 17,
   "id": "a7c9ec44-4f51-4e1f-b176-dae288ee20ff",
   "metadata": {},
   "outputs": [],
   "source": [
    "# animation = camera.animate(interval=50, blit=False)\n",
    "\n",
    "# from IPython.display import HTML\n",
    "# HTML(animation.to_jshtml())"
   ]
  },
  {
   "cell_type": "code",
   "execution_count": 18,
   "id": "755dabf9-2fc9-4b97-a0d0-846c023283cb",
   "metadata": {},
   "outputs": [],
   "source": [
    "# animation.save('./PR/White light case.gif',dpi=100,writer='imagemagick')"
   ]
  },
  {
   "cell_type": "code",
   "execution_count": 19,
   "id": "2a4f725f-018f-47bb-a286-d01eacc72d78",
   "metadata": {},
   "outputs": [],
   "source": [
    "from scipy import stats"
   ]
  },
  {
   "cell_type": "code",
   "execution_count": 20,
   "id": "fefc2ecf-91fb-4065-b710-b62054db3f35",
   "metadata": {},
   "outputs": [],
   "source": [
    "rv = stats.norm(140,17)"
   ]
  },
  {
   "cell_type": "code",
   "execution_count": 21,
   "id": "df269ece-0646-4cb2-8ad8-14d5bcf0466f",
   "metadata": {},
   "outputs": [],
   "source": [
    "length = np.linspace(80,200,281)"
   ]
  },
  {
   "cell_type": "code",
   "execution_count": 22,
   "id": "2aeba771-c718-493f-8b30-d7a5e6a86475",
   "metadata": {},
   "outputs": [
    {
     "data": {
      "image/png": "[encoded data removed]",
      "text/plain": [
       "<Figure size 432x288 with 1 Axes>"
      ]
     },
     "metadata": {
      "needs_background": "light"
     },
     "output_type": "display_data"
    }
   ],
   "source": [
    "fig, ax = plt.subplots(1,1)\n",
    "\n",
    "ax.plot(length,rv.pdf(length))\n",
    "ax.plot(length,rv.pdf(140+17*1.175)*np.ones(281),'r')\n",
    "ax.set_title('$v_f$ distribution')\n",
    "ax.set_xlabel('$v_f$ ($\\mathrm{m/s}$)')\n",
    "ax.set_ylabel('P($v_f$)')\n",
    "ax.grid()\n",
    "# fig.savefig('./PR/forward distribution.png')"
   ]
  },
  {
   "cell_type": "code",
   "execution_count": 23,
   "id": "74f4de0d-2459-4fc4-81b7-44a7433d7789",
   "metadata": {},
   "outputs": [],
   "source": [
    "qr = stats.norm(0,18.7564)"
   ]
  },
  {
   "cell_type": "code",
   "execution_count": 24,
   "id": "473247d6-525b-4f4b-8af2-f027a1afe8e5",
   "metadata": {},
   "outputs": [],
   "source": [
    "length2 = np.linspace(-2*18.7564,2*18.7564,281)"
   ]
  },
  {
   "cell_type": "code",
   "execution_count": 25,
   "id": "9fcd850a-ce21-4225-abc5-65e7c7c0be90",
   "metadata": {},
   "outputs": [
    {
     "data": {
      "image/png": "[encoded data removed]",
      "text/plain": [
       "<Figure size 432x288 with 1 Axes>"
      ]
     },
     "metadata": {
      "needs_background": "light"
     },
     "output_type": "display_data"
    }
   ],
   "source": [
    "fig, ax = plt.subplots(1,1)\n",
    "\n",
    "ax.plot(length2,qr.pdf(length2))\n",
    "ax.plot(-2*18.7564*np.ones(7),np.linspace(0,qr.pdf(-2*18.7564),7),'r.')\n",
    "ax.plot(2*18.7564*np.ones(7),np.linspace(0,qr.pdf(2*18.7564),7),'r.')\n",
    "ax.set_title('$v_t$ distribution')\n",
    "ax.set_xlabel('$v_t$ ($\\mathrm{m/s}$)')\n",
    "ax.set_ylabel('P($v_t$)')\n",
    "ax.grid()\n",
    "# fig.savefig('./PR/transverse distribution.png')"
   ]
  },
  {
   "cell_type": "code",
   "execution_count": 26,
   "id": "cafacab2-4a83-418c-8777-dbbe568be461",
   "metadata": {},
   "outputs": [
    {
     "data": {
      "text/plain": [
       "138230.07675795088"
      ]
     },
     "execution_count": 26,
     "metadata": {},
     "output_type": "execute_result"
    }
   ],
   "source": [
    "1e-3/t0"
   ]
  },
  {
   "cell_type": "code",
   "execution_count": null,
   "id": "1e8b7a82-c27a-4ec8-adb8-e0999138da26",
   "metadata": {},
   "outputs": [],
   "source": []
  }
 ],
 "metadata": {
  "kernelspec": {
   "display_name": "Python 3",
   "language": "python",
   "name": "python3"
  },
  "language_info": {
   "codemirror_mode": {
    "name": "ipython",
    "version": 3
   },
   "file_extension": ".py",
   "mimetype": "text/x-python",
   "name": "python",
   "nbconvert_exporter": "python",
   "pygments_lexer": "ipython3",
   "version": "3.8.8"
  }
 },
 "nbformat": 4,
 "nbformat_minor": 5
}
