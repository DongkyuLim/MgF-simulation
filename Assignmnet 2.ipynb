{
 "cells": [
  {
   "cell_type": "code",
   "execution_count": 1,
   "id": "b52851dc-fced-4b29-bddf-86d1f32a5a32",
   "metadata": {},
   "outputs": [],
   "source": [
    "import numpy as np\n",
    "import matplotlib.pyplot as plt\n",
    "import scipy.constants as cts\n",
    "from scipy.optimize import curve_fit"
   ]
  },
  {
   "cell_type": "markdown",
   "id": "f4a790ba-4ebc-48bd-a672-daf0ccd6ab84",
   "metadata": {},
   "source": [
    "# Make the wavenumber array. Be careful the unit"
   ]
  },
  {
   "cell_type": "code",
   "execution_count": 2,
   "id": "fe47336d-dbe6-4681-896e-9abdc3eb1702",
   "metadata": {},
   "outputs": [],
   "source": [
    "#Check the unit of wavenumber. I use m^-1.\n",
    "\n",
    "wavenumbers = np.array([3854100,3929900,3979500,4013700,\n",
    "                        4038300,4056600,4070600,4081400])"
   ]
  },
  {
   "cell_type": "markdown",
   "id": "8e0d77b2-5823-4548-a5a4-53f03b9a236b",
   "metadata": {},
   "source": [
    "# Calculate the energy of each wavenumbers, and change the unit to eV"
   ]
  },
  {
   "cell_type": "code",
   "execution_count": 3,
   "id": "809300bf-eb64-405f-843a-13153c769d8d",
   "metadata": {},
   "outputs": [
    {
     "name": "stdout",
     "output_type": "stream",
     "text": [
      "[7.65596098e-19 7.80653357e-19 7.90506129e-19 7.97299774e-19\n",
      " 8.02186430e-19 8.05821626e-19 8.08602651e-19 8.10748012e-19]\n",
      "[4.77847499 4.87245501 4.93395118 4.97635377 5.00685389 5.02954299\n",
      " 5.04690078 5.06029107]\n",
      "13.605693122994232\n"
     ]
    }
   ],
   "source": [
    "# hcR means energy.\n",
    "energy = cts.h*cts.c*wavenumbers\n",
    "print(energy)\n",
    "\n",
    "# Change it to electron volts(eV).\n",
    "eV_energy = energy/cts.e\n",
    "print(eV_energy)\n",
    "\n",
    "# Calculate the 13.6 eV with each constants.\n",
    "E = cts.h*cts.c/cts.e*cts.Rydberg\n",
    "print(E)"
   ]
  },
  {
   "cell_type": "markdown",
   "id": "ce4d3daa-2c1f-42c6-9a26-e78586f3be73",
   "metadata": {},
   "source": [
    "# Make the n_list. n_list means the list of form below.\n",
    "$$\n",
    "\\frac{E(n)}{13.6\\ \\mathrm{eV}}=\\frac{1}{n_g^{*2}}-\\frac{1}{(n' - \\delta_l)^2}\n",
    "$$"
   ]
  },
  {
   "cell_type": "code",
   "execution_count": 4,
   "id": "d1a4b47d-5ba4-49b9-a677-f51b8fc9ddf2",
   "metadata": {},
   "outputs": [
    {
     "name": "stdout",
     "output_type": "stream",
     "text": [
      "[0.35121143 0.35811884 0.36263872 0.36575526 0.36799697 0.36966459\n",
      " 0.37094037 0.37192453]\n"
     ]
    }
   ],
   "source": [
    "n_list = eV_energy/E\n",
    "print(n_list)"
   ]
  },
  {
   "cell_type": "markdown",
   "id": "113f1a2a-fbbf-4f71-bc37-c3eb0ea40470",
   "metadata": {
    "tags": []
   },
   "source": [
    "# Define the function like above equation.\n",
    "$$\n",
    "f(n,p,q) = \\frac{1}{p^{2}}-\\frac{1}{(n - q)^2}\n",
    "$$\n",
    "\n",
    "Then fit it using python code."
   ]
  },
  {
   "cell_type": "code",
   "execution_count": 5,
   "id": "19d2b941-bd10-4dd1-a18e-cef227c54430",
   "metadata": {},
   "outputs": [
    {
     "data": {
      "text/plain": [
       "array([ 1.62710404, -2.14230615])"
      ]
     },
     "execution_count": 5,
     "metadata": {},
     "output_type": "execute_result"
    }
   ],
   "source": [
    "def function(n,p,q):\n",
    "    return 1/(p)**2-1/(n-q)**2\n",
    "\n",
    "# xdata is the list of n. n should be integer larger than 4, so I suppose n = 4~11\n",
    "xdata = np.array([4,5,6,7,8,9,10,11])\n",
    "\n",
    "# curve_fit function will fit the function, and give us the best value of p, q\n",
    "popt,pcov = curve_fit(function,xdata,n_list)\n",
    "popt"
   ]
  }
 ],
 "metadata": {
  "kernelspec": {
   "display_name": "Python 3 (ipykernel)",
   "language": "python",
   "name": "python3"
  },
  "language_info": {
   "codemirror_mode": {
    "name": "ipython",
    "version": 3
   },
   "file_extension": ".py",
   "mimetype": "text/x-python",
   "name": "python",
   "nbconvert_exporter": "python",
   "pygments_lexer": "ipython3",
   "version": "3.9.7"
  }
 },
 "nbformat": 4,
 "nbformat_minor": 5
}
