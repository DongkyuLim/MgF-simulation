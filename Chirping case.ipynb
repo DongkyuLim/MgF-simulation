{
 "cells": [
  {
   "cell_type": "code",
   "execution_count": 2,
   "id": "26036880-9d12-4354-9b96-c404b4fecc97",
   "metadata": {},
   "outputs": [],
   "source": [
    "import numpy as np\n",
    "import matplotlib.pyplot as plt\n",
    "import scipy.constants as cts\n",
    "import pylcp\n",
    "import time\n",
    "import random\n",
    "from tqdm import tqdm"
   ]
  },
  {
   "cell_type": "code",
   "execution_count": 35,
   "id": "1b2b87f7-a2b2-4308-9359-d1bdf6f3c33a",
   "metadata": {},
   "outputs": [],
   "source": [
    "#Main variables\n",
    "\n",
    "main_detune = 8\n",
    "chirp_coeff = 1\n",
    "power_rate = 1.2\n",
    "laser_on = 138250\n",
    "laser_off = 600000\n",
    "\n",
    "figname = str(main_detune)+'_'+str(chirp_coeff)+ ', '+str(power_rate)\n",
    "\n",
    "\n",
    "#Define the constants\n",
    "Gamma = 22 # Hz to kHz, Decay rate\n",
    "wavelength = 359.3e-9 # m to mm\n",
    "k = 1/wavelength*2*np.pi #x_0\n",
    "x0 = 1/k\n",
    "t0 = 1/Gamma*1/(2*np.pi*1e6)\n",
    "v0 = x0/t0\n",
    "m0 = cts.hbar*t0/x0**2\n",
    "a0 = x0/t0**2\n",
    "F0 = cts.hbar/(x0*t0)\n",
    "mass = 43*cts.value('atomic mass constant')/m0 # m_0\n",
    "waist = 0.012/x0\n",
    "v_max = 20\n",
    "z_max = 384.855e-3/x0\n",
    "z_start = 384.855e-3/x0\n",
    "dz = 0.05/x0\n",
    "dv = 0.05\n",
    "v_eval = np.arange(1,26,1)\n",
    "t_eval = np.linspace(0.,laser_off,laser_off+1)\n",
    "omega = 2*np.pi*(cts.c/wavelength) #Transition frequency\n",
    "Isat = np.pi*cts.h*cts.c*Gamma*2*np.pi*1e6/3*1/(wavelength)**3\n",
    "\n",
    "# The detunings used in the PRAs:\n",
    "intensity = 2./(np.pi*(0.020)**2)/Isat\n",
    "\n",
    "\n",
    "#Define the hamiltonian\n",
    "H0_X, Bq_X, U_X, Xbasis = pylcp.hamiltonians.XFmolecules.Xstate(B=0,\n",
    "gamma = 50.697/Gamma,b=154.7/Gamma, c=178.5/Gamma,\n",
    "    muB = cts.value('Bohr magneton in Hz/T')/1e6*1e-4/Gamma,return_basis=True\n",
    "    )\n",
    "\n",
    "# b : SI coupling(isotropic), c : Iz Sz coupling(anisotropic), cc : I N coupling, gamma : S N coupling\n",
    "\n",
    "E_X = np.unique(np.diag(H0_X))\n",
    "\n",
    "H0_A, Bq_A, Abasis = pylcp.hamiltonians.XFmolecules.Astate(\n",
    "    P=+1, Ahfs=-1.5/Gamma, q=0, p=0,gJ=-0.00002,\n",
    "    muB=cts.value('Bohr magneton in Hz/T')/1e6*1e-4/Gamma, return_basis=True\n",
    "    )\n",
    "\n",
    "# gJ : Lande g-factor, p : parity(e parity)\n",
    "\n",
    "E_A = np.unique(np.diag(H0_A))\n",
    "\n",
    "dijq = pylcp.hamiltonians.XFmolecules.dipoleXandAstates(\n",
    "    Xbasis, Abasis, UX=U_X\n",
    "    )\n",
    "\n",
    "hamiltonian = pylcp.hamiltonian(H0_X, H0_A, Bq_X, Bq_A, dijq,mass = mass)"
   ]
  },
  {
   "cell_type": "code",
   "execution_count": 36,
   "id": "77e0220f-f404-4509-9f9b-ce6981a2a05b",
   "metadata": {},
   "outputs": [],
   "source": [
    "#Define the zero magnetic field.\n",
    "\n",
    "magField = np.zeros(3)"
   ]
  },
  {
   "cell_type": "code",
   "execution_count": 37,
   "id": "f78619aa-20c6-49e9-8590-03bc41208616",
   "metadata": {},
   "outputs": [],
   "source": [
    "def Fixed_detune_MgF_MOT(main_det,det_coeff,pr):\n",
    "    det_side = 120/Gamma\n",
    "    Avg_X = np.average(E_X)\n",
    "    \n",
    "    init_pow = 0.15*2./(np.pi*(0.020)**2)/Isat\n",
    "    power_rate = pr/(2+pr)\n",
    "    \n",
    "    def Heav_step(t):\n",
    "        if t<6e5-7:\n",
    "            return 1\n",
    "        elif t>=6e5-7 and t<6e5+7:\n",
    "            return (t-6e5)*((t-6e5)**2-49*3)*1/686*1/2 + 1/2\n",
    "        else:\n",
    "            return 0        \n",
    "    \n",
    "    def Chirping(t):\n",
    "        return det_coeff*t*1e-6\n",
    "    \n",
    "    laserBeams = pylcp.laserBeams()\n",
    "#Switch\n",
    "#Minus sideband part\n",
    "    laserBeams += pylcp.laserBeams([{'kvec':np.array([0,0,-1]),'pol':+1,'pol_coord':'spherical','s':lambda R,t : Heav_step(t)*init_pow*0.5*(1-power_rate),\n",
    "                                                   'delta': lambda t : E_A[-1]-Avg_X-main_det-det_side+Chirping(t)}])\n",
    "    laserBeams += pylcp.laserBeams([{'kvec':np.array([0,0,-1]),'pol':-1,'pol_coord':'spherical','s':lambda R,t : Heav_step(t)*init_pow*0.5*(1-power_rate),\n",
    "                                                   'delta': lambda t : E_A[-1]-Avg_X-main_det-det_side+Chirping(t)}])\n",
    "\n",
    "#Main part\n",
    "    laserBeams += pylcp.laserBeams([{'kvec':np.array([0,0,-1]),'pol':+1,'pol_coord':'spherical','s':lambda R,t : Heav_step(t)*init_pow*power_rate,\n",
    "                                                   'delta': lambda t : E_A[-1]-Avg_X-main_det+Chirping(t)}])\n",
    "    laserBeams += pylcp.laserBeams([{'kvec':np.array([0,0,-1]),'pol':-1,'pol_coord':'spherical','s':lambda R,t : Heav_step(t)*init_pow*power_rate,\n",
    "                                                   'delta': lambda t : E_A[-1]-Avg_X-main_det+Chirping(t)}])\n",
    "    \n",
    "#Plus sideband part\n",
    "    laserBeams += pylcp.laserBeams([{'kvec':np.array([0,0,-1]),'pol':+1,'pol_coord':'spherical','s':lambda R,t : Heav_step(t)*init_pow*0.5*(1-power_rate),\n",
    "                                                   'delta': lambda t : E_A[-1]-Avg_X-main_det+det_side+Chirping(t)}])\n",
    "    laserBeams += pylcp.laserBeams([{'kvec':np.array([0,0,-1]),'pol':-1,'pol_coord':'spherical','s':lambda R,t : Heav_step(t)*init_pow*0.5*(1-power_rate),\n",
    "                                                   'delta': lambda t : E_A[-1]-Avg_X-main_det+det_side+Chirping(t)}])\n",
    "# #No-switch\n",
    "# #Minus sideband part\n",
    "#     laserBeams += pylcp.laserBeams([{'kvec':np.array([0,0,-1]),'pol':+1,'pol_coord':'spherical','s':lambda R,t : init_pow*0.5*(1-power_rate),\n",
    "#                                                    'delta': lambda t : E_A[-1]-Avg_X-main_det-det_side+Chirping(t)}])\n",
    "#     laserBeams += pylcp.laserBeams([{'kvec':np.array([0,0,-1]),'pol':-1,'pol_coord':'spherical','s':lambda R,t : init_pow*0.5*(1-power_rate),\n",
    "#                                                    'delta': lambda t : E_A[-1]-Avg_X-main_det-det_side+Chirping(t)}])\n",
    "\n",
    "# #Main part\n",
    "#     laserBeams += pylcp.laserBeams([{'kvec':np.array([0,0,-1]),'pol':+1,'pol_coord':'spherical','s':lambda R,t : init_pow*power_rate,\n",
    "#                                                    'delta': lambda t : E_A[-1]-Avg_X-main_det+Chirping(t)}])\n",
    "#     laserBeams += pylcp.laserBeams([{'kvec':np.array([0,0,-1]),'pol':-1,'pol_coord':'spherical','s':lambda R,t : init_pow*power_rate,\n",
    "#                                                    'delta': lambda t : E_A[-1]-Avg_X-main_det+Chirping(t)}])\n",
    "    \n",
    "# #Plus sideband part\n",
    "#     laserBeams += pylcp.laserBeams([{'kvec':np.array([0,0,-1]),'pol':+1,'pol_coord':'spherical','s':lambda R,t : init_pow*0.5*(1-power_rate),\n",
    "#                                                    'delta': lambda t : E_A[-1]-Avg_X-main_det+det_side+Chirping(t)}])\n",
    "#     laserBeams += pylcp.laserBeams([{'kvec':np.array([0,0,-1]),'pol':-1,'pol_coord':'spherical','s':lambda R,t : init_pow*0.5*(1-power_rate),\n",
    "#                                                    'delta': lambda t : E_A[-1]-Avg_X-main_det+det_side+Chirping(t)}])\n",
    "\n",
    "    return laserBeams"
   ]
  },
  {
   "cell_type": "code",
   "execution_count": 38,
   "id": "c568b9ab-4685-4135-a5d3-52fefb46d8b8",
   "metadata": {},
   "outputs": [],
   "source": [
    "laserBeams = Fixed_detune_MgF_MOT(main_detune,chirp_coeff,power_rate)"
   ]
  },
  {
   "cell_type": "code",
   "execution_count": 39,
   "id": "15f85339-a3a5-490f-bddd-b3fcd30cc300",
   "metadata": {},
   "outputs": [],
   "source": [
    "rateeq = pylcp.rateeq(laserBeams,magField,hamiltonian,include_mag_forces=False)"
   ]
  },
  {
   "cell_type": "code",
   "execution_count": 40,
   "id": "d2ec364d-5da9-4d90-b00d-f6151586e477",
   "metadata": {},
   "outputs": [],
   "source": [
    "zz = np.linspace(-1*z_max,z_max,100)\n",
    "vv = np.linspace(-1*v_max,v_max+dv,100)\n",
    "Z,V = np.meshgrid(zz,vv)\n",
    "\n",
    "# rateeq.generate_force_profile([np.zeros(Z.shape),np.zeros(Z.shape),Z],[np.zeros(V.shape),np.zeros(V.shape),V],name='F',progress_bar=1)"
   ]
  },
  {
   "cell_type": "code",
   "execution_count": 41,
   "id": "e0ed8ddb-b4b1-4885-b7b4-c086cebcce8e",
   "metadata": {},
   "outputs": [],
   "source": [
    "# fig, ax = plt.subplots(1, 1)\n",
    "# plt.imshow(rateeq.profile['F'].F[2]/mass*1e-3*a0, origin='lower',\n",
    "#            extent=(np.amin(zz*1000*x0), np.amax(zz*1000*x0),\n",
    "#                    (np.amin(vv*v0)), (np.amax(vv*v0))),\n",
    "#            aspect='auto',cmap='gray')\n",
    "# cb1 = plt.colorbar()\n",
    "# cb1.set_label('$a\\ (\\mathrm{km/s^2})$')\n",
    "# ax.set_xlabel('$z\\ (\\mathrm{mm})$')\n",
    "# ax.set_ylabel('$v\\ (\\mathrm{m/s})$')\n",
    "# ax.set_title('Force image')\n",
    "# fig.subplots_adjust(left=0.12,right=0.9)\n",
    "\n",
    "# # fig.savefig('./Chirping/'+figname+' Force_image.png')"
   ]
  },
  {
   "cell_type": "code",
   "execution_count": 42,
   "id": "af93aa67-1867-471c-a7b7-41645dc17243",
   "metadata": {},
   "outputs": [
    {
     "name": "stdout",
     "output_type": "stream",
     "text": [
      "Completed in 0.47 s.                                                 \n",
      "Completed in 0.44 s.                                                 \n",
      "Completed in 0.45 s.                                                 \n",
      "Completed in 0.46 s.                                                 \n",
      "Completed in 0.53 s.                                                 \n",
      "Completed in 0.43 s.                                                 \n",
      "Completed in 0.50 s.                                                \n",
      "Completed in 0.56 s.                                                 \n",
      "Completed in 0.69 s.                                                 \n",
      "Completed in 0.75 s.                                                 \n",
      "Completed in 0.76 s.                                                 \n",
      "Completed in 0.96 s.                                                \n",
      "Completed in 0.85 s.                                                \n",
      "Completed in 0.96 s.                                                 \n",
      "Completed in 1.00 s.                                                 \n",
      "Completed in 0.55 s.                                                 \n",
      "Completed in 0.42 s.                                                \n",
      "Completed in 0.33 s.                                                \n",
      "Completed in 0.40 s.                                                \n",
      "Completed in 0.43 s.                                                 \n",
      "Completed in 0.36 s.                                                 \n",
      "Completed in 0.33 s.                                                \n",
      "Completed in 0.33 s.                                                \n",
      "Completed in 0.29 s.                                               s\n",
      "Completed in 0.30 s.                                               \n",
      "Progress: |█████████████████████████████-| 100.0%; time left: 0.00 s\r"
     ]
    }
   ],
   "source": [
    "# See solve_ivp documentation for event function discussion:\n",
    "def captured_condition(t, y, threshold=4):\n",
    "    if y[-4]<4:\n",
    "        val = -1.\n",
    "    else:\n",
    "        val = 1.\n",
    "\n",
    "    return val\n",
    "def lost_condition(t,y):\n",
    "    if y[-4]>4 and y[-1]>0:\n",
    "        val = -1\n",
    "    elif y[-4]<0:\n",
    "        val = -1\n",
    "    else:\n",
    "        val = 1\n",
    "    return val\n",
    "\n",
    "def for_transverse_condition(t,y):\n",
    "    if y[-1]>0:\n",
    "        val = -1.\n",
    "    else:\n",
    "        val = 1.\n",
    "    return val\n",
    "\n",
    "captured_condition.terminal=False\n",
    "lost_condition.terminal=False\n",
    "for_transverse_condition.terminal = False\n",
    "conditions =  [captured_condition,lost_condition,for_transverse_condition]\n",
    "\n",
    "sols_rate = list()\n",
    "\n",
    "start = time.time()\n",
    "\n",
    "for v0a in v_eval:\n",
    "    rateeq.set_initial_position_and_velocity(np.array([0.,0.,-1*z_start]),np.array([0.,0.,v0a]))\n",
    "    rateeq.set_initial_pop(np.array([1,1,1,1,1,1,1,1,1,1,1,1,0,0,0,0]))\n",
    "    \n",
    "    rateeq.evolve_motion([0.,max(t_eval)],t_eval=t_eval,events= conditions,progress_bar = 1,method='LSODA')\n",
    "    sols_rate.append(rateeq.sol)"
   ]
  },
  {
   "cell_type": "code",
   "execution_count": 43,
   "id": "45c79590-8e56-4a41-b4cc-f8726344b4f1",
   "metadata": {},
   "outputs": [
    {
     "data": {
      "text/plain": [
       "[<matplotlib.lines.Line2D at 0x1e40cc8dd60>]"
      ]
     },
     "execution_count": 43,
     "metadata": {},
     "output_type": "execute_result"
    },
    {
     "data": {
      "image/png": "[encoded data removed]",
      "text/plain": [
       "<Figure size 432x288 with 1 Axes>"
      ]
     },
     "metadata": {
      "needs_background": "light"
     },
     "output_type": "display_data"
    }
   ],
   "source": [
    "from matplotlib.colors import Normalize\n",
    "\n",
    "fig, ax = plt.subplots(1, 1)\n",
    "\n",
    "\n",
    "\n",
    "# plt.imshow(rateeq.profile['F'].F[2]/mass*1e-3*a0, origin='lower',\n",
    "#            extent=(np.amin(zz*1000*x0), np.amax(zz*1000*x0),\n",
    "#                    (np.amin(vv*v0)), (np.amax(vv*v0))),\n",
    "#            aspect='auto',cmap='gray')\n",
    "# cb1 = plt.colorbar()\n",
    "# cb1.set_label('$a\\ (\\mathrm{km/s^2})$')\n",
    "\n",
    "\n",
    "ax.set_xlabel('$z\\ (\\mathrm{mm})$')\n",
    "ax.set_ylabel('$v\\ (\\mathrm{m/s})$')\n",
    "ax.set_title('Z axis motion trace')\n",
    "ax.set_xlim(-1*z_max*x0*1000,z_max*x0*1000)\n",
    "ax.set_ylim(-1*v_max*v0,v_max*v0)\n",
    "fig.subplots_adjust(left=0.12,right=0.9)\n",
    "\n",
    "for sol in sols_rate:\n",
    "    ax.plot(sol.r[2]*x0*1000,sol.v[2]*v0, 'b')\n",
    "ax.plot(zz,np.ones(len(zz))*30,'r')\n",
    "\n",
    "# fig.savefig('./Chirping/'+figname+f', from {v_eval[0]} to {v_eval[-1]}'+' Motion-trace with step fucntion.png') \n",
    "# fig.savefig('./Chirping/'+figname+' Sine Motion-trace.png')\n",
    "# fig.savefig('./PR/Chirpin motion trace.png')"
   ]
  },
  {
   "cell_type": "code",
   "execution_count": 44,
   "id": "b30a4eea-52c7-49f1-9422-77cdafd5980c",
   "metadata": {},
   "outputs": [
    {
     "name": "stdout",
     "output_type": "stream",
     "text": [
      "16.0\n",
      "17.000000000000004\n",
      "18.000000000000004\n",
      "19.0\n",
      "20.0\n",
      "21.0\n",
      "22.0\n",
      "23.000000000000004\n",
      "24.0\n",
      "25.0\n"
     ]
    }
   ],
   "source": [
    "for sol in sols_rate:\n",
    "    if len(sol.t_events[2])==1:\n",
    "        print(sol.v[2][0])"
   ]
  },
  {
   "cell_type": "code",
   "execution_count": 34,
   "id": "4a1e0d96-20c8-49e4-ab13-726232f9feaf",
   "metadata": {},
   "outputs": [
    {
     "data": {
      "text/plain": [
       "138230.07675795088"
      ]
     },
     "execution_count": 34,
     "metadata": {},
     "output_type": "execute_result"
    }
   ],
   "source": [
    "0.001/t0"
   ]
  },
  {
   "cell_type": "code",
   "execution_count": 45,
   "id": "61ec0abb-82d5-434c-93f9-5290632a471b",
   "metadata": {},
   "outputs": [
    {
     "data": {
      "text/plain": [
       "array([0.1203442 , 0.1203442 , 0.14441304, 0.14441304, 0.1203442 ,\n",
       "       0.1203442 ])"
      ]
     },
     "execution_count": 45,
     "metadata": {},
     "output_type": "execute_result"
    }
   ],
   "source": [
    "laserBeams.intensity(t=100001)"
   ]
  },
  {
   "cell_type": "code",
   "execution_count": null,
   "id": "84d0eabb-1f20-4dc8-94fe-017a95b26b9a",
   "metadata": {},
   "outputs": [],
   "source": []
  }
 ],
 "metadata": {
  "kernelspec": {
   "display_name": "Python 3",
   "language": "python",
   "name": "python3"
  },
  "language_info": {
   "codemirror_mode": {
    "name": "ipython",
    "version": 3
   },
   "file_extension": ".py",
   "mimetype": "text/x-python",
   "name": "python",
   "nbconvert_exporter": "python",
   "pygments_lexer": "ipython3",
   "version": "3.8.8"
  }
 },
 "nbformat": 4,
 "nbformat_minor": 5
}
